{
 "cells": [
  {
   "cell_type": "markdown",
   "id": "60ece758",
   "metadata": {},
   "source": [
    "[서울시 본청 업무추진비 목록> 데이터셋> 공공데이터 | 서울열린데이터광장](https://data.seoul.go.kr/dataList/OA-22156/S/1/datasetView.do)"
   ]
  },
  {
   "cell_type": "code",
   "execution_count": 1,
   "id": "b5f9d253",
   "metadata": {},
   "outputs": [],
   "source": [
    "import pandas as pd"
   ]
  },
  {
   "cell_type": "code",
   "execution_count": 2,
   "id": "b34cecbd",
   "metadata": {},
   "outputs": [
    {
     "data": {
      "text/plain": [
       "(51428, 18)"
      ]
     },
     "execution_count": 2,
     "metadata": {},
     "output_type": "execute_result"
    }
   ],
   "source": [
    "df = pd.read_csv(\"data/seoul-expense.csv\", encoding=\"cp949\")\n",
    "df.shape"
   ]
  },
  {
   "cell_type": "code",
   "execution_count": 3,
   "id": "89b633e6",
   "metadata": {},
   "outputs": [
    {
     "data": {
      "text/html": [
       "<div>\n",
       "<style scoped>\n",
       "    .dataframe tbody tr th:only-of-type {\n",
       "        vertical-align: middle;\n",
       "    }\n",
       "\n",
       "    .dataframe tbody tr th {\n",
       "        vertical-align: top;\n",
       "    }\n",
       "\n",
       "    .dataframe thead th {\n",
       "        text-align: right;\n",
       "    }\n",
       "</style>\n",
       "<table border=\"1\" class=\"dataframe\">\n",
       "  <thead>\n",
       "    <tr style=\"text-align: right;\">\n",
       "      <th></th>\n",
       "      <th>문서고유id</th>\n",
       "      <th>제목</th>\n",
       "      <th>부서명</th>\n",
       "      <th>전화번호</th>\n",
       "      <th>작성자</th>\n",
       "      <th>등록일</th>\n",
       "      <th>해당년도</th>\n",
       "      <th>해당월</th>\n",
       "      <th>문서url</th>\n",
       "      <th>구분(시장실만 사용)</th>\n",
       "      <th>전체부서명</th>\n",
       "      <th>집행일시</th>\n",
       "      <th>집행장소</th>\n",
       "      <th>집행목적</th>\n",
       "      <th>집행대상</th>\n",
       "      <th>결제방법</th>\n",
       "      <th>집행금액</th>\n",
       "      <th>비목</th>\n",
       "    </tr>\n",
       "  </thead>\n",
       "  <tbody>\n",
       "    <tr>\n",
       "      <th>0</th>\n",
       "      <td>30267889</td>\n",
       "      <td>2023년 12월 서울시본청 주택정책실 주택공급기획관 공동주택지원과 업무추진비 - ...</td>\n",
       "      <td>공동주택지원과</td>\n",
       "      <td>02-2133-7134</td>\n",
       "      <td>박혜은</td>\n",
       "      <td>2024-02-02</td>\n",
       "      <td>2023</td>\n",
       "      <td>12</td>\n",
       "      <td>https://opengov.seoul.go.kr/expense/30267889</td>\n",
       "      <td>NaN</td>\n",
       "      <td>주택정책실 주택공급기획관 공동주택지원과</td>\n",
       "      <td>2023-12-20 11:45</td>\n",
       "      <td>서궁(종로구 새문안로 35-20)</td>\n",
       "      <td>주택재건축 정비계획 결정 및 정비구역 지정 관련 간담회 비용 지급</td>\n",
       "      <td>공동주택지원과장 외 2명</td>\n",
       "      <td>카드</td>\n",
       "      <td>29570</td>\n",
       "      <td>부서</td>\n",
       "    </tr>\n",
       "    <tr>\n",
       "      <th>1</th>\n",
       "      <td>30267889</td>\n",
       "      <td>2023년 12월 서울시본청 주택정책실 주택공급기획관 공동주택지원과 업무추진비 - ...</td>\n",
       "      <td>공동주택지원과</td>\n",
       "      <td>02-2133-7134</td>\n",
       "      <td>박혜은</td>\n",
       "      <td>2024-02-02</td>\n",
       "      <td>2023</td>\n",
       "      <td>12</td>\n",
       "      <td>https://opengov.seoul.go.kr/expense/30267889</td>\n",
       "      <td>NaN</td>\n",
       "      <td>주택정책실 주택공급기획관 공동주택지원과</td>\n",
       "      <td>2023-12-14 13:15</td>\n",
       "      <td>잼배옥(중구 서소문동 64-4)</td>\n",
       "      <td>공동주택 장기수선 제도개선 방안 수립용역 준공 관련 간담회 비용 지급(2)</td>\n",
       "      <td>공동주택지원과장 외 4명</td>\n",
       "      <td>카드</td>\n",
       "      <td>14000</td>\n",
       "      <td>부서</td>\n",
       "    </tr>\n",
       "  </tbody>\n",
       "</table>\n",
       "</div>"
      ],
      "text/plain": [
       "     문서고유id                                                 제목      부서명  \\\n",
       "0  30267889  2023년 12월 서울시본청 주택정책실 주택공급기획관 공동주택지원과 업무추진비 - ...  공동주택지원과   \n",
       "1  30267889  2023년 12월 서울시본청 주택정책실 주택공급기획관 공동주택지원과 업무추진비 - ...  공동주택지원과   \n",
       "\n",
       "           전화번호  작성자         등록일  해당년도  해당월  \\\n",
       "0  02-2133-7134  박혜은  2024-02-02  2023   12   \n",
       "1  02-2133-7134  박혜은  2024-02-02  2023   12   \n",
       "\n",
       "                                          문서url 구분(시장실만 사용)  \\\n",
       "0  https://opengov.seoul.go.kr/expense/30267889         NaN   \n",
       "1  https://opengov.seoul.go.kr/expense/30267889         NaN   \n",
       "\n",
       "                   전체부서명              집행일시                집행장소  \\\n",
       "0  주택정책실 주택공급기획관 공동주택지원과  2023-12-20 11:45  서궁(종로구 새문안로 35-20)   \n",
       "1  주택정책실 주택공급기획관 공동주택지원과  2023-12-14 13:15   잼배옥(중구 서소문동 64-4)   \n",
       "\n",
       "                                        집행목적           집행대상 결제방법   집행금액  비목  \n",
       "0       주택재건축 정비계획 결정 및 정비구역 지정 관련 간담회 비용 지급  공동주택지원과장 외 2명   카드  29570  부서  \n",
       "1  공동주택 장기수선 제도개선 방안 수립용역 준공 관련 간담회 비용 지급(2)  공동주택지원과장 외 4명   카드  14000  부서  "
      ]
     },
     "execution_count": 3,
     "metadata": {},
     "output_type": "execute_result"
    }
   ],
   "source": [
    "df.head(2)"
   ]
  },
  {
   "cell_type": "code",
   "execution_count": 4,
   "id": "bcd90bd5",
   "metadata": {},
   "outputs": [
    {
     "name": "stdout",
     "output_type": "stream",
     "text": [
      "<class 'pandas.core.frame.DataFrame'>\n",
      "RangeIndex: 51428 entries, 0 to 51427\n",
      "Data columns (total 18 columns):\n",
      " #   Column       Non-Null Count  Dtype \n",
      "---  ------       --------------  ----- \n",
      " 0   문서고유id       51428 non-null  int64 \n",
      " 1   제목           51428 non-null  object\n",
      " 2   부서명          51428 non-null  object\n",
      " 3   전화번호         51428 non-null  object\n",
      " 4   작성자          51428 non-null  object\n",
      " 5   등록일          51428 non-null  object\n",
      " 6   해당년도         51428 non-null  int64 \n",
      " 7   해당월          51428 non-null  int64 \n",
      " 8   문서url        51428 non-null  object\n",
      " 9   구분(시장실만 사용)  717 non-null    object\n",
      " 10  전체부서명        51428 non-null  object\n",
      " 11  집행일시         51428 non-null  object\n",
      " 12  집행장소         51206 non-null  object\n",
      " 13  집행목적         51428 non-null  object\n",
      " 14  집행대상         51316 non-null  object\n",
      " 15  결제방법         51428 non-null  object\n",
      " 16  집행금액         51428 non-null  int64 \n",
      " 17  비목           51428 non-null  object\n",
      "dtypes: int64(4), object(14)\n",
      "memory usage: 7.1+ MB\n"
     ]
    }
   ],
   "source": [
    "df.info()"
   ]
  },
  {
   "cell_type": "code",
   "execution_count": 5,
   "id": "c019fe35",
   "metadata": {},
   "outputs": [
    {
     "data": {
      "text/html": [
       "<div>\n",
       "<style scoped>\n",
       "    .dataframe tbody tr th:only-of-type {\n",
       "        vertical-align: middle;\n",
       "    }\n",
       "\n",
       "    .dataframe tbody tr th {\n",
       "        vertical-align: top;\n",
       "    }\n",
       "\n",
       "    .dataframe thead th {\n",
       "        text-align: right;\n",
       "    }\n",
       "</style>\n",
       "<table border=\"1\" class=\"dataframe\">\n",
       "  <thead>\n",
       "    <tr style=\"text-align: right;\">\n",
       "      <th></th>\n",
       "      <th>문서고유id</th>\n",
       "      <th>해당년도</th>\n",
       "      <th>해당월</th>\n",
       "      <th>집행금액</th>\n",
       "    </tr>\n",
       "  </thead>\n",
       "  <tbody>\n",
       "    <tr>\n",
       "      <th>count</th>\n",
       "      <td>51428.00</td>\n",
       "      <td>51428.00</td>\n",
       "      <td>51428.00</td>\n",
       "      <td>51428.00</td>\n",
       "    </tr>\n",
       "    <tr>\n",
       "      <th>mean</th>\n",
       "      <td>29053914.24</td>\n",
       "      <td>2023.08</td>\n",
       "      <td>6.20</td>\n",
       "      <td>127246.27</td>\n",
       "    </tr>\n",
       "    <tr>\n",
       "      <th>std</th>\n",
       "      <td>780336.54</td>\n",
       "      <td>0.26</td>\n",
       "      <td>3.69</td>\n",
       "      <td>286999.45</td>\n",
       "    </tr>\n",
       "    <tr>\n",
       "      <th>min</th>\n",
       "      <td>27741766.00</td>\n",
       "      <td>2023.00</td>\n",
       "      <td>1.00</td>\n",
       "      <td>0.00</td>\n",
       "    </tr>\n",
       "    <tr>\n",
       "      <th>25%</th>\n",
       "      <td>28396801.00</td>\n",
       "      <td>2023.00</td>\n",
       "      <td>3.00</td>\n",
       "      <td>55000.00</td>\n",
       "    </tr>\n",
       "    <tr>\n",
       "      <th>50%</th>\n",
       "      <td>29028993.00</td>\n",
       "      <td>2023.00</td>\n",
       "      <td>6.00</td>\n",
       "      <td>90000.00</td>\n",
       "    </tr>\n",
       "    <tr>\n",
       "      <th>75%</th>\n",
       "      <td>29802955.00</td>\n",
       "      <td>2023.00</td>\n",
       "      <td>9.00</td>\n",
       "      <td>150000.00</td>\n",
       "    </tr>\n",
       "    <tr>\n",
       "      <th>max</th>\n",
       "      <td>30350224.00</td>\n",
       "      <td>2024.00</td>\n",
       "      <td>12.00</td>\n",
       "      <td>45526140.00</td>\n",
       "    </tr>\n",
       "  </tbody>\n",
       "</table>\n",
       "</div>"
      ],
      "text/plain": [
       "            문서고유id      해당년도       해당월         집행금액\n",
       "count     51428.00  51428.00  51428.00     51428.00\n",
       "mean   29053914.24   2023.08      6.20    127246.27\n",
       "std      780336.54      0.26      3.69    286999.45\n",
       "min    27741766.00   2023.00      1.00         0.00\n",
       "25%    28396801.00   2023.00      3.00     55000.00\n",
       "50%    29028993.00   2023.00      6.00     90000.00\n",
       "75%    29802955.00   2023.00      9.00    150000.00\n",
       "max    30350224.00   2024.00     12.00  45526140.00"
      ]
     },
     "execution_count": 5,
     "metadata": {},
     "output_type": "execute_result"
    }
   ],
   "source": [
    "df.describe().round(2)"
   ]
  },
  {
   "cell_type": "code",
   "execution_count": 6,
   "id": "41135fad",
   "metadata": {},
   "outputs": [
    {
     "data": {
      "text/html": [
       "<div>\n",
       "<style scoped>\n",
       "    .dataframe tbody tr th:only-of-type {\n",
       "        vertical-align: middle;\n",
       "    }\n",
       "\n",
       "    .dataframe tbody tr th {\n",
       "        vertical-align: top;\n",
       "    }\n",
       "\n",
       "    .dataframe thead th {\n",
       "        text-align: right;\n",
       "    }\n",
       "</style>\n",
       "<table border=\"1\" class=\"dataframe\">\n",
       "  <thead>\n",
       "    <tr style=\"text-align: right;\">\n",
       "      <th></th>\n",
       "      <th>제목</th>\n",
       "      <th>부서명</th>\n",
       "      <th>전화번호</th>\n",
       "      <th>작성자</th>\n",
       "      <th>등록일</th>\n",
       "      <th>문서url</th>\n",
       "      <th>구분(시장실만 사용)</th>\n",
       "      <th>전체부서명</th>\n",
       "      <th>집행일시</th>\n",
       "      <th>집행장소</th>\n",
       "      <th>집행목적</th>\n",
       "      <th>집행대상</th>\n",
       "      <th>결제방법</th>\n",
       "      <th>비목</th>\n",
       "    </tr>\n",
       "  </thead>\n",
       "  <tbody>\n",
       "    <tr>\n",
       "      <th>count</th>\n",
       "      <td>51428</td>\n",
       "      <td>51428</td>\n",
       "      <td>51428</td>\n",
       "      <td>51428</td>\n",
       "      <td>51428</td>\n",
       "      <td>51428</td>\n",
       "      <td>717</td>\n",
       "      <td>51428</td>\n",
       "      <td>51428</td>\n",
       "      <td>51206</td>\n",
       "      <td>51428</td>\n",
       "      <td>51316</td>\n",
       "      <td>51428</td>\n",
       "      <td>51428</td>\n",
       "    </tr>\n",
       "    <tr>\n",
       "      <th>unique</th>\n",
       "      <td>2213</td>\n",
       "      <td>252</td>\n",
       "      <td>330</td>\n",
       "      <td>300</td>\n",
       "      <td>222</td>\n",
       "      <td>2213</td>\n",
       "      <td>2</td>\n",
       "      <td>253</td>\n",
       "      <td>35538</td>\n",
       "      <td>18109</td>\n",
       "      <td>34927</td>\n",
       "      <td>10300</td>\n",
       "      <td>3</td>\n",
       "      <td>4</td>\n",
       "    </tr>\n",
       "    <tr>\n",
       "      <th>top</th>\n",
       "      <td>2023년 12월 서울시본청 행정국 총무과 업무추진비 - 전체</td>\n",
       "      <td>총무과</td>\n",
       "      <td>02-2133-6412</td>\n",
       "      <td>김두영</td>\n",
       "      <td>2023-04-10</td>\n",
       "      <td>https://opengov.seoul.go.kr/expense/30115434</td>\n",
       "      <td>시정 관련 간담회 등</td>\n",
       "      <td>행정국 총무과</td>\n",
       "      <td>1970-01-01 09:00</td>\n",
       "      <td>삼우정(중구 서소문로 134-12)</td>\n",
       "      <td>기강감찰 행정소요경비 지급</td>\n",
       "      <td>디자인정책관 외 3명</td>\n",
       "      <td>카드</td>\n",
       "      <td>시책</td>\n",
       "    </tr>\n",
       "    <tr>\n",
       "      <th>freq</th>\n",
       "      <td>285</td>\n",
       "      <td>3086</td>\n",
       "      <td>1893</td>\n",
       "      <td>2048</td>\n",
       "      <td>1353</td>\n",
       "      <td>285</td>\n",
       "      <td>377</td>\n",
       "      <td>3227</td>\n",
       "      <td>18</td>\n",
       "      <td>287</td>\n",
       "      <td>376</td>\n",
       "      <td>124</td>\n",
       "      <td>37336</td>\n",
       "      <td>39320</td>\n",
       "    </tr>\n",
       "  </tbody>\n",
       "</table>\n",
       "</div>"
      ],
      "text/plain": [
       "                                        제목    부서명          전화번호    작성자  \\\n",
       "count                                51428  51428         51428  51428   \n",
       "unique                                2213    252           330    300   \n",
       "top     2023년 12월 서울시본청 행정국 총무과 업무추진비 - 전체    총무과  02-2133-6412    김두영   \n",
       "freq                                   285   3086          1893   2048   \n",
       "\n",
       "               등록일                                         문서url  구분(시장실만 사용)  \\\n",
       "count        51428                                         51428          717   \n",
       "unique         222                                          2213            2   \n",
       "top     2023-04-10  https://opengov.seoul.go.kr/expense/30115434  시정 관련 간담회 등   \n",
       "freq          1353                                           285          377   \n",
       "\n",
       "          전체부서명              집행일시                 집행장소            집행목적  \\\n",
       "count     51428             51428                51206           51428   \n",
       "unique      253             35538                18109           34927   \n",
       "top     행정국 총무과  1970-01-01 09:00  삼우정(중구 서소문로 134-12)  기강감찰 행정소요경비 지급   \n",
       "freq       3227                18                  287             376   \n",
       "\n",
       "               집행대상   결제방법     비목  \n",
       "count         51316  51428  51428  \n",
       "unique        10300      3      4  \n",
       "top     디자인정책관 외 3명     카드     시책  \n",
       "freq            124  37336  39320  "
      ]
     },
     "execution_count": 6,
     "metadata": {},
     "output_type": "execute_result"
    }
   ],
   "source": [
    "df.describe(include=\"object\")"
   ]
  },
  {
   "cell_type": "code",
   "execution_count": 7,
   "id": "abc5607a",
   "metadata": {},
   "outputs": [
    {
     "data": {
      "text/plain": [
       "집행장소\n",
       "삼우정(중구 서소문로 134-12)             287\n",
       "서울시청 간담회장(서울특별시 중구 세종대로 110)    208\n",
       "오리마당(중구 세종대로 92)                182\n",
       "우도일식(중구 세종대로 124)               169\n",
       "삼우정(서울 중구 서소문로 134-12)          158\n",
       "구이구이(중구 을지로 6)                  135\n",
       "곰국시집(중구 무교로 24)                 126\n",
       "곰국시집(서울 중구 무교로 24)              125\n",
       "푸에르코 광화문(서울특별시 중구 무교로 21)       123\n",
       "월매네남원추어탕(중구 서소문로 109-8)         113\n",
       "Name: count, dtype: int64"
      ]
     },
     "execution_count": 7,
     "metadata": {},
     "output_type": "execute_result"
    }
   ],
   "source": [
    "df[\"집행장소\"].value_counts().head(10)"
   ]
  },
  {
   "cell_type": "code",
   "execution_count": 8,
   "id": "7c938016",
   "metadata": {},
   "outputs": [
    {
     "data": {
      "text/plain": [
       "결제방법\n",
       "카드      37336\n",
       "제로페이    13620\n",
       "현금        472\n",
       "Name: count, dtype: int64"
      ]
     },
     "execution_count": 8,
     "metadata": {},
     "output_type": "execute_result"
    }
   ],
   "source": [
    "df[\"결제방법\"].value_counts()"
   ]
  },
  {
   "cell_type": "code",
   "execution_count": 9,
   "id": "0ba7179f",
   "metadata": {},
   "outputs": [
    {
     "data": {
      "text/plain": [
       "array(['카드', '제로페이', '현금'], dtype=object)"
      ]
     },
     "execution_count": 9,
     "metadata": {},
     "output_type": "execute_result"
    }
   ],
   "source": [
    "df[\"결제방법\"].unique()"
   ]
  },
  {
   "cell_type": "code",
   "execution_count": 10,
   "id": "95b09f10",
   "metadata": {},
   "outputs": [
    {
     "data": {
      "text/plain": [
       "<Axes: >"
      ]
     },
     "execution_count": 10,
     "metadata": {},
     "output_type": "execute_result"
    },
    {
     "data": {
      "image/png": "[encoded data removed]",
      "text/plain": [
       "<Figure size 640x480 with 1 Axes>"
      ]
     },
     "metadata": {},
     "output_type": "display_data"
    }
   ],
   "source": [
    "df[\"집행금액\"].hist(bins=50)"
   ]
  },
  {
   "cell_type": "code",
   "execution_count": 11,
   "id": "8575eaf8",
   "metadata": {},
   "outputs": [
    {
     "data": {
      "text/plain": [
       "count       51428.00\n",
       "mean       127246.27\n",
       "std        286999.45\n",
       "min             0.00\n",
       "25%         55000.00\n",
       "50%         90000.00\n",
       "75%        150000.00\n",
       "max      45526140.00\n",
       "Name: 집행금액, dtype: float64"
      ]
     },
     "execution_count": 11,
     "metadata": {},
     "output_type": "execute_result"
    }
   ],
   "source": [
    " df[\"집행금액\"].describe().round(2)"
   ]
  },
  {
   "cell_type": "code",
   "execution_count": 12,
   "id": "97f1fe90",
   "metadata": {},
   "outputs": [
    {
     "data": {
      "text/html": [
       "<div>\n",
       "<style scoped>\n",
       "    .dataframe tbody tr th:only-of-type {\n",
       "        vertical-align: middle;\n",
       "    }\n",
       "\n",
       "    .dataframe tbody tr th {\n",
       "        vertical-align: top;\n",
       "    }\n",
       "\n",
       "    .dataframe thead th {\n",
       "        text-align: right;\n",
       "    }\n",
       "</style>\n",
       "<table border=\"1\" class=\"dataframe\">\n",
       "  <thead>\n",
       "    <tr style=\"text-align: right;\">\n",
       "      <th></th>\n",
       "      <th>문서고유id</th>\n",
       "      <th>제목</th>\n",
       "      <th>부서명</th>\n",
       "      <th>전화번호</th>\n",
       "      <th>작성자</th>\n",
       "      <th>등록일</th>\n",
       "      <th>해당년도</th>\n",
       "      <th>해당월</th>\n",
       "      <th>문서url</th>\n",
       "      <th>구분(시장실만 사용)</th>\n",
       "      <th>전체부서명</th>\n",
       "      <th>집행일시</th>\n",
       "      <th>집행장소</th>\n",
       "      <th>집행목적</th>\n",
       "      <th>집행대상</th>\n",
       "      <th>결제방법</th>\n",
       "      <th>집행금액</th>\n",
       "      <th>비목</th>\n",
       "    </tr>\n",
       "  </thead>\n",
       "  <tbody>\n",
       "    <tr>\n",
       "      <th>1048</th>\n",
       "      <td>30115407</td>\n",
       "      <td>2023년 12월 서울시본청 서울특별시장 업무추진비 - 기관운영 시책추진</td>\n",
       "      <td>시장실</td>\n",
       "      <td>02-2133-6033</td>\n",
       "      <td>전세용</td>\n",
       "      <td>2024-01-10</td>\n",
       "      <td>2023</td>\n",
       "      <td>12</td>\n",
       "      <td>https://opengov.seoul.go.kr/expense/30115407</td>\n",
       "      <td>현업-우수부서 격려 등</td>\n",
       "      <td>행정국 총무과(서울특별시장)</td>\n",
       "      <td>2023-12-20 00:00</td>\n",
       "      <td>NaN</td>\n",
       "      <td>연말 현안업무 추진직원 격려 다과비 지원</td>\n",
       "      <td>본청 167개 부서</td>\n",
       "      <td>카드</td>\n",
       "      <td>45526140</td>\n",
       "      <td>기관</td>\n",
       "    </tr>\n",
       "  </tbody>\n",
       "</table>\n",
       "</div>"
      ],
      "text/plain": [
       "        문서고유id                                        제목  부서명          전화번호  \\\n",
       "1048  30115407  2023년 12월 서울시본청 서울특별시장 업무추진비 - 기관운영 시책추진  시장실  02-2133-6033   \n",
       "\n",
       "      작성자         등록일  해당년도  해당월  \\\n",
       "1048  전세용  2024-01-10  2023   12   \n",
       "\n",
       "                                             문서url   구분(시장실만 사용)  \\\n",
       "1048  https://opengov.seoul.go.kr/expense/30115407  현업-우수부서 격려 등   \n",
       "\n",
       "                전체부서명              집행일시 집행장소                    집행목적  \\\n",
       "1048  행정국 총무과(서울특별시장)  2023-12-20 00:00  NaN  연말 현안업무 추진직원 격려 다과비 지원   \n",
       "\n",
       "            집행대상 결제방법      집행금액  비목  \n",
       "1048  본청 167개 부서   카드  45526140  기관  "
      ]
     },
     "execution_count": 12,
     "metadata": {},
     "output_type": "execute_result"
    }
   ],
   "source": [
    "df[df[\"집행금액\"] > 40000000]"
   ]
  },
  {
   "cell_type": "code",
   "execution_count": null,
   "id": "76538dde",
   "metadata": {},
   "outputs": [],
   "source": []
  }
 ],
 "metadata": {
  "kernelspec": {
   "display_name": "Python 3 (ipykernel)",
   "language": "python",
   "name": "python3"
  },
  "language_info": {
   "codemirror_mode": {
    "name": "ipython",
    "version": 3
   },
   "file_extension": ".py",
   "mimetype": "text/x-python",
   "name": "python",
   "nbconvert_exporter": "python",
   "pygments_lexer": "ipython3",
   "version": "3.11.4"
  },
  "toc": {
   "base_numbering": 1,
   "nav_menu": {},
   "number_sections": true,
   "sideBar": true,
   "skip_h1_title": false,
   "title_cell": "Table of Contents",
   "title_sidebar": "Contents",
   "toc_cell": false,
   "toc_position": {},
   "toc_section_display": true,
   "toc_window_display": false
  },
  "varInspector": {
   "cols": {
    "lenName": 16,
    "lenType": 16,
    "lenVar": 40
   },
   "kernels_config": {
    "python": {
     "delete_cmd_postfix": "",
     "delete_cmd_prefix": "del ",
     "library": "var_list.py",
     "varRefreshCmd": "print(var_dic_list())"
    },
    "r": {
     "delete_cmd_postfix": ") ",
     "delete_cmd_prefix": "rm(",
     "library": "var_list.r",
     "varRefreshCmd": "cat(var_dic_list()) "
    }
   },
   "types_to_exclude": [
    "module",
    "function",
    "builtin_function_or_method",
    "instance",
    "_Feature"
   ],
   "window_display": false
  }
 },
 "nbformat": 4,
 "nbformat_minor": 5
}
