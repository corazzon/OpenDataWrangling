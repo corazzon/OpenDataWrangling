{
 "cells": [
  {
   "cell_type": "markdown",
   "metadata": {
    "id": "8bkVLVaTiFbe"
   },
   "source": [
    "* 한국공항공사, 인천국제공항공사,「항공통계」 항공사별 통계\n",
    "* https://kosis.kr/statHtml/statHtml.do?orgId=381&tblId=DT_920005_B008&conn_path=I2"
   ]
  },
  {
   "cell_type": "code",
   "execution_count": null,
   "metadata": {
    "id": "r4AKGcZYj9W-"
   },
   "outputs": [],
   "source": [
    "!pip install koreanize-matplotlib"
   ]
  },
  {
   "cell_type": "code",
   "execution_count": null,
   "metadata": {
    "id": "bDXiglujhuaL"
   },
   "outputs": [],
   "source": [
    "import pandas as pd\n",
    "import matplotlib.pyplot as plt\n",
    "import koreanize_matplotlib"
   ]
  },
  {
   "cell_type": "code",
   "execution_count": null,
   "metadata": {
    "id": "q0fGkZBqia8T"
   },
   "outputs": [],
   "source": [
    "from glob import glob\n",
    "\n",
    "file_names = glob(\"*company.csv\")\n",
    "file_names = sorted(file_names)\n",
    "file_names"
   ]
  },
  {
   "cell_type": "code",
   "execution_count": null,
   "metadata": {
    "id": "HVwyMKsniVHb"
   },
   "outputs": [],
   "source": [
    "df_comp = pd.read_csv(file_names[0], encoding=\"cp949\", dtype={\"시점\": \"object\"})\n",
    "df_comp"
   ]
  },
  {
   "cell_type": "code",
   "execution_count": null,
   "metadata": {
    "id": "iOz1MsOVmHCY"
   },
   "outputs": [],
   "source": [
    "df_comp.info()"
   ]
  },
  {
   "cell_type": "code",
   "execution_count": null,
   "metadata": {
    "id": "wZfwdH_cimqR"
   },
   "outputs": [],
   "source": [
    "# 항공사별로 연간 평균 여객 수 계산\n",
    "average_passengers_by_airline = df_comp.groupby(\"항공사별(1)\")[\"여객 (명)\"].mean()\n",
    "\n",
    "# 그래프로 표시\n",
    "plt.figure(figsize=(12, 3))\n",
    "average_passengers_by_airline.plot(kind=\"bar\", color=\"skyblue\")\n",
    "plt.title(\"항공사별 연간 평균 여객 수\")\n",
    "plt.xlabel(\"항공사\")\n",
    "plt.ylabel(\"평균 여객 수\")\n",
    "plt.xticks(rotation=45)\n",
    "plt.show()\n"
   ]
  },
  {
   "cell_type": "markdown",
   "metadata": {
    "id": "YCyrYCgekpyC"
   },
   "source": [
    "## 연간 운항 및 여객 증가율 계산:\n",
    "* 연간 운항 편수 및 여객 수의 증가율을 계산하여 항공사별로 비교합니다."
   ]
  },
  {
   "cell_type": "code",
   "execution_count": null,
   "metadata": {
    "id": "oOkG-IJmj4ml"
   },
   "outputs": [],
   "source": [
    "# 연간 운항 편수 증가율 계산\n",
    "df_comp[\"운항 (편)_증가율\"] = df_comp.groupby(\"항공사별(1)\")[\"운항 (편)\"].pct_change() * 100\n",
    "\n",
    "# 연간 여객 수 증가율 계산\n",
    "df_comp[\"여객 (명)_증가율\"] = df_comp.groupby(\"항공사별(1)\")[\"여객 (명)\"].pct_change() * 100\n",
    "df_comp"
   ]
  },
  {
   "cell_type": "markdown",
   "metadata": {
    "id": "-c4kKSyXk8mo"
   },
   "source": [
    "## 도착/출발별로 연간 운항 및 여객 분석:\n",
    "* 도착과 출발별로 연간 운항 편수 및 여객 수를 분석합니다"
   ]
  },
  {
   "cell_type": "code",
   "execution_count": null,
   "metadata": {
    "id": "Q1PQ0DlPkuLC"
   },
   "outputs": [],
   "source": [
    "# 도착별 연간 운항 편수 및 여객 수 분석\n",
    "arrival_stats = df_comp[df_comp[\"도착출발별(1)\"] == \"도착\"].groupby(\"시점\")[[\"운항 (편)\", \"여객 (명)\"]].sum()\n",
    "\n",
    "# 출발별 연간 운항 편수 및 여객 수 분석\n",
    "departure_stats = df_comp[df_comp[\"도착출발별(1)\"] == \"출발\"].groupby(\"시점\")[[\"운항 (편)\", \"여객 (명)\"]].sum()"
   ]
  },
  {
   "cell_type": "code",
   "execution_count": null,
   "metadata": {
    "id": "TsVuFzaMld__"
   },
   "outputs": [],
   "source": [
    "arrival_stats"
   ]
  },
  {
   "cell_type": "code",
   "execution_count": null,
   "metadata": {
    "id": "co8jaXYGlATn"
   },
   "outputs": [],
   "source": [
    "departure_stats.plot(secondary_y=\"여객 (명)\")"
   ]
  },
  {
   "cell_type": "markdown",
   "metadata": {
    "id": "SPPp50tlljFO"
   },
   "source": [
    "## 시간에 따른 화물 운송량 시각화:\n",
    "* 시간에 따른 화물 운송량의 추이를 시각화합니다."
   ]
  },
  {
   "cell_type": "code",
   "execution_count": null,
   "metadata": {
    "id": "zknNoQUFmVQh"
   },
   "outputs": [],
   "source": [
    "# 시간에 따른 화물 운송량 시각화\n",
    "df_comp[\"시점\"] = pd.to_datetime(df_comp[\"시점\"])  # 날짜 형식으로 변환"
   ]
  },
  {
   "cell_type": "code",
   "execution_count": null,
   "metadata": {
    "id": "eLQwUT9QlFWo"
   },
   "outputs": [],
   "source": [
    "plt.figure(figsize=(12, 6))\n",
    "plt.plot(df_comp[df_comp[\"항공사별(1)\"] == \"아시아나항공\"][\"시점\"], df_comp[df_comp[\"항공사별(1)\"] == \"아시아나항공\"][\"화물 (톤)\"], label=\"아시아나항공\")\n",
    "plt.plot(df_comp[df_comp[\"항공사별(1)\"] == \"대한항공\"][\"시점\"], df_comp[df_comp[\"항공사별(1)\"] == \"대한항공\"][\"화물 (톤)\"], label=\"대한항공\")\n",
    "plt.xlabel(\"시간\")\n",
    "plt.ylabel(\"화물 운송량 (톤)\")\n",
    "plt.legend()\n",
    "plt.title(\"시간에 따른 화물 운송량 추이\")\n",
    "plt.show()"
   ]
  },
  {
   "cell_type": "markdown",
   "metadata": {
    "id": "qyhFDR-Jmhju"
   },
   "source": [
    "* 데이터를 다시 로드하여 df_comp 초기화"
   ]
  },
  {
   "cell_type": "code",
   "execution_count": null,
   "metadata": {
    "id": "RvxAPAZNlliU"
   },
   "outputs": [],
   "source": [
    "df_comp = pd.read_csv(file_names[0], encoding=\"cp949\", dtype={\"시점\": \"object\"})\n",
    "df_comp"
   ]
  },
  {
   "cell_type": "code",
   "execution_count": null,
   "metadata": {
    "id": "AVfzdfi5l4TW"
   },
   "outputs": [],
   "source": [
    "df_comp.columns = ['시점', '항공사', '도착출발', '운항_편', '여객_명', '화물_톤']\n",
    "df_comp"
   ]
  },
  {
   "cell_type": "markdown",
   "metadata": {
    "id": "x_onLYlunvss"
   },
   "source": [
    "df_comp[\"연도\"] = df_comp[\"시점\"].astype(str).str[:4]:\n",
    "\n",
    "df_comp DataFrame에 \"연도\"라는 새로운 열을 추가합니다.\n",
    "\"시점\" 열에 있는 데이터를 문자열로 변환한 후, str[:4]를 사용하여 처음 4자리를 추출합니다.\n",
    "이렇게 추출한 값은 연도를 나타냅니다. 예를 들어, \"2005.01\"에서 \"2005\"를 추출합니다.\n",
    "df_comp[\"월\"] = df_comp[\"시점\"].map(lambda x: x.split(\".\")[1][:2]):\n",
    "\n",
    "df_comp DataFrame에 \"월\"이라는 새로운 열을 추가합니다.\n",
    "\"시점\" 열에 있는 데이터를 map 함수와 람다(lambda) 함수를 사용하여 처리합니다.\n",
    "x.split(\".\")를 사용하여 \"시점\" 값을 점 (\".\")을 기준으로 분할하고, 분할된 결과 중 [1]을 선택하여 월과 연도를 구분합니다.\n",
    "[1][:2]를 사용하여 두 자리까지의 문자를 선택하고, 이를 \"월\" 열에 저장합니다. 예를 들어, \"2005.01\"에서 \"01\"을 추출합니다.\n"
   ]
  },
  {
   "cell_type": "code",
   "execution_count": null,
   "metadata": {
    "id": "aa0DH67mmt2r"
   },
   "outputs": [],
   "source": [
    "df_comp[\"연도\"] = df_comp[\"시점\"].astype(str).str[:4].astype(int)\n",
    "df_comp[\"월\"] = df_comp[\"시점\"].map(lambda x: x.split(\".\")[1][:2]).astype(int)\n",
    "df_comp"
   ]
  },
  {
   "cell_type": "code",
   "execution_count": null,
   "metadata": {
    "id": "SqtAnnQvm-zl"
   },
   "outputs": [],
   "source": [
    "# 데이터의 개수 => 통계치가 아님에 주의\n",
    "# 데이터 전처리가 잘 되었는지 확인하는 용도\n",
    "pd.crosstab(df_comp[\"연도\"], df_comp[\"월\"])"
   ]
  },
  {
   "cell_type": "code",
   "execution_count": null,
   "metadata": {
    "id": "SUPaPcAIoBBD"
   },
   "outputs": [],
   "source": [
    "year_comp = pd.crosstab(index=df_comp[\"연도\"],\n",
    "            columns=df_comp[\"항공사\"],\n",
    "            values=df_comp[\"여객_명\"],\n",
    "            aggfunc=\"sum\").fillna(0)\n",
    "year_comp.style.background_gradient(axis=None).format(\"{:,.0f}\")"
   ]
  },
  {
   "cell_type": "code",
   "execution_count": null,
   "metadata": {
    "id": "VQACtX4SrMhz"
   },
   "outputs": [],
   "source": [
    "df_comp[\"항공사\"].unique()"
   ]
  },
  {
   "cell_type": "code",
   "execution_count": null,
   "metadata": {
    "id": "jH46wf9krJiZ"
   },
   "outputs": [],
   "source": [
    "year_comp[['제주항공', '진에어', '에어부산', '이스타항공', '티웨이항공',\n",
    "       '에어인천', '에어서울', '플라이강원', '에어로케이항공']].plot(figsize=(12, 3), title=\"저가항공 연도별 여객 수\")"
   ]
  },
  {
   "cell_type": "code",
   "execution_count": null,
   "metadata": {
    "id": "OjgjZE2grjLD"
   },
   "outputs": [],
   "source": [
    "year_comp[['제주항공', '진에어', '에어부산', '이스타항공', '티웨이항공',\n",
    "       '에어인천', '에어서울', '플라이강원', '에어로케이항공']].plot(figsize=(12, 9), title=\"저가항공 연도별 여객 수\", subplots=True);"
   ]
  },
  {
   "cell_type": "markdown",
   "metadata": {
    "id": "ksXIWbTfzpgG"
   },
   "source": [
    "https://matplotlib.org/stable/tutorials/colors/colormaps.html"
   ]
  },
  {
   "cell_type": "code",
   "execution_count": null,
   "metadata": {
    "id": "C2_BysUuq2S1"
   },
   "outputs": [],
   "source": [
    "print(plt.colormaps())"
   ]
  },
  {
   "cell_type": "code",
   "execution_count": null,
   "metadata": {
    "id": "8TqNMRcxoSSb"
   },
   "outputs": [],
   "source": [
    "year_comp = pd.crosstab(index=df_comp[\"연도\"],\n",
    "            columns=df_comp[\"항공사\"],\n",
    "            values=df_comp[\"운항_편\"],\n",
    "            aggfunc=\"sum\").fillna(0)\n",
    "year_comp.style.background_gradient(axis=None, cmap=\"Greens\").format(\"{:,.0f}\")"
   ]
  },
  {
   "cell_type": "code",
   "execution_count": null,
   "metadata": {
    "id": "3eUAPmzyo_SZ"
   },
   "outputs": [],
   "source": [
    "year_comp = pd.crosstab(index=df_comp[\"연도\"],\n",
    "            columns=df_comp[\"항공사\"],\n",
    "            values=df_comp[\"화물_톤\"],\n",
    "            aggfunc=\"sum\").fillna(0)\n",
    "year_comp.style.background_gradient(axis=None, cmap=\"Oranges\").format(\"{:,.0f}\")"
   ]
  },
  {
   "cell_type": "markdown",
   "metadata": {
    "id": "hWunaVBKstAi"
   },
   "source": [
    "## 한국공항공사, 인천국제공항공사,「항공통계」, 국제선 지역별 통계\n",
    "* 데이터 : https://kosis.kr/statHtml/statHtml.do?orgId=381&tblId=DT_920005_B005&conn_path=I2\n",
    "* 통계 설명 자료 : https://www.narastat.kr/metasvc/index.do?orgId=381&confmNo=920005&kosisYn=Y"
   ]
  },
  {
   "cell_type": "code",
   "execution_count": null,
   "metadata": {
    "id": "IrB8DXh-qo7E"
   },
   "outputs": [],
   "source": [
    "df_region = pd.read_csv(\"kosis-airline-region.csv\", encoding=\"cp949\")\n",
    "df_region.shape"
   ]
  },
  {
   "cell_type": "code",
   "execution_count": null,
   "metadata": {
    "id": "84Z-5b8-qKv8"
   },
   "outputs": [],
   "source": [
    "df_region.columns = ['지역', '시점', '도착출발', '운항_편', '여객_명', '화물_톤']\n",
    "df_region.head(2)"
   ]
  },
  {
   "cell_type": "code",
   "execution_count": null,
   "metadata": {
    "id": "Gz3wcKQ5qbgD"
   },
   "outputs": [],
   "source": [
    "df_region.info()"
   ]
  },
  {
   "cell_type": "code",
   "execution_count": null,
   "metadata": {
    "id": "uMMxGx0Lq8Z_"
   },
   "outputs": [],
   "source": [
    "df_region.isnull().sum()"
   ]
  },
  {
   "cell_type": "markdown",
   "metadata": {
    "id": "UmW-wpgGspd_"
   },
   "source": [
    "이용자용 통계정보보고서_항공통계2018.pdf"
   ]
  },
  {
   "cell_type": "code",
   "execution_count": null,
   "metadata": {
    "id": "KyNk1j2YrzpS"
   },
   "outputs": [],
   "source": [
    "# 1. 지역별 운항 편 수 분석\n",
    "region_flight_counts = df_region.groupby(\"지역\")[\"운항_편\"].sum().sort_values(ascending=False)\n",
    "region_flight_counts.plot(kind=\"bar\", figsize=(12, 3), rot=0)\n",
    "plt.title(\"지역별 운항 편 수\")\n",
    "plt.xlabel(\"지역\")\n",
    "plt.ylabel(\"운항 편 수\")\n",
    "plt.show()"
   ]
  },
  {
   "cell_type": "code",
   "execution_count": null,
   "metadata": {
    "id": "Y5kJuMWBtO-v"
   },
   "outputs": [],
   "source": [
    "# ESC + m + y => 코드셀로 변환\n",
    "# 2. 월별 운항 편 수 추이 시각화\n",
    "df_region[\"시점\"] = pd.to_datetime(df_region[\"시점\"].astype(str), format=\"%Y.%m\")\n",
    "df_region[\"시점\"]"
   ]
  },
  {
   "cell_type": "code",
   "execution_count": null,
   "metadata": {
    "id": "wA_LH6cYtv-U"
   },
   "outputs": [],
   "source": [
    "df_region[\"연도\"] = df_region[\"시점\"].dt.year\n",
    "df_region[\"월\"] = df_region[\"시점\"].dt.month\n",
    "df_region"
   ]
  },
  {
   "cell_type": "code",
   "execution_count": null,
   "metadata": {
    "id": "bPnbNpXqtKp4"
   },
   "outputs": [],
   "source": [
    "monthly_flight_counts = df_region.groupby(df_region[\"시점\"].dt.strftime(\"%Y-%m\"))[\"운항_편\"].sum()\n",
    "monthly_flight_counts.plot(kind=\"line\", marker=\"o\")\n",
    "plt.title(\"월별 운항 편 수 추이\")\n",
    "plt.xlabel(\"월\")\n",
    "plt.ylabel(\"운항 편 수\")\n",
    "plt.xticks(rotation=45)\n",
    "plt.show()"
   ]
  },
  {
   "cell_type": "code",
   "execution_count": null,
   "metadata": {
    "id": "CvAelHwCuTY0"
   },
   "outputs": [],
   "source": [
    "df_region[df_region[\"월\"] == 1]"
   ]
  },
  {
   "cell_type": "code",
   "execution_count": null,
   "metadata": {
    "id": "U7_Bgi8wrPhZ"
   },
   "outputs": [],
   "source": [
    "# 3. 도착 vs. 출발 운항 비교\n",
    "arrival_vs_departure = df_region.groupby(\"도착출발\")[\"운항_편\"].sum()\n",
    "arrival_vs_departure.plot(kind=\"pie\", autopct='%1.1f%%')\n",
    "plt.title(\"도착 vs. 출발 운항 편 수 비교\")\n",
    "plt.ylabel(\"\")\n",
    "plt.show()"
   ]
  },
  {
   "cell_type": "code",
   "execution_count": null,
   "metadata": {
    "id": "-F2hD9U5u2kU"
   },
   "outputs": [],
   "source": [
    "df_region"
   ]
  },
  {
   "cell_type": "code",
   "execution_count": null,
   "metadata": {
    "id": "n2DjrvD0rYBE"
   },
   "outputs": [],
   "source": [
    "pd.crosstab(index=df_region[\"도착출발\"],\n",
    "            columns=df_region[\"연도\"],\n",
    "            values=df_region[\"여객_명\"], aggfunc=\"sum\"\n",
    "            ).T.plot(kind=\"bar\", figsize=(12, 3), title=\"연도별 도착 출발 여객 명\");"
   ]
  },
  {
   "cell_type": "code",
   "execution_count": null,
   "metadata": {
    "id": "Ok04rrllu0fb"
   },
   "outputs": [],
   "source": [
    "# 변경된 코드: groupby를 사용한 운항 편 수 집계\n",
    "df_region.groupby([\"도착출발\", df_region[\"시점\"].dt.year])[\"운항_편\"].sum().unstack()"
   ]
  },
  {
   "cell_type": "code",
   "execution_count": null,
   "metadata": {
    "id": "OVUzzvp3vTOq"
   },
   "outputs": [],
   "source": [
    "\n",
    "# \"지역\" 열을 기준으로 데이터 그룹화\n",
    "grouped_by_region = df_region.groupby(\"지역\")\n",
    "\n",
    "# 각 지역별 운항 편수, 여객 수, 화물 운송량의 합계 계산\n",
    "region_stats = grouped_by_region[[\"운항_편\", \"여객_명\", \"화물_톤\"]].sum()\n",
    "\n",
    "# 각 지역별 운항 편수, 여객 수, 화물 운송량의 합계를 막대 그래프로 시각화\n",
    "region_stats.plot(kind=\"bar\", figsize=(12, 6))\n",
    "plt.title(\"지역별 운항 편수, 여객 수, 화물 운송량\")\n",
    "plt.xlabel(\"지역\")\n",
    "plt.ylabel(\"합계\")\n",
    "plt.xticks(rotation=45)\n",
    "plt.legend([\"운항 편수\", \"여객 수\", \"화물 운송량\"])\n",
    "plt.show()"
   ]
  },
  {
   "cell_type": "code",
   "execution_count": null,
   "metadata": {
    "id": "0UGNT6RTyDP-"
   },
   "outputs": [],
   "source": [
    "df_region.tail()"
   ]
  },
  {
   "cell_type": "code",
   "execution_count": null,
   "metadata": {
    "id": "2s2CENlpwnu2"
   },
   "outputs": [],
   "source": [
    "year_region = pd.crosstab(index=df_region[\"연도\"], columns=df_region[\"지역\"],\n",
    "            values=df_region[\"운항_편\"], aggfunc=\"sum\").fillna(0)\n",
    "year_region.style.background_gradient(cmap=\"Oranges\", axis=None).format(\"{:,.0f}\")"
   ]
  },
  {
   "cell_type": "code",
   "execution_count": null,
   "metadata": {
    "id": "BGH2hFKLyuGZ"
   },
   "outputs": [],
   "source": [
    "year_region.iloc[-5:][[\"일본\", \"중국\", \"아시아\", \"미주\"]].plot(figsize=(12, 3))"
   ]
  },
  {
   "cell_type": "code",
   "execution_count": null,
   "metadata": {
    "id": "abYbSwlgwr9z"
   },
   "outputs": [],
   "source": [
    "year_region.iloc[-5:][[\"일본\", \"중국\", \"아시아\", \"미주\"]].plot(kind=\"bar\")"
   ]
  },
  {
   "cell_type": "code",
   "execution_count": null,
   "metadata": {
    "id": "u6V47nPsyc9s"
   },
   "outputs": [],
   "source": [
    "year_region.iloc[-1][[\"일본\", \"중국\", \"아시아\", \"미주\"]].sort_values().plot(figsize=(12, 3), kind=\"bar\", rot=0)"
   ]
  },
  {
   "cell_type": "code",
   "execution_count": null,
   "metadata": {
    "id": "Wck1oZoMy6vO"
   },
   "outputs": [],
   "source": [
    "year_region.loc[[2019, 2020, 2023]].T.plot(kind=\"bar\")"
   ]
  },
  {
   "cell_type": "code",
   "execution_count": null,
   "metadata": {
    "id": "eGR7yJqazmfc"
   },
   "outputs": [],
   "source": [
    "df_month = df_region[df_region[\"월\"] == 3]\n",
    "year_region_m = pd.crosstab(index=df_month[\"연도\"], columns=df_month[\"지역\"],\n",
    "            values=df_month[\"운항_편\"], aggfunc=\"sum\").fillna(0)\n",
    "year_region_m.style.background_gradient(cmap=\"Oranges\", axis=None).format(\"{:,.0f}\")"
   ]
  },
  {
   "cell_type": "code",
   "execution_count": null,
   "metadata": {
    "id": "QXr1yYrF1Et_"
   },
   "outputs": [],
   "source": [
    "df_month = df_region[df_region[\"월\"] == 3]\n",
    "year_region_m = pd.crosstab(index=df_month[\"연도\"], columns=df_month[\"지역\"],\n",
    "            values=df_month[\"화물_톤\"], aggfunc=\"sum\").fillna(0)\n",
    "year_region_m.style.background_gradient(cmap=\"Oranges\", axis=None).format(\"{:,.0f}\")"
   ]
  },
  {
   "cell_type": "code",
   "execution_count": null,
   "metadata": {
    "id": "99fdFsd8z4QY"
   },
   "outputs": [],
   "source": [
    "ym = pd.crosstab(df_region[\"연도\"], df_region[\"월\"], values=df_region[\"화물_톤\"], aggfunc=\"sum\")\n",
    "ym.style.background_gradient(cmap=\"Oranges\", axis=None).format(\"{:,.0f}\")"
   ]
  },
  {
   "cell_type": "code",
   "execution_count": null,
   "metadata": {
    "id": "GMM0bi0s1V4O"
   },
   "outputs": [],
   "source": []
  }
 ],
 "metadata": {
  "colab": {
   "provenance": []
  },
  "kernelspec": {
   "display_name": "Python 3 (ipykernel)",
   "language": "python",
   "name": "python3"
  },
  "language_info": {
   "codemirror_mode": {
    "name": "ipython",
    "version": 3
   },
   "file_extension": ".py",
   "mimetype": "text/x-python",
   "name": "python",
   "nbconvert_exporter": "python",
   "pygments_lexer": "ipython3",
   "version": "3.11.4"
  },
  "toc": {
   "base_numbering": 1,
   "nav_menu": {},
   "number_sections": true,
   "sideBar": true,
   "skip_h1_title": false,
   "title_cell": "Table of Contents",
   "title_sidebar": "Contents",
   "toc_cell": false,
   "toc_position": {},
   "toc_section_display": true,
   "toc_window_display": false
  },
  "varInspector": {
   "cols": {
    "lenName": 16,
    "lenType": 16,
    "lenVar": 40
   },
   "kernels_config": {
    "python": {
     "delete_cmd_postfix": "",
     "delete_cmd_prefix": "del ",
     "library": "var_list.py",
     "varRefreshCmd": "print(var_dic_list())"
    },
    "r": {
     "delete_cmd_postfix": ") ",
     "delete_cmd_prefix": "rm(",
     "library": "var_list.r",
     "varRefreshCmd": "cat(var_dic_list()) "
    }
   },
   "types_to_exclude": [
    "module",
    "function",
    "builtin_function_or_method",
    "instance",
    "_Feature"
   ],
   "window_display": false
  }
 },
 "nbformat": 4,
 "nbformat_minor": 1
}
