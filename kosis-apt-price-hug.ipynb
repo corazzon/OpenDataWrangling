{
 "cells": [
  {
   "cell_type": "markdown",
   "id": "f6a1f638-50d6-46a7-a5ec-4bda97b59b53",
   "metadata": {},
   "source": [
    "\n",
    "# 전국 신규 민간 아파트 분양가격 동향\n",
    "\n",
    "2013년부터 최근까지 부동산 가격 변동 추세가 아파트 분양가에도 반영될까요? 공공데이터 포털에 있는 데이터를 Pandas 의 melt, concat, pivot, transpose 와 같은 reshape 기능을 활용해 분석해 봅니다. 그리고 groupby, pivot_table, info, describe, value_counts 등을 통한 데이터 요약과 분석을 해봅니다. 이를 통해 전혀 다른 형태의 두 데이터를 가져와 정제하고 병합하는 과정을 다루는 방법을 알게 됩니다. 전처리 한 결과에 대해 수치형, 범주형 데이터의 차이를 이해하고 다양한 그래프로 시각화를 할 수 있게 됩니다.\n",
    "\n",
    "\n",
    "## 다루는 내용\n",
    "\n",
    "* 공공데이터를 활용해 전혀 다른 두 개의 데이터를 가져와서 전처리 하고 병합하기\n",
    "* 수치형 데이터와 범주형 데이터를 바라보는 시각을 기르기\n",
    "* 데이터의 형식에 따른 다양한 시각화 방법 이해하기\n",
    "\n",
    "## 실습\n",
    "* 공공데이터 다운로드 후 주피터 노트북으로 로드하기\n",
    "* 판다스를 통해 데이터를 요약하고 분석하기\n",
    "* 데이터 전처리와 병합하기\n",
    "* 수치형 데이터와 범주형 데이터 다루기\n",
    "* 막대그래프(bar plot), 선그래프(line plot), 산포도(scatter plot), 상관관계(lm plot), 히트맵, 상자수염그림, swarm plot, 도수분포표, 히스토그램(distplot) 실습하기\n",
    "\n",
    "## 데이터 출처\n",
    "* https://kosis.kr/statHtml/statHtml.do?orgId=414&tblId=DT_41401N_005&vw_cd=MT_ZTITLE&list_id=I1_3&seqNo=&lang_mode=ko&language=kor&obj_var_id=&itm_id=&conn_path=MT_ZTITLE\n",
    "* 공공데이터 포털 : https://www.data.go.kr/data/15061057/fileData.do\n",
    "\n",
    "### 전국 평균 분양가격(2013년 9월부터 2015년 8월까지)\n",
    "* 전국 공동주택의 3.3제곱미터당 평균분양가격 데이터를 제공\n",
    "\n",
    "###  주택도시보증공사_전국 평균 분양가격(2015년 10월~)\n",
    "* 전국 공동주택의 연도별, 월별, 전용면적별 제곱미터당 평균분양가격 데이터를 제공\n",
    "* 지역별 평균값은 단순 산술평균값이 아닌 가중평균값임"
   ]
  },
  {
   "cell_type": "code",
   "execution_count": null,
   "id": "e007e2e4-13d1-40d4-b1ad-4abfc237b9d2",
   "metadata": {},
   "outputs": [],
   "source": [
    "# !pip install koreanize_matplotlib"
   ]
  },
  {
   "cell_type": "code",
   "execution_count": null,
   "id": "e0f94790-d79d-49a2-9d7b-0a1bcdec2a40",
   "metadata": {},
   "outputs": [],
   "source": [
    "import pandas as pd\n",
    "import numpy as np\n",
    "import seaborn as sns\n",
    "import koreanize_matplotlib"
   ]
  },
  {
   "cell_type": "code",
   "execution_count": null,
   "id": "251dcb75-6cf9-4c69-bbdf-1719e4a56042",
   "metadata": {},
   "outputs": [],
   "source": [
    "df_last = pd.read_csv(\"data/apt-price-hug.csv\", dtype={\"시점\":\"object\"}, encoding=\"cp949\")\n",
    "df_last.shape"
   ]
  },
  {
   "cell_type": "code",
   "execution_count": null,
   "id": "7984c2a2-964b-44e6-914b-bb19dbcdf87d",
   "metadata": {},
   "outputs": [],
   "source": [
    "df_last.head()"
   ]
  },
  {
   "cell_type": "code",
   "execution_count": null,
   "id": "d6477596-bb8e-4541-8a45-b9fe342b7955",
   "metadata": {},
   "outputs": [],
   "source": [
    "df_last.info()"
   ]
  },
  {
   "cell_type": "markdown",
   "id": "7f91a6f0-9e07-4555-9fe7-63285c2f3bc8",
   "metadata": {},
   "source": [
    "### 결측치 보기\n",
    "isnull 혹은 isna 를 통해 데이터가 비어있는지를 확인할 수 있습니다.\n",
    "결측치는 True로 표시되는데, True == 1 이기 때문에 이 값을 다 더해주면 결측치의 수가 됩니다."
   ]
  },
  {
   "cell_type": "code",
   "execution_count": null,
   "id": "0249baec-b0a2-49cd-bfa8-4475d580e500",
   "metadata": {},
   "outputs": [],
   "source": [
    "df_last.isnull().sum()"
   ]
  },
  {
   "cell_type": "code",
   "execution_count": null,
   "id": "93bcbd41-cc54-496b-9b6c-15198e0c7a72",
   "metadata": {},
   "outputs": [],
   "source": [
    "df_last.columns"
   ]
  },
  {
   "cell_type": "code",
   "execution_count": null,
   "id": "dbc265e1-dba5-40ba-b2b4-6e50e1fc131c",
   "metadata": {},
   "outputs": [],
   "source": [
    "df_last.columns = ['시점', '전용면적', '지역구분', '지역명', '분양가']\n",
    "df_last"
   ]
  },
  {
   "cell_type": "code",
   "execution_count": null,
   "id": "7ba56df5-5423-4373-a2ea-ab9d3fa9530c",
   "metadata": {},
   "outputs": [],
   "source": [
    "df_last = df_last[df_last[\"지역명\"] != \"소계\"].copy()\n",
    "df_last.shape"
   ]
  },
  {
   "cell_type": "code",
   "execution_count": null,
   "id": "300705b7-0f03-4133-9a7f-eedc8fd2b9f9",
   "metadata": {},
   "outputs": [],
   "source": [
    "df_last[\"지역명\"].value_counts()"
   ]
  },
  {
   "cell_type": "code",
   "execution_count": null,
   "id": "6f82f6ac-7aa9-42e6-91e1-bbcbc93b677a",
   "metadata": {},
   "outputs": [],
   "source": [
    "df_last[\"지역구분\"]"
   ]
  },
  {
   "cell_type": "markdown",
   "id": "a4dab0a9-ccc6-42cc-8e42-29b9ac59e943",
   "metadata": {},
   "source": [
    "### 기초 기술 통계"
   ]
  },
  {
   "cell_type": "code",
   "execution_count": null,
   "id": "59a6b125-1285-47a0-aa2c-9c83909d6f88",
   "metadata": {},
   "outputs": [],
   "source": [
    "df_last.describe()"
   ]
  },
  {
   "cell_type": "markdown",
   "id": "fd49f2cd-8795-452f-8304-1498fc9b835e",
   "metadata": {},
   "source": [
    "### 데이터 타입 변경\n",
    "분양가격이 object(문자) 타입으로 되어 있습니다. 문자열 타입을 계산할 수 없기 때문에 수치 데이터로 변경해 줍니다. 결측치가 섞여 있을 때 변환이 제대로 되지 않습니다. 그래서 pd.to_numeric 을 통해 데이터의 타입을 변경합니다."
   ]
  },
  {
   "cell_type": "code",
   "execution_count": null,
   "id": "007f1a2f-54cb-4e92-a50a-f518bf22c0ff",
   "metadata": {},
   "outputs": [],
   "source": [
    "df_last[\"분양가천원\"] = pd.to_numeric(df_last[\"분양가\"], errors=\"coerce\")\n",
    "df_last[\"분양가천원\"]"
   ]
  },
  {
   "cell_type": "markdown",
   "id": "eb57eb76-c46b-421e-b83d-c9d06e510483",
   "metadata": {},
   "source": [
    "### 평당분양가격 구하기\n",
    "공공데이터포털에 올라와 있는 2013년부터의 데이터는 평당분양가격 기준으로 되어 있습니다.\n",
    "분양가격을 평당기준으로 보기위해 3.3을 곱해서 \"평당분양가격\" 컬럼을 만들어 추가해 줍니다."
   ]
  },
  {
   "cell_type": "code",
   "execution_count": null,
   "id": "0e53899f-2ea1-438a-bbc9-df52f9f23954",
   "metadata": {},
   "outputs": [],
   "source": [
    "df_last[\"평당분양가천원\"] = df_last[\"분양가천원\"] * 3.3"
   ]
  },
  {
   "cell_type": "code",
   "execution_count": null,
   "id": "7aea2b4a-c719-46c5-93a0-dc722b23a949",
   "metadata": {},
   "outputs": [],
   "source": [
    "df_last.describe()"
   ]
  },
  {
   "cell_type": "code",
   "execution_count": null,
   "id": "a4c9eb20-f918-4277-96bf-c4fe06a871ad",
   "metadata": {},
   "outputs": [],
   "source": [
    "df_last.describe(include=\"object\")"
   ]
  },
  {
   "cell_type": "markdown",
   "id": "a3bbc79f-d984-4a9a-8145-abc05262e9d6",
   "metadata": {},
   "source": [
    "### 연도와 월을 분리하기\n",
    "* pandas 의 string-handling 사용하기 : https://pandas.pydata.org/pandas-docs/stable/reference/series.html#string-handling"
   ]
  },
  {
   "cell_type": "code",
   "execution_count": null,
   "id": "f01f863f-94d9-4ade-b81b-d83311d54314",
   "metadata": {},
   "outputs": [],
   "source": [
    "df_last[\"연도\"] = df_last[\"시점\"].astype(str).str[:4].astype(int)\n",
    "df_last[\"월\"] = df_last[\"시점\"].map(lambda x : str(x).split(\".\")[-1]).astype(int)\n",
    "df_last"
   ]
  },
  {
   "cell_type": "markdown",
   "id": "5ef22eeb-1087-44f9-bdf6-caef4b897f23",
   "metadata": {},
   "source": [
    "### 분양가격 요약하기"
   ]
  },
  {
   "cell_type": "code",
   "execution_count": null,
   "id": "b95f1312-52a5-4606-8262-18f47199b797",
   "metadata": {},
   "outputs": [],
   "source": [
    "df_last.describe()"
   ]
  },
  {
   "cell_type": "markdown",
   "id": "d5ada987-30fa-4550-8ebe-19cb41a5b8b4",
   "metadata": {},
   "source": [
    "### 필요없는 컬럼 제거하기\n",
    "drop을 통해 전처리 해준 컬럼을 제거합니다. pandas의 데이터프레임과 관련된 메소드에는 axis 옵션이 필요할 때가 있는데 행과 열중 어떤 기준으로 처리를 할 것인지를 의미합니다. 보통 기본적으로 0으로 되어 있고 행을 기준으로 처리함을 의미합니다. 메모리 사용량이 줄어들었는지 확인합니다."
   ]
  },
  {
   "cell_type": "code",
   "execution_count": null,
   "id": "ab513b87-aa95-44e0-9b37-849849088950",
   "metadata": {},
   "outputs": [],
   "source": [
    "# df_last = df_last.drop(columns=[\"지역구분\", \"시점\"]).copy()\n",
    "# df_last"
   ]
  },
  {
   "cell_type": "markdown",
   "id": "749c6694-706c-4cc4-bd3f-337728b9f74f",
   "metadata": {},
   "source": [
    "## 최근 데이터 분석과 시각화 하기"
   ]
  },
  {
   "cell_type": "code",
   "execution_count": null,
   "id": "ae84d4e4-61ed-408a-98a6-df7d589347dd",
   "metadata": {},
   "outputs": [],
   "source": [
    "sns.barplot(data=df_last, x=\"연도\", y=\"평당분양가천원\")"
   ]
  },
  {
   "cell_type": "markdown",
   "id": "666a7375-b183-41e3-8b0c-c0f05bd2e311",
   "metadata": {},
   "source": [
    "## 2015년 8월 이전 데이터 보기"
   ]
  },
  {
   "cell_type": "code",
   "execution_count": null,
   "id": "c97fc4b1-fee3-4f6c-a92d-643cb711877f",
   "metadata": {},
   "outputs": [],
   "source": [
    "df_first = pd.read_csv(\"data/apt-price-hug-201309-201508.csv\", encoding=\"cp949\")\n",
    "df_first.shape"
   ]
  },
  {
   "cell_type": "code",
   "execution_count": null,
   "id": "5022aff4-1c53-4baa-94c4-68789308d12c",
   "metadata": {},
   "outputs": [],
   "source": [
    "df_first.head()"
   ]
  },
  {
   "cell_type": "code",
   "execution_count": null,
   "id": "78e40e5c-c40e-4513-acc4-ef22b0e79a6c",
   "metadata": {},
   "outputs": [],
   "source": [
    "df_first.tail()"
   ]
  },
  {
   "cell_type": "code",
   "execution_count": null,
   "id": "cc046b3c-ee3a-4772-9a21-6687c9a36f0b",
   "metadata": {},
   "outputs": [],
   "source": [
    "df_first.info()"
   ]
  },
  {
   "cell_type": "code",
   "execution_count": null,
   "id": "c1eb0d27-2d8d-487b-9572-61badf346c67",
   "metadata": {},
   "outputs": [],
   "source": [
    "# 결측치가 있는지 봅니다.\n",
    "df_first.isnull().sum().sum()"
   ]
  },
  {
   "cell_type": "markdown",
   "id": "16785d53-5f89-4f8b-98f3-7e04cb24154a",
   "metadata": {},
   "source": [
    "### melt로 Tidy data 만들기\n",
    "pandas의 melt를 사용하면 데이터의 형태를 변경할 수 있습니다. \n",
    "df_first 변수에 담긴 데이터프레임은 df_last에 담겨있는 데이터프레임의 모습과 다릅니다. \n",
    "같은 형태로 만들어주어야 데이터를 합칠 수 있습니다. \n",
    "데이터를 병합하기 위해 melt를 사용해 열에 있는 데이터를 행으로 녹여봅니다.\n",
    "\n",
    "<img src=\"https://pandas.pydata.org/docs/_images/reshaping_melt.png\" width=\"500\">\n",
    "\n",
    "* https://pandas.pydata.org/docs/user_guide/reshaping.html#reshaping-by-melt\n",
    "* [Tidy Data 란?](https://vita.had.co.nz/papers/tidy-data.pdf)"
   ]
  },
  {
   "cell_type": "code",
   "execution_count": null,
   "id": "2a01cb3e-b75d-44c6-9c68-837f80f8ac73",
   "metadata": {},
   "outputs": [],
   "source": [
    "# pd.melt 를 사용하며, 녹인 데이터는 df_first_melt 변수에 담습니다. \n",
    "df_first_melt = pd.melt(df_first, id_vars=\"지역\")\n",
    "df_first_melt.head()"
   ]
  },
  {
   "cell_type": "code",
   "execution_count": null,
   "id": "05cf583f-9979-413b-9d14-8ca818ada911",
   "metadata": {},
   "outputs": [],
   "source": [
    "# df_first_melt 변수에 담겨진 컬럼의 이름을 \n",
    "# [\"지역명\", \"기간\", \"평당분양가격\"] 으로 변경합니다.\n",
    "df_first_melt.columns = [\"지역명\", \"기간\", \"평당분양가천원\"]\n",
    "df_first_melt.head(1)"
   ]
  },
  {
   "cell_type": "markdown",
   "id": "82de0b7e-ef72-48a6-8d23-0afb3a0403b2",
   "metadata": {},
   "source": [
    "### 연도와 월을 분리하기\n",
    "* pandas 의 string-handling 사용하기 : https://pandas.pydata.org/pandas-docs/stable/reference/series.html#string-handling"
   ]
  },
  {
   "cell_type": "code",
   "execution_count": null,
   "id": "890f7c3c-7965-4c8d-a9ef-59ab0b51c82b",
   "metadata": {},
   "outputs": [],
   "source": [
    "# str.split 을 통해 문자열 분리가 가능합니다.\n",
    "# \"2013년12월\" 이라는 문자열에서 연도와 월을 추출하기 \"년\"이라는 글자로 나누고 앞에 있는 글자를 가져오면 연도가 됩니다.\n",
    "# 그리고 월은 int 타입으로 변경합니다.\n",
    "\n",
    "df_first_melt[\"연도\"] = df_first_melt[\"기간\"].str.split(\"년\", expand=True)[0]\n",
    "df_first_melt[\"연도\"] = df_first_melt[\"연도\"].astype(int)\n",
    "df_first_melt.head(1)"
   ]
  },
  {
   "cell_type": "code",
   "execution_count": null,
   "id": "1272d646-572e-4fc2-8d9c-590093bce630",
   "metadata": {},
   "outputs": [],
   "source": [
    "df_first_melt[\"월\"] = df_first_melt[\"기간\"].str.split(\"년\", expand=True)[1]\n",
    "df_first_melt[\"월\"] = df_first_melt[\"월\"].str.replace(\"월\", \"\")\n",
    "df_first_melt[\"월\"] = df_first_melt[\"월\"].astype(int)\n",
    "df_first_melt[\"월\"]"
   ]
  },
  {
   "cell_type": "code",
   "execution_count": null,
   "id": "3227a8df-dc49-4ac8-bb22-d631244d7c1b",
   "metadata": {},
   "outputs": [],
   "source": [
    "cols = ['지역명', '연도', '월', '평당분양가천원']\n",
    "cols"
   ]
  },
  {
   "cell_type": "code",
   "execution_count": null,
   "id": "f3ae3b71-f561-406d-b5a8-d9692547f64b",
   "metadata": {},
   "outputs": [],
   "source": [
    "df_last_prepare = df_last[df_last[\"전용면적\"] == \"전체\"].copy()\n",
    "df_last_prepare = df_last_prepare[cols].copy()\n",
    "df_last_prepare.head()"
   ]
  },
  {
   "cell_type": "code",
   "execution_count": null,
   "id": "707e9221-2097-4777-8d5a-45c6ac2dabdf",
   "metadata": {},
   "outputs": [],
   "source": [
    "df_last"
   ]
  },
  {
   "cell_type": "code",
   "execution_count": null,
   "id": "73f30800-f6bd-48f4-80ca-6a185e51c0bd",
   "metadata": {},
   "outputs": [],
   "source": [
    "df_last_prepare = df_last[df_last[\"전용면적\"] == \"전체\"].copy()\n",
    "df_last_prepare = df_last_prepare[cols].copy()\n",
    "df_last_prepare.head()"
   ]
  },
  {
   "cell_type": "code",
   "execution_count": null,
   "id": "07e18d0d-cabb-4083-ba8b-c69a97ce3edf",
   "metadata": {},
   "outputs": [],
   "source": [
    "# df_first_melt에서 공통된 컬럼만 가져온 뒤\n",
    "# copy로 복사해서 df_first_prepare 변수에 담습니다.\n",
    "df_first_prepare = df_first_melt[cols].copy()\n",
    "df_first_prepare.head()"
   ]
  },
  {
   "cell_type": "code",
   "execution_count": null,
   "id": "ae47c204-9dfa-4969-962a-c894581baac9",
   "metadata": {},
   "outputs": [],
   "source": [
    "df_first_prepare = df_first_melt[cols].copy()\n",
    "df_first_prepare.head()"
   ]
  },
  {
   "cell_type": "markdown",
   "id": "1629e706-fefd-493d-a1b2-785297ca8dbb",
   "metadata": {},
   "source": [
    "### concat 으로 데이터 합치기\n",
    "<img src=\"https://pandas.pydata.org/pandas-docs/stable/_images/merging_concat_basic.png\">\n",
    "\n",
    "* https://pandas.pydata.org/pandas-docs/stable/reference/api/pandas.concat.html"
   ]
  },
  {
   "cell_type": "code",
   "execution_count": null,
   "id": "0aab1446-7348-400e-b684-a319372623fe",
   "metadata": {},
   "outputs": [],
   "source": [
    "# df_first_prepare 와 df_last_prepare 를 합쳐줍니다.\n",
    "df = pd.concat([df_first_prepare, df_last_prepare], ignore_index=True)\n",
    "df.shape"
   ]
  },
  {
   "cell_type": "code",
   "execution_count": null,
   "id": "4d0d9f60-21dd-44f7-becd-a067ee5d4c07",
   "metadata": {},
   "outputs": [],
   "source": [
    "# 제대로 합쳐졌는지 미리보기를 합니다.\n",
    "df"
   ]
  },
  {
   "cell_type": "code",
   "execution_count": null,
   "id": "8a7ca6ee-66d3-4787-8edf-31081bd31358",
   "metadata": {},
   "outputs": [],
   "source": [
    "# 연도별로 데이터가 몇개씩 있는지 value_counts를 통해 세어봅니다.\n",
    "\n"
   ]
  },
  {
   "cell_type": "code",
   "execution_count": null,
   "id": "ec227619-bbee-4e33-9309-c9247f6ceaf9",
   "metadata": {},
   "outputs": [],
   "source": []
  },
  {
   "cell_type": "markdown",
   "id": "81ea354b-b922-4f33-beab-2967882caed5",
   "metadata": {},
   "source": [
    "## 2013년부터 최근 데이터까지 시각화하기\n",
    "### 연도별 평당분양가격 보기"
   ]
  },
  {
   "cell_type": "code",
   "execution_count": null,
   "id": "8912c871-edfe-469a-ba70-29c2c165c77f",
   "metadata": {},
   "outputs": [],
   "source": [
    "# barplot 으로 연도별 평당분양가천원 그리기\n",
    "# sns.barplot(data=df, x=\"연도\", y=\"평당분양가천원\")"
   ]
  },
  {
   "cell_type": "code",
   "execution_count": null,
   "id": "288bce7c-2323-40af-a7a9-b7c42f564423",
   "metadata": {},
   "outputs": [],
   "source": [
    "# df.groupby(\"연도\")[\"평당분양가천원\"].describe()"
   ]
  },
  {
   "cell_type": "code",
   "execution_count": null,
   "id": "dd59e455-ce16-4a99-b360-2c8d54bb4af6",
   "metadata": {},
   "outputs": [],
   "source": [
    "# sns.boxplot(data=df, x=\"연도\", y=\"평당분양가천원\")"
   ]
  },
  {
   "cell_type": "code",
   "execution_count": null,
   "id": "be58d351-312b-4e37-9589-0988485afa06",
   "metadata": {},
   "outputs": [],
   "source": []
  },
  {
   "cell_type": "code",
   "execution_count": null,
   "id": "ed76497f-7550-4b48-bdc9-6c6a55654084",
   "metadata": {},
   "outputs": [],
   "source": []
  },
  {
   "cell_type": "markdown",
   "id": "f7089c32-e34d-45ba-8d57-946ad5c70733",
   "metadata": {},
   "source": [
    "### 지역별 평당 분양가격 보기"
   ]
  },
  {
   "cell_type": "code",
   "execution_count": null,
   "id": "59fe4158-d514-4764-bb8a-307b4d879965",
   "metadata": {},
   "outputs": [],
   "source": [
    "# sns.barplot(data=df, x=\"지역명\", y=\"평당분양가천원\")"
   ]
  },
  {
   "cell_type": "code",
   "execution_count": null,
   "id": "4f803038-6e03-467c-9f0d-0c41afb384dc",
   "metadata": {},
   "outputs": [],
   "source": []
  },
  {
   "cell_type": "code",
   "execution_count": null,
   "id": "34c03497-608d-4040-90b6-9abd5eaa2886",
   "metadata": {},
   "outputs": [],
   "source": []
  },
  {
   "cell_type": "code",
   "execution_count": null,
   "id": "6e124b20-90bf-4d89-94fc-c64827c5da81",
   "metadata": {},
   "outputs": [],
   "source": []
  },
  {
   "cell_type": "code",
   "execution_count": null,
   "id": "ccddad88-44b9-448f-9a4e-d1787573bd99",
   "metadata": {},
   "outputs": [],
   "source": []
  },
  {
   "cell_type": "code",
   "execution_count": null,
   "id": "a15ba1ea-83ae-4901-838c-67c614e3bd30",
   "metadata": {},
   "outputs": [],
   "source": []
  },
  {
   "cell_type": "code",
   "execution_count": null,
   "id": "2d3a7947-53a9-4b0f-b215-591a7561f398",
   "metadata": {},
   "outputs": [],
   "source": []
  },
  {
   "cell_type": "code",
   "execution_count": null,
   "id": "7b727c0f-7b90-4789-a201-7d85d5e3c16f",
   "metadata": {},
   "outputs": [],
   "source": []
  },
  {
   "cell_type": "code",
   "execution_count": null,
   "id": "46de3655-81ab-4aa1-84e7-3ddffa16f125",
   "metadata": {},
   "outputs": [],
   "source": []
  },
  {
   "cell_type": "code",
   "execution_count": null,
   "id": "19cbbed1-4a17-4558-8ec2-2f30fc6cbfa2",
   "metadata": {},
   "outputs": [],
   "source": []
  },
  {
   "cell_type": "code",
   "execution_count": null,
   "id": "1a329ba6-f14e-47df-887c-e91f624e7ff8",
   "metadata": {},
   "outputs": [],
   "source": []
  }
 ],
 "metadata": {
  "kernelspec": {
   "display_name": "Python 3 (ipykernel)",
   "language": "python",
   "name": "python3"
  },
  "language_info": {
   "codemirror_mode": {
    "name": "ipython",
    "version": 3
   },
   "file_extension": ".py",
   "mimetype": "text/x-python",
   "name": "python",
   "nbconvert_exporter": "python",
   "pygments_lexer": "ipython3",
   "version": "3.11.4"
  }
 },
 "nbformat": 4,
 "nbformat_minor": 5
}
