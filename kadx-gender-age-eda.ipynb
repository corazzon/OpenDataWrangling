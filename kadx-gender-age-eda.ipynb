{
 "cells": [
  {
   "cell_type": "markdown",
   "id": "eb044198-c2e6-4ae1-adaf-eb0691cbd5c7",
   "metadata": {},
   "source": [
    "https://kadx.co.kr/opmk/frn/pmumkproductDetail/PMU_cc3f23ff-3ac5-4f4a-90ef-a2062238856a\n",
    "\n",
    "\n",
    "\n",
    "지역내 농식품 관련 소비를 발생시킨 고객의 성/연령별 월단위 소비금액, 소비건수 데이터\n",
    "\n",
    "레이아웃: 기준월, 지역(광역시/도, 시군구), 성별 소비금액/건수, 성연령별 소비금액/건수\n",
    "기간: 2018년 ~\n",
    "성별: 남/녀\n",
    "연령: 20대 미만, 20대, 30대, 40대, 50대, 60대 이상(10세 단위)"
   ]
  },
  {
   "cell_type": "code",
   "execution_count": null,
   "id": "ae4e67d7-81d9-4e9c-ad7c-bc7548b5c9bb",
   "metadata": {},
   "outputs": [],
   "source": [
    "# !pip install -Uq koreanize_matplotlib"
   ]
  },
  {
   "cell_type": "code",
   "execution_count": null,
   "id": "dbc1af27-2ba4-462d-b55b-af71fcd10873",
   "metadata": {},
   "outputs": [],
   "source": [
    "import pandas as pd\n",
    "import matplotlib.pyplot as plt\n",
    "import seaborn as sns\n",
    "import koreanize_matplotlib"
   ]
  },
  {
   "cell_type": "code",
   "execution_count": null,
   "id": "1a48962c-d430-46c4-beec-8bd416df6aa3",
   "metadata": {},
   "outputs": [],
   "source": [
    "df_col = pd.read_csv(\"data/kadx_data_info_detail.csv\")\n",
    "df_col.shape"
   ]
  },
  {
   "cell_type": "code",
   "execution_count": null,
   "id": "52b69d0b-6ed5-4048-8e47-481049c0a2fe",
   "metadata": {},
   "outputs": [],
   "source": [
    "df_col"
   ]
  },
  {
   "cell_type": "code",
   "execution_count": null,
   "id": "022852c3-ebf7-43de-9054-ec4b2a68e50e",
   "metadata": {},
   "outputs": [],
   "source": [
    "raw = pd.read_csv(\"data/kadx_CSP_SPL-2023.csv\", encoding=\"cp949\")\n",
    "raw.shape"
   ]
  },
  {
   "cell_type": "code",
   "execution_count": null,
   "id": "8176fa46-090e-45a2-a313-e419b5ac89ac",
   "metadata": {},
   "outputs": [],
   "source": [
    "raw.head()"
   ]
  },
  {
   "cell_type": "code",
   "execution_count": null,
   "id": "f45cce64-a52b-4c0e-bf01-91baac3c75a7",
   "metadata": {},
   "outputs": [],
   "source": [
    "col_dict = df_col[[\"nameEn\",\"nameKo\"]].set_index(\"nameEn\")['nameKo'].to_dict()\n",
    "col_dict"
   ]
  },
  {
   "cell_type": "code",
   "execution_count": null,
   "id": "a4e8f986-a66f-4aff-baf9-1480bd429127",
   "metadata": {},
   "outputs": [],
   "source": [
    "raw = raw.rename(columns=col_dict)"
   ]
  },
  {
   "cell_type": "code",
   "execution_count": null,
   "id": "545910eb-1558-416a-bdd4-25ab93f06452",
   "metadata": {},
   "outputs": [],
   "source": [
    "raw.head()"
   ]
  },
  {
   "cell_type": "code",
   "execution_count": null,
   "id": "a433c655-a554-4035-8fd4-0880c0654e42",
   "metadata": {},
   "outputs": [],
   "source": [
    "raw.hist(figsize=(12, 8));"
   ]
  },
  {
   "cell_type": "code",
   "execution_count": null,
   "id": "73426b5f-4044-4c1e-b048-b5aea0571982",
   "metadata": {},
   "outputs": [],
   "source": [
    "raw.filter(regex=\"소비건수\", axis=1).plot(kind=\"hist\", bins=100, alpha=0.5, figsize=(6, 3))"
   ]
  },
  {
   "cell_type": "code",
   "execution_count": null,
   "id": "9f4b4441-112a-4775-8f33-d1dc28f8264f",
   "metadata": {},
   "outputs": [],
   "source": [
    "raw.filter(regex=\"(\\d+대미만|\\d+대|60대이상)소비금액\", axis=1\n",
    "          ).plot(kind=\"hist\", bins=100, alpha=0.5, figsize=(6, 3))"
   ]
  },
  {
   "cell_type": "code",
   "execution_count": null,
   "id": "77e8408c-7906-4c84-90dc-a6672d41f50f",
   "metadata": {},
   "outputs": [],
   "source": [
    "raw.filter(regex=\"소비건수\", axis=1).plot(kind=\"kde\", alpha=0.5, figsize=(6, 3));"
   ]
  },
  {
   "cell_type": "code",
   "execution_count": null,
   "id": "2e28682d-2fef-4dbb-850a-e6f1dcc4b3b9",
   "metadata": {},
   "outputs": [],
   "source": [
    "raw.filter(regex=\"(남성|여성)소비금액\", axis=1\n",
    "          ).plot(kind=\"density\", alpha=0.5, figsize=(6, 3));"
   ]
  },
  {
   "cell_type": "code",
   "execution_count": null,
   "id": "e44ccaf2-21e8-42ec-9834-5950a7148cf9",
   "metadata": {},
   "outputs": [],
   "source": [
    "raw.filter(regex=\"(\\d+대미만|\\d+대|60대이상)소비금액\", axis=1\n",
    "          ).plot(kind=\"hist\", bins=100, alpha=0.5, subplots=True, figsize=(12, 8));"
   ]
  },
  {
   "cell_type": "code",
   "execution_count": null,
   "id": "4a8ffde8-9e71-4ad9-a337-ad8c1dc505e7",
   "metadata": {},
   "outputs": [],
   "source": [
    "corr = raw.corr(numeric_only=True)\n",
    "plt.figure(figsize=(10, 10))\n",
    "sns.heatmap(corr, annot=True, cmap=\"coolwarm\")"
   ]
  },
  {
   "cell_type": "code",
   "execution_count": null,
   "id": "964ecfd9-e2e5-4b91-a60c-db4423b9c275",
   "metadata": {},
   "outputs": [],
   "source": [
    "# Tidy data로 변환\n",
    "tidy_df = pd.melt(\n",
    "    raw,\n",
    "    id_vars=['기준연월', '소비지역광역시도명', '소비지역시군구명'],\n",
    "    var_name='성별_연령대_항목',\n",
    "    value_name='값'\n",
    ")\n",
    "\n",
    "# '성별', '연령대', '항목' 컬럼으로 분리\n",
    "tidy_df[['성별', '연령대', '항목']] = tidy_df['성별_연령대_항목'].str.extract(r'(남성|여성)(\\d+대미만|\\d+대|60대이상)?(소비금액|소비건수)')\n",
    "tidy_df"
   ]
  },
  {
   "cell_type": "code",
   "execution_count": null,
   "id": "fd3eda5a-e1aa-4e17-ac75-786ba67499e0",
   "metadata": {},
   "outputs": [],
   "source": [
    "# 불필요한 컬럼 제거\n",
    "tidy_df = tidy_df.drop(columns=['성별_연령대_항목'])\n",
    "\n",
    "# tidy data 출력\n",
    "tidy_df.head()"
   ]
  },
  {
   "cell_type": "code",
   "execution_count": null,
   "id": "19e3b32d-e1c7-46af-96f0-a6cd6331159f",
   "metadata": {},
   "outputs": [],
   "source": [
    "tidy_df[\"항목\"].value_counts()"
   ]
  },
  {
   "cell_type": "code",
   "execution_count": null,
   "id": "d139b13c-40dc-49f8-a8e7-b353309a6615",
   "metadata": {},
   "outputs": [],
   "source": [
    "tidy_df.groupby([\"항목\"])[\"값\"].describe()"
   ]
  },
  {
   "cell_type": "code",
   "execution_count": null,
   "id": "8ce17c25-e88c-4e8d-a476-f6ac29d10986",
   "metadata": {},
   "outputs": [],
   "source": [
    "# 소비금액과 소비건수를 컬럼으로 변환\n",
    "df = tidy_df.pivot(\n",
    "    index=['기준연월', '소비지역광역시도명', '소비지역시군구명', '성별', '연령대'],\n",
    "    columns='항목'\n",
    ").reset_index()\n",
    "col_name = []\n",
    "for col in df.columns:\n",
    "    col_name.append(\"\".join(col).replace(\"값\", \"\"))\n",
    "col_name"
   ]
  },
  {
   "cell_type": "code",
   "execution_count": null,
   "id": "6ff768fb-e275-46fc-a644-079abb0af852",
   "metadata": {},
   "outputs": [],
   "source": [
    "df.columns = col_name"
   ]
  },
  {
   "cell_type": "code",
   "execution_count": null,
   "id": "7ce4a478-cf9f-45a9-b64f-61cb17e12a27",
   "metadata": {},
   "outputs": [],
   "source": [
    "df.head()"
   ]
  },
  {
   "cell_type": "code",
   "execution_count": null,
   "id": "3c927925-4e5d-41ff-a314-384ce74241d9",
   "metadata": {},
   "outputs": [],
   "source": [
    "df.info()"
   ]
  },
  {
   "cell_type": "code",
   "execution_count": null,
   "id": "d97f59f2-bcce-49f3-ab42-ff5c41a87713",
   "metadata": {},
   "outputs": [],
   "source": [
    "df.describe().style.format(\"{:,.0f}\")"
   ]
  },
  {
   "cell_type": "code",
   "execution_count": null,
   "id": "4676fe9a-4d30-45f5-bd4f-9c016b2e4898",
   "metadata": {},
   "outputs": [],
   "source": [
    "df.describe(exclude=\"number\")"
   ]
  },
  {
   "cell_type": "code",
   "execution_count": null,
   "id": "cbd10676-97d7-4930-a5f6-060416c91ccd",
   "metadata": {},
   "outputs": [],
   "source": [
    "df.hist(bins=50, figsize=(12, 3));"
   ]
  },
  {
   "cell_type": "code",
   "execution_count": null,
   "id": "c9ca921f-8622-4bd4-8ff3-d4fb00dbe373",
   "metadata": {},
   "outputs": [],
   "source": [
    "df.groupby([\"성별\"])[\"소비금액\"].describe().style.format(\"{:,.0f}\")"
   ]
  },
  {
   "cell_type": "code",
   "execution_count": null,
   "id": "b675c8ea-406b-4b84-b615-752e4d96a926",
   "metadata": {},
   "outputs": [],
   "source": [
    "gender_age = df.groupby([\"연령대\", \"성별\"])[\"소비금액\"].describe()\n",
    "gender_age.style.format(\"{:,.0f}\")"
   ]
  },
  {
   "cell_type": "code",
   "execution_count": null,
   "id": "2b60696c-c170-43fa-a54c-3aac34b7254d",
   "metadata": {},
   "outputs": [],
   "source": [
    "df[\"연령대\"].unique()"
   ]
  },
  {
   "cell_type": "code",
   "execution_count": null,
   "id": "a781945f-c536-4f61-a1b3-f4a41577423e",
   "metadata": {},
   "outputs": [],
   "source": [
    "age_order = ['20대미만', '20대', '30대', '40대', '50대', '60대이상']"
   ]
  },
  {
   "cell_type": "code",
   "execution_count": null,
   "id": "f672ad77-f229-4003-81aa-6b3faa214213",
   "metadata": {},
   "outputs": [],
   "source": [
    "gender_age.loc[age_order].style.background_gradient(cmap=\"Blues\").format(\"{:,.0f}\")"
   ]
  },
  {
   "cell_type": "code",
   "execution_count": null,
   "id": "c641fc55-d146-4e33-8e37-e5562eb5f61b",
   "metadata": {},
   "outputs": [],
   "source": []
  },
  {
   "cell_type": "code",
   "execution_count": null,
   "id": "b1ffab23-0062-4cd3-a222-6aea4d9dc746",
   "metadata": {},
   "outputs": [],
   "source": []
  }
 ],
 "metadata": {
  "kernelspec": {
   "display_name": "Python 3 (ipykernel)",
   "language": "python",
   "name": "python3"
  },
  "language_info": {
   "codemirror_mode": {
    "name": "ipython",
    "version": 3
   },
   "file_extension": ".py",
   "mimetype": "text/x-python",
   "name": "python",
   "nbconvert_exporter": "python",
   "pygments_lexer": "ipython3",
   "version": "3.11.4"
  }
 },
 "nbformat": 4,
 "nbformat_minor": 5
}
