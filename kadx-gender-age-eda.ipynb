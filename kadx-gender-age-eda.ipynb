{
 "cells": [
  {
   "cell_type": "markdown",
   "id": "eb044198-c2e6-4ae1-adaf-eb0691cbd5c7",
   "metadata": {},
   "source": [
    "https://kadx.co.kr/opmk/frn/pmumkproductDetail/PMU_cc3f23ff-3ac5-4f4a-90ef-a2062238856a"
   ]
  },
  {
   "cell_type": "code",
   "execution_count": null,
   "id": "dbc1af27-2ba4-462d-b55b-af71fcd10873",
   "metadata": {},
   "outputs": [],
   "source": [
    "import pandas as pd"
   ]
  },
  {
   "cell_type": "code",
   "execution_count": null,
   "id": "022852c3-ebf7-43de-9054-ec4b2a68e50e",
   "metadata": {},
   "outputs": [],
   "source": [
    "df = pd.read_csv(\"data/kadx_CSP_SPL-2023.csv\", encoding=\"cp949\")\n",
    "df.shape"
   ]
  },
  {
   "cell_type": "code",
   "execution_count": null,
   "id": "3c927925-4e5d-41ff-a314-384ce74241d9",
   "metadata": {},
   "outputs": [],
   "source": [
    "df.info()"
   ]
  },
  {
   "cell_type": "code",
   "execution_count": null,
   "id": "d97f59f2-bcce-49f3-ab42-ff5c41a87713",
   "metadata": {},
   "outputs": [],
   "source": [
    "df.describe().style.format(\"{:,.0f}\")"
   ]
  },
  {
   "cell_type": "code",
   "execution_count": null,
   "id": "4676fe9a-4d30-45f5-bd4f-9c016b2e4898",
   "metadata": {},
   "outputs": [],
   "source": [
    "df.describe(exclude=\"number\")"
   ]
  },
  {
   "cell_type": "code",
   "execution_count": null,
   "id": "cbd10676-97d7-4930-a5f6-060416c91ccd",
   "metadata": {},
   "outputs": [],
   "source": [
    "df.hist(bins=50, figsize=(12, 8));"
   ]
  },
  {
   "cell_type": "code",
   "execution_count": null,
   "id": "c9ca921f-8622-4bd4-8ff3-d4fb00dbe373",
   "metadata": {},
   "outputs": [],
   "source": []
  }
 ],
 "metadata": {
  "kernelspec": {
   "display_name": "Python 3 (ipykernel)",
   "language": "python",
   "name": "python3"
  },
  "language_info": {
   "codemirror_mode": {
    "name": "ipython",
    "version": 3
   },
   "file_extension": ".py",
   "mimetype": "text/x-python",
   "name": "python",
   "nbconvert_exporter": "python",
   "pygments_lexer": "ipython3",
   "version": "3.11.4"
  }
 },
 "nbformat": 4,
 "nbformat_minor": 5
}
