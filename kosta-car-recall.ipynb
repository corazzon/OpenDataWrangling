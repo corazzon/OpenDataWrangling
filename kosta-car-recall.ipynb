{
 "cells": [
  {
   "cell_type": "markdown",
   "id": "94bd8dc5-8855-4b71-be1a-5da1d6ac80d0",
   "metadata": {},
   "source": [
    "[데이터 상세 | 공공데이터포털](https://www.data.go.kr/data/3048950/fileData.do)\n",
    "\n",
    "### 자동차 개발 회사가 해당 데이터를 참고할 수 있는 방법 10가지\n",
    "\n",
    "1. **품질 관리 개선**: 리콜 사유별 발생 빈도 분석을 통해 주요 결함 원인을 파악하고, 이를 기반으로 품질 관리 프로세스를 강화할 수 있습니다.\n",
    "\n",
    "2. **제작자별 성능 평가**: 제작자별 리콜 건수를 비교하여 내부 성과 평가 및 공급업체 관리에 활용할 수 있습니다.\n",
    "\n",
    "3. **생산 스케줄 최적화**: 생산 기간별 리콜 발생 패턴 분석을 통해 특정 기간에 문제가 발생하지 않도록 생산 스케줄을 조정할 수 있습니다.\n",
    "\n",
    "4. **리콜 예측 및 예방**: 리콜 개시일별 트렌드 분석을 통해 미래 리콜 가능성을 예측하고, 사전 예방 조치를 강화할 수 있습니다.\n",
    "\n",
    "5. **모델 개선**: 차종별 리콜 빈도 비교를 통해 리콜이 많이 발생하는 차종의 설계 및 생산 공정을 개선할 수 있습니다.\n",
    "\n",
    "6. **공급업체 관리 강화**: 리콜 사유와 제작자 간의 상관관계 분석을 통해 특정 결함이 특정 공급업체와 연관되어 있는지 파악하고, 공급업체 관리 및 계약 조건을 강화할 수 있습니다.\n",
    "\n",
    "7. **신차 개발 가이드라인 수립**: 리콜 사유별 평균 생산 기간 분석을 통해 신차 개발 시 유사한 문제가 발생하지 않도록 가이드라인을 수립할 수 있습니다.\n",
    "\n",
    "8. **리콜 대응 전략 수립**: 리콜 개시일과 리콜 사유 간의 관계 분석을 통해 리콜 발생 시 효과적으로 대응할 수 있는 전략을 마련할 수 있습니다.\n",
    "\n",
    "9. **연구개발 투자 방향 설정**: 연도별 리콜 발생 추이 분석을 통해 특정 기간에 발생한 문제를 해결하기 위한 연구개발(R&D) 투자 방향을 설정할 수 있습니다.\n",
    "\n",
    "10. **리콜 관리 시스템 구축**: 리콜된 차량의 생산 기간 분포 분석을 통해 리콜 관리 시스템을 구축하고, 신속한 대응을 위해 데이터베이스를 강화할 수 있습니다.\n"
   ]
  },
  {
   "cell_type": "code",
   "execution_count": null,
   "id": "afefe093-eae3-41b9-916c-b3e0ef92a36b",
   "metadata": {},
   "outputs": [],
   "source": [
    "import pandas as pd\n",
    "import koreanize_matplotlib\n",
    "import seaborn as sns\n",
    "from sklearn.feature_extraction.text import TfidfVectorizer\n",
    "from sklearn.cluster import KMeans"
   ]
  },
  {
   "cell_type": "code",
   "execution_count": null,
   "id": "2f2416d9-efbc-40d3-9414-bd9f37cf40cf",
   "metadata": {},
   "outputs": [],
   "source": [
    "df = pd.read_csv(\"data/kotsa_car_recall.csv\", encoding=\"cp949\")\n",
    "df.shape"
   ]
  },
  {
   "cell_type": "code",
   "execution_count": null,
   "id": "f3c57e71-d0b9-4d4d-ba0d-9221dbb0e67d",
   "metadata": {},
   "outputs": [],
   "source": [
    "df"
   ]
  },
  {
   "cell_type": "code",
   "execution_count": null,
   "id": "5062cdab-9d8f-4522-a91b-457d2830ea09",
   "metadata": {},
   "outputs": [],
   "source": [
    "# TfidfVectorizer를 사용하여 텍스트 벡터화\n",
    "vectorizer = TfidfVectorizer()\n",
    "X = vectorizer.fit_transform(df['리콜사유'])\n",
    "\n",
    "# KMeans를 사용하여 클러스터링\n",
    "kmeans = KMeans(n_clusters=3, n_init='auto', random_state=42)\n",
    "df['클러스터'] = kmeans.fit_predict(X)\n",
    "\n",
    "# 각 클러스터의 리콜 사유 출력\n",
    "for i in range(3):\n",
    "    print(f\"클러스터 {i}:\")\n",
    "    display(df[df['클러스터'] == i]['리콜사유'].value_counts().head(10).to_frame())"
   ]
  },
  {
   "cell_type": "code",
   "execution_count": null,
   "id": "4d89756f-5d4e-4bb9-8ec1-35526aa5322c",
   "metadata": {},
   "outputs": [],
   "source": [
    "keywords = vectorizer.get_feature_names_out()\n",
    "keywords_df = pd.DataFrame(X.toarray(), columns=keywords)\n",
    "keywords_df.sum().nlargest(40).plot(kind=\"bar\", figsize=(12, 3))"
   ]
  },
  {
   "cell_type": "code",
   "execution_count": null,
   "id": "22cf5ba4-e1e3-42f1-a23c-a0b64363db2a",
   "metadata": {},
   "outputs": [],
   "source": [
    "sns.heatmap(keywords_df, cmap=\"Greys\")"
   ]
  },
  {
   "cell_type": "code",
   "execution_count": null,
   "id": "ea612d26-4a15-475d-adad-2a13506ff743",
   "metadata": {},
   "outputs": [],
   "source": [
    "# 기존 데이터프레임에 키워드 파생변수 추가\n",
    "df_with_keywords = pd.concat([df, keywords_df], axis=1)\n",
    "df_with_keywords"
   ]
  },
  {
   "cell_type": "code",
   "execution_count": null,
   "id": "d29e92e0-632c-4906-8504-32ae2d4e8d34",
   "metadata": {},
   "outputs": [],
   "source": []
  },
  {
   "cell_type": "code",
   "execution_count": null,
   "id": "28903585-d33b-4344-870b-74f7c1cc7a30",
   "metadata": {},
   "outputs": [],
   "source": []
  }
 ],
 "metadata": {
  "kernelspec": {
   "display_name": "Python 3 (ipykernel)",
   "language": "python",
   "name": "python3"
  },
  "language_info": {
   "codemirror_mode": {
    "name": "ipython",
    "version": 3
   },
   "file_extension": ".py",
   "mimetype": "text/x-python",
   "name": "python",
   "nbconvert_exporter": "python",
   "pygments_lexer": "ipython3",
   "version": "3.11.4"
  }
 },
 "nbformat": 4,
 "nbformat_minor": 5
}
