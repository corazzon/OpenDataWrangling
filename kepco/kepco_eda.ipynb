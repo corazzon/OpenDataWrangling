{
 "cells": [
  {
   "cell_type": "markdown",
   "metadata": {},
   "source": [
    "[한국전력공사\\_공동주택 전력·기상 융합데이터\\_20221231 | 공공데이터포털](https://www.data.go.kr/data/15120804/fileData.do)\n",
    "\n",
    "한국전력공사_공동주택 전력·기상 융합데이터\n",
    "한국전력공사와 기상청이 공동주택 부하관리관련 연구개발 활성화를 목적으로 제공하는 데이터셋입니다.\n",
    "데이터셋은 기상청 동네예보 격자단위 시간대별 공동주택 전력부하와 기상관측값을 포함하고 있습니다.\n",
    "공동주택 전력부하는 각 연도별 결측치가 없는 단지에 한하여 합계한 통계값이며, 격자내 공동주택이 10개 이상인 격자에 대해서만 제공하고 있습니다.\n",
    "\n",
    "[2024 날씨 빅데이터콘테스트 설명동영상(과제4, 전력분야) - YouTube](https://www.youtube.com/watch?v=9xCBKNrymig&t=265s)\n",
    "\n",
    "\n",
    "---\n",
    "\n",
    "**| 학습 데이터(전력)**\n",
    "\n",
    "-   **제공기간** : 2020년, 2021년, 2022년 (총 3개년)\n",
    "-   **자료설명** : 원격검침이 이루어지는 공동주택 중 각 연도별 결측치가 없는 단지를 대상으로 기상예보 격자별로 산출된 전력 통계값. 격자내 공동주택이 10개 이상인 격자에 대해서만 공개함.\n",
    "\n",
    "**컬럼 정보**\n",
    "\n",
    "| 변수명        | 변수 설명      | 항목설명                                                                                                |\n",
    "| :------------ | :------------- | :------------------------------------------------------------------------------------------------------ |\n",
    "| TM            | 날짜           | 공동주택 전력부하 측정 날짜(시간포함, 단위(0~23시))                                                          |\n",
    "| HH24          | 시간           | 공동주택 전력부하 측정 시간(1~24), 5시는 4시 1분~5시 00분까지의 전력부하를 의미                                  |\n",
    "| weekday       | 요일           | 요일을 숫자형식으로 표시 월요일(0)~일요일(6)                                                                 |\n",
    "| week\\_name    | 주중 주말      | 주중 주말을 숫자형식으로 표시 주중(0), 주말(1)                                                               |\n",
    "| SUM\\_QCTR     | 계약전력합계   | 해당격자의 전력통계 산출에 포함된 공동주택의 계약전력 합계                                                       |\n",
    "| N             | 공동주택 수    | 해당격자의 전력통계 산출에 포함된 공동주택의 수, 단위(단지)                                                      |\n",
    "| SUM\\_LOAD     | 전력수요 합계  | 해당격자/시각에 측정된 공동주택의 전력수요 합계                                                                |\n",
    "| N\\_MEAN\\_LOAD | 전력부하량 평균 | 격자내 총 전력부하량을 아파트 수로 나누어 격자의 평균 부하량을 산출                                                 |\n",
    "| elec          | 전력기상지수   | 해당격자의 공동주택의 연평균 부하량을 100으로 했을 때, 해당 시각에 예상되는 부하량을 상대적인 수치로 표현                     |\n",
    "\n",
    "---"
   ]
  },
  {
   "cell_type": "markdown",
   "metadata": {},
   "source": [
    "## 전력부하 합계 예측 모델 "
   ]
  },
  {
   "cell_type": "code",
   "execution_count": 1,
   "metadata": {},
   "outputs": [],
   "source": [
    "import os\n",
    "import pandas as pd\n",
    "import numpy as np\n",
    "import matplotlib.pyplot as plt\n",
    "import seaborn as sns\n",
    "import koreanize_matplotlib\n",
    "from sklearn.model_selection import train_test_split, cross_val_score, TimeSeriesSplit\n",
    "from sklearn.preprocessing import StandardScaler\n",
    "from sklearn.linear_model import LinearRegression, Ridge\n",
    "from sklearn.ensemble import RandomForestRegressor\n",
    "from sklearn.metrics import mean_absolute_percentage_error, mean_squared_error, r2_score\n",
    "import datetime"
   ]
  },
  {
   "cell_type": "code",
   "execution_count": null,
   "metadata": {},
   "outputs": [],
   "source": [
    "data_folder = 'data'\n",
    "csv_files = [f for f in os.listdir(data_folder) if f.endswith('.csv')]\n",
    "\n",
    "df_year = []\n",
    "for csv_file in csv_files:\n",
    "    file_path = os.path.join(data_folder, csv_file)\n",
    "    df_temp = pd.read_csv(file_path, encoding=\"cp949\")\n",
    "    df_year.append(df_temp)\n",
    "\n",
    "df = pd.concat(df_year)\n",
    "df.shape"
   ]
  },
  {
   "cell_type": "code",
   "execution_count": null,
   "metadata": {},
   "outputs": [],
   "source": [
    "df"
   ]
  },
  {
   "cell_type": "code",
   "execution_count": null,
   "metadata": {},
   "outputs": [],
   "source": [
    "df = df.sort_values(by=['연도', '월', '일', '시']).reset_index(drop=True)\n",
    "df.shape"
   ]
  },
  {
   "cell_type": "code",
   "execution_count": null,
   "metadata": {},
   "outputs": [],
   "source": [
    "df"
   ]
  },
  {
   "cell_type": "code",
   "execution_count": null,
   "metadata": {},
   "outputs": [],
   "source": [
    "df.info()"
   ]
  },
  {
   "cell_type": "code",
   "execution_count": null,
   "metadata": {},
   "outputs": [],
   "source": [
    "df.describe()"
   ]
  },
  {
   "cell_type": "code",
   "execution_count": null,
   "metadata": {},
   "outputs": [],
   "source": [
    "# 연도별 전력부하합계 변화\n",
    "plt.figure(figsize=(8, 5))\n",
    "df.groupby('연도')['전력부하합계'].mean().plot(marker='o')\n",
    "plt.title('연도별 평균 전력부하합계')\n",
    "plt.ylabel('평균 전력부하합계')\n",
    "plt.xlabel('연도')\n",
    "plt.grid(True)\n"
   ]
  },
  {
   "cell_type": "code",
   "execution_count": null,
   "metadata": {},
   "outputs": [],
   "source": [
    "plt.figure(figsize=(8,5))\n",
    "df.groupby('월')['전력부하합계'].mean().plot(marker='o', title='월별 평균 전력부하합계')\n",
    "plt.show()\n"
   ]
  },
  {
   "cell_type": "code",
   "execution_count": null,
   "metadata": {},
   "outputs": [],
   "source": [
    "# 시간대별 전력부하합계 변화\n",
    "plt.figure(figsize=(8, 5))\n",
    "df.groupby('시')['전력부하합계'].mean().plot(marker='o')\n",
    "plt.title('시간대별 평균 전력부하합계')\n",
    "plt.ylabel('평균 전력부하합계')\n",
    "plt.xlabel('시')\n",
    "plt.grid(True)\n",
    "plt.show()\n"
   ]
  },
  {
   "cell_type": "code",
   "execution_count": null,
   "metadata": {},
   "outputs": [],
   "source": [
    "\n",
    "# 기온, 습도, 풍속과 전력부하합계의 관계 산점도\n",
    "fig, axes = plt.subplots(1, 3, figsize=(18, 5))\n",
    "sns.scatterplot(x='기온', y='전력부하합계', data=df.sample(10000), ax=axes[0], alpha=0.3)\n",
    "axes[0].set_title('기온 vs 전력부하합계')\n",
    "sns.scatterplot(x='상대습도', y='전력부하합계', data=df.sample(10000), ax=axes[1], alpha=0.3)\n",
    "axes[1].set_title('상대습도 vs 전력부하합계')\n",
    "sns.scatterplot(x='풍속', y='전력부하합계', data=df.sample(10000), ax=axes[2], alpha=0.3)\n",
    "axes[2].set_title('풍속 vs 전력부하합계')\n",
    "plt.tight_layout()\n",
    "plt.show()\n"
   ]
  },
  {
   "cell_type": "code",
   "execution_count": null,
   "metadata": {},
   "outputs": [],
   "source": [
    "corr = df.corr()\n",
    "corr"
   ]
  },
  {
   "cell_type": "code",
   "execution_count": null,
   "metadata": {},
   "outputs": [],
   "source": [
    "sns.heatmap(corr, cmap='seismic', mask=np.triu(np.ones_like(corr)))"
   ]
  },
  {
   "cell_type": "code",
   "execution_count": null,
   "metadata": {},
   "outputs": [],
   "source": [
    "df.isnull().sum()"
   ]
  },
  {
   "cell_type": "code",
   "execution_count": 16,
   "metadata": {},
   "outputs": [],
   "source": [
    "# 결측치 처리 (예시: 평균값 대체)\n",
    "df['상대습도'] = df['상대습도'].fillna(df['상대습도'].mean())\n",
    "df['풍속'] = df['풍속'].fillna(df['풍속'].mean())\n",
    "\n",
    "# 특성 공학\n",
    "# 시간 순환 특성\n",
    "df['시간_sin'] = np.sin(2 * np.pi * df['시'] / 24)\n",
    "df['시간_cos'] = np.cos(2 * np.pi * df['시'] / 24)\n",
    "df['월_sin'] = np.sin(2 * np.pi * df['월'] / 12)\n",
    "df['월_cos'] = np.cos(2 * np.pi * df['월'] / 12)\n",
    "\n",
    "# 주말 여부\n",
    "df['날짜'] = df.apply(lambda x: datetime.datetime(int(x['연도']), int(x['월']), int(x['일'])), axis=1)\n",
    "df['요일'] = df['날짜'].dt.dayofweek\n",
    "df['주말'] = df['요일'].apply(lambda x: 1 if x >= 5 else 0)\n",
    "\n",
    "# 계절 더미 변수\n",
    "df['여름'] = df['월'].apply(lambda x: 1 if x in [6, 7, 8] else 0)\n",
    "df['겨울'] = df['월'].apply(lambda x: 1 if x in [12, 1, 2] else 0)\n",
    "\n",
    "# 이용률, 전력밀도\n",
    "df['이용률'] = df['전력부하합계'] / df['계약전력합계']\n",
    "df['전력밀도'] = df['전력부하합계'] / df['공동주택수']\n",
    "\n",
    "# 냉방/난방도일, 쾌적지수 (예시)\n",
    "df['냉방도일'] = df['기온'].apply(lambda x: max(0, x - 24))\n",
    "df['난방도일'] = df['기온'].apply(lambda x: max(0, 18 - x))\n",
    "df['온도쾌적지수'] = df['기온'] * df['상대습도'] / 100"
   ]
  },
  {
   "cell_type": "markdown",
   "metadata": {},
   "source": [
    "## 모델 학습시간 단축을 위해 최근 연도만 가져옴"
   ]
  },
  {
   "cell_type": "code",
   "execution_count": null,
   "metadata": {},
   "outputs": [],
   "source": [
    "df = df[df[\"연도\"] == 2022].sample(1000)\n",
    "df.shape"
   ]
  },
  {
   "cell_type": "code",
   "execution_count": null,
   "metadata": {},
   "outputs": [],
   "source": [
    "df.hist(figsize=(15, 15), bins=50);"
   ]
  },
  {
   "cell_type": "code",
   "execution_count": 19,
   "metadata": {},
   "outputs": [],
   "source": [
    "# 결측치 처리 (예시: 평균값 대체)\n",
    "df['상대습도'] = df['상대습도'].fillna(df['상대습도'].mean())\n",
    "df['풍속'] = df['풍속'].fillna(df['풍속'].mean())\n",
    "df['기온'] = df['기온'].fillna(df['풍속'].mean())"
   ]
  },
  {
   "cell_type": "code",
   "execution_count": null,
   "metadata": {},
   "outputs": [],
   "source": [
    "df.isnull().sum()"
   ]
  },
  {
   "cell_type": "code",
   "execution_count": null,
   "metadata": {},
   "outputs": [],
   "source": [
    "# 데이터 분할\n",
    "X = df.drop(['전력부하합계', '날짜', '요일'], axis=1)\n",
    "y = df['전력부하합계']\n",
    "X_train, X_test, y_train, y_test = train_test_split(X, y, test_size=0.2, random_state=42)\n",
    "X_train.shape, X_test.shape, y_train.shape, y_test.shape"
   ]
  },
  {
   "cell_type": "code",
   "execution_count": 22,
   "metadata": {},
   "outputs": [],
   "source": [
    "# 수치형 변수만 선택 (범주형/더미는 상황에 따라)\n",
    "feaure_names = X.columns\n",
    "X_train_num = X_train[feaure_names]\n",
    "X_test_num = X_test[feaure_names]\n",
    "\n",
    "# 표준화\n",
    "scaler = StandardScaler()\n",
    "X_train_scaled = scaler.fit_transform(X_train_num)\n",
    "X_test_scaled = scaler.transform(X_test_num)"
   ]
  },
  {
   "cell_type": "markdown",
   "metadata": {},
   "source": [
    "## 모델 훈련 및 예측"
   ]
  },
  {
   "cell_type": "code",
   "execution_count": null,
   "metadata": {},
   "outputs": [],
   "source": [
    "# 모델링 및 평가\n",
    "models = {\n",
    "    # 'LinearRegression': LinearRegression(),\n",
    "    # 'Ridge': Ridge(),\n",
    "    'RandomForest': RandomForestRegressor(n_estimators=100, random_state=42)\n",
    "}\n",
    "\n",
    "for name, model in models.items():\n",
    "    model.fit(X_train_scaled, y_train)\n",
    "    y_pred = model.predict(X_test_scaled)\n",
    "    print(f\"{name}\")\n",
    "    print(f\"R2: {r2_score(y_test, y_pred):.4f}\")\n",
    "    print(f\"RMSE: {np.sqrt(mean_squared_error(y_test, y_pred)):.2f}\")\n",
    "    print(f\"MAPE: {mean_absolute_percentage_error(y_test, y_pred) * 100:.2f}%\")\n",
    "    print(\"---\")"
   ]
  },
  {
   "cell_type": "markdown",
   "metadata": {},
   "source": [
    "## 시계열 검증"
   ]
  },
  {
   "cell_type": "code",
   "execution_count": null,
   "metadata": {},
   "outputs": [],
   "source": [
    "# 시계열 검증 (TimeSeriesSplit 예시)\n",
    "tscv = TimeSeriesSplit(n_splits=5)\n",
    "for name, model in models.items():\n",
    "    scores = cross_val_score(model, X_train_scaled, y_train, cv=tscv, scoring='r2')\n",
    "    print(f\"{name} TimeSeries CV R2: {np.mean(scores):.4f} ± {np.std(scores):.4f}\")"
   ]
  },
  {
   "cell_type": "markdown",
   "metadata": {},
   "source": [
    "## 특성 중요도"
   ]
  },
  {
   "cell_type": "code",
   "execution_count": null,
   "metadata": {},
   "outputs": [],
   "source": [
    "# 특성 중요도 (RandomForest)\n",
    "rf = RandomForestRegressor(n_estimators=100, random_state=42)\n",
    "rf.fit(X_train_scaled, y_train)\n",
    "importances = pd.Series(rf.feature_importances_, index=feaure_names)\n",
    "print(importances.sort_values(ascending=False))"
   ]
  },
  {
   "cell_type": "code",
   "execution_count": null,
   "metadata": {},
   "outputs": [],
   "source": [
    "plt.figure(figsize=(10, 6))\n",
    "importances.sort_values(ascending=True).plot(kind='barh')\n",
    "plt.title('Feature Importances (RandomForest)')\n",
    "plt.xlabel('Importance')\n",
    "plt.ylabel('Feature')\n",
    "plt.tight_layout()\n",
    "plt.show()\n"
   ]
  },
  {
   "cell_type": "code",
   "execution_count": null,
   "metadata": {},
   "outputs": [],
   "source": []
  }
 ],
 "metadata": {
  "kernelspec": {
   "display_name": ".venv",
   "language": "python",
   "name": "python3"
  },
  "language_info": {
   "codemirror_mode": {
    "name": "ipython",
    "version": 3
   },
   "file_extension": ".py",
   "mimetype": "text/x-python",
   "name": "python",
   "nbconvert_exporter": "python",
   "pygments_lexer": "ipython3",
   "version": "3.13.2"
  }
 },
 "nbformat": 4,
 "nbformat_minor": 2
}
