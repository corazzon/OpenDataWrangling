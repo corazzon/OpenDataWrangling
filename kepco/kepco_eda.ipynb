{
 "cells": [
  {
   "cell_type": "markdown",
   "metadata": {},
   "source": [
    "[한국전력공사\\_공동주택 전력·기상 융합데이터\\_20221231 | 공공데이터포털](https://www.data.go.kr/data/15120804/fileData.do)\n",
    "\n",
    "한국전력공사_공동주택 전력·기상 융합데이터\n",
    "한국전력공사와 기상청이 공동주택 부하관리관련 연구개발 활성화를 목적으로 제공하는 데이터셋입니다.\n",
    "데이터셋은 기상청 동네예보 격자단위 시간대별 공동주택 전력부하와 기상관측값을 포함하고 있습니다.\n",
    "공동주택 전력부하는 각 연도별 결측치가 없는 단지에 한하여 합계한 통계값이며, 격자내 공동주택이 10개 이상인 격자에 대해서만 제공하고 있습니다.\n",
    "\n",
    "[2024 날씨 빅데이터콘테스트 설명동영상(과제4, 전력분야) - YouTube](https://www.youtube.com/watch?v=9xCBKNrymig&t=265s)\n",
    "\n",
    "\n",
    "---\n",
    "\n",
    "**| 학습 데이터(전력)**\n",
    "\n",
    "-   **제공기간** : 2020년, 2021년, 2022년 (총 3개년)\n",
    "-   **자료설명** : 원격검침이 이루어지는 공동주택 중 각 연도별 결측치가 없는 단지를 대상으로 기상예보 격자별로 산출된 전력 통계값. 격자내 공동주택이 10개 이상인 격자에 대해서만 공개함.\n",
    "\n",
    "**컬럼 정보**\n",
    "\n",
    "| 변수명        | 변수 설명      | 항목설명                                                                                                |\n",
    "| :------------ | :------------- | :------------------------------------------------------------------------------------------------------ |\n",
    "| TM            | 날짜           | 공동주택 전력부하 측정 날짜(시간포함, 단위(0~23시))                                                          |\n",
    "| HH24          | 시간           | 공동주택 전력부하 측정 시간(1~24), 5시는 4시 1분~5시 00분까지의 전력부하를 의미                                  |\n",
    "| weekday       | 요일           | 요일을 숫자형식으로 표시 월요일(0)~일요일(6)                                                                 |\n",
    "| week\\_name    | 주중 주말      | 주중 주말을 숫자형식으로 표시 주중(0), 주말(1)                                                               |\n",
    "| SUM\\_QCTR     | 계약전력합계   | 해당격자의 전력통계 산출에 포함된 공동주택의 계약전력 합계                                                       |\n",
    "| N             | 공동주택 수    | 해당격자의 전력통계 산출에 포함된 공동주택의 수, 단위(단지)                                                      |\n",
    "| SUM\\_LOAD     | 전력수요 합계  | 해당격자/시각에 측정된 공동주택의 전력수요 합계                                                                |\n",
    "| N\\_MEAN\\_LOAD | 전력부하량 평균 | 격자내 총 전력부하량을 아파트 수로 나누어 격자의 평균 부하량을 산출                                                 |\n",
    "| elec          | 전력기상지수   | 해당격자의 공동주택의 연평균 부하량을 100으로 했을 때, 해당 시각에 예상되는 부하량을 상대적인 수치로 표현                     |\n",
    "\n",
    "---"
   ]
  },
  {
   "cell_type": "markdown",
   "metadata": {},
   "source": [
    "## 전력부하 합계 예측 모델 "
   ]
  },
  {
   "cell_type": "code",
   "execution_count": 1,
   "metadata": {},
   "outputs": [],
   "source": [
    "import os\n",
    "import pandas as pd\n",
    "import numpy as np\n",
    "import matplotlib.pyplot as plt\n",
    "import seaborn as sns\n",
    "import koreanize_matplotlib\n",
    "from sklearn.model_selection import train_test_split, cross_val_score, TimeSeriesSplit\n",
    "from sklearn.preprocessing import StandardScaler\n",
    "from sklearn.linear_model import LinearRegression, Ridge\n",
    "from sklearn.ensemble import RandomForestRegressor\n",
    "from sklearn.metrics import mean_absolute_percentage_error, mean_squared_error, r2_score\n",
    "import datetime"
   ]
  },
  {
   "cell_type": "markdown",
   "metadata": {},
   "source": [
    "## 데이터 로드"
   ]
  },
  {
   "cell_type": "code",
   "execution_count": null,
   "metadata": {},
   "outputs": [],
   "source": [
    "data_folder = 'data'\n",
    "csv_files = [f for f in os.listdir(data_folder) if f.endswith('.csv')]\n",
    "\n",
    "df_year = []\n",
    "for csv_file in csv_files:\n",
    "    file_path = os.path.join(data_folder, csv_file)\n",
    "    df_temp = pd.read_csv(file_path, encoding=\"cp949\")\n",
    "    df_year.append(df_temp)\n",
    "\n",
    "df = pd.concat(df_year)\n",
    "df.shape"
   ]
  },
  {
   "cell_type": "code",
   "execution_count": null,
   "metadata": {},
   "outputs": [],
   "source": [
    "df"
   ]
  },
  {
   "cell_type": "code",
   "execution_count": null,
   "metadata": {},
   "outputs": [],
   "source": [
    "df = df.sort_values(by=['연도', '월', '일', '시']).reset_index(drop=True)\n",
    "df.shape"
   ]
  },
  {
   "cell_type": "markdown",
   "metadata": {},
   "source": [
    "## EDA"
   ]
  },
  {
   "cell_type": "code",
   "execution_count": null,
   "metadata": {},
   "outputs": [],
   "source": [
    "df.info()"
   ]
  },
  {
   "cell_type": "code",
   "execution_count": null,
   "metadata": {},
   "outputs": [],
   "source": [
    "df.describe()"
   ]
  },
  {
   "cell_type": "code",
   "execution_count": null,
   "metadata": {},
   "outputs": [],
   "source": [
    "# 연도별 전력부하합계 변화\n",
    "plt.figure(figsize=(8, 5))\n",
    "df.groupby('연도')['전력부하합계'].mean().plot(marker='o')\n",
    "plt.title('연도별 평균 전력부하합계')\n",
    "plt.ylabel('평균 전력부하합계')\n",
    "plt.xlabel('연도')\n",
    "plt.grid(True)\n"
   ]
  },
  {
   "cell_type": "code",
   "execution_count": null,
   "metadata": {},
   "outputs": [],
   "source": [
    "plt.figure(figsize=(8,5))\n",
    "df.groupby('월')['전력부하합계'].mean().plot(marker='o', title='월별 평균 전력부하합계')\n",
    "plt.show()\n"
   ]
  },
  {
   "cell_type": "code",
   "execution_count": null,
   "metadata": {},
   "outputs": [],
   "source": [
    "# 시간대별 전력부하합계 변화\n",
    "plt.figure(figsize=(8, 5))\n",
    "df.groupby('시')['전력부하합계'].mean().plot(marker='o')\n",
    "plt.title('시간대별 평균 전력부하합계')\n",
    "plt.ylabel('평균 전력부하합계')\n",
    "plt.xlabel('시')\n",
    "plt.grid(True)\n",
    "plt.show()\n"
   ]
  },
  {
   "cell_type": "code",
   "execution_count": null,
   "metadata": {},
   "outputs": [],
   "source": [
    "\n",
    "# 기온, 습도, 풍속과 전력부하합계의 관계 산점도\n",
    "fig, axes = plt.subplots(1, 3, figsize=(18, 5))\n",
    "sns.scatterplot(x='기온', y='전력부하합계', data=df.sample(10000), ax=axes[0], alpha=0.3)\n",
    "axes[0].set_title('기온 vs 전력부하합계')\n",
    "sns.scatterplot(x='상대습도', y='전력부하합계', data=df.sample(10000), ax=axes[1], alpha=0.3)\n",
    "axes[1].set_title('상대습도 vs 전력부하합계')\n",
    "sns.scatterplot(x='풍속', y='전력부하합계', data=df.sample(10000), ax=axes[2], alpha=0.3)\n",
    "axes[2].set_title('풍속 vs 전력부하합계')\n",
    "plt.tight_layout()\n",
    "plt.show()\n"
   ]
  },
  {
   "cell_type": "code",
   "execution_count": null,
   "metadata": {},
   "outputs": [],
   "source": [
    "corr = df.corr()\n",
    "corr"
   ]
  },
  {
   "cell_type": "code",
   "execution_count": null,
   "metadata": {},
   "outputs": [],
   "source": [
    "sns.heatmap(corr, cmap='seismic', mask=np.triu(np.ones_like(corr)))"
   ]
  },
  {
   "cell_type": "code",
   "execution_count": null,
   "metadata": {},
   "outputs": [],
   "source": [
    "df.isnull().sum()"
   ]
  },
  {
   "cell_type": "markdown",
   "metadata": {},
   "source": [
    "## 전처리 및 피처엔지니어링"
   ]
  },
  {
   "cell_type": "code",
   "execution_count": 14,
   "metadata": {},
   "outputs": [],
   "source": [
    "# 결측치 처리 (예시: 평균값 대체)\n",
    "df['상대습도'] = df['상대습도'].fillna(df['상대습도'].mean())\n",
    "df['풍속'] = df['풍속'].fillna(df['풍속'].mean())\n",
    "\n",
    "# 특성 공학\n",
    "# 시간 순환 특성\n",
    "df['시간_sin'] = np.sin(2 * np.pi * df['시'] / 24)\n",
    "df['시간_cos'] = np.cos(2 * np.pi * df['시'] / 24)\n",
    "df['월_sin'] = np.sin(2 * np.pi * df['월'] / 12)\n",
    "df['월_cos'] = np.cos(2 * np.pi * df['월'] / 12)\n",
    "\n",
    "# 주말 여부\n",
    "df['날짜'] = df.apply(lambda x: datetime.datetime(int(x['연도']), int(x['월']), int(x['일'])), axis=1)\n",
    "df['요일'] = df['날짜'].dt.dayofweek\n",
    "df['주말'] = df['요일'].apply(lambda x: 1 if x >= 5 else 0)\n",
    "\n",
    "# 계절 더미 변수\n",
    "df['여름'] = df['월'].apply(lambda x: 1 if x in [6, 7, 8] else 0)\n",
    "df['겨울'] = df['월'].apply(lambda x: 1 if x in [12, 1, 2] else 0)\n",
    "\n",
    "# 이용률, 전력밀도\n",
    "df['이용률'] = df['전력부하합계'] / df['계약전력합계']\n",
    "df['전력밀도'] = df['전력부하합계'] / df['공동주택수']\n",
    "\n",
    "# 냉방/난방도일, 쾌적지수 (예시)\n",
    "df['냉방도일'] = df['기온'].apply(lambda x: max(0, x - 24))\n",
    "df['난방도일'] = df['기온'].apply(lambda x: max(0, 18 - x))\n",
    "df['온도쾌적지수'] = df['기온'] * df['상대습도'] / 100"
   ]
  },
  {
   "cell_type": "code",
   "execution_count": null,
   "metadata": {},
   "outputs": [],
   "source": [
    "\n",
    "# 1. 결측치 처리\n",
    "df['상대습도'] = df['상대습도'].fillna(df['상대습도'].median())\n",
    "df['풍속'] = df['풍속'].fillna(df['풍속'].median())\n",
    "df['기온'] = df['기온'].fillna(df['기온'].median())\n",
    "\n",
    "# 2. 시간 기반 특성 (순환 인코딩)\n",
    "df['시간_sin'] = np.sin(2 * np.pi * df['시'] / 24)\n",
    "df['시간_cos'] = np.cos(2 * np.pi * df['시'] / 24)\n",
    "df['월_sin'] = np.sin(2 * np.pi * df['월'] / 12)\n",
    "df['월_cos'] = np.cos(2 * np.pi * df['월'] / 12)\n",
    "df['요일_sin'] = np.sin(2 * np.pi * df['요일'] / 7)\n",
    "df['요일_cos'] = np.cos(2 * np.pi * df['요일'] / 7)\n",
    "\n",
    "# 3. 시간대 구분\n",
    "df['주말'] = (df['요일'] >= 5).astype(int)\n",
    "df['새벽'] = ((df['시'] >= 0) & (df['시'] < 6)).astype(int)\n",
    "df['오전'] = ((df['시'] >= 6) & (df['시'] < 12)).astype(int)\n",
    "df['오후'] = ((df['시'] >= 12) & (df['시'] < 18)).astype(int)\n",
    "df['저녁'] = ((df['시'] >= 18) & (df['시'] < 24)).astype(int)\n",
    "df['오전피크'] = ((df['시'] >= 8) & (df['시'] <= 10)).astype(int)\n",
    "df['저녁피크'] = ((df['시'] >= 18) & (df['시'] <= 20)).astype(int)\n",
    "\n",
    "# 4. 계절 기반 특성\n",
    "df['봄'] = df['월'].isin([3, 4, 5]).astype(int)\n",
    "df['여름'] = df['월'].isin([6, 7, 8]).astype(int)\n",
    "df['가을'] = df['월'].isin([9, 10, 11]).astype(int)\n",
    "df['겨울'] = df['월'].isin([12, 1, 2]).astype(int)\n",
    "\n",
    "# 5. 기상 기반 특성\n",
    "df['냉방도일'] = np.maximum(0, df['기온'] - 24)\n",
    "df['난방도일'] = np.maximum(0, 18 - df['기온'])\n",
    "df['불쾌지수'] = 1.8 * df['기온'] - 0.55 * (1 - df['상대습도']/100) * (1.8 * df['기온'] - 26) + 32\n",
    "df['체감온도'] = df['기온'] - 0.4 * (df['기온'] - 10) * (1 - df['상대습도']/100)\n",
    "\n",
    "# 6. 극한 기상 조건\n",
    "df['고온'] = (df['기온'] > df['기온'].quantile(0.9)).astype(int)\n",
    "df['저온'] = (df['기온'] < df['기온'].quantile(0.1)).astype(int)\n",
    "df['고습도'] = (df['상대습도'] > df['상대습도'].quantile(0.9)).astype(int)\n",
    "df['강풍'] = (df['풍속'] > df['풍속'].quantile(0.9)).astype(int)\n",
    "\n",
    "# 7. 전력 관련 파생 특성\n",
    "df['이용률'] = df['전력부하합계'] / (df['계약전력합계'] + 1e-6)\n",
    "df['전력밀도'] = df['전력부하합계'] / (df['공동주택수'] + 1e-6)\n",
    "df['단지당계약전력'] = df['계약전력합계'] / (df['공동주택수'] + 1e-6)\n",
    "df['정규화부하'] = df['전력부하합계'] / (df['계약전력합계'] * df['공동주택수'] / 100 + 1e-6)\n",
    "\n",
    "\n",
    "# Combine columns into a datetime string\n",
    "dt_str = (\n",
    "    df['연도'].astype(str) + '-' +\n",
    "    df['월'].astype(str).str.zfill(2) + '-' +\n",
    "    df['일'].astype(str).str.zfill(2) + ' ' +\n",
    "    df['시'].astype(str).str.zfill(2) + ':00:00'\n",
    ")\n",
    "\n",
    "# Find rows where hour is 24\n",
    "mask_24 = df['시'] == 24\n",
    "\n",
    "# Set hour to 0 for those rows\n",
    "dt_str[mask_24] = (\n",
    "    df.loc[mask_24, '연도'].astype(str) + '-' +\n",
    "    df.loc[mask_24, '월'].astype(str).str.zfill(2) + '-' +\n",
    "    df.loc[mask_24, '일'].astype(str).str.zfill(2) + ' 00:00:00'\n",
    ")\n",
    "\n",
    "# Convert to datetime\n",
    "df['날짜'] = pd.to_datetime(dt_str, format='%Y-%m-%d %H:%M:%S')\n",
    "\n",
    "\n",
    "# 8. 시계열 지연 특성 (데이터 시간순 정렬 필요)\n",
    "# '연도', '월', '일', '시' 컬럼을 이용해 '날짜' 컬럼 생성 (datetime 대체)\n",
    "\n",
    "df = df.sort_values('날짜').reset_index(drop=True)\n",
    "for lag in [1, 24, 168]:  # 1시간, 1일, 1주일 전\n",
    "    if lag < len(df):\n",
    "        df[f'전력부하_lag{lag}'] = df['전력부하합계'].shift(lag)\n",
    "        df[f'기온_lag{lag}'] = df['기온'].shift(lag)\n",
    "# 9. 이동 평균 및 표준편차\n",
    "for window in [24, 168]:  # 24시간, 1주일\n",
    "    if window < len(df):\n",
    "        df[f'전력부하_ma{window}'] = df['전력부하합계'].rolling(window=window, min_periods=1).mean()\n",
    "        df[f'기온_ma{window}'] = df['기온'].rolling(window=window, min_periods=1).mean()\n",
    "        df[f'전력부하_std{window}'] = df['전력부하합계'].rolling(window=window, min_periods=1).std()\n",
    "\n",
    "# 10. 상호작용 특성\n",
    "df['기온_시간'] = df['기온'] * df['시']\n",
    "df['기온_제곱'] = df['기온'] ** 2\n",
    "df['기온_세제곱'] = df['기온'] ** 3\n",
    "df['여름_오후'] = df['여름'] * df['오후']\n",
    "df['겨울_저녁'] = df['겨울'] * df['저녁']\n",
    "df['주말_오전'] = df['주말'] * df['오전']\n",
    "\n",
    "# 결측치 처리 (지연 특성으로 인한)\n",
    "df = df.fillna(method='bfill').fillna(method='ffill')"
   ]
  },
  {
   "cell_type": "markdown",
   "metadata": {},
   "source": [
    "## 모델 학습시간 단축을 위해 최근 연도만 가져옴"
   ]
  },
  {
   "cell_type": "code",
   "execution_count": null,
   "metadata": {},
   "outputs": [],
   "source": [
    "df = df[df[\"연도\"] == 2022].sample(1000)\n",
    "df.shape"
   ]
  },
  {
   "cell_type": "code",
   "execution_count": null,
   "metadata": {},
   "outputs": [],
   "source": [
    "df.hist(figsize=(15, 15), bins=50);"
   ]
  },
  {
   "cell_type": "code",
   "execution_count": 18,
   "metadata": {},
   "outputs": [],
   "source": [
    "# 결측치 처리 (예시: 평균값 대체)\n",
    "df['상대습도'] = df['상대습도'].fillna(df['상대습도'].mean())\n",
    "df['풍속'] = df['풍속'].fillna(df['풍속'].mean())\n",
    "df['기온'] = df['기온'].fillna(df['풍속'].mean())"
   ]
  },
  {
   "cell_type": "code",
   "execution_count": null,
   "metadata": {},
   "outputs": [],
   "source": [
    "df.isnull().sum()"
   ]
  },
  {
   "cell_type": "code",
   "execution_count": null,
   "metadata": {},
   "outputs": [],
   "source": [
    "# 데이터 분할\n",
    "X = df.drop(['전력부하합계', '날짜', '요일'], axis=1)\n",
    "y = df['전력부하합계']\n",
    "X_train, X_test, y_train, y_test = train_test_split(X, y, test_size=0.2, random_state=42)\n",
    "X_train.shape, X_test.shape, y_train.shape, y_test.shape"
   ]
  },
  {
   "cell_type": "code",
   "execution_count": 21,
   "metadata": {},
   "outputs": [],
   "source": [
    "# 수치형 변수만 선택 (범주형/더미는 상황에 따라)\n",
    "feaure_names = X.columns\n",
    "X_train_num = X_train[feaure_names]\n",
    "X_test_num = X_test[feaure_names]\n",
    "\n",
    "# 표준화\n",
    "scaler = StandardScaler()\n",
    "X_train_scaled = scaler.fit_transform(X_train_num)\n",
    "X_test_scaled = scaler.transform(X_test_num)"
   ]
  },
  {
   "cell_type": "markdown",
   "metadata": {},
   "source": [
    "## 모델 훈련 및 예측"
   ]
  },
  {
   "cell_type": "code",
   "execution_count": null,
   "metadata": {},
   "outputs": [],
   "source": [
    "# 모델링 및 평가\n",
    "models = {\n",
    "    # 'LinearRegression': LinearRegression(),\n",
    "    # 'Ridge': Ridge(),\n",
    "    'RandomForest': RandomForestRegressor(n_estimators=100, random_state=42)\n",
    "}\n",
    "\n",
    "for name, model in models.items():\n",
    "    model.fit(X_train_scaled, y_train)\n",
    "    y_pred = model.predict(X_test_scaled)\n",
    "    print(f\"{name}\")\n",
    "    print(f\"R2: {r2_score(y_test, y_pred):.4f}\")\n",
    "    print(f\"RMSE: {np.sqrt(mean_squared_error(y_test, y_pred)):.2f}\")\n",
    "    print(f\"MAPE: {mean_absolute_percentage_error(y_test, y_pred) * 100:.2f}%\")\n",
    "    print(\"---\")"
   ]
  },
  {
   "cell_type": "markdown",
   "metadata": {},
   "source": [
    "## 모델 평가"
   ]
  },
  {
   "cell_type": "code",
   "execution_count": 23,
   "metadata": {},
   "outputs": [],
   "source": [
    "def comprehensive_model_evaluation(X_train_scaled, X_test_scaled, y_train, y_test):\n",
    "    \"\"\"\n",
    "    모델 평가\n",
    "    \"\"\"\n",
    "    # 평가 지표 계산 함수\n",
    "    def calculate_metrics(y_true, y_pred):\n",
    "        r2 = r2_score(y_true, y_pred)\n",
    "        rmse = np.sqrt(mean_squared_error(y_true, y_pred))\n",
    "        mae = mean_absolute_error(y_true, y_pred)\n",
    "        mape = mean_absolute_percentage_error(y_true, y_pred) * 100\n",
    "        return r2, rmse, mae, mape\n",
    "    \n",
    "    # 다양한 모델 정의\n",
    "    models = {\n",
    "        'Linear Regression': LinearRegression(),\n",
    "        'Ridge': Ridge(alpha=1.0, random_state=42),\n",
    "        'Lasso': Lasso(alpha=0.01, random_state=42),\n",
    "        'Random Forest': RandomForestRegressor(n_estimators=100, random_state=42, n_jobs=-1),\n",
    "        'Gradient Boosting': GradientBoostingRegressor(n_estimators=100, random_state=42),\n",
    "        'Extra Trees': ExtraTreesRegressor(n_estimators=100, random_state=42, n_jobs=-1)\n",
    "    }\n",
    "    \n",
    "    results = {}\n",
    "    \n",
    "    print(\"모델 평가 진행 중...\")\n",
    "    for name, model in models.items():\n",
    "        # 모델 훈련\n",
    "        model.fit(X_train_scaled, y_train)\n",
    "        \n",
    "        # 예측\n",
    "        y_pred_train = model.predict(X_train_scaled)\n",
    "        y_pred_test = model.predict(X_test_scaled)\n",
    "        \n",
    "        # 성능 계산\n",
    "        train_r2, train_rmse, train_mae, train_mape = calculate_metrics(y_train, y_pred_train)\n",
    "        test_r2, test_rmse, test_mae, test_mape = calculate_metrics(y_test, y_pred_test)\n",
    "        \n",
    "        results[name] = {\n",
    "            'Train_R²': train_r2,\n",
    "            'Test_R²': test_r2,\n",
    "            'RMSE': test_rmse,\n",
    "            'MAE': test_mae,\n",
    "            'MAPE': test_mape,\n",
    "            'Overfitting': train_r2 - test_r2,\n",
    "            'model': model\n",
    "        }\n",
    "        \n",
    "        print(f\"{name:<20} Test R²:{test_r2:6.3f} RMSE:{test_rmse:7.2f} MAPE:{test_mape:6.2f}%\")\n",
    "    \n",
    "    return results\n"
   ]
  },
  {
   "cell_type": "markdown",
   "metadata": {},
   "source": [
    "## 시계열 검증"
   ]
  },
  {
   "cell_type": "code",
   "execution_count": null,
   "metadata": {},
   "outputs": [],
   "source": [
    "# 시계열 검증 (TimeSeriesSplit 예시)\n",
    "tscv = TimeSeriesSplit(n_splits=5)\n",
    "for name, model in models.items():\n",
    "    scores = cross_val_score(model, X_train_scaled, y_train, cv=tscv, scoring='r2')\n",
    "    print(f\"{name} TimeSeries CV R2: {np.mean(scores):.4f} ± {np.std(scores):.4f}\")"
   ]
  },
  {
   "cell_type": "code",
   "execution_count": 25,
   "metadata": {},
   "outputs": [],
   "source": [
    "def hyperparameter_optimization(X_train_scaled, y_train):\n",
    "    \"\"\"\n",
    "    시계열 교차 검증을 활용한 하이퍼파라미터 최적화\n",
    "    \"\"\"\n",
    "    print(\"하이퍼파라미터 최적화 진행 중...\")\n",
    "    \n",
    "    # 시계열 교차 검증\n",
    "    tscv = TimeSeriesSplit(n_splits=3)\n",
    "    \n",
    "    # Random Forest 최적화\n",
    "    param_grid = {\n",
    "        'n_estimators': [50, 100, 150],\n",
    "        'max_depth': [8, 10, 12, None],\n",
    "        'min_samples_split': [2, 5, 10],\n",
    "        'min_samples_leaf': [1, 2, 4]\n",
    "    }\n",
    "    \n",
    "    rf_base = RandomForestRegressor(random_state=42, n_jobs=-1)\n",
    "    grid_search = GridSearchCV(\n",
    "        rf_base, param_grid, cv=tscv, scoring='r2', n_jobs=-1, verbose=1\n",
    "    )\n",
    "    \n",
    "    grid_search.fit(X_train_scaled, y_train)\n",
    "    \n",
    "    print(f\"최적 파라미터: {grid_search.best_params_}\")\n",
    "    print(f\"최적 CV 점수: {grid_search.best_score_:.4f}\")\n",
    "    \n",
    "    return grid_search.best_estimator_\n"
   ]
  },
  {
   "cell_type": "markdown",
   "metadata": {},
   "source": [
    "## 특성 중요도"
   ]
  },
  {
   "cell_type": "code",
   "execution_count": null,
   "metadata": {},
   "outputs": [],
   "source": [
    "# 특성 중요도 (RandomForest)\n",
    "rf = RandomForestRegressor(n_estimators=100, random_state=42)\n",
    "rf.fit(X_train_scaled, y_train)\n",
    "importances = pd.Series(rf.feature_importances_, index=feaure_names)\n",
    "print(importances.sort_values(ascending=False))"
   ]
  },
  {
   "cell_type": "code",
   "execution_count": null,
   "metadata": {},
   "outputs": [],
   "source": [
    "plt.figure(figsize=(10, 6))\n",
    "importances.sort_values(ascending=True).plot(kind='barh')\n",
    "plt.title('Feature Importances (RandomForest)')\n",
    "plt.xlabel('Importance')\n",
    "plt.ylabel('Feature')\n",
    "plt.tight_layout()\n",
    "plt.show()\n"
   ]
  },
  {
   "cell_type": "code",
   "execution_count": 30,
   "metadata": {},
   "outputs": [],
   "source": [
    "def create_ensemble_model(X_train_scaled, y_train):\n",
    "    \"\"\"\n",
    "    앙상블 기법을 활용한 모델 성능 향상\n",
    "    \"\"\"\n",
    "    print(\"앙상블 모델 생성 중...\")\n",
    "    \n",
    "    # 다양한 모델 조합\n",
    "    ensemble_models = [\n",
    "        ('rf', RandomForestRegressor(n_estimators=100, max_depth=10, random_state=42)),\n",
    "        ('gb', GradientBoostingRegressor(n_estimators=100, random_state=42)),\n",
    "        ('ridge', Ridge(alpha=1.0, random_state=42))\n",
    "    ]\n",
    "    \n",
    "    # Voting Regressor 생성\n",
    "    voting_regressor = VotingRegressor(ensemble_models)\n",
    "    voting_regressor.fit(X_train_scaled, y_train)\n",
    "    \n",
    "    return voting_regressor\n"
   ]
  },
  {
   "cell_type": "code",
   "execution_count": null,
   "metadata": {},
   "outputs": [],
   "source": []
  }
 ],
 "metadata": {
  "kernelspec": {
   "display_name": ".venv",
   "language": "python",
   "name": "python3"
  },
  "language_info": {
   "codemirror_mode": {
    "name": "ipython",
    "version": 3
   },
   "file_extension": ".py",
   "mimetype": "text/x-python",
   "name": "python",
   "nbconvert_exporter": "python",
   "pygments_lexer": "ipython3",
   "version": "3.13.2"
  }
 },
 "nbformat": 4,
 "nbformat_minor": 2
}
