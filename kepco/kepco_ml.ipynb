{
 "cells": [
  {
   "cell_type": "code",
   "execution_count": null,
   "metadata": {},
   "outputs": [],
   "source": [
    "print(\"--- 라이브러리 임포트 및 환경 설정 ---\")\n",
    "import os\n",
    "import pandas as pd\n",
    "import numpy as np\n",
    "import matplotlib.pyplot as plt\n",
    "import seaborn as sns\n",
    "import koreanize_matplotlib  # 한글 폰트 깨짐 방지\n",
    "import warnings\n",
    "\n",
    "# 모델링 및 평가 관련 라이브러리\n",
    "from sklearn.preprocessing import StandardScaler\n",
    "from sklearn.linear_model import LinearRegression, Ridge\n",
    "from sklearn.ensemble import RandomForestRegressor, GradientBoostingRegressor\n",
    "from sklearn.metrics import r2_score, mean_squared_error, mean_absolute_percentage_error"
   ]
  },
  {
   "cell_type": "code",
   "execution_count": null,
   "metadata": {},
   "outputs": [],
   "source": [
    "# 분석에 사용할 주요 변수 설정\n",
    "DATA_FOLDER = 'data'\n",
    "TARGET_COLUMN = '전력부하합계'\n",
    "SPLIT_DATE = '2022-11-01'\n",
    "YEAR_TO_ANALYZE = 2022\n",
    "\n",
    "# --- 데이터 로딩 ---\n",
    "print(\"\\n--- 데이터 로딩 ---\")\n",
    "csv_files = [f for f in os.listdir(DATA_FOLDER) if f.endswith('.csv')]\n",
    "if not csv_files:\n",
    "    raise FileNotFoundError(f\"'{DATA_FOLDER}' 폴더에 분석할 CSV 파일이 없습니다.\")\n",
    "\n",
    "df_list = []\n",
    "for csv_file in csv_files:\n",
    "    file_path = os.path.join(DATA_FOLDER, csv_file)\n",
    "    try:\n",
    "        df_temp = pd.read_csv(file_path, encoding=\"cp949\")\n",
    "        df_list.append(df_temp)\n",
    "    except Exception as e:\n",
    "        print(f\"'{csv_file}' 파일 로딩 실패: {e}\")\n",
    "\n",
    "df_raw = pd.concat(df_list, ignore_index=True).sample(frac=0.01)\n",
    "print(f\"데이터 로딩 완료. 총 {len(df_raw)}개 행.\")"
   ]
  },
  {
   "cell_type": "code",
   "execution_count": null,
   "metadata": {},
   "outputs": [],
   "source": [
    "df_raw"
   ]
  },
  {
   "cell_type": "markdown",
   "metadata": {},
   "source": [
    "## 데이터 전처리"
   ]
  },
  {
   "cell_type": "code",
   "execution_count": null,
   "metadata": {},
   "outputs": [],
   "source": [
    "print(\"\\n--- 데이터 전처리 ---\")\n",
    "# '시' 컬럼이 24시인 경우, 0시로 변경\n",
    "df_raw['시'] = df_raw['시'].replace(24, 0)\n",
    "\n",
    "# datetime 객체 생성 및 인덱스 설정\n",
    "# 컬럼명이 '연도', '월', '일', '시'이므로, to_datetime에 format을 명시적으로 지정\n",
    "df_raw['datetime'] = pd.to_datetime(\n",
    "    df_raw['연도'].astype(str) + '-' +\n",
    "    df_raw['월'].astype(str).str.zfill(2) + '-' +\n",
    "    df_raw['일'].astype(str).str.zfill(2) + ' ' +\n",
    "    df_raw['시'].astype(str).str.zfill(2) + ':00:00',\n",
    "    format='%Y-%m-%d %H:%M:%S'\n",
    ")\n",
    "df_processed = df_raw.sort_values('datetime').set_index('datetime')\n",
    "\n",
    "# 결측치 확인 및 처리 (시계열 데이터이므로 ffill 사용)\n",
    "print(\"결측치 처리 전:\\n\", df_processed.isnull().sum().loc[lambda x: x > 0])\n",
    "df_processed.fillna(method='ffill', inplace=True)\n",
    "print(\"\\n결측치 처리 완료.\")"
   ]
  },
  {
   "cell_type": "markdown",
   "metadata": {},
   "source": [
    "## 탐색적 데이터 분석 (EDA)"
   ]
  },
  {
   "cell_type": "code",
   "execution_count": null,
   "metadata": {},
   "outputs": [],
   "source": [
    "# --- 탐색적 데이터 분석 (EDA) ---\n",
    "print(\"\\n--- 탐색적 데이터 분석 (EDA) ---\")\n",
    "# 시각화를 통해 데이터 패턴 파악 (분석 대상 연도 기준)\n",
    "df_eda = df_processed[df_processed.index.year == YEAR_TO_ANALYZE]\n",
    "\n",
    "fig, axes = plt.subplots(1, 2, figsize=(18, 6))\n",
    "# 월별 평균 전력부하\n",
    "df_eda.groupby(\n",
    "    df_eda.index.month)['전력부하합계'].mean().plot(ax=axes[0], marker='o', title='월별 평균 전력부하합계')\n",
    "axes[0].set_xlabel('월')\n",
    "axes[0].set_ylabel('평균 전력부하합계')\n",
    "axes[0].grid(True)\n",
    "# 시간대별 평균 전력부하\n",
    "df_eda.groupby(\n",
    "    df_eda.index.hour)['전력부하합계'].mean().plot(ax=axes[1], marker='o', title='시간대별 평균 전력부하합계')\n",
    "axes[1].set_xlabel('시')\n",
    "axes[1].set_ylabel('평균 전력부하합계')\n",
    "axes[1].grid(True)\n",
    "plt.tight_layout()\n",
    "plt.show()\n",
    "print(\"시간에 따른 전력부하 패턴 시각화\")"
   ]
  },
  {
   "cell_type": "markdown",
   "metadata": {},
   "source": [
    "## 특성 공학"
   ]
  },
  {
   "cell_type": "code",
   "execution_count": null,
   "metadata": {},
   "outputs": [],
   "source": [
    "# --- 특성 공학 (Feature Engineering) ---\n",
    "print(\"\\n--- 특성 공학 (Feature Engineering) ---\")\n",
    "# 분석 대상 연도 데이터만 필터링\n",
    "df_target_year = df_processed[df_processed.index.year == YEAR_TO_ANALYZE].copy()\n",
    "\n",
    "# 시간 관련 특성\n",
    "df_target_year['월'] = df_target_year.index.month\n",
    "df_target_year['시'] = df_target_year.index.hour\n",
    "df_target_year['요일'] = df_target_year.index.dayofweek\n",
    "\n",
    "# 주기성 특성 (Sin/Cos 변환)\n",
    "df_target_year['시간_sin'] = np.sin(2 * np.pi * df_target_year['시'] / 24)\n",
    "df_target_year['시간_cos'] = np.cos(2 * np.pi * df_target_year['시'] / 24)\n",
    "df_target_year['월_sin'] = np.sin(2 * np.pi * df_target_year['월'] / 12)\n",
    "df_target_year['월_cos'] = np.cos(2 * np.pi * df_target_year['월'] / 12)\n",
    "\n",
    "# 파생 변수\n",
    "df_target_year['주말'] = df_target_year['요일'].apply(lambda x: 1 if x >= 5 else 0)\n",
    "df_target_year['냉방도일'] = np.maximum(0, df_target_year['기온'] - 24)\n",
    "df_target_year['난방도일'] = np.maximum(0, df_target_year['기온'] - 18)\n",
    "df_target_year['불쾌지수'] = 1.8 * df_target_year['기온'] - 0.55 * (1 - df_target_year['상대습도']/100) * (1.8 * df_target_year['기온'] - 26) + 32\n",
    "\n",
    "# 시계열 특성 (Lag, Rolling)\n",
    "for lag in [24, 168]: # 1일, 1주일 전 데이터\n",
    "    df_target_year[f'전력부하_lag_{lag}h'] = df_target_year[TARGET_COLUMN].shift(lag)\n",
    "    df_target_year[f'기온_lag_{lag}h'] = df_target_year['기온'].shift(lag)\n",
    "df_target_year['기온_rolling_24h'] = df_target_year['기온'].rolling(window=24).mean()\n",
    "\n",
    "# 특성 생성으로 인한 결측치는 이전 값으로 채움\n",
    "df_target_year.fillna(method='bfill', inplace=True)\n",
    "df_featured = df_target_year.copy()\n",
    "print(\"특성 공학 완료. 최종 특성 개수:\", len(df_featured.columns))\n"
   ]
  },
  {
   "cell_type": "markdown",
   "metadata": {},
   "source": [
    "## 모델링 데이터 준비"
   ]
  },
  {
   "cell_type": "code",
   "execution_count": null,
   "metadata": {},
   "outputs": [],
   "source": [
    "print(\"\\n--- 모델링 데이터 준비 ---\")\n",
    "# 시계열 데이터를 훈련/테스트 세트로 분할\n",
    "train = df_featured[df_featured.index < SPLIT_DATE]\n",
    "test = df_featured[df_featured.index >= SPLIT_DATE]\n",
    "print(f\"훈련 데이터: {train.index.min()} ~ {train.index.max()} ({len(train)}개 행)\")\n",
    "print(f\"테스트 데이터: {test.index.min()} ~ {test.index.max()} ({len(test)}개 행)\")\n",
    "\n",
    "# 특성(X)과 타겟(y) 분리\n",
    "features = [col for col in df_featured.columns if col not in [\n",
    "    TARGET_COLUMN, '연도', '월', '일', '시', '요일']]\n",
    "X_train = train[features]\n",
    "y_train = train[TARGET_COLUMN]\n",
    "X_test = test[features]\n",
    "y_test = test[TARGET_COLUMN]\n",
    "\n",
    "# 데이터 스케일링\n",
    "scaler = StandardScaler()\n",
    "X_train_scaled = scaler.fit_transform(X_train)\n",
    "X_test_scaled = scaler.transform(X_test)\n",
    "print(\"데이터 분할 및 스케일링 완료.\")"
   ]
  },
  {
   "cell_type": "markdown",
   "metadata": {},
   "source": [
    "## 모델 훈련 및 평가 "
   ]
  },
  {
   "cell_type": "code",
   "execution_count": null,
   "metadata": {},
   "outputs": [],
   "source": [
    "print(\"\\n--- 모델 훈련 및 평가 ---\")\n",
    "models = {\n",
    "    'Linear Regression': LinearRegression(),\n",
    "    'Ridge': Ridge(random_state=42),\n",
    "    'Random Forest': RandomForestRegressor(n_estimators=100, random_state=42, n_jobs=-1),\n",
    "    'Gradient Boosting': GradientBoostingRegressor(random_state=42)\n",
    "}\n",
    "\n",
    "results_list = []\n",
    "for name, model in models.items():\n",
    "    model.fit(X_train_scaled, y_train)\n",
    "    y_pred = model.predict(X_test_scaled)\n",
    "    \n",
    "    r2 = r2_score(y_test, y_pred)\n",
    "    rmse = np.sqrt(mean_squared_error(y_test, y_pred))\n",
    "    mape = mean_absolute_percentage_error(y_test, y_pred) * 100\n",
    "    \n",
    "    results_list.append({'Model': name, 'R²': r2, 'RMSE': rmse, 'MAPE(%)': mape})\n",
    "    \n",
    "results_df = pd.DataFrame(results_list).set_index('Model')\n",
    "print(\"모델별 성능 평가 결과:\")\n",
    "print(results_df.sort_values(by='R²', ascending=False))"
   ]
  },
  {
   "cell_type": "markdown",
   "metadata": {},
   "source": [
    "## 최종 모델 분석 및 결과 시각화 "
   ]
  },
  {
   "cell_type": "code",
   "execution_count": null,
   "metadata": {},
   "outputs": [],
   "source": [
    "print(\"\\n--- 최종 모델 분석 및 결과 시각화 ---\")\n",
    "# 가장 성능이 좋았던 Random Forest를 최종 모델로 선정\n",
    "final_model = RandomForestRegressor(n_estimators=100, random_state=42, n_jobs=-1)\n",
    "final_model.fit(X_train_scaled, y_train)\n",
    "\n",
    "# 특성 중요도 분석\n",
    "importances = pd.Series(final_model.feature_importances_, index=features)\n",
    "top_20_importances = importances.sort_values(ascending=False).head(20)\n",
    "import seaborn as sns\n",
    "\n",
    "# 특성 중요도 시각화 (seaborn)\n",
    "plt.figure(figsize=(10, 7))\n",
    "sns.barplot(\n",
    "    y=top_20_importances.index,\n",
    "    x=top_20_importances.values,\n",
    "    orient='h',\n",
    "    palette='viridis'\n",
    ")\n",
    "plt.title('상위 20개 특성 중요도 (Random Forest)')\n",
    "plt.xlabel('Importance')\n",
    "plt.tight_layout()\n",
    "plt.show()\n",
    "\n",
    "# 예측 결과 시각화 (seaborn)\n",
    "y_pred_final = final_model.predict(X_test_scaled)\n",
    "predictions = pd.DataFrame({'실제값': y_test, '예측값': y_pred_final}, index=y_test.index)\n",
    "\n",
    "# 전체 테스트 기간 시각화 (seaborn)\n",
    "plt.figure(figsize=(14, 5))\n",
    "sns.lineplot(data=predictions[['실제값', '예측값']])\n",
    "plt.title('테스트 기간 전체 예측 결과 (실제값 vs 예측값)')\n",
    "plt.xlabel('날짜')\n",
    "plt.ylabel('전력부하합계')\n",
    "plt.tight_layout()\n",
    "plt.show()\n",
    "\n",
    "# 특정 1주일 확대 시각화 (seaborn)\n",
    "sample_predictions = predictions.loc['2022-11-07':'2022-11-13']\n",
    "plt.figure(figsize=(14, 5))\n",
    "sns.lineplot(data=sample_predictions[['실제값', '예측값']], marker='o')\n",
    "plt.title('테스트 기간 중 1주일 확대 (2022-11-07 ~ 2022-11-13)')\n",
    "plt.xlabel('날짜 및 시간')\n",
    "plt.ylabel('전력부하합계')\n",
    "plt.xticks(rotation=45)\n",
    "plt.tight_layout()\n",
    "plt.show()"
   ]
  },
  {
   "cell_type": "markdown",
   "metadata": {},
   "source": [
    "## 결과 분석"
   ]
  },
  {
   "cell_type": "code",
   "execution_count": null,
   "metadata": {},
   "outputs": [],
   "source": [
    "# --- 결론 ---\n",
    "print(\"\\n--- 결론 ---\")\n",
    "best_model = results_df.sort_values(by='R²', ascending=False).iloc[0]\n",
    "print(f\"분석 결과, {best_model.name} 모델이 R² 점수 {best_model['R²']:.2f}로 가장 높은 예측 성능을 보였습니다.\")\n",
    "print(\"주요 예측 변수로는 과거 전력부하(Lag), 계약전력합계, 기온 관련 특성 등이 확인되었습니다.\")\n",
    "print(\"모든 분석 과정이 완료되었습니다.\")"
   ]
  },
  {
   "cell_type": "code",
   "execution_count": null,
   "metadata": {},
   "outputs": [],
   "source": []
  }
 ],
 "metadata": {
  "kernelspec": {
   "display_name": ".venv",
   "language": "python",
   "name": "python3"
  },
  "language_info": {
   "codemirror_mode": {
    "name": "ipython",
    "version": 3
   },
   "file_extension": ".py",
   "mimetype": "text/x-python",
   "name": "python",
   "nbconvert_exporter": "python",
   "pygments_lexer": "ipython3",
   "version": "3.13.2"
  }
 },
 "nbformat": 4,
 "nbformat_minor": 2
}
