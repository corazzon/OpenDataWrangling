{
 "cells": [
  {
   "cell_type": "markdown",
   "metadata": {
    "id": "JLMLVsje56pM"
   },
   "source": [
    "## 통계청 서울특별시 아파트 거래 현황\n",
    "* 부동산거래현황:행정구역별 아파트거래현황 : https://kosis.kr/statHtml/statHtml.do?orgId=408&tblId=DT_408_2006_S0049&conn_path=I2"
   ]
  },
  {
   "cell_type": "code",
   "execution_count": 1,
   "metadata": {
    "id": "iEsqeNAa56pN"
   },
   "outputs": [],
   "source": [
    "import pandas as pd\n",
    "import numpy as np\n",
    "import seaborn as sns\n",
    "import matplotlib as mpl\n",
    "import matplotlib.pyplot as plt\n",
    "import plotly.express as px\n",
    "import koreanize_matplotlib"
   ]
  },
  {
   "cell_type": "markdown",
   "metadata": {
    "id": "_lWAahgQ56pO"
   },
   "source": [
    "## csv 파일로드"
   ]
  },
  {
   "cell_type": "code",
   "execution_count": 2,
   "metadata": {
    "id": "JEpvmHry56pO"
   },
   "outputs": [
    {
     "data": {
      "text/plain": [
       "(3720, 4)"
      ]
     },
     "execution_count": 2,
     "metadata": {},
     "output_type": "execute_result"
    }
   ],
   "source": [
    "df = pd.read_csv(\"data/kosis-apt-2006-202307.csv\", encoding=\"cp949\", dtype={\"시점\":\"string\"})\n",
    "df.shape"
   ]
  },
  {
   "cell_type": "code",
   "execution_count": 3,
   "metadata": {
    "id": "arNk1vT856pP"
   },
   "outputs": [
    {
     "data": {
      "text/html": [
       "<div>\n",
       "<style scoped>\n",
       "    .dataframe tbody tr th:only-of-type {\n",
       "        vertical-align: middle;\n",
       "    }\n",
       "\n",
       "    .dataframe tbody tr th {\n",
       "        vertical-align: top;\n",
       "    }\n",
       "\n",
       "    .dataframe thead th {\n",
       "        text-align: right;\n",
       "    }\n",
       "</style>\n",
       "<table border=\"1\" class=\"dataframe\">\n",
       "  <thead>\n",
       "    <tr style=\"text-align: right;\">\n",
       "      <th></th>\n",
       "      <th>시점</th>\n",
       "      <th>행정구역별(1)</th>\n",
       "      <th>호수 (호수)</th>\n",
       "      <th>면적 (천㎡)</th>\n",
       "    </tr>\n",
       "  </thead>\n",
       "  <tbody>\n",
       "    <tr>\n",
       "      <th>0</th>\n",
       "      <td>2006.01</td>\n",
       "      <td>전국</td>\n",
       "      <td>61675</td>\n",
       "      <td>5872</td>\n",
       "    </tr>\n",
       "    <tr>\n",
       "      <th>1</th>\n",
       "      <td>2006.01</td>\n",
       "      <td>서울특별시</td>\n",
       "      <td>7704</td>\n",
       "      <td>686</td>\n",
       "    </tr>\n",
       "    <tr>\n",
       "      <th>2</th>\n",
       "      <td>2006.01</td>\n",
       "      <td>부산광역시</td>\n",
       "      <td>4592</td>\n",
       "      <td>410</td>\n",
       "    </tr>\n",
       "  </tbody>\n",
       "</table>\n",
       "</div>"
      ],
      "text/plain": [
       "        시점 행정구역별(1)  호수 (호수)  면적 (천㎡)\n",
       "0  2006.01       전국    61675     5872\n",
       "1  2006.01    서울특별시     7704      686\n",
       "2  2006.01    부산광역시     4592      410"
      ]
     },
     "execution_count": 3,
     "metadata": {},
     "output_type": "execute_result"
    }
   ],
   "source": [
    "df.head(3)"
   ]
  },
  {
   "cell_type": "code",
   "execution_count": 4,
   "metadata": {
    "id": "enZ2kDYz56pP"
   },
   "outputs": [
    {
     "data": {
      "text/html": [
       "<div>\n",
       "<style scoped>\n",
       "    .dataframe tbody tr th:only-of-type {\n",
       "        vertical-align: middle;\n",
       "    }\n",
       "\n",
       "    .dataframe tbody tr th {\n",
       "        vertical-align: top;\n",
       "    }\n",
       "\n",
       "    .dataframe thead th {\n",
       "        text-align: right;\n",
       "    }\n",
       "</style>\n",
       "<table border=\"1\" class=\"dataframe\">\n",
       "  <thead>\n",
       "    <tr style=\"text-align: right;\">\n",
       "      <th></th>\n",
       "      <th>시점</th>\n",
       "      <th>행정구역별(1)</th>\n",
       "      <th>호수 (호수)</th>\n",
       "      <th>면적 (천㎡)</th>\n",
       "    </tr>\n",
       "  </thead>\n",
       "  <tbody>\n",
       "    <tr>\n",
       "      <th>3717</th>\n",
       "      <td>2023.07</td>\n",
       "      <td>경상북도</td>\n",
       "      <td>2945</td>\n",
       "      <td>220</td>\n",
       "    </tr>\n",
       "    <tr>\n",
       "      <th>3718</th>\n",
       "      <td>2023.07</td>\n",
       "      <td>경상남도</td>\n",
       "      <td>4211</td>\n",
       "      <td>310</td>\n",
       "    </tr>\n",
       "    <tr>\n",
       "      <th>3719</th>\n",
       "      <td>2023.07</td>\n",
       "      <td>제주특별자치도</td>\n",
       "      <td>239</td>\n",
       "      <td>17</td>\n",
       "    </tr>\n",
       "  </tbody>\n",
       "</table>\n",
       "</div>"
      ],
      "text/plain": [
       "           시점 행정구역별(1)  호수 (호수)  면적 (천㎡)\n",
       "3717  2023.07     경상북도     2945      220\n",
       "3718  2023.07     경상남도     4211      310\n",
       "3719  2023.07  제주특별자치도      239       17"
      ]
     },
     "execution_count": 4,
     "metadata": {},
     "output_type": "execute_result"
    }
   ],
   "source": [
    "df.tail(3)"
   ]
  },
  {
   "cell_type": "code",
   "execution_count": 5,
   "metadata": {
    "id": "xfzlzogi56pQ",
    "scrolled": true
   },
   "outputs": [
    {
     "name": "stdout",
     "output_type": "stream",
     "text": [
      "<class 'pandas.core.frame.DataFrame'>\n",
      "RangeIndex: 3720 entries, 0 to 3719\n",
      "Data columns (total 4 columns):\n",
      " #   Column    Non-Null Count  Dtype \n",
      "---  ------    --------------  ----- \n",
      " 0   시점        3720 non-null   string\n",
      " 1   행정구역별(1)  3720 non-null   object\n",
      " 2   호수 (호수)   3720 non-null   int64 \n",
      " 3   면적 (천㎡)   3720 non-null   int64 \n",
      "dtypes: int64(2), object(1), string(1)\n",
      "memory usage: 116.4+ KB\n"
     ]
    }
   ],
   "source": [
    "df.info()"
   ]
  },
  {
   "cell_type": "code",
   "execution_count": 6,
   "metadata": {
    "id": "jfrqfD1O56pQ"
   },
   "outputs": [
    {
     "data": {
      "text/html": [
       "<div>\n",
       "<style scoped>\n",
       "    .dataframe tbody tr th:only-of-type {\n",
       "        vertical-align: middle;\n",
       "    }\n",
       "\n",
       "    .dataframe tbody tr th {\n",
       "        vertical-align: top;\n",
       "    }\n",
       "\n",
       "    .dataframe thead th {\n",
       "        text-align: right;\n",
       "    }\n",
       "</style>\n",
       "<table border=\"1\" class=\"dataframe\">\n",
       "  <thead>\n",
       "    <tr style=\"text-align: right;\">\n",
       "      <th></th>\n",
       "      <th>시점</th>\n",
       "      <th>행정구역별(1)</th>\n",
       "      <th>호수 (호수)</th>\n",
       "      <th>면적 (천㎡)</th>\n",
       "      <th>연도</th>\n",
       "      <th>월</th>\n",
       "    </tr>\n",
       "  </thead>\n",
       "  <tbody>\n",
       "    <tr>\n",
       "      <th>0</th>\n",
       "      <td>2006.01</td>\n",
       "      <td>전국</td>\n",
       "      <td>61675</td>\n",
       "      <td>5872</td>\n",
       "      <td>2006</td>\n",
       "      <td>1</td>\n",
       "    </tr>\n",
       "    <tr>\n",
       "      <th>1</th>\n",
       "      <td>2006.01</td>\n",
       "      <td>서울특별시</td>\n",
       "      <td>7704</td>\n",
       "      <td>686</td>\n",
       "      <td>2006</td>\n",
       "      <td>1</td>\n",
       "    </tr>\n",
       "    <tr>\n",
       "      <th>2</th>\n",
       "      <td>2006.01</td>\n",
       "      <td>부산광역시</td>\n",
       "      <td>4592</td>\n",
       "      <td>410</td>\n",
       "      <td>2006</td>\n",
       "      <td>1</td>\n",
       "    </tr>\n",
       "    <tr>\n",
       "      <th>3</th>\n",
       "      <td>2006.01</td>\n",
       "      <td>대구광역시</td>\n",
       "      <td>3684</td>\n",
       "      <td>292</td>\n",
       "      <td>2006</td>\n",
       "      <td>1</td>\n",
       "    </tr>\n",
       "    <tr>\n",
       "      <th>4</th>\n",
       "      <td>2006.01</td>\n",
       "      <td>인천광역시</td>\n",
       "      <td>2143</td>\n",
       "      <td>149</td>\n",
       "      <td>2006</td>\n",
       "      <td>1</td>\n",
       "    </tr>\n",
       "    <tr>\n",
       "      <th>...</th>\n",
       "      <td>...</td>\n",
       "      <td>...</td>\n",
       "      <td>...</td>\n",
       "      <td>...</td>\n",
       "      <td>...</td>\n",
       "      <td>...</td>\n",
       "    </tr>\n",
       "    <tr>\n",
       "      <th>3715</th>\n",
       "      <td>2023.07</td>\n",
       "      <td>전라북도</td>\n",
       "      <td>2087</td>\n",
       "      <td>157</td>\n",
       "      <td>2023</td>\n",
       "      <td>7</td>\n",
       "    </tr>\n",
       "    <tr>\n",
       "      <th>3716</th>\n",
       "      <td>2023.07</td>\n",
       "      <td>전라남도</td>\n",
       "      <td>2168</td>\n",
       "      <td>164</td>\n",
       "      <td>2023</td>\n",
       "      <td>7</td>\n",
       "    </tr>\n",
       "    <tr>\n",
       "      <th>3717</th>\n",
       "      <td>2023.07</td>\n",
       "      <td>경상북도</td>\n",
       "      <td>2945</td>\n",
       "      <td>220</td>\n",
       "      <td>2023</td>\n",
       "      <td>7</td>\n",
       "    </tr>\n",
       "    <tr>\n",
       "      <th>3718</th>\n",
       "      <td>2023.07</td>\n",
       "      <td>경상남도</td>\n",
       "      <td>4211</td>\n",
       "      <td>310</td>\n",
       "      <td>2023</td>\n",
       "      <td>7</td>\n",
       "    </tr>\n",
       "    <tr>\n",
       "      <th>3719</th>\n",
       "      <td>2023.07</td>\n",
       "      <td>제주특별자치도</td>\n",
       "      <td>239</td>\n",
       "      <td>17</td>\n",
       "      <td>2023</td>\n",
       "      <td>7</td>\n",
       "    </tr>\n",
       "  </tbody>\n",
       "</table>\n",
       "<p>3720 rows × 6 columns</p>\n",
       "</div>"
      ],
      "text/plain": [
       "           시점 행정구역별(1)  호수 (호수)  면적 (천㎡)    연도  월\n",
       "0     2006.01       전국    61675     5872  2006  1\n",
       "1     2006.01    서울특별시     7704      686  2006  1\n",
       "2     2006.01    부산광역시     4592      410  2006  1\n",
       "3     2006.01    대구광역시     3684      292  2006  1\n",
       "4     2006.01    인천광역시     2143      149  2006  1\n",
       "...       ...      ...      ...      ...   ... ..\n",
       "3715  2023.07     전라북도     2087      157  2023  7\n",
       "3716  2023.07     전라남도     2168      164  2023  7\n",
       "3717  2023.07     경상북도     2945      220  2023  7\n",
       "3718  2023.07     경상남도     4211      310  2023  7\n",
       "3719  2023.07  제주특별자치도      239       17  2023  7\n",
       "\n",
       "[3720 rows x 6 columns]"
      ]
     },
     "execution_count": 6,
     "metadata": {},
     "output_type": "execute_result"
    }
   ],
   "source": [
    "df[\"연도\"] = df[\"시점\"].apply(lambda x : int(str(x)[:4]))\n",
    "df[\"월\"] = df[\"시점\"].apply(lambda x : int(str(x)[5:]))\n",
    "df"
   ]
  },
  {
   "cell_type": "code",
   "execution_count": null,
   "metadata": {
    "id": "md_pyn76b_7p"
   },
   "outputs": [],
   "source": []
  },
  {
   "cell_type": "code",
   "execution_count": null,
   "metadata": {},
   "outputs": [],
   "source": []
  },
  {
   "cell_type": "code",
   "execution_count": null,
   "metadata": {},
   "outputs": [],
   "source": []
  },
  {
   "cell_type": "code",
   "execution_count": null,
   "metadata": {},
   "outputs": [],
   "source": []
  }
 ],
 "metadata": {
  "colab": {
   "collapsed_sections": [],
   "name": "01-time-series-forecast.ipynb",
   "provenance": []
  },
  "kernelspec": {
   "display_name": "Python 3 (ipykernel)",
   "language": "python",
   "name": "python3"
  },
  "language_info": {
   "codemirror_mode": {
    "name": "ipython",
    "version": 3
   },
   "file_extension": ".py",
   "mimetype": "text/x-python",
   "name": "python",
   "nbconvert_exporter": "python",
   "pygments_lexer": "ipython3",
   "version": "3.11.4"
  },
  "toc": {
   "base_numbering": 1,
   "nav_menu": {},
   "number_sections": true,
   "sideBar": true,
   "skip_h1_title": false,
   "title_cell": "Table of Contents",
   "title_sidebar": "Contents",
   "toc_cell": false,
   "toc_position": {},
   "toc_section_display": true,
   "toc_window_display": false
  },
  "varInspector": {
   "cols": {
    "lenName": 16,
    "lenType": 16,
    "lenVar": 40
   },
   "kernels_config": {
    "python": {
     "delete_cmd_postfix": "",
     "delete_cmd_prefix": "del ",
     "library": "var_list.py",
     "varRefreshCmd": "print(var_dic_list())"
    },
    "r": {
     "delete_cmd_postfix": ") ",
     "delete_cmd_prefix": "rm(",
     "library": "var_list.r",
     "varRefreshCmd": "cat(var_dic_list()) "
    }
   },
   "types_to_exclude": [
    "module",
    "function",
    "builtin_function_or_method",
    "instance",
    "_Feature"
   ],
   "window_display": false
  }
 },
 "nbformat": 4,
 "nbformat_minor": 1
}
