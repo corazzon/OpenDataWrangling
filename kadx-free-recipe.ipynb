{
 "cells": [
  {
   "cell_type": "code",
   "execution_count": null,
   "id": "440e3012-7429-468a-b802-3ac079909af2",
   "metadata": {},
   "outputs": [],
   "source": [
    "# !pip install koreanize-matplotlib"
   ]
  },
  {
   "cell_type": "code",
   "execution_count": null,
   "id": "3a954521-b136-4c6d-bb36-3eaf8c70a9be",
   "metadata": {},
   "outputs": [],
   "source": [
    "import pandas as pd\n",
    "import koreanize_matplotlib\n",
    "import matplotlib.pyplot as plt\n",
    "import seaborn as sns\n",
    "from sklearn.feature_extraction.text import TfidfVectorizer\n",
    "from sklearn.cluster import KMeans\n",
    "from sklearn.decomposition import PCA\n",
    "import numpy as np"
   ]
  },
  {
   "cell_type": "code",
   "execution_count": null,
   "id": "1dea1bb7-adb4-4bf9-988f-7006136f674c",
   "metadata": {},
   "outputs": [],
   "source": [
    "# 데이터 컬럼 정보를 불러옵니다.\n",
    "df_col = pd.read_csv(\"data/kadx-utf8-recipe-detail.csv\")\n",
    "df_col.shape"
   ]
  },
  {
   "cell_type": "code",
   "execution_count": null,
   "id": "17a5e48c-76f8-44f5-be86-8ea4919a0e85",
   "metadata": {},
   "outputs": [],
   "source": [
    "df_col"
   ]
  },
  {
   "cell_type": "code",
   "execution_count": null,
   "id": "aa0bf3c2-f9eb-4fce-bd16-99389d42bc22",
   "metadata": {},
   "outputs": [],
   "source": [
    "# 원본 데이터를 불러옵니다.\n",
    "raw = pd.read_csv(\"data/kadx-utf8-recipe.csv\")\n",
    "raw.shape"
   ]
  },
  {
   "cell_type": "code",
   "execution_count": null,
   "id": "27f332cb-d7ac-492e-b641-8e0d2ed6d09e",
   "metadata": {},
   "outputs": [],
   "source": [
    "# 영문 컬럼명을 한글로 변환하기 위한 매핑 딕셔너리를 생성합니다.\n",
    "col_dict = df_col[[\"nameEn\",\"nameKo\"]].set_index(\"nameEn\")['nameKo'].to_dict()\n",
    "col_dict"
   ]
  },
  {
   "cell_type": "code",
   "execution_count": null,
   "id": "5af736ef-1137-4dc7-b261-2d86ee089670",
   "metadata": {},
   "outputs": [],
   "source": [
    "# 원본 데이터의 컬럼명을 한글로 변환합니다.\n",
    "df = raw.rename(columns=col_dict)"
   ]
  },
  {
   "cell_type": "code",
   "execution_count": null,
   "id": "9bf82dc4-633e-4664-96b5-734a85836a9f",
   "metadata": {},
   "outputs": [],
   "source": [
    "# 변환된 데이터의 첫 몇 줄을 확인합니다.\n",
    "df.head()"
   ]
  },
  {
   "cell_type": "code",
   "execution_count": null,
   "id": "d78483b0-bd9f-4868-a557-29b726649b03",
   "metadata": {},
   "outputs": [],
   "source": [
    "# 기본 EDA\n",
    "df.info()"
   ]
  },
  {
   "cell_type": "code",
   "execution_count": null,
   "id": "8210c88f-34b2-4c29-b77a-68503ccf8bd2",
   "metadata": {},
   "outputs": [],
   "source": [
    "df.describe()"
   ]
  },
  {
   "cell_type": "code",
   "execution_count": null,
   "id": "7fa23607-07d3-4b70-bbb7-02d820ca7df1",
   "metadata": {},
   "outputs": [],
   "source": [
    "df.duplicated().sum()"
   ]
  },
  {
   "cell_type": "code",
   "execution_count": null,
   "id": "eaea5495-ff3b-472d-97be-fd11edc2f432",
   "metadata": {},
   "outputs": [],
   "source": [
    "# 시각화: 조회수, 스크랩수에 대한 분포\n",
    "sns.histplot(df['조회수'], kde=True)\n",
    "plt.title('조회수 분포')\n",
    "plt.show()\n",
    "\n",
    "sns.histplot(df['스크랩수'], kde=True)\n",
    "plt.title('스크랩수 분포')\n",
    "plt.show()"
   ]
  },
  {
   "cell_type": "code",
   "execution_count": null,
   "id": "554f3f10-74d8-481b-8213-11dcec77cdbe",
   "metadata": {},
   "outputs": [],
   "source": [
    "# 결측치 처리\n",
    "df['요리인분명'].fillna('미정', inplace=True)\n",
    "df['요리시간명'].fillna('미정', inplace=True)\n",
    "\n",
    "# 요리 인기도 분석 (조회수, 추천수, 스크랩수)\n",
    "df['인기도'] = df['조회수'] + df['추천수'] + df['스크랩수']\n",
    "popular_recipes = df.sort_values(by='인기도', ascending=False)\n",
    "\n",
    "# 인기도 상위 5개 레시피\n",
    "top_5_popular = popular_recipes[['레시피제목', '요리명', '조회수', '추천수', '스크랩수', '인기도']].head()\n",
    "display(\"인기도 상위 5개 레시피:\\n\", top_5_popular)\n",
    "\n",
    "# 요리 방법, 상황, 재료별 인기도 분석\n",
    "def plot_popularity_by_feature(feature):\n",
    "    plt.figure(figsize=(10, 3))\n",
    "    sns.barplot(x=feature, y='인기도', data=df, estimator=sum)\n",
    "    plt.title(f'{feature}별 레시피 인기도')\n",
    "    plt.xticks(rotation=45)\n",
    "    plt.show()\n",
    "\n",
    "# 요리방법, 요리상황, 요리재료별 인기도 시각화\n",
    "for feature in ['요리방법별명', '요리상황별명', '요리재료별명']:\n",
    "    plot_popularity_by_feature(feature)\n",
    "\n",
    "# 요리 난이도 및 시간별 인기도 분석\n",
    "plot_popularity_by_feature('요리난이도명')\n",
    "plot_popularity_by_feature('요리시간명')\n",
    "\n",
    "# 인사이트 도출\n",
    "# 1. 특정 요리방법이나 요리상황에서 인기가 높은 레시피 파악\n",
    "# 2. 요리 난이도와 시간이 인기에 미치는 영향 분석\n",
    "# 3. 인기 있는 레시피를 기반으로 메뉴 구성 및 프로모션 전략 수립\n",
    "\n",
    "# 추가 분석: 자영업자에게 유용한 추천 레시피\n",
    "# 특정 조건에 따라 추천할 레시피를 필터링합니다 (예: 빠르게 조리할 수 있고 인기가 높은 레시피)\n",
    "filtered_recipes = df[(df['요리시간명'] != '미정') & (df['인기도'] > df['인기도'].mean())]\n",
    "display(\"추천 레시피:\\n\", filtered_recipes[['레시피제목', '요리명', '요리시간명', '인기도']])"
   ]
  },
  {
   "cell_type": "code",
   "execution_count": null,
   "id": "bee0c411-5e72-44b5-af2c-319595bc7974",
   "metadata": {},
   "outputs": [],
   "source": [
    "pd.crosstab(df['요리상황별명'], df['요리방법별명'])"
   ]
  },
  {
   "cell_type": "code",
   "execution_count": null,
   "id": "4935dcff-42c3-4bd0-8572-290902b74b4f",
   "metadata": {},
   "outputs": [],
   "source": [
    "pd.crosstab(df['요리상황별명'], df['요리재료별명'])"
   ]
  },
  {
   "cell_type": "code",
   "execution_count": null,
   "id": "5f9d4e8b-6816-4daa-b187-d1ee10229723",
   "metadata": {},
   "outputs": [],
   "source": [
    "pd.crosstab(df['요리방법별명'], df['요리재료별명'])"
   ]
  },
  {
   "cell_type": "code",
   "execution_count": null,
   "id": "fb056569-29fc-4a96-a4bf-370dcb5f264f",
   "metadata": {},
   "outputs": [],
   "source": [
    "# 텍스트 분석: 요리소개와 재료내용을 TF-IDF로 변환\n",
    "vectorizer = TfidfVectorizer()\n",
    "tfidf_matrix = vectorizer.fit_transform(df['요리소개'])\n",
    "\n",
    "# 군집 분석: KMeans 사용\n",
    "kmeans = KMeans(n_clusters=3, random_state=42)\n",
    "kmeans.fit(tfidf_matrix)\n",
    "df['Cluster'] = kmeans.labels_\n",
    "\n",
    "# 군집 분석 결과 시각화 (PCA로 차원 축소)\n",
    "pca = PCA(n_components=2)\n",
    "pca_components = pca.fit_transform(tfidf_matrix.toarray())\n",
    "plt.scatter(pca_components[:, 0], pca_components[:, 1], c=df['Cluster'])\n",
    "plt.title('KMeans Clustering of Recipes')\n",
    "plt.xlabel('PCA Component 1')\n",
    "plt.ylabel('PCA Component 2')\n",
    "plt.show()\n",
    "\n",
    "# 군집별 주요 키워드 나열\n",
    "def get_top_keywords(tfidf_matrix, kmeans, vectorizer, n_terms=10):\n",
    "    df_top_keywords = pd.DataFrame()\n",
    "    order_centroids = kmeans.cluster_centers_.argsort()[:, ::-1]\n",
    "    terms = vectorizer.get_feature_names_out()\n",
    "    \n",
    "    for i in range(kmeans.n_clusters):\n",
    "        top_keywords = [terms[ind] for ind in order_centroids[i, :n_terms]]\n",
    "        df_top_keywords[f'Cluster {i}'] = top_keywords\n",
    "    \n",
    "    return df_top_keywords\n",
    "\n",
    "# 군집별 주요 키워드 출력\n",
    "df_keywords = get_top_keywords(tfidf_matrix, kmeans, vectorizer)\n",
    "print(\"\\n군집별 주요 키워드:\\n\", df_keywords)\n",
    "\n",
    "# 군집별 레시피 개수\n",
    "print(\"\\n군집별 레시피 개수:\\n\", df['Cluster'].value_counts())"
   ]
  },
  {
   "cell_type": "code",
   "execution_count": null,
   "id": "712c3e2e-4c13-447e-96b6-2599ceb8768c",
   "metadata": {},
   "outputs": [],
   "source": [
    "# 동그라미 마스크 생성\n",
    "x, y = np.ogrid[:800, :800]\n",
    "center = 400\n",
    "radius = 400\n",
    "circle_mask = np.ones((800, 800), dtype=np.uint8) * 255\n",
    "mask = (x - center) ** 2 + (y - center) ** 2 > radius ** 2\n",
    "circle_mask[mask] = 0\n",
    "plt.imshow(circle_mask)"
   ]
  },
  {
   "cell_type": "code",
   "execution_count": null,
   "id": "b8d48deb-e34a-4f5f-b74a-7e8665aefd04",
   "metadata": {},
   "outputs": [],
   "source": []
  },
  {
   "cell_type": "code",
   "execution_count": null,
   "id": "69350332-84a8-4f4e-92f1-fd77420a47a6",
   "metadata": {},
   "outputs": [],
   "source": [
    "import matplotlib.pyplot as plt\n",
    "from wordcloud import WordCloud\n",
    "import numpy as np\n",
    "from PIL import Image\n",
    "from matplotlib import font_manager, rc\n",
    "\n",
    "# 한글 폰트 설정 (맥OS 기준, 윈도우의 경우 적절한 폰트 경로로 변경 필요)\n",
    "font_path = \"/System/Library/Fonts/Supplemental/AppleGothic.ttf\"\n",
    "font = font_manager.FontProperties(fname=font_path).get_name()\n",
    "rc('font', family=font)\n",
    "\n",
    "# 원형 마스크 생성\n",
    "def create_circle_mask(size):\n",
    "    x, y = np.ogrid[:size, :size]\n",
    "    center = (size - 1) / 2\n",
    "    circle_mask = (x - center) ** 2 + (y - center) ** 2 > (center ** 2)\n",
    "    mask = np.ones((size, size), dtype=np.uint8) * 255\n",
    "    mask[circle_mask] = 0\n",
    "    return mask\n",
    "\n",
    "# 워드 클라우드 생성 함수 (서브플롯을 활용)\n",
    "def create_wordcloud_subplots(df_keywords, kmeans, vectorizer):\n",
    "    fig, axes = plt.subplots(1, 3, figsize=(20, 20))  # 2x2 서브플롯 생성\n",
    "    axes = axes.flatten()\n",
    "    \n",
    "    circle_mask = create_circle_mask(800)  # 800x800 크기의 원형 마스크 생성\n",
    "    \n",
    "    for i in range(kmeans.n_clusters):\n",
    "        cluster_keywords = df_keywords[f'Cluster {i}']\n",
    "        cluster_center = kmeans.cluster_centers_[i]\n",
    "        keyword_weights = [cluster_center[vectorizer.vocabulary_[keyword]] for keyword in cluster_keywords]\n",
    "        \n",
    "        wordcloud = WordCloud(font_path=font_path,\n",
    "                              background_color='white',\n",
    "                              mask=255-circle_mask,\n",
    "                              contour_width=0,  # 외곽선 두께를 0으로 설정하여 원 바깥의 선을 없앰\n",
    "                              width=800,\n",
    "                              height=800,\n",
    "                              max_font_size=150,\n",
    "                              min_font_size=10).generate_from_frequencies(dict(zip(cluster_keywords, keyword_weights)))\n",
    "        \n",
    "        axes[i].imshow(wordcloud, interpolation='bilinear')\n",
    "        axes[i].axis('off')\n",
    "        axes[i].set_title(f'Cluster {i} Word Cloud', fontsize=20)\n",
    "    \n",
    "    plt.tight_layout(pad=0)\n",
    "    plt.show()\n",
    "\n",
    "# 전체 데이터에 대한 워드 클라우드 생성에 필요한 키워드와 가중치를 계산하는 함수\n",
    "def get_overall_keywords_and_weights(tfidf_matrix, vectorizer):\n",
    "    overall_weights = tfidf_matrix.sum(axis=0).A1  # 각 단어의 전체 가중치를 계산\n",
    "    keywords = vectorizer.get_feature_names_out()\n",
    "    keyword_weights = dict(zip(keywords, overall_weights))\n",
    "    \n",
    "    sorted_keywords = sorted(keyword_weights.items(), key=lambda item: item[1], reverse=True)\n",
    "    sorted_keywords = sorted_keywords[:50]  # 상위 50개 키워드 선택\n",
    "    all_keywords, all_weights = zip(*sorted_keywords)\n",
    "    \n",
    "    return all_keywords, all_weights\n",
    "\n",
    "# get_top_keywords 함수를 사용하여 각 군집의 주요 키워드 추출\n",
    "df_keywords = get_top_keywords(tfidf_matrix, kmeans, vectorizer, n_terms=50)  # 상위 50개 키워드 추출\n",
    "\n",
    "# 서브플롯을 사용하여 각 군집별 워드 클라우드 생성\n",
    "create_wordcloud_subplots(df_keywords, kmeans, vectorizer)\n",
    "\n",
    "# 전체 데이터에 대한 키워드와 가중치 추출\n",
    "all_keywords, all_weights = get_overall_keywords_and_weights(tfidf_matrix, vectorizer)\n",
    "\n",
    "# 전체 데이터에 대한 워드 클라우드 생성 (비교용)\n",
    "plt.figure(figsize=(10, 10))\n",
    "circle_mask = create_circle_mask(800)  # 800x800 크기의 원형 마스크 생성\n",
    "overall_wordcloud = WordCloud(font_path=font_path,\n",
    "                              background_color='white',\n",
    "                              mask=255-circle_mask,\n",
    "                              contour_width=0,  # 외곽선 두께를 0으로 설정하여 원 바깥의 선을 없앰\n",
    "                              width=800,\n",
    "                              height=800,\n",
    "                              max_font_size=150,\n",
    "                              min_font_size=10).generate_from_frequencies(dict(zip(all_keywords, all_weights)))\n",
    "\n",
    "plt.imshow(overall_wordcloud, interpolation='bilinear')\n",
    "plt.axis('off')\n",
    "plt.title('Overall Word Cloud', fontsize=20)\n",
    "plt.tight_layout(pad=0)\n",
    "plt.show()\n"
   ]
  },
  {
   "cell_type": "code",
   "execution_count": null,
   "id": "892690bc-5cae-4ade-8651-28b4c80f8766",
   "metadata": {},
   "outputs": [],
   "source": []
  },
  {
   "cell_type": "code",
   "execution_count": null,
   "id": "7191f395-a05f-4ab2-ab43-0accd0c54e2b",
   "metadata": {},
   "outputs": [],
   "source": []
  }
 ],
 "metadata": {
  "kernelspec": {
   "display_name": "Python 3 (ipykernel)",
   "language": "python",
   "name": "python3"
  },
  "language_info": {
   "codemirror_mode": {
    "name": "ipython",
    "version": 3
   },
   "file_extension": ".py",
   "mimetype": "text/x-python",
   "name": "python",
   "nbconvert_exporter": "python",
   "pygments_lexer": "ipython3",
   "version": "3.11.4"
  }
 },
 "nbformat": 4,
 "nbformat_minor": 5
}
