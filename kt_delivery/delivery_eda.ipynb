{
 "cells": [
  {
   "cell_type": "code",
   "execution_count": null,
   "metadata": {},
   "outputs": [],
   "source": [
    "import os\n",
    "import pandas as pd\n",
    "import koreanize_matplotlib\n",
    "\n",
    "data_folder = 'data'\n",
    "csv_files = [f for f in os.listdir(data_folder) if f.endswith('.csv')]\n",
    "\n",
    "# KGUWTHRDLVRDF 파일(컬럼명 있는 파일) 찾기\n",
    "col_file = None\n",
    "for f in csv_files:\n",
    "    if 'KGUWTHRDLVRDF' in f:\n",
    "        col_file = f\n",
    "        break\n",
    "\n",
    "# 컬럼명 추출\n",
    "if col_file is not None:\n",
    "    col_file_path = os.path.join(data_folder, col_file)\n",
    "    col_names = pd.read_csv(col_file_path, nrows=0).columns.tolist()\n",
    "else:\n",
    "    raise ValueError(\"KGUWTHRDLVRDF 파일을 찾을 수 없습니다.\")\n",
    "\n",
    "df_list = []\n",
    "for file in csv_files:\n",
    "    file_path = os.path.join(data_folder, file)\n",
    "    if file == col_file:\n",
    "        df_temp = pd.read_csv(file_path)\n",
    "    else:\n",
    "        df_temp = pd.read_csv(file_path, header=None, names=col_names)\n",
    "    df_list.append(df_temp)\n",
    "\n",
    "df = pd.concat(df_list, ignore_index=True)\n",
    "print(df.shape)\n",
    "df.head()\n"
   ]
  },
  {
   "cell_type": "code",
   "execution_count": null,
   "metadata": {},
   "outputs": [],
   "source": [
    "import pandas as pd\n",
    "\n",
    "# data 폴더 내의 모든 엑셀 확장자 파일(.xls, .xlsx) 찾기\n",
    "excel_files = [f for f in os.listdir(data_folder) if f.endswith('.xls') or f.endswith('.xlsx')]\n",
    "\n",
    "excel_df_list = []\n",
    "for excel_file in excel_files:\n",
    "    excel_path = os.path.join(data_folder, excel_file)\n",
    "    df_excel = pd.read_excel(excel_path)\n",
    "    excel_df_list.append(df_excel)\n",
    "\n",
    "# 여러 엑셀 파일을 하나의 데이터프레임으로 합치기 (필요시)\n",
    "if excel_df_list:\n",
    "    df_excel_all = pd.concat(excel_df_list, ignore_index=True)\n",
    "    display(df_excel_all.head())\n",
    "else:\n",
    "    print(\"엑셀 파일이 없습니다.\")\n",
    "\n"
   ]
  },
  {
   "cell_type": "code",
   "execution_count": 26,
   "metadata": {},
   "outputs": [],
   "source": [
    "# df_excel_all에서 컬럼한글명과 컬럼영문명을 가져와서 df의 컬럼명을 컬럼한글명으로 변경\n",
    "if '컬럼한글명' in df_excel_all.columns and '컬럼영문명' in df_excel_all.columns:\n",
    "    # 컬럼영문명-컬럼한글명 매핑 딕셔너리 생성\n",
    "    col_map = dict(zip(df_excel_all['컬럼영문명'], df_excel_all['컬럼한글명']))\n",
    "    # df의 컬럼명을 한글명으로 변경\n",
    "    df.rename(columns=col_map, inplace=True)\n",
    "else:\n",
    "    print(\"df_excel_all에 '컬럼한글명' 또는 '컬럼영문명' 컬럼이 없습니다.\")"
   ]
  },
  {
   "cell_type": "markdown",
   "metadata": {},
   "source": []
  },
  {
   "cell_type": "code",
   "execution_count": null,
   "metadata": {},
   "outputs": [],
   "source": [
    "col_map"
   ]
  },
  {
   "cell_type": "code",
   "execution_count": null,
   "metadata": {},
   "outputs": [],
   "source": [
    "df.info()\n"
   ]
  },
  {
   "cell_type": "code",
   "execution_count": null,
   "metadata": {},
   "outputs": [],
   "source": [
    "df.describe()"
   ]
  },
  {
   "cell_type": "code",
   "execution_count": null,
   "metadata": {},
   "outputs": [],
   "source": [
    "df.head()"
   ]
  },
  {
   "cell_type": "code",
   "execution_count": null,
   "metadata": {},
   "outputs": [],
   "source": [
    "\n",
    "df.tail()"
   ]
  },
  {
   "cell_type": "code",
   "execution_count": null,
   "metadata": {},
   "outputs": [],
   "source": [
    "\n",
    "df.sample(10)\n",
    "df.isnull().sum()\n",
    "df.isnull().sum().sum()\n",
    "df.isnull().sum().sum() / df.shape[0] * 100\n",
    "df.isnull().sum().sum() / df.shape[0] * 100"
   ]
  },
  {
   "cell_type": "code",
   "execution_count": null,
   "metadata": {},
   "outputs": [],
   "source": [
    "df.hist(bins=50, figsize=(12, 12));"
   ]
  },
  {
   "cell_type": "code",
   "execution_count": null,
   "metadata": {},
   "outputs": [],
   "source": [
    "df[\"강수 유형명\"].value_counts()"
   ]
  },
  {
   "cell_type": "code",
   "execution_count": null,
   "metadata": {},
   "outputs": [],
   "source": [
    "display(df['광역시도명'].value_counts())\n",
    "display(df['시군구명'].value_counts())\n",
    "display(df['강수 유형명'].value_counts())\n",
    "display(df['강수 유형명'].value_counts())"
   ]
  },
  {
   "cell_type": "code",
   "execution_count": null,
   "metadata": {},
   "outputs": [],
   "source": [
    "# 강수 유형명(y) 예측 모델 작성\n",
    "\n",
    "from sklearn.model_selection import train_test_split\n",
    "from sklearn.ensemble import RandomForestClassifier\n",
    "from sklearn.metrics import classification_report, accuracy_score\n",
    "\n",
    "# 사용할 feature 선택 (object 타입 및 y 제외)\n",
    "X = df.drop(columns=[\"강수 유형명\", \"광역시도명\", \"시군구명\", \"날짜\"])\n",
    "y = df[\"강수 유형명\"]\n",
    "\n",
    "# 범주형 feature 인코딩 (필요시)\n",
    "X = X.copy()\n",
    "for col in X.select_dtypes(include=\"object\").columns:\n",
    "    X[col] = X[col].astype(\"category\").cat.codes\n",
    "\n",
    "# 결측치 처리 (간단히 0으로 대체)\n",
    "X = X.fillna(0)\n",
    "\n",
    "# 데이터 분할\n",
    "X_train, X_test, y_train, y_test = train_test_split(X, y, test_size=0.2, random_state=42, stratify=y)\n",
    "\n",
    "# 모델 학습\n",
    "clf = RandomForestClassifier(random_state=42)\n",
    "clf.fit(X_train, y_train)\n",
    "\n",
    "# 예측 및 평가\n",
    "y_pred = clf.predict(X_test)\n",
    "print(\"Accuracy:\", accuracy_score(y_test, y_pred))\n",
    "print(classification_report(y_test, y_pred))\n"
   ]
  },
  {
   "cell_type": "code",
   "execution_count": null,
   "metadata": {},
   "outputs": [],
   "source": [
    "import matplotlib.pyplot as plt\n",
    "import numpy as np\n",
    "\n",
    "# 피처 중요도 추출\n",
    "importances = clf.feature_importances_\n",
    "feature_names = X.columns\n",
    "\n",
    "# 중요도 내림차순 정렬\n",
    "indices = np.argsort(importances)[::-1]\n",
    "\n",
    "# 중요도 출력\n",
    "print(\"Feature importances:\")\n",
    "for f in range(len(feature_names)):\n",
    "    print(f\"{feature_names[indices[f]]}: {importances[indices[f]]:.4f}\")\n",
    "\n",
    "# 시각화\n",
    "plt.figure(figsize=(10, 6))\n",
    "plt.title(\"Feature Importances\")\n",
    "plt.bar(range(len(feature_names)), importances[indices], align=\"center\")\n",
    "plt.xticks(range(len(feature_names)), feature_names[indices], rotation=90)\n",
    "plt.tight_layout()\n",
    "plt.show()\n"
   ]
  },
  {
   "cell_type": "code",
   "execution_count": null,
   "metadata": {},
   "outputs": [],
   "source": []
  }
 ],
 "metadata": {
  "kernelspec": {
   "display_name": ".venv",
   "language": "python",
   "name": "python3"
  },
  "language_info": {
   "codemirror_mode": {
    "name": "ipython",
    "version": 3
   },
   "file_extension": ".py",
   "mimetype": "text/x-python",
   "name": "python",
   "nbconvert_exporter": "python",
   "pygments_lexer": "ipython3",
   "version": "3.13.2"
  }
 },
 "nbformat": 4,
 "nbformat_minor": 2
}
