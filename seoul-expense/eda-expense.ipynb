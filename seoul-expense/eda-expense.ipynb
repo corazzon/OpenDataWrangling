{
 "cells": [
  {
   "cell_type": "markdown",
   "id": "60ece758",
   "metadata": {},
   "source": [
    "[서울시 본청 업무추진비 목록> 데이터셋> 공공데이터 | 서울열린데이터광장](https://data.seoul.go.kr/dataList/OA-22156/S/1/datasetView.do)"
   ]
  },
  {
   "cell_type": "code",
   "execution_count": 1,
   "id": "b5f9d253",
   "metadata": {},
   "outputs": [],
   "source": [
    "import pandas as pd\n",
    "import seaborn as sns\n",
    "import koreanize_matplotlib"
   ]
  },
  {
   "cell_type": "code",
   "execution_count": 2,
   "id": "b34cecbd",
   "metadata": {},
   "outputs": [
    {
     "data": {
      "text/plain": [
       "(51428, 18)"
      ]
     },
     "execution_count": 2,
     "metadata": {},
     "output_type": "execute_result"
    }
   ],
   "source": [
    "df = pd.read_csv(\"data/seoul-expense.csv\", encoding=\"cp949\")\n",
    "df.shape"
   ]
  },
  {
   "cell_type": "code",
   "execution_count": 3,
   "id": "89b633e6",
   "metadata": {},
   "outputs": [
    {
     "data": {
      "text/html": [
       "<div>\n",
       "<style scoped>\n",
       "    .dataframe tbody tr th:only-of-type {\n",
       "        vertical-align: middle;\n",
       "    }\n",
       "\n",
       "    .dataframe tbody tr th {\n",
       "        vertical-align: top;\n",
       "    }\n",
       "\n",
       "    .dataframe thead th {\n",
       "        text-align: right;\n",
       "    }\n",
       "</style>\n",
       "<table border=\"1\" class=\"dataframe\">\n",
       "  <thead>\n",
       "    <tr style=\"text-align: right;\">\n",
       "      <th></th>\n",
       "      <th>문서고유id</th>\n",
       "      <th>제목</th>\n",
       "      <th>부서명</th>\n",
       "      <th>전화번호</th>\n",
       "      <th>작성자</th>\n",
       "      <th>등록일</th>\n",
       "      <th>해당년도</th>\n",
       "      <th>해당월</th>\n",
       "      <th>문서url</th>\n",
       "      <th>구분(시장실만 사용)</th>\n",
       "      <th>전체부서명</th>\n",
       "      <th>집행일시</th>\n",
       "      <th>집행장소</th>\n",
       "      <th>집행목적</th>\n",
       "      <th>집행대상</th>\n",
       "      <th>결제방법</th>\n",
       "      <th>집행금액</th>\n",
       "      <th>비목</th>\n",
       "    </tr>\n",
       "  </thead>\n",
       "  <tbody>\n",
       "    <tr>\n",
       "      <th>0</th>\n",
       "      <td>30267889</td>\n",
       "      <td>2023년 12월 서울시본청 주택정책실 주택공급기획관 공동주택지원과 업무추진비 - ...</td>\n",
       "      <td>공동주택지원과</td>\n",
       "      <td>02-2133-7134</td>\n",
       "      <td>박혜은</td>\n",
       "      <td>2024-02-02</td>\n",
       "      <td>2023</td>\n",
       "      <td>12</td>\n",
       "      <td>https://opengov.seoul.go.kr/expense/30267889</td>\n",
       "      <td>NaN</td>\n",
       "      <td>주택정책실 주택공급기획관 공동주택지원과</td>\n",
       "      <td>2023-12-20 11:45</td>\n",
       "      <td>서궁(종로구 새문안로 35-20)</td>\n",
       "      <td>주택재건축 정비계획 결정 및 정비구역 지정 관련 간담회 비용 지급</td>\n",
       "      <td>공동주택지원과장 외 2명</td>\n",
       "      <td>카드</td>\n",
       "      <td>29570</td>\n",
       "      <td>부서</td>\n",
       "    </tr>\n",
       "    <tr>\n",
       "      <th>1</th>\n",
       "      <td>30267889</td>\n",
       "      <td>2023년 12월 서울시본청 주택정책실 주택공급기획관 공동주택지원과 업무추진비 - ...</td>\n",
       "      <td>공동주택지원과</td>\n",
       "      <td>02-2133-7134</td>\n",
       "      <td>박혜은</td>\n",
       "      <td>2024-02-02</td>\n",
       "      <td>2023</td>\n",
       "      <td>12</td>\n",
       "      <td>https://opengov.seoul.go.kr/expense/30267889</td>\n",
       "      <td>NaN</td>\n",
       "      <td>주택정책실 주택공급기획관 공동주택지원과</td>\n",
       "      <td>2023-12-14 13:15</td>\n",
       "      <td>잼배옥(중구 서소문동 64-4)</td>\n",
       "      <td>공동주택 장기수선 제도개선 방안 수립용역 준공 관련 간담회 비용 지급(2)</td>\n",
       "      <td>공동주택지원과장 외 4명</td>\n",
       "      <td>카드</td>\n",
       "      <td>14000</td>\n",
       "      <td>부서</td>\n",
       "    </tr>\n",
       "  </tbody>\n",
       "</table>\n",
       "</div>"
      ],
      "text/plain": [
       "     문서고유id                                                 제목      부서명  \\\n",
       "0  30267889  2023년 12월 서울시본청 주택정책실 주택공급기획관 공동주택지원과 업무추진비 - ...  공동주택지원과   \n",
       "1  30267889  2023년 12월 서울시본청 주택정책실 주택공급기획관 공동주택지원과 업무추진비 - ...  공동주택지원과   \n",
       "\n",
       "           전화번호  작성자         등록일  해당년도  해당월  \\\n",
       "0  02-2133-7134  박혜은  2024-02-02  2023   12   \n",
       "1  02-2133-7134  박혜은  2024-02-02  2023   12   \n",
       "\n",
       "                                          문서url 구분(시장실만 사용)  \\\n",
       "0  https://opengov.seoul.go.kr/expense/30267889         NaN   \n",
       "1  https://opengov.seoul.go.kr/expense/30267889         NaN   \n",
       "\n",
       "                   전체부서명              집행일시                집행장소  \\\n",
       "0  주택정책실 주택공급기획관 공동주택지원과  2023-12-20 11:45  서궁(종로구 새문안로 35-20)   \n",
       "1  주택정책실 주택공급기획관 공동주택지원과  2023-12-14 13:15   잼배옥(중구 서소문동 64-4)   \n",
       "\n",
       "                                        집행목적           집행대상 결제방법   집행금액  비목  \n",
       "0       주택재건축 정비계획 결정 및 정비구역 지정 관련 간담회 비용 지급  공동주택지원과장 외 2명   카드  29570  부서  \n",
       "1  공동주택 장기수선 제도개선 방안 수립용역 준공 관련 간담회 비용 지급(2)  공동주택지원과장 외 4명   카드  14000  부서  "
      ]
     },
     "execution_count": 3,
     "metadata": {},
     "output_type": "execute_result"
    }
   ],
   "source": [
    "df.head(2)"
   ]
  },
  {
   "cell_type": "code",
   "execution_count": 4,
   "id": "bcd90bd5",
   "metadata": {},
   "outputs": [
    {
     "name": "stdout",
     "output_type": "stream",
     "text": [
      "<class 'pandas.core.frame.DataFrame'>\n",
      "RangeIndex: 51428 entries, 0 to 51427\n",
      "Data columns (total 18 columns):\n",
      " #   Column       Non-Null Count  Dtype \n",
      "---  ------       --------------  ----- \n",
      " 0   문서고유id       51428 non-null  int64 \n",
      " 1   제목           51428 non-null  object\n",
      " 2   부서명          51428 non-null  object\n",
      " 3   전화번호         51428 non-null  object\n",
      " 4   작성자          51428 non-null  object\n",
      " 5   등록일          51428 non-null  object\n",
      " 6   해당년도         51428 non-null  int64 \n",
      " 7   해당월          51428 non-null  int64 \n",
      " 8   문서url        51428 non-null  object\n",
      " 9   구분(시장실만 사용)  717 non-null    object\n",
      " 10  전체부서명        51428 non-null  object\n",
      " 11  집행일시         51428 non-null  object\n",
      " 12  집행장소         51206 non-null  object\n",
      " 13  집행목적         51428 non-null  object\n",
      " 14  집행대상         51316 non-null  object\n",
      " 15  결제방법         51428 non-null  object\n",
      " 16  집행금액         51428 non-null  int64 \n",
      " 17  비목           51428 non-null  object\n",
      "dtypes: int64(4), object(14)\n",
      "memory usage: 7.1+ MB\n"
     ]
    }
   ],
   "source": [
    "df.info()"
   ]
  },
  {
   "cell_type": "code",
   "execution_count": 5,
   "id": "c019fe35",
   "metadata": {},
   "outputs": [
    {
     "data": {
      "text/html": [
       "<div>\n",
       "<style scoped>\n",
       "    .dataframe tbody tr th:only-of-type {\n",
       "        vertical-align: middle;\n",
       "    }\n",
       "\n",
       "    .dataframe tbody tr th {\n",
       "        vertical-align: top;\n",
       "    }\n",
       "\n",
       "    .dataframe thead th {\n",
       "        text-align: right;\n",
       "    }\n",
       "</style>\n",
       "<table border=\"1\" class=\"dataframe\">\n",
       "  <thead>\n",
       "    <tr style=\"text-align: right;\">\n",
       "      <th></th>\n",
       "      <th>문서고유id</th>\n",
       "      <th>해당년도</th>\n",
       "      <th>해당월</th>\n",
       "      <th>집행금액</th>\n",
       "    </tr>\n",
       "  </thead>\n",
       "  <tbody>\n",
       "    <tr>\n",
       "      <th>count</th>\n",
       "      <td>51428.00</td>\n",
       "      <td>51428.00</td>\n",
       "      <td>51428.00</td>\n",
       "      <td>51428.00</td>\n",
       "    </tr>\n",
       "    <tr>\n",
       "      <th>mean</th>\n",
       "      <td>29053914.24</td>\n",
       "      <td>2023.08</td>\n",
       "      <td>6.20</td>\n",
       "      <td>127246.27</td>\n",
       "    </tr>\n",
       "    <tr>\n",
       "      <th>std</th>\n",
       "      <td>780336.54</td>\n",
       "      <td>0.26</td>\n",
       "      <td>3.69</td>\n",
       "      <td>286999.45</td>\n",
       "    </tr>\n",
       "    <tr>\n",
       "      <th>min</th>\n",
       "      <td>27741766.00</td>\n",
       "      <td>2023.00</td>\n",
       "      <td>1.00</td>\n",
       "      <td>0.00</td>\n",
       "    </tr>\n",
       "    <tr>\n",
       "      <th>25%</th>\n",
       "      <td>28396801.00</td>\n",
       "      <td>2023.00</td>\n",
       "      <td>3.00</td>\n",
       "      <td>55000.00</td>\n",
       "    </tr>\n",
       "    <tr>\n",
       "      <th>50%</th>\n",
       "      <td>29028993.00</td>\n",
       "      <td>2023.00</td>\n",
       "      <td>6.00</td>\n",
       "      <td>90000.00</td>\n",
       "    </tr>\n",
       "    <tr>\n",
       "      <th>75%</th>\n",
       "      <td>29802955.00</td>\n",
       "      <td>2023.00</td>\n",
       "      <td>9.00</td>\n",
       "      <td>150000.00</td>\n",
       "    </tr>\n",
       "    <tr>\n",
       "      <th>max</th>\n",
       "      <td>30350224.00</td>\n",
       "      <td>2024.00</td>\n",
       "      <td>12.00</td>\n",
       "      <td>45526140.00</td>\n",
       "    </tr>\n",
       "  </tbody>\n",
       "</table>\n",
       "</div>"
      ],
      "text/plain": [
       "            문서고유id      해당년도       해당월         집행금액\n",
       "count     51428.00  51428.00  51428.00     51428.00\n",
       "mean   29053914.24   2023.08      6.20    127246.27\n",
       "std      780336.54      0.26      3.69    286999.45\n",
       "min    27741766.00   2023.00      1.00         0.00\n",
       "25%    28396801.00   2023.00      3.00     55000.00\n",
       "50%    29028993.00   2023.00      6.00     90000.00\n",
       "75%    29802955.00   2023.00      9.00    150000.00\n",
       "max    30350224.00   2024.00     12.00  45526140.00"
      ]
     },
     "execution_count": 5,
     "metadata": {},
     "output_type": "execute_result"
    }
   ],
   "source": [
    "df.describe().round(2)"
   ]
  },
  {
   "cell_type": "code",
   "execution_count": 6,
   "id": "41135fad",
   "metadata": {},
   "outputs": [
    {
     "data": {
      "text/html": [
       "<div>\n",
       "<style scoped>\n",
       "    .dataframe tbody tr th:only-of-type {\n",
       "        vertical-align: middle;\n",
       "    }\n",
       "\n",
       "    .dataframe tbody tr th {\n",
       "        vertical-align: top;\n",
       "    }\n",
       "\n",
       "    .dataframe thead th {\n",
       "        text-align: right;\n",
       "    }\n",
       "</style>\n",
       "<table border=\"1\" class=\"dataframe\">\n",
       "  <thead>\n",
       "    <tr style=\"text-align: right;\">\n",
       "      <th></th>\n",
       "      <th>제목</th>\n",
       "      <th>부서명</th>\n",
       "      <th>전화번호</th>\n",
       "      <th>작성자</th>\n",
       "      <th>등록일</th>\n",
       "      <th>문서url</th>\n",
       "      <th>구분(시장실만 사용)</th>\n",
       "      <th>전체부서명</th>\n",
       "      <th>집행일시</th>\n",
       "      <th>집행장소</th>\n",
       "      <th>집행목적</th>\n",
       "      <th>집행대상</th>\n",
       "      <th>결제방법</th>\n",
       "      <th>비목</th>\n",
       "    </tr>\n",
       "  </thead>\n",
       "  <tbody>\n",
       "    <tr>\n",
       "      <th>count</th>\n",
       "      <td>51428</td>\n",
       "      <td>51428</td>\n",
       "      <td>51428</td>\n",
       "      <td>51428</td>\n",
       "      <td>51428</td>\n",
       "      <td>51428</td>\n",
       "      <td>717</td>\n",
       "      <td>51428</td>\n",
       "      <td>51428</td>\n",
       "      <td>51206</td>\n",
       "      <td>51428</td>\n",
       "      <td>51316</td>\n",
       "      <td>51428</td>\n",
       "      <td>51428</td>\n",
       "    </tr>\n",
       "    <tr>\n",
       "      <th>unique</th>\n",
       "      <td>2213</td>\n",
       "      <td>252</td>\n",
       "      <td>330</td>\n",
       "      <td>300</td>\n",
       "      <td>222</td>\n",
       "      <td>2213</td>\n",
       "      <td>2</td>\n",
       "      <td>253</td>\n",
       "      <td>35538</td>\n",
       "      <td>18109</td>\n",
       "      <td>34927</td>\n",
       "      <td>10300</td>\n",
       "      <td>3</td>\n",
       "      <td>4</td>\n",
       "    </tr>\n",
       "    <tr>\n",
       "      <th>top</th>\n",
       "      <td>2023년 12월 서울시본청 행정국 총무과 업무추진비 - 전체</td>\n",
       "      <td>총무과</td>\n",
       "      <td>02-2133-6412</td>\n",
       "      <td>김두영</td>\n",
       "      <td>2023-04-10</td>\n",
       "      <td>https://opengov.seoul.go.kr/expense/30115434</td>\n",
       "      <td>시정 관련 간담회 등</td>\n",
       "      <td>행정국 총무과</td>\n",
       "      <td>1970-01-01 09:00</td>\n",
       "      <td>삼우정(중구 서소문로 134-12)</td>\n",
       "      <td>기강감찰 행정소요경비 지급</td>\n",
       "      <td>디자인정책관 외 3명</td>\n",
       "      <td>카드</td>\n",
       "      <td>시책</td>\n",
       "    </tr>\n",
       "    <tr>\n",
       "      <th>freq</th>\n",
       "      <td>285</td>\n",
       "      <td>3086</td>\n",
       "      <td>1893</td>\n",
       "      <td>2048</td>\n",
       "      <td>1353</td>\n",
       "      <td>285</td>\n",
       "      <td>377</td>\n",
       "      <td>3227</td>\n",
       "      <td>18</td>\n",
       "      <td>287</td>\n",
       "      <td>376</td>\n",
       "      <td>124</td>\n",
       "      <td>37336</td>\n",
       "      <td>39320</td>\n",
       "    </tr>\n",
       "  </tbody>\n",
       "</table>\n",
       "</div>"
      ],
      "text/plain": [
       "                                        제목    부서명          전화번호    작성자  \\\n",
       "count                                51428  51428         51428  51428   \n",
       "unique                                2213    252           330    300   \n",
       "top     2023년 12월 서울시본청 행정국 총무과 업무추진비 - 전체    총무과  02-2133-6412    김두영   \n",
       "freq                                   285   3086          1893   2048   \n",
       "\n",
       "               등록일                                         문서url  구분(시장실만 사용)  \\\n",
       "count        51428                                         51428          717   \n",
       "unique         222                                          2213            2   \n",
       "top     2023-04-10  https://opengov.seoul.go.kr/expense/30115434  시정 관련 간담회 등   \n",
       "freq          1353                                           285          377   \n",
       "\n",
       "          전체부서명              집행일시                 집행장소            집행목적  \\\n",
       "count     51428             51428                51206           51428   \n",
       "unique      253             35538                18109           34927   \n",
       "top     행정국 총무과  1970-01-01 09:00  삼우정(중구 서소문로 134-12)  기강감찰 행정소요경비 지급   \n",
       "freq       3227                18                  287             376   \n",
       "\n",
       "               집행대상   결제방법     비목  \n",
       "count         51316  51428  51428  \n",
       "unique        10300      3      4  \n",
       "top     디자인정책관 외 3명     카드     시책  \n",
       "freq            124  37336  39320  "
      ]
     },
     "execution_count": 6,
     "metadata": {},
     "output_type": "execute_result"
    }
   ],
   "source": [
    "df.describe(include=\"object\")"
   ]
  },
  {
   "cell_type": "code",
   "execution_count": 7,
   "id": "a05900d5-0ab5-4849-9f82-675ccd626de3",
   "metadata": {},
   "outputs": [],
   "source": [
    "df[\"집행일시\"] = pd.to_datetime(df[\"집행일시\"])\n",
    "df[\"집행연도\"] = df[\"집행일시\"].dt.year\n",
    "df[\"집행월\"] = df[\"집행일시\"].dt.month\n",
    "df[\"집행일\"] = df[\"집행일시\"].dt.day\n",
    "df[\"집행요일\"] = df[\"집행일시\"].dt.dayofweek"
   ]
  },
  {
   "cell_type": "code",
   "execution_count": 8,
   "id": "f52df1be-209c-429b-932b-3e240016ebe1",
   "metadata": {},
   "outputs": [
    {
     "data": {
      "text/html": [
       "<div>\n",
       "<style scoped>\n",
       "    .dataframe tbody tr th:only-of-type {\n",
       "        vertical-align: middle;\n",
       "    }\n",
       "\n",
       "    .dataframe tbody tr th {\n",
       "        vertical-align: top;\n",
       "    }\n",
       "\n",
       "    .dataframe thead th {\n",
       "        text-align: right;\n",
       "    }\n",
       "</style>\n",
       "<table border=\"1\" class=\"dataframe\">\n",
       "  <thead>\n",
       "    <tr style=\"text-align: right;\">\n",
       "      <th></th>\n",
       "      <th>문서고유id</th>\n",
       "      <th>해당년도</th>\n",
       "      <th>해당월</th>\n",
       "      <th>집행일시</th>\n",
       "      <th>집행금액</th>\n",
       "      <th>집행연도</th>\n",
       "      <th>집행월</th>\n",
       "      <th>집행일</th>\n",
       "      <th>집행요일</th>\n",
       "    </tr>\n",
       "  </thead>\n",
       "  <tbody>\n",
       "    <tr>\n",
       "      <th>count</th>\n",
       "      <td>5.142800e+04</td>\n",
       "      <td>51428.000000</td>\n",
       "      <td>51428.000000</td>\n",
       "      <td>51428</td>\n",
       "      <td>5.142800e+04</td>\n",
       "      <td>51428.000000</td>\n",
       "      <td>51428.000000</td>\n",
       "      <td>51428.000000</td>\n",
       "      <td>51428.000000</td>\n",
       "    </tr>\n",
       "    <tr>\n",
       "      <th>mean</th>\n",
       "      <td>2.905391e+07</td>\n",
       "      <td>2023.075815</td>\n",
       "      <td>6.201505</td>\n",
       "      <td>2023-07-13 22:24:10.147779584</td>\n",
       "      <td>1.272463e+05</td>\n",
       "      <td>2023.057245</td>\n",
       "      <td>6.199872</td>\n",
       "      <td>16.009722</td>\n",
       "      <td>2.092965</td>\n",
       "    </tr>\n",
       "    <tr>\n",
       "      <th>min</th>\n",
       "      <td>2.774177e+07</td>\n",
       "      <td>2023.000000</td>\n",
       "      <td>1.000000</td>\n",
       "      <td>1970-01-01 09:00:00</td>\n",
       "      <td>0.000000e+00</td>\n",
       "      <td>1970.000000</td>\n",
       "      <td>1.000000</td>\n",
       "      <td>1.000000</td>\n",
       "      <td>0.000000</td>\n",
       "    </tr>\n",
       "    <tr>\n",
       "      <th>25%</th>\n",
       "      <td>2.839680e+07</td>\n",
       "      <td>2023.000000</td>\n",
       "      <td>3.000000</td>\n",
       "      <td>2023-04-11 12:50:45</td>\n",
       "      <td>5.500000e+04</td>\n",
       "      <td>2023.000000</td>\n",
       "      <td>3.000000</td>\n",
       "      <td>9.000000</td>\n",
       "      <td>1.000000</td>\n",
       "    </tr>\n",
       "    <tr>\n",
       "      <th>50%</th>\n",
       "      <td>2.902899e+07</td>\n",
       "      <td>2023.000000</td>\n",
       "      <td>6.000000</td>\n",
       "      <td>2023-07-19 13:22:30</td>\n",
       "      <td>9.000000e+04</td>\n",
       "      <td>2023.000000</td>\n",
       "      <td>6.000000</td>\n",
       "      <td>16.000000</td>\n",
       "      <td>2.000000</td>\n",
       "    </tr>\n",
       "    <tr>\n",
       "      <th>75%</th>\n",
       "      <td>2.980296e+07</td>\n",
       "      <td>2023.000000</td>\n",
       "      <td>9.000000</td>\n",
       "      <td>2023-11-01 12:20:15</td>\n",
       "      <td>1.500000e+05</td>\n",
       "      <td>2023.000000</td>\n",
       "      <td>9.000000</td>\n",
       "      <td>23.000000</td>\n",
       "      <td>3.000000</td>\n",
       "    </tr>\n",
       "    <tr>\n",
       "      <th>max</th>\n",
       "      <td>3.035022e+07</td>\n",
       "      <td>2024.000000</td>\n",
       "      <td>12.000000</td>\n",
       "      <td>2024-01-31 21:57:00</td>\n",
       "      <td>4.552614e+07</td>\n",
       "      <td>2024.000000</td>\n",
       "      <td>12.000000</td>\n",
       "      <td>31.000000</td>\n",
       "      <td>6.000000</td>\n",
       "    </tr>\n",
       "    <tr>\n",
       "      <th>std</th>\n",
       "      <td>7.803365e+05</td>\n",
       "      <td>0.264704</td>\n",
       "      <td>3.685438</td>\n",
       "      <td>NaN</td>\n",
       "      <td>2.869994e+05</td>\n",
       "      <td>1.027473</td>\n",
       "      <td>3.685960</td>\n",
       "      <td>8.634498</td>\n",
       "      <td>1.415798</td>\n",
       "    </tr>\n",
       "  </tbody>\n",
       "</table>\n",
       "</div>"
      ],
      "text/plain": [
       "             문서고유id          해당년도           해당월  \\\n",
       "count  5.142800e+04  51428.000000  51428.000000   \n",
       "mean   2.905391e+07   2023.075815      6.201505   \n",
       "min    2.774177e+07   2023.000000      1.000000   \n",
       "25%    2.839680e+07   2023.000000      3.000000   \n",
       "50%    2.902899e+07   2023.000000      6.000000   \n",
       "75%    2.980296e+07   2023.000000      9.000000   \n",
       "max    3.035022e+07   2024.000000     12.000000   \n",
       "std    7.803365e+05      0.264704      3.685438   \n",
       "\n",
       "                                집행일시          집행금액          집행연도  \\\n",
       "count                          51428  5.142800e+04  51428.000000   \n",
       "mean   2023-07-13 22:24:10.147779584  1.272463e+05   2023.057245   \n",
       "min              1970-01-01 09:00:00  0.000000e+00   1970.000000   \n",
       "25%              2023-04-11 12:50:45  5.500000e+04   2023.000000   \n",
       "50%              2023-07-19 13:22:30  9.000000e+04   2023.000000   \n",
       "75%              2023-11-01 12:20:15  1.500000e+05   2023.000000   \n",
       "max              2024-01-31 21:57:00  4.552614e+07   2024.000000   \n",
       "std                              NaN  2.869994e+05      1.027473   \n",
       "\n",
       "                집행월           집행일          집행요일  \n",
       "count  51428.000000  51428.000000  51428.000000  \n",
       "mean       6.199872     16.009722      2.092965  \n",
       "min        1.000000      1.000000      0.000000  \n",
       "25%        3.000000      9.000000      1.000000  \n",
       "50%        6.000000     16.000000      2.000000  \n",
       "75%        9.000000     23.000000      3.000000  \n",
       "max       12.000000     31.000000      6.000000  \n",
       "std        3.685960      8.634498      1.415798  "
      ]
     },
     "execution_count": 8,
     "metadata": {},
     "output_type": "execute_result"
    }
   ],
   "source": [
    "df.describe()"
   ]
  },
  {
   "cell_type": "code",
   "execution_count": 9,
   "id": "a5764960-c25a-4a93-b0ac-6af76738e533",
   "metadata": {},
   "outputs": [
    {
     "data": {
      "image/png": "[encoded data removed]",
      "text/plain": [
       "<Figure size 1200x600 with 9 Axes>"
      ]
     },
     "metadata": {},
     "output_type": "display_data"
    }
   ],
   "source": [
    "df.hist(figsize=(12, 6));"
   ]
  },
  {
   "cell_type": "code",
   "execution_count": 10,
   "id": "abc5607a",
   "metadata": {},
   "outputs": [
    {
     "data": {
      "text/plain": [
       "집행장소\n",
       "삼우정(중구 서소문로 134-12)             287\n",
       "서울시청 간담회장(서울특별시 중구 세종대로 110)    208\n",
       "오리마당(중구 세종대로 92)                182\n",
       "우도일식(중구 세종대로 124)               169\n",
       "삼우정(서울 중구 서소문로 134-12)          158\n",
       "구이구이(중구 을지로 6)                  135\n",
       "곰국시집(중구 무교로 24)                 126\n",
       "곰국시집(서울 중구 무교로 24)              125\n",
       "푸에르코 광화문(서울특별시 중구 무교로 21)       123\n",
       "월매네남원추어탕(중구 서소문로 109-8)         113\n",
       "Name: count, dtype: int64"
      ]
     },
     "execution_count": 10,
     "metadata": {},
     "output_type": "execute_result"
    }
   ],
   "source": [
    "df[\"집행장소\"].value_counts().head(10)"
   ]
  },
  {
   "cell_type": "code",
   "execution_count": 11,
   "id": "b3be6297-ab9f-4947-8117-9d36c25a98ff",
   "metadata": {},
   "outputs": [
    {
     "data": {
      "text/plain": [
       "0             서궁\n",
       "1            잼배옥\n",
       "2            잼배옥\n",
       "3        브이아이피참치\n",
       "4           북창갈비\n",
       "          ...   \n",
       "51423        삼우정\n",
       "51424         라밥\n",
       "51425       오리마당\n",
       "51426        삼우정\n",
       "51427        삼우정\n",
       "Name: 집행장소, Length: 51428, dtype: object"
      ]
     },
     "execution_count": 11,
     "metadata": {},
     "output_type": "execute_result"
    }
   ],
   "source": [
    "df[\"집행장소\"].map(lambda x : str(x).replace(\"(주)\", \"<주>\").split(\"(\")[0])"
   ]
  },
  {
   "cell_type": "code",
   "execution_count": 12,
   "id": "0e6142e5-ec47-4453-b95a-75cd131bfe5c",
   "metadata": {},
   "outputs": [
    {
     "data": {
      "text/plain": [
       "0         서궁\n",
       "1        잼배옥\n",
       "2        잼배옥\n",
       "3    브이아이피참치\n",
       "4       북창갈비\n",
       "Name: 상호명, dtype: object"
      ]
     },
     "execution_count": 12,
     "metadata": {},
     "output_type": "execute_result"
    }
   ],
   "source": [
    "df[\"상호명\"] = df[\"집행장소\"].str.replace(r\"\\)([^(\\d)]+)\", \"\").str.split(\"(\", expand=True)[0]\n",
    "df[\"상호명\"].head(5)"
   ]
  },
  {
   "cell_type": "code",
   "execution_count": 13,
   "id": "31635440-7f38-45db-8d5e-9eb1c10ae5cf",
   "metadata": {},
   "outputs": [
    {
     "data": {
      "text/plain": [
       "상호명\n",
       "                1666\n",
       "삼우정              628\n",
       "우도일식             449\n",
       "오리마당             424\n",
       "구이구이             389\n",
       "                ... \n",
       "한국문화재재단 고궁뜨락       1\n",
       "카페 소확행             1\n",
       "옛날장터               1\n",
       "별진화로구이             1\n",
       "진오봉참치              1\n",
       "Name: count, Length: 8613, dtype: int64"
      ]
     },
     "execution_count": 13,
     "metadata": {},
     "output_type": "execute_result"
    }
   ],
   "source": [
    "df[\"상호명\"].value_counts()"
   ]
  },
  {
   "cell_type": "code",
   "execution_count": 14,
   "id": "5d3bc98b-abcf-4d2a-9b33-0ac6d0726ce6",
   "metadata": {},
   "outputs": [
    {
     "data": {
      "text/plain": [
       "5                (주)엔엠에프(중구 남대문로 1길 37)\n",
       "14        (주)에스씨케이 컴퍼니(서울 중구 퇴계로 100 ,)\n",
       "15               (주)강가(서울 중구 세종대로 136,)\n",
       "23         (주)쿠프마케팅(서울 성동구 성수이로10길 14,)\n",
       "35             (주)쿠프마케팅(성동구 성수이로10길 14)\n",
       "                      ...              \n",
       "51376                (주)이디야국립중앙도서관디지털관점\n",
       "51378                          (주)포비아워스\n",
       "51390     (주)바닷가작은부엌 덕수궁점(서울 중구 덕수궁길 7)\n",
       "51393    (주)바닷가작은부엌 덕수궁점(서울 중구 덕수궁길 7,)\n",
       "51396     (주)바닷가작은부엌 덕수궁점(서울 중구 덕수궁길 7)\n",
       "Name: 집행장소, Length: 1666, dtype: object"
      ]
     },
     "execution_count": 14,
     "metadata": {},
     "output_type": "execute_result"
    }
   ],
   "source": [
    "df.loc[df[\"상호명\"] == \"\", \"집행장소\"]"
   ]
  },
  {
   "cell_type": "code",
   "execution_count": 15,
   "id": "7c938016",
   "metadata": {},
   "outputs": [
    {
     "data": {
      "text/plain": [
       "결제방법\n",
       "카드      37336\n",
       "제로페이    13620\n",
       "현금        472\n",
       "Name: count, dtype: int64"
      ]
     },
     "execution_count": 15,
     "metadata": {},
     "output_type": "execute_result"
    }
   ],
   "source": [
    "df[\"결제방법\"].value_counts()"
   ]
  },
  {
   "cell_type": "code",
   "execution_count": 16,
   "id": "0ba7179f",
   "metadata": {},
   "outputs": [
    {
     "data": {
      "text/plain": [
       "array(['카드', '제로페이', '현금'], dtype=object)"
      ]
     },
     "execution_count": 16,
     "metadata": {},
     "output_type": "execute_result"
    }
   ],
   "source": [
    "df[\"결제방법\"].unique()"
   ]
  },
  {
   "cell_type": "code",
   "execution_count": 17,
   "id": "95b09f10",
   "metadata": {},
   "outputs": [
    {
     "data": {
      "text/plain": [
       "<Axes: >"
      ]
     },
     "execution_count": 17,
     "metadata": {},
     "output_type": "execute_result"
    },
    {
     "data": {
      "image/png": "[encoded data removed]",
      "text/plain": [
       "<Figure size 640x480 with 1 Axes>"
      ]
     },
     "metadata": {},
     "output_type": "display_data"
    }
   ],
   "source": [
    "df[\"집행금액\"].hist(bins=50)"
   ]
  },
  {
   "cell_type": "code",
   "execution_count": 18,
   "id": "8575eaf8",
   "metadata": {},
   "outputs": [
    {
     "data": {
      "text/plain": [
       "count       51428.00\n",
       "mean       127246.27\n",
       "std        286999.45\n",
       "min             0.00\n",
       "25%         55000.00\n",
       "50%         90000.00\n",
       "75%        150000.00\n",
       "max      45526140.00\n",
       "Name: 집행금액, dtype: float64"
      ]
     },
     "execution_count": 18,
     "metadata": {},
     "output_type": "execute_result"
    }
   ],
   "source": [
    " df[\"집행금액\"].describe().round(2)"
   ]
  },
  {
   "cell_type": "code",
   "execution_count": 19,
   "id": "eb8aee60",
   "metadata": {},
   "outputs": [
    {
     "data": {
      "text/html": [
       "<div>\n",
       "<style scoped>\n",
       "    .dataframe tbody tr th:only-of-type {\n",
       "        vertical-align: middle;\n",
       "    }\n",
       "\n",
       "    .dataframe tbody tr th {\n",
       "        vertical-align: top;\n",
       "    }\n",
       "\n",
       "    .dataframe thead th {\n",
       "        text-align: right;\n",
       "    }\n",
       "</style>\n",
       "<table border=\"1\" class=\"dataframe\">\n",
       "  <thead>\n",
       "    <tr style=\"text-align: right;\">\n",
       "      <th></th>\n",
       "      <th>문서고유id</th>\n",
       "      <th>제목</th>\n",
       "      <th>부서명</th>\n",
       "      <th>전화번호</th>\n",
       "      <th>작성자</th>\n",
       "      <th>등록일</th>\n",
       "      <th>해당년도</th>\n",
       "      <th>해당월</th>\n",
       "      <th>문서url</th>\n",
       "      <th>구분(시장실만 사용)</th>\n",
       "      <th>...</th>\n",
       "      <th>집행목적</th>\n",
       "      <th>집행대상</th>\n",
       "      <th>결제방법</th>\n",
       "      <th>집행금액</th>\n",
       "      <th>비목</th>\n",
       "      <th>집행연도</th>\n",
       "      <th>집행월</th>\n",
       "      <th>집행일</th>\n",
       "      <th>집행요일</th>\n",
       "      <th>상호명</th>\n",
       "    </tr>\n",
       "  </thead>\n",
       "  <tbody>\n",
       "    <tr>\n",
       "      <th>1048</th>\n",
       "      <td>30115407</td>\n",
       "      <td>2023년 12월 서울시본청 서울특별시장 업무추진비 - 기관운영 시책추진</td>\n",
       "      <td>시장실</td>\n",
       "      <td>02-2133-6033</td>\n",
       "      <td>전세용</td>\n",
       "      <td>2024-01-10</td>\n",
       "      <td>2023</td>\n",
       "      <td>12</td>\n",
       "      <td>https://opengov.seoul.go.kr/expense/30115407</td>\n",
       "      <td>현업-우수부서 격려 등</td>\n",
       "      <td>...</td>\n",
       "      <td>연말 현안업무 추진직원 격려 다과비 지원</td>\n",
       "      <td>본청 167개 부서</td>\n",
       "      <td>카드</td>\n",
       "      <td>45526140</td>\n",
       "      <td>기관</td>\n",
       "      <td>2023</td>\n",
       "      <td>12</td>\n",
       "      <td>20</td>\n",
       "      <td>2</td>\n",
       "      <td>NaN</td>\n",
       "    </tr>\n",
       "  </tbody>\n",
       "</table>\n",
       "<p>1 rows × 23 columns</p>\n",
       "</div>"
      ],
      "text/plain": [
       "        문서고유id                                        제목  부서명          전화번호  \\\n",
       "1048  30115407  2023년 12월 서울시본청 서울특별시장 업무추진비 - 기관운영 시책추진  시장실  02-2133-6033   \n",
       "\n",
       "      작성자         등록일  해당년도  해당월  \\\n",
       "1048  전세용  2024-01-10  2023   12   \n",
       "\n",
       "                                             문서url   구분(시장실만 사용)  ...  \\\n",
       "1048  https://opengov.seoul.go.kr/expense/30115407  현업-우수부서 격려 등  ...   \n",
       "\n",
       "                        집행목적        집행대상 결제방법      집행금액  비목  집행연도  집행월 집행일  \\\n",
       "1048  연말 현안업무 추진직원 격려 다과비 지원  본청 167개 부서   카드  45526140  기관  2023   12  20   \n",
       "\n",
       "      집행요일  상호명  \n",
       "1048     2  NaN  \n",
       "\n",
       "[1 rows x 23 columns]"
      ]
     },
     "execution_count": 19,
     "metadata": {},
     "output_type": "execute_result"
    }
   ],
   "source": [
    "df[df[\"집행금액\"] > 40000000]"
   ]
  },
  {
   "cell_type": "code",
   "execution_count": 20,
   "id": "33f56d5f",
   "metadata": {},
   "outputs": [
    {
     "data": {
      "text/plain": [
       "결제방법\n",
       "카드      37336\n",
       "제로페이    13620\n",
       "현금        472\n",
       "Name: count, dtype: int64"
      ]
     },
     "execution_count": 20,
     "metadata": {},
     "output_type": "execute_result"
    }
   ],
   "source": [
    "df[\"결제방법\"].value_counts()"
   ]
  },
  {
   "cell_type": "code",
   "execution_count": 21,
   "id": "6de11311",
   "metadata": {},
   "outputs": [
    {
     "data": {
      "text/html": [
       "<style type=\"text/css\">\n",
       "</style>\n",
       "<table id=\"T_fcea9\">\n",
       "  <thead>\n",
       "    <tr>\n",
       "      <th class=\"blank level0\" >&nbsp;</th>\n",
       "      <th id=\"T_fcea9_level0_col0\" class=\"col_heading level0 col0\" >count</th>\n",
       "      <th id=\"T_fcea9_level0_col1\" class=\"col_heading level0 col1\" >mean</th>\n",
       "      <th id=\"T_fcea9_level0_col2\" class=\"col_heading level0 col2\" >std</th>\n",
       "      <th id=\"T_fcea9_level0_col3\" class=\"col_heading level0 col3\" >min</th>\n",
       "      <th id=\"T_fcea9_level0_col4\" class=\"col_heading level0 col4\" >25%</th>\n",
       "      <th id=\"T_fcea9_level0_col5\" class=\"col_heading level0 col5\" >50%</th>\n",
       "      <th id=\"T_fcea9_level0_col6\" class=\"col_heading level0 col6\" >75%</th>\n",
       "      <th id=\"T_fcea9_level0_col7\" class=\"col_heading level0 col7\" >max</th>\n",
       "    </tr>\n",
       "    <tr>\n",
       "      <th class=\"index_name level0\" >결제방법</th>\n",
       "      <th class=\"blank col0\" >&nbsp;</th>\n",
       "      <th class=\"blank col1\" >&nbsp;</th>\n",
       "      <th class=\"blank col2\" >&nbsp;</th>\n",
       "      <th class=\"blank col3\" >&nbsp;</th>\n",
       "      <th class=\"blank col4\" >&nbsp;</th>\n",
       "      <th class=\"blank col5\" >&nbsp;</th>\n",
       "      <th class=\"blank col6\" >&nbsp;</th>\n",
       "      <th class=\"blank col7\" >&nbsp;</th>\n",
       "    </tr>\n",
       "  </thead>\n",
       "  <tbody>\n",
       "    <tr>\n",
       "      <th id=\"T_fcea9_level0_row0\" class=\"row_heading level0 row0\" >제로페이</th>\n",
       "      <td id=\"T_fcea9_row0_col0\" class=\"data row0 col0\" >13,620</td>\n",
       "      <td id=\"T_fcea9_row0_col1\" class=\"data row0 col1\" >120,506</td>\n",
       "      <td id=\"T_fcea9_row0_col2\" class=\"data row0 col2\" >131,943</td>\n",
       "      <td id=\"T_fcea9_row0_col3\" class=\"data row0 col3\" >100</td>\n",
       "      <td id=\"T_fcea9_row0_col4\" class=\"data row0 col4\" >58,000</td>\n",
       "      <td id=\"T_fcea9_row0_col5\" class=\"data row0 col5\" >89,000</td>\n",
       "      <td id=\"T_fcea9_row0_col6\" class=\"data row0 col6\" >144,000</td>\n",
       "      <td id=\"T_fcea9_row0_col7\" class=\"data row0 col7\" >5,280,000</td>\n",
       "    </tr>\n",
       "    <tr>\n",
       "      <th id=\"T_fcea9_level0_row1\" class=\"row_heading level0 row1\" >카드</th>\n",
       "      <td id=\"T_fcea9_row1_col0\" class=\"data row1 col0\" >37,336</td>\n",
       "      <td id=\"T_fcea9_row1_col1\" class=\"data row1 col1\" >126,471</td>\n",
       "      <td id=\"T_fcea9_row1_col2\" class=\"data row1 col2\" >291,942</td>\n",
       "      <td id=\"T_fcea9_row1_col3\" class=\"data row1 col3\" >1,000</td>\n",
       "      <td id=\"T_fcea9_row1_col4\" class=\"data row1 col4\" >54,500</td>\n",
       "      <td id=\"T_fcea9_row1_col5\" class=\"data row1 col5\" >92,000</td>\n",
       "      <td id=\"T_fcea9_row1_col6\" class=\"data row1 col6\" >151,000</td>\n",
       "      <td id=\"T_fcea9_row1_col7\" class=\"data row1 col7\" >45,526,140</td>\n",
       "    </tr>\n",
       "    <tr>\n",
       "      <th id=\"T_fcea9_level0_row2\" class=\"row_heading level0 row2\" >현금</th>\n",
       "      <td id=\"T_fcea9_row2_col0\" class=\"data row2 col0\" >472</td>\n",
       "      <td id=\"T_fcea9_row2_col1\" class=\"data row2 col1\" >383,039</td>\n",
       "      <td id=\"T_fcea9_row2_col2\" class=\"data row2 col2\" >1,291,238</td>\n",
       "      <td id=\"T_fcea9_row2_col3\" class=\"data row2 col3\" >0</td>\n",
       "      <td id=\"T_fcea9_row2_col4\" class=\"data row2 col4\" >50,000</td>\n",
       "      <td id=\"T_fcea9_row2_col5\" class=\"data row2 col5\" >50,000</td>\n",
       "      <td id=\"T_fcea9_row2_col6\" class=\"data row2 col6\" >100,000</td>\n",
       "      <td id=\"T_fcea9_row2_col7\" class=\"data row2 col7\" >9,689,400</td>\n",
       "    </tr>\n",
       "  </tbody>\n",
       "</table>\n"
      ],
      "text/plain": [
       "<pandas.io.formats.style.Styler at 0x13231ead0>"
      ]
     },
     "execution_count": 21,
     "metadata": {},
     "output_type": "execute_result"
    }
   ],
   "source": [
    "df.groupby(\"결제방법\")[\"집행금액\"].describe().style.format(\"{:,.0f}\")"
   ]
  },
  {
   "cell_type": "code",
   "execution_count": 22,
   "id": "f33d81cf",
   "metadata": {},
   "outputs": [
    {
     "data": {
      "text/plain": [
       "비목\n",
       "시책    39320\n",
       "부서     5952\n",
       "기관     5799\n",
       "정원      357\n",
       "Name: count, dtype: int64"
      ]
     },
     "execution_count": 22,
     "metadata": {},
     "output_type": "execute_result"
    }
   ],
   "source": [
    "df[\"비목\"].value_counts()"
   ]
  },
  {
   "cell_type": "code",
   "execution_count": 23,
   "id": "1c0d388d",
   "metadata": {},
   "outputs": [
    {
     "data": {
      "text/html": [
       "<style type=\"text/css\">\n",
       "</style>\n",
       "<table id=\"T_de027\">\n",
       "  <thead>\n",
       "    <tr>\n",
       "      <th class=\"index_name level0\" >비목</th>\n",
       "      <th id=\"T_de027_level0_col0\" class=\"col_heading level0 col0\" >기관</th>\n",
       "      <th id=\"T_de027_level0_col1\" class=\"col_heading level0 col1\" >부서</th>\n",
       "      <th id=\"T_de027_level0_col2\" class=\"col_heading level0 col2\" >시책</th>\n",
       "      <th id=\"T_de027_level0_col3\" class=\"col_heading level0 col3\" >정원</th>\n",
       "    </tr>\n",
       "    <tr>\n",
       "      <th class=\"index_name level0\" >결제방법</th>\n",
       "      <th class=\"blank col0\" >&nbsp;</th>\n",
       "      <th class=\"blank col1\" >&nbsp;</th>\n",
       "      <th class=\"blank col2\" >&nbsp;</th>\n",
       "      <th class=\"blank col3\" >&nbsp;</th>\n",
       "    </tr>\n",
       "  </thead>\n",
       "  <tbody>\n",
       "    <tr>\n",
       "      <th id=\"T_de027_level0_row0\" class=\"row_heading level0 row0\" >제로페이</th>\n",
       "      <td id=\"T_de027_row0_col0\" class=\"data row0 col0\" >980</td>\n",
       "      <td id=\"T_de027_row0_col1\" class=\"data row0 col1\" >1,140</td>\n",
       "      <td id=\"T_de027_row0_col2\" class=\"data row0 col2\" >11,483</td>\n",
       "      <td id=\"T_de027_row0_col3\" class=\"data row0 col3\" >17</td>\n",
       "    </tr>\n",
       "    <tr>\n",
       "      <th id=\"T_de027_level0_row1\" class=\"row_heading level0 row1\" >카드</th>\n",
       "      <td id=\"T_de027_row1_col0\" class=\"data row1 col0\" >4,382</td>\n",
       "      <td id=\"T_de027_row1_col1\" class=\"data row1 col1\" >4,800</td>\n",
       "      <td id=\"T_de027_row1_col2\" class=\"data row1 col2\" >27,834</td>\n",
       "      <td id=\"T_de027_row1_col3\" class=\"data row1 col3\" >320</td>\n",
       "    </tr>\n",
       "    <tr>\n",
       "      <th id=\"T_de027_level0_row2\" class=\"row_heading level0 row2\" >현금</th>\n",
       "      <td id=\"T_de027_row2_col0\" class=\"data row2 col0\" >437</td>\n",
       "      <td id=\"T_de027_row2_col1\" class=\"data row2 col1\" >12</td>\n",
       "      <td id=\"T_de027_row2_col2\" class=\"data row2 col2\" >3</td>\n",
       "      <td id=\"T_de027_row2_col3\" class=\"data row2 col3\" >20</td>\n",
       "    </tr>\n",
       "  </tbody>\n",
       "</table>\n"
      ],
      "text/plain": [
       "<pandas.io.formats.style.Styler at 0x132440790>"
      ]
     },
     "execution_count": 23,
     "metadata": {},
     "output_type": "execute_result"
    }
   ],
   "source": [
    "pd.crosstab(df[\"결제방법\"], df[\"비목\"]).style.format(\"{:,.0f}\")"
   ]
  },
  {
   "cell_type": "code",
   "execution_count": 24,
   "id": "a34b119c",
   "metadata": {},
   "outputs": [
    {
     "data": {
      "text/html": [
       "<style type=\"text/css\">\n",
       "</style>\n",
       "<table id=\"T_ad7da\">\n",
       "  <thead>\n",
       "    <tr>\n",
       "      <th class=\"index_name level0\" >비목</th>\n",
       "      <th id=\"T_ad7da_level0_col0\" class=\"col_heading level0 col0\" >기관</th>\n",
       "      <th id=\"T_ad7da_level0_col1\" class=\"col_heading level0 col1\" >부서</th>\n",
       "      <th id=\"T_ad7da_level0_col2\" class=\"col_heading level0 col2\" >시책</th>\n",
       "      <th id=\"T_ad7da_level0_col3\" class=\"col_heading level0 col3\" >정원</th>\n",
       "    </tr>\n",
       "    <tr>\n",
       "      <th class=\"index_name level0\" >결제방법</th>\n",
       "      <th class=\"blank col0\" >&nbsp;</th>\n",
       "      <th class=\"blank col1\" >&nbsp;</th>\n",
       "      <th class=\"blank col2\" >&nbsp;</th>\n",
       "      <th class=\"blank col3\" >&nbsp;</th>\n",
       "    </tr>\n",
       "  </thead>\n",
       "  <tbody>\n",
       "    <tr>\n",
       "      <th id=\"T_ad7da_level0_row0\" class=\"row_heading level0 row0\" >제로페이</th>\n",
       "      <td id=\"T_ad7da_row0_col0\" class=\"data row0 col0\" >219,911</td>\n",
       "      <td id=\"T_ad7da_row0_col1\" class=\"data row0 col1\" >192,095</td>\n",
       "      <td id=\"T_ad7da_row0_col2\" class=\"data row0 col2\" >104,928</td>\n",
       "      <td id=\"T_ad7da_row0_col3\" class=\"data row0 col3\" >111,453</td>\n",
       "    </tr>\n",
       "    <tr>\n",
       "      <th id=\"T_ad7da_level0_row1\" class=\"row_heading level0 row1\" >카드</th>\n",
       "      <td id=\"T_ad7da_row1_col0\" class=\"data row1 col0\" >207,856</td>\n",
       "      <td id=\"T_ad7da_row1_col1\" class=\"data row1 col1\" >122,128</td>\n",
       "      <td id=\"T_ad7da_row1_col2\" class=\"data row1 col2\" >113,552</td>\n",
       "      <td id=\"T_ad7da_row1_col3\" class=\"data row1 col3\" >200,911</td>\n",
       "    </tr>\n",
       "    <tr>\n",
       "      <th id=\"T_ad7da_level0_row2\" class=\"row_heading level0 row2\" >현금</th>\n",
       "      <td id=\"T_ad7da_row2_col0\" class=\"data row2 col0\" >397,967</td>\n",
       "      <td id=\"T_ad7da_row2_col1\" class=\"data row2 col1\" >213,683</td>\n",
       "      <td id=\"T_ad7da_row2_col2\" class=\"data row2 col2\" >102,167</td>\n",
       "      <td id=\"T_ad7da_row2_col3\" class=\"data row2 col3\" >200,611</td>\n",
       "    </tr>\n",
       "  </tbody>\n",
       "</table>\n"
      ],
      "text/plain": [
       "<pandas.io.formats.style.Styler at 0x13269ea90>"
      ]
     },
     "execution_count": 24,
     "metadata": {},
     "output_type": "execute_result"
    }
   ],
   "source": [
    "pd.crosstab(df[\"결제방법\"], df[\"비목\"], values=df[\"집행금액\"], aggfunc=\"mean\").style.format(\"{:,.0f}\")"
   ]
  },
  {
   "cell_type": "code",
   "execution_count": 25,
   "id": "79eca197-b6a3-4d0b-8f49-7b5cb03651aa",
   "metadata": {},
   "outputs": [
    {
     "data": {
      "text/plain": [
       "집행목적\n",
       "기강감찰 행정소요경비 지급               376\n",
       "시정 현안 관련 업무협의 간담회            192\n",
       "시정 소통 협력을 위한 유관기관 관계자 간담회    177\n",
       "시정 현안 관련 의견수렴 간담회            160\n",
       "시책사업 추진 관련 의견수렴 간담회          146\n",
       "업무 협의 비용 지급                  104\n",
       "시정 현안 관련 유관기관 간담회             96\n",
       "유관기관 등 업무협력 간담회               96\n",
       "시책사업 추진 관련 업무협의 간담회           96\n",
       "시정 소통 협력을 위한 언론 간담회           92\n",
       "마케팅 전략 기획 관련 의견수렴 간담회         91\n",
       "시정 유관기관 업무협력 간담회              87\n",
       "시정 추진 유관기관 업무협력 간담회           86\n",
       "현안 검토 관련 의견수렴 간담회             79\n",
       "시책사업 관련 의견수렴 간담회              77\n",
       "언론사 협력 시정정보제공 검토 간담회          76\n",
       "현안업무추진 직원 격려 비용 지급            73\n",
       "현안 관련 유관단체 간담회                72\n",
       "공직기강 확립 관련 관계자 간담회            71\n",
       "시정 소통 협력을 위한 의회 관계자 간담회       70\n",
       "Name: count, dtype: int64"
      ]
     },
     "execution_count": 25,
     "metadata": {},
     "output_type": "execute_result"
    }
   ],
   "source": [
    "df[\"집행목적\"].value_counts().head(20)"
   ]
  },
  {
   "cell_type": "code",
   "execution_count": null,
   "id": "8d946639-2497-4695-86a9-d282dbdb26a4",
   "metadata": {},
   "outputs": [],
   "source": []
  },
  {
   "cell_type": "code",
   "execution_count": null,
   "id": "52f2b9c7-dc03-4274-962f-5aea2b5ef5e8",
   "metadata": {},
   "outputs": [],
   "source": []
  },
  {
   "cell_type": "code",
   "execution_count": null,
   "id": "c2c32312-ca12-49bd-8d59-2b162f6bf595",
   "metadata": {},
   "outputs": [],
   "source": []
  },
  {
   "cell_type": "code",
   "execution_count": null,
   "id": "41bff8ba-1e0e-4bed-a0af-a404ec552f81",
   "metadata": {},
   "outputs": [],
   "source": []
  },
  {
   "cell_type": "code",
   "execution_count": null,
   "id": "bb97d7f3-b3f9-4936-98f5-50ad902131f1",
   "metadata": {},
   "outputs": [],
   "source": []
  },
  {
   "cell_type": "code",
   "execution_count": null,
   "id": "6c47c87b-ac05-41d6-beea-8a2fae24f37f",
   "metadata": {},
   "outputs": [],
   "source": []
  },
  {
   "cell_type": "code",
   "execution_count": null,
   "id": "3c57f563-fc20-4430-8de4-a8a8b4ec0e39",
   "metadata": {},
   "outputs": [],
   "source": []
  }
 ],
 "metadata": {
  "kernelspec": {
   "display_name": "Python 3 (ipykernel)",
   "language": "python",
   "name": "python3"
  },
  "language_info": {
   "codemirror_mode": {
    "name": "ipython",
    "version": 3
   },
   "file_extension": ".py",
   "mimetype": "text/x-python",
   "name": "python",
   "nbconvert_exporter": "python",
   "pygments_lexer": "ipython3",
   "version": "3.11.4"
  },
  "toc": {
   "base_numbering": 1,
   "nav_menu": {},
   "number_sections": true,
   "sideBar": true,
   "skip_h1_title": false,
   "title_cell": "Table of Contents",
   "title_sidebar": "Contents",
   "toc_cell": false,
   "toc_position": {},
   "toc_section_display": true,
   "toc_window_display": false
  },
  "varInspector": {
   "cols": {
    "lenName": 16,
    "lenType": 16,
    "lenVar": 40
   },
   "kernels_config": {
    "python": {
     "delete_cmd_postfix": "",
     "delete_cmd_prefix": "del ",
     "library": "var_list.py",
     "varRefreshCmd": "print(var_dic_list())"
    },
    "r": {
     "delete_cmd_postfix": ") ",
     "delete_cmd_prefix": "rm(",
     "library": "var_list.r",
     "varRefreshCmd": "cat(var_dic_list()) "
    }
   },
   "types_to_exclude": [
    "module",
    "function",
    "builtin_function_or_method",
    "instance",
    "_Feature"
   ],
   "window_display": false
  }
 },
 "nbformat": 4,
 "nbformat_minor": 5
}
