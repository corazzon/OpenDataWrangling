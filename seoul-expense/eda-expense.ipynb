{
 "cells": [
  {
   "cell_type": "markdown",
   "id": "60ece758",
   "metadata": {},
   "source": [
    "[서울시 본청 업무추진비 목록> 데이터셋> 공공데이터 | 서울열린데이터광장](https://data.seoul.go.kr/dataList/OA-22156/S/1/datasetView.do)\n",
    "\n",
    "\n",
    "\n",
    "## 분석에 사용할 Pandas 주요기능\n",
    "* Pandas cheat sheet 를 함께 보세요! : [Pandas_Cheat_Sheet.pdf](https://pandas.pydata.org/Pandas_Cheat_Sheet.pdf)\n",
    "\n",
    "* 파일 불러오기\n",
    "    * to_csv(\"파일명\", index=False) : csv 파일로 저장하기\n",
    "    * read_csv(\"파일명\") : csv 파일 불러오기\n",
    "    \n",
    "* Pandas를 통한 파일 저장과 불러오기\n",
    "    * shape를 통한 행과 열의 수 보기\n",
    "    * head, tail, sample 을 통한 일부 데이터 가져오기\n",
    "    \n",
    "* DataFrame의 info(), describe() 등을 통한 요약과 기술통계 값 구하기\n",
    "    * info()\n",
    "    * describe()\n",
    "    * nunique()\n",
    "    * index\n",
    "    * columns\n",
    "    * values\n",
    "    \n",
    "* Pandas의  DataFrame과 Series의 이해\n",
    "    * Series : 1차원 벡터구조\n",
    "    * DataFrame : 2차원 행렬구조\n",
    "    \n",
    "* 색인하기\n",
    "    * [컬럼]\n",
    "    * .loc[행]\n",
    "    * .loc[행, 열]\n",
    "    * .loc[조건식, 열]\n",
    "    \n",
    "* DataFrame의 데이터 타입 이해하기\n",
    "    * 날짜 데이터의 변환\n",
    "    \n",
    "* DataFrame 다루기\n",
    "    * 열(column) 인덱싱\n",
    "    * 행(index) 인덱싱\n",
    "    * 행, 열 인덱싱\n",
    "    * 정렬하기 : sort_values 사용하기\n",
    "    * 조건식 사용하기\n",
    "\n",
    "* 빈도수 구하기\n",
    "    * 한 개의 변수 : series.value_counts()\n",
    "    * 두 개의 변수 : pd.crosstab()"
   ]
  },
  {
   "cell_type": "markdown",
   "id": "02b65811-a45a-47b8-afb6-066a7ed1e305",
   "metadata": {},
   "source": [
    "## 라이브러리 로드"
   ]
  },
  {
   "cell_type": "code",
   "execution_count": 1,
   "id": "b5f9d253",
   "metadata": {},
   "outputs": [],
   "source": [
    "import pandas as pd\n",
    "import seaborn as sns\n",
    "import koreanize_matplotlib"
   ]
  },
  {
   "cell_type": "markdown",
   "id": "fcade6fc-4672-428d-ab97-a673c6f74df0",
   "metadata": {},
   "source": [
    "## 파일 불러오기\n",
    "<img src=\"https://pandas.pydata.org/docs/_images/02_io_readwrite.svg\">\n",
    "\n",
    "https://bit.ly/seoul-expense-24"
   ]
  },
  {
   "cell_type": "code",
   "execution_count": 2,
   "id": "b34cecbd",
   "metadata": {},
   "outputs": [
    {
     "data": {
      "text/plain": [
       "(51428, 18)"
      ]
     },
     "execution_count": 2,
     "metadata": {},
     "output_type": "execute_result"
    }
   ],
   "source": [
    "# 데이터 로드\n",
    "\n",
    "# df = pd.read_csv(\"data/seoul-expense.csv\", encoding=\"cp949\")\n",
    "df = pd.read_csv(\"https://bit.ly/seoul-expense-24\", encoding=\"cp949\")\n",
    "df.shape"
   ]
  },
  {
   "cell_type": "code",
   "execution_count": 3,
   "id": "89b633e6",
   "metadata": {},
   "outputs": [
    {
     "data": {
      "text/html": [
       "<div>\n",
       "<style scoped>\n",
       "    .dataframe tbody tr th:only-of-type {\n",
       "        vertical-align: middle;\n",
       "    }\n",
       "\n",
       "    .dataframe tbody tr th {\n",
       "        vertical-align: top;\n",
       "    }\n",
       "\n",
       "    .dataframe thead th {\n",
       "        text-align: right;\n",
       "    }\n",
       "</style>\n",
       "<table border=\"1\" class=\"dataframe\">\n",
       "  <thead>\n",
       "    <tr style=\"text-align: right;\">\n",
       "      <th></th>\n",
       "      <th>문서고유id</th>\n",
       "      <th>제목</th>\n",
       "      <th>부서명</th>\n",
       "      <th>전화번호</th>\n",
       "      <th>작성자</th>\n",
       "      <th>등록일</th>\n",
       "      <th>해당년도</th>\n",
       "      <th>해당월</th>\n",
       "      <th>문서url</th>\n",
       "      <th>구분(시장실만 사용)</th>\n",
       "      <th>전체부서명</th>\n",
       "      <th>집행일시</th>\n",
       "      <th>집행장소</th>\n",
       "      <th>집행목적</th>\n",
       "      <th>집행대상</th>\n",
       "      <th>결제방법</th>\n",
       "      <th>집행금액</th>\n",
       "      <th>비목</th>\n",
       "    </tr>\n",
       "  </thead>\n",
       "  <tbody>\n",
       "    <tr>\n",
       "      <th>0</th>\n",
       "      <td>30267889</td>\n",
       "      <td>2023년 12월 서울시본청 주택정책실 주택공급기획관 공동주택지원과 업무추진비 - ...</td>\n",
       "      <td>공동주택지원과</td>\n",
       "      <td>02-2133-7134</td>\n",
       "      <td>박혜은</td>\n",
       "      <td>2024-02-02</td>\n",
       "      <td>2023</td>\n",
       "      <td>12</td>\n",
       "      <td>https://opengov.seoul.go.kr/expense/30267889</td>\n",
       "      <td>NaN</td>\n",
       "      <td>주택정책실 주택공급기획관 공동주택지원과</td>\n",
       "      <td>2023-12-20 11:45</td>\n",
       "      <td>서궁(종로구 새문안로 35-20)</td>\n",
       "      <td>주택재건축 정비계획 결정 및 정비구역 지정 관련 간담회 비용 지급</td>\n",
       "      <td>공동주택지원과장 외 2명</td>\n",
       "      <td>카드</td>\n",
       "      <td>29570</td>\n",
       "      <td>부서</td>\n",
       "    </tr>\n",
       "    <tr>\n",
       "      <th>1</th>\n",
       "      <td>30267889</td>\n",
       "      <td>2023년 12월 서울시본청 주택정책실 주택공급기획관 공동주택지원과 업무추진비 - ...</td>\n",
       "      <td>공동주택지원과</td>\n",
       "      <td>02-2133-7134</td>\n",
       "      <td>박혜은</td>\n",
       "      <td>2024-02-02</td>\n",
       "      <td>2023</td>\n",
       "      <td>12</td>\n",
       "      <td>https://opengov.seoul.go.kr/expense/30267889</td>\n",
       "      <td>NaN</td>\n",
       "      <td>주택정책실 주택공급기획관 공동주택지원과</td>\n",
       "      <td>2023-12-14 13:15</td>\n",
       "      <td>잼배옥(중구 서소문동 64-4)</td>\n",
       "      <td>공동주택 장기수선 제도개선 방안 수립용역 준공 관련 간담회 비용 지급(2)</td>\n",
       "      <td>공동주택지원과장 외 4명</td>\n",
       "      <td>카드</td>\n",
       "      <td>14000</td>\n",
       "      <td>부서</td>\n",
       "    </tr>\n",
       "  </tbody>\n",
       "</table>\n",
       "</div>"
      ],
      "text/plain": [
       "     문서고유id                                                 제목      부서명  \\\n",
       "0  30267889  2023년 12월 서울시본청 주택정책실 주택공급기획관 공동주택지원과 업무추진비 - ...  공동주택지원과   \n",
       "1  30267889  2023년 12월 서울시본청 주택정책실 주택공급기획관 공동주택지원과 업무추진비 - ...  공동주택지원과   \n",
       "\n",
       "           전화번호  작성자         등록일  해당년도  해당월  \\\n",
       "0  02-2133-7134  박혜은  2024-02-02  2023   12   \n",
       "1  02-2133-7134  박혜은  2024-02-02  2023   12   \n",
       "\n",
       "                                          문서url 구분(시장실만 사용)  \\\n",
       "0  https://opengov.seoul.go.kr/expense/30267889         NaN   \n",
       "1  https://opengov.seoul.go.kr/expense/30267889         NaN   \n",
       "\n",
       "                   전체부서명              집행일시                집행장소  \\\n",
       "0  주택정책실 주택공급기획관 공동주택지원과  2023-12-20 11:45  서궁(종로구 새문안로 35-20)   \n",
       "1  주택정책실 주택공급기획관 공동주택지원과  2023-12-14 13:15   잼배옥(중구 서소문동 64-4)   \n",
       "\n",
       "                                        집행목적           집행대상 결제방법   집행금액  비목  \n",
       "0       주택재건축 정비계획 결정 및 정비구역 지정 관련 간담회 비용 지급  공동주택지원과장 외 2명   카드  29570  부서  \n",
       "1  공동주택 장기수선 제도개선 방안 수립용역 준공 관련 간담회 비용 지급(2)  공동주택지원과장 외 4명   카드  14000  부서  "
      ]
     },
     "execution_count": 3,
     "metadata": {},
     "output_type": "execute_result"
    }
   ],
   "source": [
    "df.head(2)"
   ]
  },
  {
   "cell_type": "code",
   "execution_count": 4,
   "id": "729d6511",
   "metadata": {},
   "outputs": [
    {
     "data": {
      "text/html": [
       "<div>\n",
       "<style scoped>\n",
       "    .dataframe tbody tr th:only-of-type {\n",
       "        vertical-align: middle;\n",
       "    }\n",
       "\n",
       "    .dataframe tbody tr th {\n",
       "        vertical-align: top;\n",
       "    }\n",
       "\n",
       "    .dataframe thead th {\n",
       "        text-align: right;\n",
       "    }\n",
       "</style>\n",
       "<table border=\"1\" class=\"dataframe\">\n",
       "  <thead>\n",
       "    <tr style=\"text-align: right;\">\n",
       "      <th></th>\n",
       "      <th>문서고유id</th>\n",
       "      <th>제목</th>\n",
       "      <th>부서명</th>\n",
       "      <th>전화번호</th>\n",
       "      <th>작성자</th>\n",
       "      <th>등록일</th>\n",
       "      <th>해당년도</th>\n",
       "      <th>해당월</th>\n",
       "      <th>문서url</th>\n",
       "      <th>구분(시장실만 사용)</th>\n",
       "      <th>전체부서명</th>\n",
       "      <th>집행일시</th>\n",
       "      <th>집행장소</th>\n",
       "      <th>집행목적</th>\n",
       "      <th>집행대상</th>\n",
       "      <th>결제방법</th>\n",
       "      <th>집행금액</th>\n",
       "      <th>비목</th>\n",
       "    </tr>\n",
       "  </thead>\n",
       "  <tbody>\n",
       "    <tr>\n",
       "      <th>51423</th>\n",
       "      <td>30247797</td>\n",
       "      <td>2024년 1월 서울시본청 주택정책실 지역건축안전센터 업무추진비 - 시책추진 부서운영</td>\n",
       "      <td>주택정책실 지역건축안전센터</td>\n",
       "      <td>02-2133-6984</td>\n",
       "      <td>김혜원</td>\n",
       "      <td>2024-01-31</td>\n",
       "      <td>2024</td>\n",
       "      <td>1</td>\n",
       "      <td>https://opengov.seoul.go.kr/expense/30247797</td>\n",
       "      <td>NaN</td>\n",
       "      <td>주택정책실 지역건축안전센터</td>\n",
       "      <td>2024-01-11 12:08</td>\n",
       "      <td>삼우정(중구 서소문로 134)</td>\n",
       "      <td>건축물 화재안전 성능보강 지원사업 관련 간담회 비용 지급</td>\n",
       "      <td>지역건축안전센터장 외 5명</td>\n",
       "      <td>카드</td>\n",
       "      <td>76000</td>\n",
       "      <td>시책</td>\n",
       "    </tr>\n",
       "    <tr>\n",
       "      <th>51424</th>\n",
       "      <td>30247797</td>\n",
       "      <td>2024년 1월 서울시본청 주택정책실 지역건축안전센터 업무추진비 - 시책추진 부서운영</td>\n",
       "      <td>주택정책실 지역건축안전센터</td>\n",
       "      <td>02-2133-6984</td>\n",
       "      <td>김혜원</td>\n",
       "      <td>2024-01-31</td>\n",
       "      <td>2024</td>\n",
       "      <td>1</td>\n",
       "      <td>https://opengov.seoul.go.kr/expense/30247797</td>\n",
       "      <td>NaN</td>\n",
       "      <td>주택정책실 지역건축안전센터</td>\n",
       "      <td>2024-01-07 19:49</td>\n",
       "      <td>라밥(LABAB)(중구 세종대로 76)</td>\n",
       "      <td>현안 업무 추진 보고 관련 간담회 비용 지급</td>\n",
       "      <td>지역건축안전센터장 외 2명</td>\n",
       "      <td>카드</td>\n",
       "      <td>21000</td>\n",
       "      <td>시책</td>\n",
       "    </tr>\n",
       "    <tr>\n",
       "      <th>51425</th>\n",
       "      <td>30247797</td>\n",
       "      <td>2024년 1월 서울시본청 주택정책실 지역건축안전센터 업무추진비 - 시책추진 부서운영</td>\n",
       "      <td>주택정책실 지역건축안전센터</td>\n",
       "      <td>02-2133-6984</td>\n",
       "      <td>김혜원</td>\n",
       "      <td>2024-01-31</td>\n",
       "      <td>2024</td>\n",
       "      <td>1</td>\n",
       "      <td>https://opengov.seoul.go.kr/expense/30247797</td>\n",
       "      <td>NaN</td>\n",
       "      <td>주택정책실 지역건축안전센터</td>\n",
       "      <td>2024-01-05 12:05</td>\n",
       "      <td>오리마당(중구 세종대로 92)</td>\n",
       "      <td>부서 직원 격려 간담회 비용 지급</td>\n",
       "      <td>지역건축안전센터장 외 10명</td>\n",
       "      <td>카드</td>\n",
       "      <td>148000</td>\n",
       "      <td>부서</td>\n",
       "    </tr>\n",
       "    <tr>\n",
       "      <th>51426</th>\n",
       "      <td>30247797</td>\n",
       "      <td>2024년 1월 서울시본청 주택정책실 지역건축안전센터 업무추진비 - 시책추진 부서운영</td>\n",
       "      <td>주택정책실 지역건축안전센터</td>\n",
       "      <td>02-2133-6984</td>\n",
       "      <td>김혜원</td>\n",
       "      <td>2024-01-31</td>\n",
       "      <td>2024</td>\n",
       "      <td>1</td>\n",
       "      <td>https://opengov.seoul.go.kr/expense/30247797</td>\n",
       "      <td>NaN</td>\n",
       "      <td>주택정책실 지역건축안전센터</td>\n",
       "      <td>2024-01-04 12:19</td>\n",
       "      <td>삼우정(중구 서소문로 134)</td>\n",
       "      <td>해체공사장 안전관리 강화 대책 관련 간담회 비용 지급</td>\n",
       "      <td>지역건축안전센터장 외 11명</td>\n",
       "      <td>카드</td>\n",
       "      <td>190000</td>\n",
       "      <td>시책</td>\n",
       "    </tr>\n",
       "    <tr>\n",
       "      <th>51427</th>\n",
       "      <td>30247797</td>\n",
       "      <td>2024년 1월 서울시본청 주택정책실 지역건축안전센터 업무추진비 - 시책추진 부서운영</td>\n",
       "      <td>주택정책실 지역건축안전센터</td>\n",
       "      <td>02-2133-6984</td>\n",
       "      <td>김혜원</td>\n",
       "      <td>2024-01-31</td>\n",
       "      <td>2024</td>\n",
       "      <td>1</td>\n",
       "      <td>https://opengov.seoul.go.kr/expense/30247797</td>\n",
       "      <td>NaN</td>\n",
       "      <td>주택정책실 지역건축안전센터</td>\n",
       "      <td>2024-01-03 12:17</td>\n",
       "      <td>삼우정(중구 서소문로 134)</td>\n",
       "      <td>신년 업무 보고 관련 간담회 비용 지급</td>\n",
       "      <td>지역건축안전센터장 외 5명</td>\n",
       "      <td>카드</td>\n",
       "      <td>76000</td>\n",
       "      <td>시책</td>\n",
       "    </tr>\n",
       "  </tbody>\n",
       "</table>\n",
       "</div>"
      ],
      "text/plain": [
       "         문서고유id                                               제목  \\\n",
       "51423  30247797  2024년 1월 서울시본청 주택정책실 지역건축안전센터 업무추진비 - 시책추진 부서운영   \n",
       "51424  30247797  2024년 1월 서울시본청 주택정책실 지역건축안전센터 업무추진비 - 시책추진 부서운영   \n",
       "51425  30247797  2024년 1월 서울시본청 주택정책실 지역건축안전센터 업무추진비 - 시책추진 부서운영   \n",
       "51426  30247797  2024년 1월 서울시본청 주택정책실 지역건축안전센터 업무추진비 - 시책추진 부서운영   \n",
       "51427  30247797  2024년 1월 서울시본청 주택정책실 지역건축안전센터 업무추진비 - 시책추진 부서운영   \n",
       "\n",
       "                  부서명          전화번호  작성자         등록일  해당년도  해당월  \\\n",
       "51423  주택정책실 지역건축안전센터  02-2133-6984  김혜원  2024-01-31  2024    1   \n",
       "51424  주택정책실 지역건축안전센터  02-2133-6984  김혜원  2024-01-31  2024    1   \n",
       "51425  주택정책실 지역건축안전센터  02-2133-6984  김혜원  2024-01-31  2024    1   \n",
       "51426  주택정책실 지역건축안전센터  02-2133-6984  김혜원  2024-01-31  2024    1   \n",
       "51427  주택정책실 지역건축안전센터  02-2133-6984  김혜원  2024-01-31  2024    1   \n",
       "\n",
       "                                              문서url 구분(시장실만 사용)  \\\n",
       "51423  https://opengov.seoul.go.kr/expense/30247797         NaN   \n",
       "51424  https://opengov.seoul.go.kr/expense/30247797         NaN   \n",
       "51425  https://opengov.seoul.go.kr/expense/30247797         NaN   \n",
       "51426  https://opengov.seoul.go.kr/expense/30247797         NaN   \n",
       "51427  https://opengov.seoul.go.kr/expense/30247797         NaN   \n",
       "\n",
       "                전체부서명              집행일시                   집행장소  \\\n",
       "51423  주택정책실 지역건축안전센터  2024-01-11 12:08       삼우정(중구 서소문로 134)   \n",
       "51424  주택정책실 지역건축안전센터  2024-01-07 19:49  라밥(LABAB)(중구 세종대로 76)   \n",
       "51425  주택정책실 지역건축안전센터  2024-01-05 12:05       오리마당(중구 세종대로 92)   \n",
       "51426  주택정책실 지역건축안전센터  2024-01-04 12:19       삼우정(중구 서소문로 134)   \n",
       "51427  주택정책실 지역건축안전센터  2024-01-03 12:17       삼우정(중구 서소문로 134)   \n",
       "\n",
       "                                  집행목적             집행대상 결제방법    집행금액  비목  \n",
       "51423  건축물 화재안전 성능보강 지원사업 관련 간담회 비용 지급   지역건축안전센터장 외 5명   카드   76000  시책  \n",
       "51424         현안 업무 추진 보고 관련 간담회 비용 지급   지역건축안전센터장 외 2명   카드   21000  시책  \n",
       "51425               부서 직원 격려 간담회 비용 지급  지역건축안전센터장 외 10명   카드  148000  부서  \n",
       "51426    해체공사장 안전관리 강화 대책 관련 간담회 비용 지급  지역건축안전센터장 외 11명   카드  190000  시책  \n",
       "51427            신년 업무 보고 관련 간담회 비용 지급   지역건축안전센터장 외 5명   카드   76000  시책  "
      ]
     },
     "execution_count": 4,
     "metadata": {},
     "output_type": "execute_result"
    }
   ],
   "source": [
    "# tail()\n",
    "df.tail()"
   ]
  },
  {
   "cell_type": "code",
   "execution_count": 5,
   "id": "9cb71a2c",
   "metadata": {},
   "outputs": [
    {
     "data": {
      "text/html": [
       "<div>\n",
       "<style scoped>\n",
       "    .dataframe tbody tr th:only-of-type {\n",
       "        vertical-align: middle;\n",
       "    }\n",
       "\n",
       "    .dataframe tbody tr th {\n",
       "        vertical-align: top;\n",
       "    }\n",
       "\n",
       "    .dataframe thead th {\n",
       "        text-align: right;\n",
       "    }\n",
       "</style>\n",
       "<table border=\"1\" class=\"dataframe\">\n",
       "  <thead>\n",
       "    <tr style=\"text-align: right;\">\n",
       "      <th></th>\n",
       "      <th>문서고유id</th>\n",
       "      <th>제목</th>\n",
       "      <th>부서명</th>\n",
       "      <th>전화번호</th>\n",
       "      <th>작성자</th>\n",
       "      <th>등록일</th>\n",
       "      <th>해당년도</th>\n",
       "      <th>해당월</th>\n",
       "      <th>문서url</th>\n",
       "      <th>구분(시장실만 사용)</th>\n",
       "      <th>전체부서명</th>\n",
       "      <th>집행일시</th>\n",
       "      <th>집행장소</th>\n",
       "      <th>집행목적</th>\n",
       "      <th>집행대상</th>\n",
       "      <th>결제방법</th>\n",
       "      <th>집행금액</th>\n",
       "      <th>비목</th>\n",
       "    </tr>\n",
       "  </thead>\n",
       "  <tbody>\n",
       "    <tr>\n",
       "      <th>23933</th>\n",
       "      <td>28869364</td>\n",
       "      <td>2023년 6월 서울시본청 미래공간기획관 도시공간기획담당관 업무추진비 - 기관운영 ...</td>\n",
       "      <td>도시공간기획담당관</td>\n",
       "      <td>2133-7603</td>\n",
       "      <td>정은지</td>\n",
       "      <td>2023-07-17</td>\n",
       "      <td>2023</td>\n",
       "      <td>6</td>\n",
       "      <td>https://opengov.seoul.go.kr/expense/28869364</td>\n",
       "      <td>NaN</td>\n",
       "      <td>미래공간기획관 도시공간기획담당관</td>\n",
       "      <td>2023-06-13 21:09</td>\n",
       "      <td>김명자굴국밥</td>\n",
       "      <td>디자인혁신위원회 개최 관련 업무추진비용 지급</td>\n",
       "      <td>미래공간기획관 외 5명</td>\n",
       "      <td>제로페이</td>\n",
       "      <td>135000</td>\n",
       "      <td>기관</td>\n",
       "    </tr>\n",
       "  </tbody>\n",
       "</table>\n",
       "</div>"
      ],
      "text/plain": [
       "         문서고유id                                                 제목        부서명  \\\n",
       "23933  28869364  2023년 6월 서울시본청 미래공간기획관 도시공간기획담당관 업무추진비 - 기관운영 ...  도시공간기획담당관   \n",
       "\n",
       "            전화번호  작성자         등록일  해당년도  해당월  \\\n",
       "23933  2133-7603  정은지  2023-07-17  2023    6   \n",
       "\n",
       "                                              문서url 구분(시장실만 사용)  \\\n",
       "23933  https://opengov.seoul.go.kr/expense/28869364         NaN   \n",
       "\n",
       "                   전체부서명              집행일시    집행장소                      집행목적  \\\n",
       "23933  미래공간기획관 도시공간기획담당관  2023-06-13 21:09  김명자굴국밥  디자인혁신위원회 개최 관련 업무추진비용 지급   \n",
       "\n",
       "               집행대상  결제방법    집행금액  비목  \n",
       "23933  미래공간기획관 외 5명  제로페이  135000  기관  "
      ]
     },
     "execution_count": 5,
     "metadata": {},
     "output_type": "execute_result"
    }
   ],
   "source": [
    "# sample()\n",
    "df.sample()"
   ]
  },
  {
   "cell_type": "markdown",
   "id": "2e998c68",
   "metadata": {},
   "source": [
    "## 기본 정보"
   ]
  },
  {
   "cell_type": "code",
   "execution_count": 6,
   "id": "bcd90bd5",
   "metadata": {},
   "outputs": [
    {
     "name": "stdout",
     "output_type": "stream",
     "text": [
      "<class 'pandas.core.frame.DataFrame'>\n",
      "RangeIndex: 51428 entries, 0 to 51427\n",
      "Data columns (total 18 columns):\n",
      " #   Column       Non-Null Count  Dtype \n",
      "---  ------       --------------  ----- \n",
      " 0   문서고유id       51428 non-null  int64 \n",
      " 1   제목           51428 non-null  object\n",
      " 2   부서명          51428 non-null  object\n",
      " 3   전화번호         51428 non-null  object\n",
      " 4   작성자          51428 non-null  object\n",
      " 5   등록일          51428 non-null  object\n",
      " 6   해당년도         51428 non-null  int64 \n",
      " 7   해당월          51428 non-null  int64 \n",
      " 8   문서url        51428 non-null  object\n",
      " 9   구분(시장실만 사용)  717 non-null    object\n",
      " 10  전체부서명        51428 non-null  object\n",
      " 11  집행일시         51428 non-null  object\n",
      " 12  집행장소         51206 non-null  object\n",
      " 13  집행목적         51428 non-null  object\n",
      " 14  집행대상         51316 non-null  object\n",
      " 15  결제방법         51428 non-null  object\n",
      " 16  집행금액         51428 non-null  int64 \n",
      " 17  비목           51428 non-null  object\n",
      "dtypes: int64(4), object(14)\n",
      "memory usage: 7.1+ MB\n"
     ]
    }
   ],
   "source": [
    "df.info()"
   ]
  },
  {
   "cell_type": "code",
   "execution_count": 7,
   "id": "15a6c79e",
   "metadata": {},
   "outputs": [
    {
     "data": {
      "text/plain": [
       "문서고유id             0\n",
       "제목                 0\n",
       "부서명                0\n",
       "전화번호               0\n",
       "작성자                0\n",
       "등록일                0\n",
       "해당년도               0\n",
       "해당월                0\n",
       "문서url              0\n",
       "구분(시장실만 사용)    50711\n",
       "전체부서명              0\n",
       "집행일시               0\n",
       "집행장소             222\n",
       "집행목적               0\n",
       "집행대상             112\n",
       "결제방법               0\n",
       "집행금액               0\n",
       "비목                 0\n",
       "dtype: int64"
      ]
     },
     "execution_count": 7,
     "metadata": {},
     "output_type": "execute_result"
    }
   ],
   "source": [
    "df.isnull().sum()"
   ]
  },
  {
   "cell_type": "code",
   "execution_count": 8,
   "id": "a2f5b8b3",
   "metadata": {},
   "outputs": [
    {
     "data": {
      "text/plain": [
       "<Axes: >"
      ]
     },
     "execution_count": 8,
     "metadata": {},
     "output_type": "execute_result"
    },
    {
     "data": {
      "image/png": "[encoded data removed]",
      "text/plain": [
       "<Figure size 640x480 with 2 Axes>"
      ]
     },
     "metadata": {},
     "output_type": "display_data"
    }
   ],
   "source": [
    "sns.heatmap(df.isnull(), cmap=\"gray\")"
   ]
  },
  {
   "cell_type": "markdown",
   "id": "26b7458f-142c-4209-8a66-bdb3b100b6f0",
   "metadata": {},
   "source": [
    "## 기초 기술 통계"
   ]
  },
  {
   "cell_type": "code",
   "execution_count": 9,
   "id": "c019fe35",
   "metadata": {},
   "outputs": [
    {
     "data": {
      "text/html": [
       "<div>\n",
       "<style scoped>\n",
       "    .dataframe tbody tr th:only-of-type {\n",
       "        vertical-align: middle;\n",
       "    }\n",
       "\n",
       "    .dataframe tbody tr th {\n",
       "        vertical-align: top;\n",
       "    }\n",
       "\n",
       "    .dataframe thead th {\n",
       "        text-align: right;\n",
       "    }\n",
       "</style>\n",
       "<table border=\"1\" class=\"dataframe\">\n",
       "  <thead>\n",
       "    <tr style=\"text-align: right;\">\n",
       "      <th></th>\n",
       "      <th>문서고유id</th>\n",
       "      <th>해당년도</th>\n",
       "      <th>해당월</th>\n",
       "      <th>집행금액</th>\n",
       "    </tr>\n",
       "  </thead>\n",
       "  <tbody>\n",
       "    <tr>\n",
       "      <th>count</th>\n",
       "      <td>5.142800e+04</td>\n",
       "      <td>51428.000000</td>\n",
       "      <td>51428.000000</td>\n",
       "      <td>5.142800e+04</td>\n",
       "    </tr>\n",
       "    <tr>\n",
       "      <th>mean</th>\n",
       "      <td>2.905391e+07</td>\n",
       "      <td>2023.075815</td>\n",
       "      <td>6.201505</td>\n",
       "      <td>1.272463e+05</td>\n",
       "    </tr>\n",
       "    <tr>\n",
       "      <th>std</th>\n",
       "      <td>7.803365e+05</td>\n",
       "      <td>0.264704</td>\n",
       "      <td>3.685438</td>\n",
       "      <td>2.869994e+05</td>\n",
       "    </tr>\n",
       "    <tr>\n",
       "      <th>min</th>\n",
       "      <td>2.774177e+07</td>\n",
       "      <td>2023.000000</td>\n",
       "      <td>1.000000</td>\n",
       "      <td>0.000000e+00</td>\n",
       "    </tr>\n",
       "    <tr>\n",
       "      <th>25%</th>\n",
       "      <td>2.839680e+07</td>\n",
       "      <td>2023.000000</td>\n",
       "      <td>3.000000</td>\n",
       "      <td>5.500000e+04</td>\n",
       "    </tr>\n",
       "    <tr>\n",
       "      <th>50%</th>\n",
       "      <td>2.902899e+07</td>\n",
       "      <td>2023.000000</td>\n",
       "      <td>6.000000</td>\n",
       "      <td>9.000000e+04</td>\n",
       "    </tr>\n",
       "    <tr>\n",
       "      <th>75%</th>\n",
       "      <td>2.980296e+07</td>\n",
       "      <td>2023.000000</td>\n",
       "      <td>9.000000</td>\n",
       "      <td>1.500000e+05</td>\n",
       "    </tr>\n",
       "    <tr>\n",
       "      <th>max</th>\n",
       "      <td>3.035022e+07</td>\n",
       "      <td>2024.000000</td>\n",
       "      <td>12.000000</td>\n",
       "      <td>4.552614e+07</td>\n",
       "    </tr>\n",
       "  </tbody>\n",
       "</table>\n",
       "</div>"
      ],
      "text/plain": [
       "             문서고유id          해당년도           해당월          집행금액\n",
       "count  5.142800e+04  51428.000000  51428.000000  5.142800e+04\n",
       "mean   2.905391e+07   2023.075815      6.201505  1.272463e+05\n",
       "std    7.803365e+05      0.264704      3.685438  2.869994e+05\n",
       "min    2.774177e+07   2023.000000      1.000000  0.000000e+00\n",
       "25%    2.839680e+07   2023.000000      3.000000  5.500000e+04\n",
       "50%    2.902899e+07   2023.000000      6.000000  9.000000e+04\n",
       "75%    2.980296e+07   2023.000000      9.000000  1.500000e+05\n",
       "max    3.035022e+07   2024.000000     12.000000  4.552614e+07"
      ]
     },
     "execution_count": 9,
     "metadata": {},
     "output_type": "execute_result"
    }
   ],
   "source": [
    "df.describe()"
   ]
  },
  {
   "cell_type": "code",
   "execution_count": 10,
   "id": "41135fad",
   "metadata": {},
   "outputs": [
    {
     "data": {
      "text/html": [
       "<div>\n",
       "<style scoped>\n",
       "    .dataframe tbody tr th:only-of-type {\n",
       "        vertical-align: middle;\n",
       "    }\n",
       "\n",
       "    .dataframe tbody tr th {\n",
       "        vertical-align: top;\n",
       "    }\n",
       "\n",
       "    .dataframe thead th {\n",
       "        text-align: right;\n",
       "    }\n",
       "</style>\n",
       "<table border=\"1\" class=\"dataframe\">\n",
       "  <thead>\n",
       "    <tr style=\"text-align: right;\">\n",
       "      <th></th>\n",
       "      <th>제목</th>\n",
       "      <th>부서명</th>\n",
       "      <th>전화번호</th>\n",
       "      <th>작성자</th>\n",
       "      <th>등록일</th>\n",
       "      <th>문서url</th>\n",
       "      <th>구분(시장실만 사용)</th>\n",
       "      <th>전체부서명</th>\n",
       "      <th>집행일시</th>\n",
       "      <th>집행장소</th>\n",
       "      <th>집행목적</th>\n",
       "      <th>집행대상</th>\n",
       "      <th>결제방법</th>\n",
       "      <th>비목</th>\n",
       "    </tr>\n",
       "  </thead>\n",
       "  <tbody>\n",
       "    <tr>\n",
       "      <th>count</th>\n",
       "      <td>51428</td>\n",
       "      <td>51428</td>\n",
       "      <td>51428</td>\n",
       "      <td>51428</td>\n",
       "      <td>51428</td>\n",
       "      <td>51428</td>\n",
       "      <td>717</td>\n",
       "      <td>51428</td>\n",
       "      <td>51428</td>\n",
       "      <td>51206</td>\n",
       "      <td>51428</td>\n",
       "      <td>51316</td>\n",
       "      <td>51428</td>\n",
       "      <td>51428</td>\n",
       "    </tr>\n",
       "    <tr>\n",
       "      <th>unique</th>\n",
       "      <td>2213</td>\n",
       "      <td>252</td>\n",
       "      <td>330</td>\n",
       "      <td>300</td>\n",
       "      <td>222</td>\n",
       "      <td>2213</td>\n",
       "      <td>2</td>\n",
       "      <td>253</td>\n",
       "      <td>35538</td>\n",
       "      <td>18109</td>\n",
       "      <td>34927</td>\n",
       "      <td>10300</td>\n",
       "      <td>3</td>\n",
       "      <td>4</td>\n",
       "    </tr>\n",
       "    <tr>\n",
       "      <th>top</th>\n",
       "      <td>2023년 12월 서울시본청 행정국 총무과 업무추진비 - 전체</td>\n",
       "      <td>총무과</td>\n",
       "      <td>02-2133-6412</td>\n",
       "      <td>김두영</td>\n",
       "      <td>2023-04-10</td>\n",
       "      <td>https://opengov.seoul.go.kr/expense/30115434</td>\n",
       "      <td>시정 관련 간담회 등</td>\n",
       "      <td>행정국 총무과</td>\n",
       "      <td>1970-01-01 09:00</td>\n",
       "      <td>삼우정(중구 서소문로 134-12)</td>\n",
       "      <td>기강감찰 행정소요경비 지급</td>\n",
       "      <td>디자인정책관 외 3명</td>\n",
       "      <td>카드</td>\n",
       "      <td>시책</td>\n",
       "    </tr>\n",
       "    <tr>\n",
       "      <th>freq</th>\n",
       "      <td>285</td>\n",
       "      <td>3086</td>\n",
       "      <td>1893</td>\n",
       "      <td>2048</td>\n",
       "      <td>1353</td>\n",
       "      <td>285</td>\n",
       "      <td>377</td>\n",
       "      <td>3227</td>\n",
       "      <td>18</td>\n",
       "      <td>287</td>\n",
       "      <td>376</td>\n",
       "      <td>124</td>\n",
       "      <td>37336</td>\n",
       "      <td>39320</td>\n",
       "    </tr>\n",
       "  </tbody>\n",
       "</table>\n",
       "</div>"
      ],
      "text/plain": [
       "                                        제목    부서명          전화번호    작성자  \\\n",
       "count                                51428  51428         51428  51428   \n",
       "unique                                2213    252           330    300   \n",
       "top     2023년 12월 서울시본청 행정국 총무과 업무추진비 - 전체    총무과  02-2133-6412    김두영   \n",
       "freq                                   285   3086          1893   2048   \n",
       "\n",
       "               등록일                                         문서url  구분(시장실만 사용)  \\\n",
       "count        51428                                         51428          717   \n",
       "unique         222                                          2213            2   \n",
       "top     2023-04-10  https://opengov.seoul.go.kr/expense/30115434  시정 관련 간담회 등   \n",
       "freq          1353                                           285          377   \n",
       "\n",
       "          전체부서명              집행일시                 집행장소            집행목적  \\\n",
       "count     51428             51428                51206           51428   \n",
       "unique      253             35538                18109           34927   \n",
       "top     행정국 총무과  1970-01-01 09:00  삼우정(중구 서소문로 134-12)  기강감찰 행정소요경비 지급   \n",
       "freq       3227                18                  287             376   \n",
       "\n",
       "               집행대상   결제방법     비목  \n",
       "count         51316  51428  51428  \n",
       "unique        10300      3      4  \n",
       "top     디자인정책관 외 3명     카드     시책  \n",
       "freq            124  37336  39320  "
      ]
     },
     "execution_count": 10,
     "metadata": {},
     "output_type": "execute_result"
    }
   ],
   "source": [
    "df.describe(include=\"object\")"
   ]
  },
  {
   "cell_type": "markdown",
   "id": "655fe8c9-49d6-41d4-9c6d-0a9a3a5332cb",
   "metadata": {},
   "source": [
    "## 파생변수 만들기\n",
    "* 월, 일, 요일"
   ]
  },
  {
   "cell_type": "code",
   "execution_count": 11,
   "id": "a05900d5-0ab5-4849-9f82-675ccd626de3",
   "metadata": {},
   "outputs": [],
   "source": [
    "df[\"집행일시\"] = pd.to_datetime(df[\"집행일시\"])\n",
    "df[\"집행연도\"] = df[\"집행일시\"].dt.year\n",
    "df[\"집행월\"] = df[\"집행일시\"].dt.month\n",
    "df[\"집행일\"] = df[\"집행일시\"].dt.day\n",
    "df[\"집행요일\"] = df[\"집행일시\"].dt.dayofweek"
   ]
  },
  {
   "cell_type": "markdown",
   "id": "4b190fe3",
   "metadata": {},
   "source": [
    "### 추가된 파생변수의 기술 통계"
   ]
  },
  {
   "cell_type": "code",
   "execution_count": 12,
   "id": "f52df1be-209c-429b-932b-3e240016ebe1",
   "metadata": {},
   "outputs": [
    {
     "data": {
      "text/html": [
       "<div>\n",
       "<style scoped>\n",
       "    .dataframe tbody tr th:only-of-type {\n",
       "        vertical-align: middle;\n",
       "    }\n",
       "\n",
       "    .dataframe tbody tr th {\n",
       "        vertical-align: top;\n",
       "    }\n",
       "\n",
       "    .dataframe thead th {\n",
       "        text-align: right;\n",
       "    }\n",
       "</style>\n",
       "<table border=\"1\" class=\"dataframe\">\n",
       "  <thead>\n",
       "    <tr style=\"text-align: right;\">\n",
       "      <th></th>\n",
       "      <th>문서고유id</th>\n",
       "      <th>해당년도</th>\n",
       "      <th>해당월</th>\n",
       "      <th>집행일시</th>\n",
       "      <th>집행금액</th>\n",
       "      <th>집행연도</th>\n",
       "      <th>집행월</th>\n",
       "      <th>집행일</th>\n",
       "      <th>집행요일</th>\n",
       "    </tr>\n",
       "  </thead>\n",
       "  <tbody>\n",
       "    <tr>\n",
       "      <th>count</th>\n",
       "      <td>5.142800e+04</td>\n",
       "      <td>51428.000000</td>\n",
       "      <td>51428.000000</td>\n",
       "      <td>51428</td>\n",
       "      <td>5.142800e+04</td>\n",
       "      <td>51428.000000</td>\n",
       "      <td>51428.000000</td>\n",
       "      <td>51428.000000</td>\n",
       "      <td>51428.000000</td>\n",
       "    </tr>\n",
       "    <tr>\n",
       "      <th>mean</th>\n",
       "      <td>2.905391e+07</td>\n",
       "      <td>2023.075815</td>\n",
       "      <td>6.201505</td>\n",
       "      <td>2023-07-13 22:24:10.147779584</td>\n",
       "      <td>1.272463e+05</td>\n",
       "      <td>2023.057245</td>\n",
       "      <td>6.199872</td>\n",
       "      <td>16.009722</td>\n",
       "      <td>2.092965</td>\n",
       "    </tr>\n",
       "    <tr>\n",
       "      <th>min</th>\n",
       "      <td>2.774177e+07</td>\n",
       "      <td>2023.000000</td>\n",
       "      <td>1.000000</td>\n",
       "      <td>1970-01-01 09:00:00</td>\n",
       "      <td>0.000000e+00</td>\n",
       "      <td>1970.000000</td>\n",
       "      <td>1.000000</td>\n",
       "      <td>1.000000</td>\n",
       "      <td>0.000000</td>\n",
       "    </tr>\n",
       "    <tr>\n",
       "      <th>25%</th>\n",
       "      <td>2.839680e+07</td>\n",
       "      <td>2023.000000</td>\n",
       "      <td>3.000000</td>\n",
       "      <td>2023-04-11 12:50:45</td>\n",
       "      <td>5.500000e+04</td>\n",
       "      <td>2023.000000</td>\n",
       "      <td>3.000000</td>\n",
       "      <td>9.000000</td>\n",
       "      <td>1.000000</td>\n",
       "    </tr>\n",
       "    <tr>\n",
       "      <th>50%</th>\n",
       "      <td>2.902899e+07</td>\n",
       "      <td>2023.000000</td>\n",
       "      <td>6.000000</td>\n",
       "      <td>2023-07-19 13:22:30</td>\n",
       "      <td>9.000000e+04</td>\n",
       "      <td>2023.000000</td>\n",
       "      <td>6.000000</td>\n",
       "      <td>16.000000</td>\n",
       "      <td>2.000000</td>\n",
       "    </tr>\n",
       "    <tr>\n",
       "      <th>75%</th>\n",
       "      <td>2.980296e+07</td>\n",
       "      <td>2023.000000</td>\n",
       "      <td>9.000000</td>\n",
       "      <td>2023-11-01 12:20:15</td>\n",
       "      <td>1.500000e+05</td>\n",
       "      <td>2023.000000</td>\n",
       "      <td>9.000000</td>\n",
       "      <td>23.000000</td>\n",
       "      <td>3.000000</td>\n",
       "    </tr>\n",
       "    <tr>\n",
       "      <th>max</th>\n",
       "      <td>3.035022e+07</td>\n",
       "      <td>2024.000000</td>\n",
       "      <td>12.000000</td>\n",
       "      <td>2024-01-31 21:57:00</td>\n",
       "      <td>4.552614e+07</td>\n",
       "      <td>2024.000000</td>\n",
       "      <td>12.000000</td>\n",
       "      <td>31.000000</td>\n",
       "      <td>6.000000</td>\n",
       "    </tr>\n",
       "    <tr>\n",
       "      <th>std</th>\n",
       "      <td>7.803365e+05</td>\n",
       "      <td>0.264704</td>\n",
       "      <td>3.685438</td>\n",
       "      <td>NaN</td>\n",
       "      <td>2.869994e+05</td>\n",
       "      <td>1.027473</td>\n",
       "      <td>3.685960</td>\n",
       "      <td>8.634498</td>\n",
       "      <td>1.415798</td>\n",
       "    </tr>\n",
       "  </tbody>\n",
       "</table>\n",
       "</div>"
      ],
      "text/plain": [
       "             문서고유id          해당년도           해당월  \\\n",
       "count  5.142800e+04  51428.000000  51428.000000   \n",
       "mean   2.905391e+07   2023.075815      6.201505   \n",
       "min    2.774177e+07   2023.000000      1.000000   \n",
       "25%    2.839680e+07   2023.000000      3.000000   \n",
       "50%    2.902899e+07   2023.000000      6.000000   \n",
       "75%    2.980296e+07   2023.000000      9.000000   \n",
       "max    3.035022e+07   2024.000000     12.000000   \n",
       "std    7.803365e+05      0.264704      3.685438   \n",
       "\n",
       "                                집행일시          집행금액          집행연도  \\\n",
       "count                          51428  5.142800e+04  51428.000000   \n",
       "mean   2023-07-13 22:24:10.147779584  1.272463e+05   2023.057245   \n",
       "min              1970-01-01 09:00:00  0.000000e+00   1970.000000   \n",
       "25%              2023-04-11 12:50:45  5.500000e+04   2023.000000   \n",
       "50%              2023-07-19 13:22:30  9.000000e+04   2023.000000   \n",
       "75%              2023-11-01 12:20:15  1.500000e+05   2023.000000   \n",
       "max              2024-01-31 21:57:00  4.552614e+07   2024.000000   \n",
       "std                              NaN  2.869994e+05      1.027473   \n",
       "\n",
       "                집행월           집행일          집행요일  \n",
       "count  51428.000000  51428.000000  51428.000000  \n",
       "mean       6.199872     16.009722      2.092965  \n",
       "min        1.000000      1.000000      0.000000  \n",
       "25%        3.000000      9.000000      1.000000  \n",
       "50%        6.000000     16.000000      2.000000  \n",
       "75%        9.000000     23.000000      3.000000  \n",
       "max       12.000000     31.000000      6.000000  \n",
       "std        3.685960      8.634498      1.415798  "
      ]
     },
     "execution_count": 12,
     "metadata": {},
     "output_type": "execute_result"
    }
   ],
   "source": [
    "df.describe()"
   ]
  },
  {
   "cell_type": "code",
   "execution_count": 13,
   "id": "a5764960-c25a-4a93-b0ac-6af76738e533",
   "metadata": {},
   "outputs": [
    {
     "data": {
      "image/png": "[encoded data removed]",
      "text/plain": [
       "<Figure size 1200x600 with 9 Axes>"
      ]
     },
     "metadata": {},
     "output_type": "display_data"
    }
   ],
   "source": [
    "df.hist(figsize=(12, 6));"
   ]
  },
  {
   "cell_type": "markdown",
   "id": "9192f21a-724c-4641-b286-437acbbd2ea8",
   "metadata": {},
   "source": [
    "## 빈도 분석"
   ]
  },
  {
   "cell_type": "code",
   "execution_count": 14,
   "id": "abc5607a",
   "metadata": {},
   "outputs": [
    {
     "data": {
      "text/plain": [
       "집행장소\n",
       "삼우정(중구 서소문로 134-12)             287\n",
       "서울시청 간담회장(서울특별시 중구 세종대로 110)    208\n",
       "오리마당(중구 세종대로 92)                182\n",
       "우도일식(중구 세종대로 124)               169\n",
       "삼우정(서울 중구 서소문로 134-12)          158\n",
       "구이구이(중구 을지로 6)                  135\n",
       "곰국시집(중구 무교로 24)                 126\n",
       "곰국시집(서울 중구 무교로 24)              125\n",
       "푸에르코 광화문(서울특별시 중구 무교로 21)       123\n",
       "월매네남원추어탕(중구 서소문로 109-8)         113\n",
       "Name: count, dtype: int64"
      ]
     },
     "execution_count": 14,
     "metadata": {},
     "output_type": "execute_result"
    }
   ],
   "source": [
    "# 집행 장소 빈도 구하기 value_counts()\n",
    "df[\"집행장소\"].value_counts().head(10)"
   ]
  },
  {
   "cell_type": "markdown",
   "id": "92d03457-c750-4e53-be5d-f691dc585111",
   "metadata": {},
   "source": [
    "## 문자열 파생변수 만들기"
   ]
  },
  {
   "cell_type": "code",
   "execution_count": 15,
   "id": "b3be6297-ab9f-4947-8117-9d36c25a98ff",
   "metadata": {},
   "outputs": [],
   "source": [
    "df[\"집행장소\"] = df[\"집행장소\"].map(lambda x : str(x).replace(\"(주)\", \"<주>\"))\n",
    "df[\"집행장소\"] = df[\"집행장소\"].map(lambda x : str(x).replace(\"(유)\", \"<유>\"))\n",
    "df[\"집행장소\"] = df[\"집행장소\"].map(lambda x : str(x).replace(\"(사)\", \"<유>\"))\n",
    "df[\"집행장소\"] = df[\"집행장소\"].map(lambda x : str(x).replace(\"(재)\", \"<유>\"))"
   ]
  },
  {
   "cell_type": "code",
   "execution_count": 16,
   "id": "a00e7a59-5b33-431f-9e04-f43911f5466d",
   "metadata": {},
   "outputs": [
    {
     "data": {
      "text/plain": [
       "0        종로구 새문안로 35-20)\n",
       "1          중구 서소문동 64-4)\n",
       "2          중구 서소문동 64-4)\n",
       "3             중구 을지로 16)\n",
       "4         중구 세종대로14길 17)\n",
       "              ...       \n",
       "51423       중구 서소문로 134)\n",
       "51424        중구 세종대로 76)\n",
       "51425        중구 세종대로 92)\n",
       "51426       중구 서소문로 134)\n",
       "51427       중구 서소문로 134)\n",
       "Name: 집행장소, Length: 51428, dtype: object"
      ]
     },
     "execution_count": 16,
     "metadata": {},
     "output_type": "execute_result"
    }
   ],
   "source": [
    "df[\"집행장소\"].map(lambda x : str(x).split(\"(\")[-1])"
   ]
  },
  {
   "cell_type": "code",
   "execution_count": 17,
   "id": "0e6142e5-ec47-4453-b95a-75cd131bfe5c",
   "metadata": {},
   "outputs": [
    {
     "data": {
      "text/plain": [
       "0         서궁\n",
       "1        잼배옥\n",
       "2        잼배옥\n",
       "3    브이아이피참치\n",
       "4       북창갈비\n",
       "Name: 상호명, dtype: object"
      ]
     },
     "execution_count": 17,
     "metadata": {},
     "output_type": "execute_result"
    }
   ],
   "source": [
    "df[\"상호명\"] = df[\"집행장소\"].str.replace(r\"\\)([^(\\d)]+)\", \"\").str.split(\"(\", expand=True)[0]\n",
    "df[\"상호명\"] = df[\"상호명\"].str.strip()\n",
    "df[\"상호명\"].head(5)"
   ]
  },
  {
   "cell_type": "code",
   "execution_count": 18,
   "id": "31635440-7f38-45db-8d5e-9eb1c10ae5cf",
   "metadata": {},
   "outputs": [
    {
     "data": {
      "text/plain": [
       "상호명\n",
       "삼우정                     689\n",
       "우도일식                    482\n",
       "오리마당                    472\n",
       "구이구이                    438\n",
       "곰국시집                    394\n",
       "                       ... \n",
       "피자헛 창신점                   1\n",
       "청와정                       1\n",
       "완백부대찌개삼겹살 시청역 씨티스퀘어점      1\n",
       "계동107                     1\n",
       "진오봉참치                     1\n",
       "Name: count, Length: 8090, dtype: int64"
      ]
     },
     "execution_count": 18,
     "metadata": {},
     "output_type": "execute_result"
    }
   ],
   "source": [
    "df[\"상호명\"].value_counts()"
   ]
  },
  {
   "cell_type": "code",
   "execution_count": 19,
   "id": "e7c29cdb-8595-4435-8856-32d67103cc44",
   "metadata": {},
   "outputs": [
    {
     "data": {
      "text/plain": [
       "<Axes: xlabel='상호명'>"
      ]
     },
     "execution_count": 19,
     "metadata": {},
     "output_type": "execute_result"
    },
    {
     "data": {
      "image/png": "[encoded data removed]",
      "text/plain": [
       "<Figure size 640x480 with 1 Axes>"
      ]
     },
     "metadata": {},
     "output_type": "display_data"
    }
   ],
   "source": [
    "df[\"상호명\"].value_counts().head(20).plot(kind=\"bar\")"
   ]
  },
  {
   "cell_type": "markdown",
   "id": "831ad193",
   "metadata": {},
   "source": [
    "## 특정 데이터만 찾고 싶을 때\n",
    "### Boolean Indexing 으로 여러 조건 비교하기\n",
    "\n",
    "### 전처리 결과 확인\n",
    "* loc 를 통한 데이터 확인\n",
    "\n",
    "* 색인하기\n",
    "    * [컬럼]\n",
    "    * .loc[행]\n",
    "    * .loc[행, 열]\n",
    "    * .loc[조건식, 열]"
   ]
  },
  {
   "cell_type": "code",
   "execution_count": 20,
   "id": "5d3bc98b-abcf-4d2a-9b33-0ac6d0726ce6",
   "metadata": {},
   "outputs": [
    {
     "data": {
      "text/plain": [
       "27799                                ()\n",
       "27800                                ()\n",
       "27813                                ()\n",
       "28115             (중구 남대문로9길 40)을밀대 무교점\n",
       "31794          (시청)광화문도시락 (중구 을지로 50-1)\n",
       "31837    (강풀만화거리)승룡이네집 (강동구 천호대로 168가길)\n",
       "39328                                ()\n",
       "43606                                ()\n",
       "43622                                ()\n",
       "43623                                ()\n",
       "47385                                ()\n",
       "47386                                ()\n",
       "Name: 집행장소, dtype: object"
      ]
     },
     "execution_count": 20,
     "metadata": {},
     "output_type": "execute_result"
    }
   ],
   "source": [
    "df.loc[df[\"상호명\"] == \"\", \"집행장소\"]"
   ]
  },
  {
   "cell_type": "code",
   "execution_count": 21,
   "id": "7c938016",
   "metadata": {},
   "outputs": [
    {
     "data": {
      "text/plain": [
       "결제방법\n",
       "카드      37336\n",
       "제로페이    13620\n",
       "현금        472\n",
       "Name: count, dtype: int64"
      ]
     },
     "execution_count": 21,
     "metadata": {},
     "output_type": "execute_result"
    }
   ],
   "source": [
    "df[\"결제방법\"].value_counts()"
   ]
  },
  {
   "cell_type": "code",
   "execution_count": 22,
   "id": "0ba7179f",
   "metadata": {},
   "outputs": [
    {
     "data": {
      "text/plain": [
       "array(['카드', '제로페이', '현금'], dtype=object)"
      ]
     },
     "execution_count": 22,
     "metadata": {},
     "output_type": "execute_result"
    }
   ],
   "source": [
    "df[\"결제방법\"].unique()"
   ]
  },
  {
   "cell_type": "code",
   "execution_count": 23,
   "id": "95b09f10",
   "metadata": {},
   "outputs": [
    {
     "data": {
      "text/plain": [
       "<Axes: >"
      ]
     },
     "execution_count": 23,
     "metadata": {},
     "output_type": "execute_result"
    },
    {
     "data": {
      "image/png": "[encoded data removed]",
      "text/plain": [
       "<Figure size 640x480 with 1 Axes>"
      ]
     },
     "metadata": {},
     "output_type": "display_data"
    }
   ],
   "source": [
    "df[\"집행금액\"].hist(bins=50)"
   ]
  },
  {
   "cell_type": "code",
   "execution_count": 24,
   "id": "8575eaf8",
   "metadata": {},
   "outputs": [
    {
     "data": {
      "text/plain": [
       "count       51428.00\n",
       "mean       127246.27\n",
       "std        286999.45\n",
       "min             0.00\n",
       "25%         55000.00\n",
       "50%         90000.00\n",
       "75%        150000.00\n",
       "max      45526140.00\n",
       "Name: 집행금액, dtype: float64"
      ]
     },
     "execution_count": 24,
     "metadata": {},
     "output_type": "execute_result"
    }
   ],
   "source": [
    "df[\"집행금액\"].describe().round(2)"
   ]
  },
  {
   "cell_type": "code",
   "execution_count": 25,
   "id": "eb8aee60",
   "metadata": {},
   "outputs": [
    {
     "data": {
      "text/html": [
       "<div>\n",
       "<style scoped>\n",
       "    .dataframe tbody tr th:only-of-type {\n",
       "        vertical-align: middle;\n",
       "    }\n",
       "\n",
       "    .dataframe tbody tr th {\n",
       "        vertical-align: top;\n",
       "    }\n",
       "\n",
       "    .dataframe thead th {\n",
       "        text-align: right;\n",
       "    }\n",
       "</style>\n",
       "<table border=\"1\" class=\"dataframe\">\n",
       "  <thead>\n",
       "    <tr style=\"text-align: right;\">\n",
       "      <th></th>\n",
       "      <th>문서고유id</th>\n",
       "      <th>제목</th>\n",
       "      <th>부서명</th>\n",
       "      <th>전화번호</th>\n",
       "      <th>작성자</th>\n",
       "      <th>등록일</th>\n",
       "      <th>해당년도</th>\n",
       "      <th>해당월</th>\n",
       "      <th>문서url</th>\n",
       "      <th>구분(시장실만 사용)</th>\n",
       "      <th>...</th>\n",
       "      <th>집행목적</th>\n",
       "      <th>집행대상</th>\n",
       "      <th>결제방법</th>\n",
       "      <th>집행금액</th>\n",
       "      <th>비목</th>\n",
       "      <th>집행연도</th>\n",
       "      <th>집행월</th>\n",
       "      <th>집행일</th>\n",
       "      <th>집행요일</th>\n",
       "      <th>상호명</th>\n",
       "    </tr>\n",
       "  </thead>\n",
       "  <tbody>\n",
       "    <tr>\n",
       "      <th>1048</th>\n",
       "      <td>30115407</td>\n",
       "      <td>2023년 12월 서울시본청 서울특별시장 업무추진비 - 기관운영 시책추진</td>\n",
       "      <td>시장실</td>\n",
       "      <td>02-2133-6033</td>\n",
       "      <td>전세용</td>\n",
       "      <td>2024-01-10</td>\n",
       "      <td>2023</td>\n",
       "      <td>12</td>\n",
       "      <td>https://opengov.seoul.go.kr/expense/30115407</td>\n",
       "      <td>현업-우수부서 격려 등</td>\n",
       "      <td>...</td>\n",
       "      <td>연말 현안업무 추진직원 격려 다과비 지원</td>\n",
       "      <td>본청 167개 부서</td>\n",
       "      <td>카드</td>\n",
       "      <td>45526140</td>\n",
       "      <td>기관</td>\n",
       "      <td>2023</td>\n",
       "      <td>12</td>\n",
       "      <td>20</td>\n",
       "      <td>2</td>\n",
       "      <td>nan</td>\n",
       "    </tr>\n",
       "  </tbody>\n",
       "</table>\n",
       "<p>1 rows × 23 columns</p>\n",
       "</div>"
      ],
      "text/plain": [
       "        문서고유id                                        제목  부서명          전화번호  \\\n",
       "1048  30115407  2023년 12월 서울시본청 서울특별시장 업무추진비 - 기관운영 시책추진  시장실  02-2133-6033   \n",
       "\n",
       "      작성자         등록일  해당년도  해당월  \\\n",
       "1048  전세용  2024-01-10  2023   12   \n",
       "\n",
       "                                             문서url   구분(시장실만 사용)  ...  \\\n",
       "1048  https://opengov.seoul.go.kr/expense/30115407  현업-우수부서 격려 등  ...   \n",
       "\n",
       "                        집행목적        집행대상 결제방법      집행금액  비목  집행연도  집행월 집행일  \\\n",
       "1048  연말 현안업무 추진직원 격려 다과비 지원  본청 167개 부서   카드  45526140  기관  2023   12  20   \n",
       "\n",
       "      집행요일  상호명  \n",
       "1048     2  nan  \n",
       "\n",
       "[1 rows x 23 columns]"
      ]
     },
     "execution_count": 25,
     "metadata": {},
     "output_type": "execute_result"
    }
   ],
   "source": [
    "df[df[\"집행금액\"] > 40000000]"
   ]
  },
  {
   "cell_type": "code",
   "execution_count": 26,
   "id": "523626ba-86a2-4a12-b7e4-37787da5d83a",
   "metadata": {},
   "outputs": [],
   "source": [
    "df_sub = df[df[\"집행금액\"] < 10000000]"
   ]
  },
  {
   "cell_type": "code",
   "execution_count": 27,
   "id": "5e8656b9-ba0d-4d06-b7cd-78bf9ba5b7bc",
   "metadata": {},
   "outputs": [
    {
     "data": {
      "text/plain": [
       "<Axes: >"
      ]
     },
     "execution_count": 27,
     "metadata": {},
     "output_type": "execute_result"
    },
    {
     "data": {
      "image/png": "[encoded data removed]",
      "text/plain": [
       "<Figure size 640x480 with 1 Axes>"
      ]
     },
     "metadata": {},
     "output_type": "display_data"
    }
   ],
   "source": [
    "df_sub[\"집행금액\"].hist(bins=100)"
   ]
  },
  {
   "cell_type": "code",
   "execution_count": 28,
   "id": "33f56d5f",
   "metadata": {},
   "outputs": [
    {
     "data": {
      "text/plain": [
       "결제방법\n",
       "카드      37336\n",
       "제로페이    13620\n",
       "현금        472\n",
       "Name: count, dtype: int64"
      ]
     },
     "execution_count": 28,
     "metadata": {},
     "output_type": "execute_result"
    }
   ],
   "source": [
    "df[\"결제방법\"].value_counts()"
   ]
  },
  {
   "cell_type": "code",
   "execution_count": 29,
   "id": "f33d81cf",
   "metadata": {},
   "outputs": [
    {
     "data": {
      "text/plain": [
       "비목\n",
       "시책    39320\n",
       "부서     5952\n",
       "기관     5799\n",
       "정원      357\n",
       "Name: count, dtype: int64"
      ]
     },
     "execution_count": 29,
     "metadata": {},
     "output_type": "execute_result"
    }
   ],
   "source": [
    "df[\"비목\"].value_counts()"
   ]
  },
  {
   "cell_type": "markdown",
   "id": "e0724598",
   "metadata": {},
   "source": [
    "## 2개 이상의 변수에 대한 교차표 구하기"
   ]
  },
  {
   "cell_type": "code",
   "execution_count": 30,
   "id": "1c0d388d",
   "metadata": {},
   "outputs": [
    {
     "data": {
      "text/html": [
       "<style type=\"text/css\">\n",
       "</style>\n",
       "<table id=\"T_53dab\">\n",
       "  <thead>\n",
       "    <tr>\n",
       "      <th class=\"index_name level0\" >비목</th>\n",
       "      <th id=\"T_53dab_level0_col0\" class=\"col_heading level0 col0\" >기관</th>\n",
       "      <th id=\"T_53dab_level0_col1\" class=\"col_heading level0 col1\" >부서</th>\n",
       "      <th id=\"T_53dab_level0_col2\" class=\"col_heading level0 col2\" >시책</th>\n",
       "      <th id=\"T_53dab_level0_col3\" class=\"col_heading level0 col3\" >정원</th>\n",
       "    </tr>\n",
       "    <tr>\n",
       "      <th class=\"index_name level0\" >결제방법</th>\n",
       "      <th class=\"blank col0\" >&nbsp;</th>\n",
       "      <th class=\"blank col1\" >&nbsp;</th>\n",
       "      <th class=\"blank col2\" >&nbsp;</th>\n",
       "      <th class=\"blank col3\" >&nbsp;</th>\n",
       "    </tr>\n",
       "  </thead>\n",
       "  <tbody>\n",
       "    <tr>\n",
       "      <th id=\"T_53dab_level0_row0\" class=\"row_heading level0 row0\" >제로페이</th>\n",
       "      <td id=\"T_53dab_row0_col0\" class=\"data row0 col0\" >980</td>\n",
       "      <td id=\"T_53dab_row0_col1\" class=\"data row0 col1\" >1,140</td>\n",
       "      <td id=\"T_53dab_row0_col2\" class=\"data row0 col2\" >11,483</td>\n",
       "      <td id=\"T_53dab_row0_col3\" class=\"data row0 col3\" >17</td>\n",
       "    </tr>\n",
       "    <tr>\n",
       "      <th id=\"T_53dab_level0_row1\" class=\"row_heading level0 row1\" >카드</th>\n",
       "      <td id=\"T_53dab_row1_col0\" class=\"data row1 col0\" >4,382</td>\n",
       "      <td id=\"T_53dab_row1_col1\" class=\"data row1 col1\" >4,800</td>\n",
       "      <td id=\"T_53dab_row1_col2\" class=\"data row1 col2\" >27,834</td>\n",
       "      <td id=\"T_53dab_row1_col3\" class=\"data row1 col3\" >320</td>\n",
       "    </tr>\n",
       "    <tr>\n",
       "      <th id=\"T_53dab_level0_row2\" class=\"row_heading level0 row2\" >현금</th>\n",
       "      <td id=\"T_53dab_row2_col0\" class=\"data row2 col0\" >437</td>\n",
       "      <td id=\"T_53dab_row2_col1\" class=\"data row2 col1\" >12</td>\n",
       "      <td id=\"T_53dab_row2_col2\" class=\"data row2 col2\" >3</td>\n",
       "      <td id=\"T_53dab_row2_col3\" class=\"data row2 col3\" >20</td>\n",
       "    </tr>\n",
       "  </tbody>\n",
       "</table>\n"
      ],
      "text/plain": [
       "<pandas.io.formats.style.Styler at 0x1282d2890>"
      ]
     },
     "execution_count": 30,
     "metadata": {},
     "output_type": "execute_result"
    }
   ],
   "source": [
    "pd.crosstab(df[\"결제방법\"], df[\"비목\"]).style.format(\"{:,.0f}\")"
   ]
  },
  {
   "cell_type": "code",
   "execution_count": 31,
   "id": "a34b119c",
   "metadata": {},
   "outputs": [
    {
     "data": {
      "text/html": [
       "<style type=\"text/css\">\n",
       "</style>\n",
       "<table id=\"T_3fcb7\">\n",
       "  <thead>\n",
       "    <tr>\n",
       "      <th class=\"index_name level0\" >비목</th>\n",
       "      <th id=\"T_3fcb7_level0_col0\" class=\"col_heading level0 col0\" >기관</th>\n",
       "      <th id=\"T_3fcb7_level0_col1\" class=\"col_heading level0 col1\" >부서</th>\n",
       "      <th id=\"T_3fcb7_level0_col2\" class=\"col_heading level0 col2\" >시책</th>\n",
       "      <th id=\"T_3fcb7_level0_col3\" class=\"col_heading level0 col3\" >정원</th>\n",
       "    </tr>\n",
       "    <tr>\n",
       "      <th class=\"index_name level0\" >결제방법</th>\n",
       "      <th class=\"blank col0\" >&nbsp;</th>\n",
       "      <th class=\"blank col1\" >&nbsp;</th>\n",
       "      <th class=\"blank col2\" >&nbsp;</th>\n",
       "      <th class=\"blank col3\" >&nbsp;</th>\n",
       "    </tr>\n",
       "  </thead>\n",
       "  <tbody>\n",
       "    <tr>\n",
       "      <th id=\"T_3fcb7_level0_row0\" class=\"row_heading level0 row0\" >제로페이</th>\n",
       "      <td id=\"T_3fcb7_row0_col0\" class=\"data row0 col0\" >219,911</td>\n",
       "      <td id=\"T_3fcb7_row0_col1\" class=\"data row0 col1\" >192,095</td>\n",
       "      <td id=\"T_3fcb7_row0_col2\" class=\"data row0 col2\" >104,928</td>\n",
       "      <td id=\"T_3fcb7_row0_col3\" class=\"data row0 col3\" >111,453</td>\n",
       "    </tr>\n",
       "    <tr>\n",
       "      <th id=\"T_3fcb7_level0_row1\" class=\"row_heading level0 row1\" >카드</th>\n",
       "      <td id=\"T_3fcb7_row1_col0\" class=\"data row1 col0\" >207,856</td>\n",
       "      <td id=\"T_3fcb7_row1_col1\" class=\"data row1 col1\" >122,128</td>\n",
       "      <td id=\"T_3fcb7_row1_col2\" class=\"data row1 col2\" >113,552</td>\n",
       "      <td id=\"T_3fcb7_row1_col3\" class=\"data row1 col3\" >200,911</td>\n",
       "    </tr>\n",
       "    <tr>\n",
       "      <th id=\"T_3fcb7_level0_row2\" class=\"row_heading level0 row2\" >현금</th>\n",
       "      <td id=\"T_3fcb7_row2_col0\" class=\"data row2 col0\" >397,967</td>\n",
       "      <td id=\"T_3fcb7_row2_col1\" class=\"data row2 col1\" >213,683</td>\n",
       "      <td id=\"T_3fcb7_row2_col2\" class=\"data row2 col2\" >102,167</td>\n",
       "      <td id=\"T_3fcb7_row2_col3\" class=\"data row2 col3\" >200,611</td>\n",
       "    </tr>\n",
       "  </tbody>\n",
       "</table>\n"
      ],
      "text/plain": [
       "<pandas.io.formats.style.Styler at 0x1281e3010>"
      ]
     },
     "execution_count": 31,
     "metadata": {},
     "output_type": "execute_result"
    }
   ],
   "source": [
    "pd.crosstab(df[\"결제방법\"], df[\"비목\"], values=df[\"집행금액\"], aggfunc=\"mean\").style.format(\"{:,.0f}\")"
   ]
  },
  {
   "cell_type": "code",
   "execution_count": 32,
   "id": "79eca197-b6a3-4d0b-8f49-7b5cb03651aa",
   "metadata": {},
   "outputs": [
    {
     "data": {
      "text/plain": [
       "집행목적\n",
       "기강감찰 행정소요경비 지급               376\n",
       "시정 현안 관련 업무협의 간담회            192\n",
       "시정 소통 협력을 위한 유관기관 관계자 간담회    177\n",
       "시정 현안 관련 의견수렴 간담회            160\n",
       "시책사업 추진 관련 의견수렴 간담회          146\n",
       "업무 협의 비용 지급                  104\n",
       "시정 현안 관련 유관기관 간담회             96\n",
       "유관기관 등 업무협력 간담회               96\n",
       "시책사업 추진 관련 업무협의 간담회           96\n",
       "시정 소통 협력을 위한 언론 간담회           92\n",
       "마케팅 전략 기획 관련 의견수렴 간담회         91\n",
       "시정 유관기관 업무협력 간담회              87\n",
       "시정 추진 유관기관 업무협력 간담회           86\n",
       "현안 검토 관련 의견수렴 간담회             79\n",
       "시책사업 관련 의견수렴 간담회              77\n",
       "언론사 협력 시정정보제공 검토 간담회          76\n",
       "현안업무추진 직원 격려 비용 지급            73\n",
       "현안 관련 유관단체 간담회                72\n",
       "공직기강 확립 관련 관계자 간담회            71\n",
       "시정 소통 협력을 위한 의회 관계자 간담회       70\n",
       "Name: count, dtype: int64"
      ]
     },
     "execution_count": 32,
     "metadata": {},
     "output_type": "execute_result"
    }
   ],
   "source": [
    "df[\"집행목적\"].value_counts().head(20)"
   ]
  },
  {
   "cell_type": "code",
   "execution_count": 33,
   "id": "fada9d3a",
   "metadata": {},
   "outputs": [],
   "source": [
    "# 다른 변수로 교차표 구하기\n",
    "\n"
   ]
  },
  {
   "cell_type": "markdown",
   "id": "93d0e81c",
   "metadata": {},
   "source": [
    "## groupby 활용하기\n",
    "\n",
    "<img src=\"https://pandas.pydata.org/docs/_images/06_groupby_select_detail.svg\">\n",
    "\n",
    "* https://pandas.pydata.org/docs/getting_started/intro_tutorials/06_calculate_statistics.html#min-tut-06-stats"
   ]
  },
  {
   "cell_type": "code",
   "execution_count": 34,
   "id": "6de11311",
   "metadata": {},
   "outputs": [
    {
     "data": {
      "text/html": [
       "<style type=\"text/css\">\n",
       "</style>\n",
       "<table id=\"T_54728\">\n",
       "  <thead>\n",
       "    <tr>\n",
       "      <th class=\"blank level0\" >&nbsp;</th>\n",
       "      <th id=\"T_54728_level0_col0\" class=\"col_heading level0 col0\" >count</th>\n",
       "      <th id=\"T_54728_level0_col1\" class=\"col_heading level0 col1\" >mean</th>\n",
       "      <th id=\"T_54728_level0_col2\" class=\"col_heading level0 col2\" >std</th>\n",
       "      <th id=\"T_54728_level0_col3\" class=\"col_heading level0 col3\" >min</th>\n",
       "      <th id=\"T_54728_level0_col4\" class=\"col_heading level0 col4\" >25%</th>\n",
       "      <th id=\"T_54728_level0_col5\" class=\"col_heading level0 col5\" >50%</th>\n",
       "      <th id=\"T_54728_level0_col6\" class=\"col_heading level0 col6\" >75%</th>\n",
       "      <th id=\"T_54728_level0_col7\" class=\"col_heading level0 col7\" >max</th>\n",
       "    </tr>\n",
       "    <tr>\n",
       "      <th class=\"index_name level0\" >결제방법</th>\n",
       "      <th class=\"blank col0\" >&nbsp;</th>\n",
       "      <th class=\"blank col1\" >&nbsp;</th>\n",
       "      <th class=\"blank col2\" >&nbsp;</th>\n",
       "      <th class=\"blank col3\" >&nbsp;</th>\n",
       "      <th class=\"blank col4\" >&nbsp;</th>\n",
       "      <th class=\"blank col5\" >&nbsp;</th>\n",
       "      <th class=\"blank col6\" >&nbsp;</th>\n",
       "      <th class=\"blank col7\" >&nbsp;</th>\n",
       "    </tr>\n",
       "  </thead>\n",
       "  <tbody>\n",
       "    <tr>\n",
       "      <th id=\"T_54728_level0_row0\" class=\"row_heading level0 row0\" >제로페이</th>\n",
       "      <td id=\"T_54728_row0_col0\" class=\"data row0 col0\" >13,620</td>\n",
       "      <td id=\"T_54728_row0_col1\" class=\"data row0 col1\" >120,506</td>\n",
       "      <td id=\"T_54728_row0_col2\" class=\"data row0 col2\" >131,943</td>\n",
       "      <td id=\"T_54728_row0_col3\" class=\"data row0 col3\" >100</td>\n",
       "      <td id=\"T_54728_row0_col4\" class=\"data row0 col4\" >58,000</td>\n",
       "      <td id=\"T_54728_row0_col5\" class=\"data row0 col5\" >89,000</td>\n",
       "      <td id=\"T_54728_row0_col6\" class=\"data row0 col6\" >144,000</td>\n",
       "      <td id=\"T_54728_row0_col7\" class=\"data row0 col7\" >5,280,000</td>\n",
       "    </tr>\n",
       "    <tr>\n",
       "      <th id=\"T_54728_level0_row1\" class=\"row_heading level0 row1\" >카드</th>\n",
       "      <td id=\"T_54728_row1_col0\" class=\"data row1 col0\" >37,336</td>\n",
       "      <td id=\"T_54728_row1_col1\" class=\"data row1 col1\" >126,471</td>\n",
       "      <td id=\"T_54728_row1_col2\" class=\"data row1 col2\" >291,942</td>\n",
       "      <td id=\"T_54728_row1_col3\" class=\"data row1 col3\" >1,000</td>\n",
       "      <td id=\"T_54728_row1_col4\" class=\"data row1 col4\" >54,500</td>\n",
       "      <td id=\"T_54728_row1_col5\" class=\"data row1 col5\" >92,000</td>\n",
       "      <td id=\"T_54728_row1_col6\" class=\"data row1 col6\" >151,000</td>\n",
       "      <td id=\"T_54728_row1_col7\" class=\"data row1 col7\" >45,526,140</td>\n",
       "    </tr>\n",
       "    <tr>\n",
       "      <th id=\"T_54728_level0_row2\" class=\"row_heading level0 row2\" >현금</th>\n",
       "      <td id=\"T_54728_row2_col0\" class=\"data row2 col0\" >472</td>\n",
       "      <td id=\"T_54728_row2_col1\" class=\"data row2 col1\" >383,039</td>\n",
       "      <td id=\"T_54728_row2_col2\" class=\"data row2 col2\" >1,291,238</td>\n",
       "      <td id=\"T_54728_row2_col3\" class=\"data row2 col3\" >0</td>\n",
       "      <td id=\"T_54728_row2_col4\" class=\"data row2 col4\" >50,000</td>\n",
       "      <td id=\"T_54728_row2_col5\" class=\"data row2 col5\" >50,000</td>\n",
       "      <td id=\"T_54728_row2_col6\" class=\"data row2 col6\" >100,000</td>\n",
       "      <td id=\"T_54728_row2_col7\" class=\"data row2 col7\" >9,689,400</td>\n",
       "    </tr>\n",
       "  </tbody>\n",
       "</table>\n"
      ],
      "text/plain": [
       "<pandas.io.formats.style.Styler at 0x128101790>"
      ]
     },
     "execution_count": 34,
     "metadata": {},
     "output_type": "execute_result"
    }
   ],
   "source": [
    "# 결제 방법, 집행 금액 기술 통계 및 연산\n",
    "df.groupby(\"결제방법\")[\"집행금액\"].describe().style.format(\"{:,.0f}\")"
   ]
  },
  {
   "cell_type": "markdown",
   "id": "79e62aba",
   "metadata": {},
   "source": [
    "* [Styling — pandas documentation](https://pandas.pydata.org/pandas-docs/stable/user_guide/style.html)"
   ]
  },
  {
   "cell_type": "code",
   "execution_count": 35,
   "id": "b2f4aeea",
   "metadata": {},
   "outputs": [
    {
     "data": {
      "text/html": [
       "<style type=\"text/css\">\n",
       "#T_028cb_row0_col0 {\n",
       "  background-color: #a7dba0;\n",
       "  color: #000000;\n",
       "}\n",
       "#T_028cb_row0_col1, #T_028cb_row0_col2, #T_028cb_row0_col7, #T_028cb_row2_col0, #T_028cb_row2_col3, #T_028cb_row2_col4, #T_028cb_row2_col5, #T_028cb_row2_col6 {\n",
       "  background-color: #f7fcf5;\n",
       "  color: #000000;\n",
       "}\n",
       "#T_028cb_row0_col3 {\n",
       "  background-color: #e9f7e5;\n",
       "  color: #000000;\n",
       "}\n",
       "#T_028cb_row0_col4, #T_028cb_row1_col0, #T_028cb_row1_col3, #T_028cb_row1_col5, #T_028cb_row1_col6, #T_028cb_row1_col7, #T_028cb_row2_col1, #T_028cb_row2_col2 {\n",
       "  background-color: #00441b;\n",
       "  color: #f1f1f1;\n",
       "}\n",
       "#T_028cb_row0_col5 {\n",
       "  background-color: #005b25;\n",
       "  color: #f1f1f1;\n",
       "}\n",
       "#T_028cb_row0_col6 {\n",
       "  background-color: #03702e;\n",
       "  color: #f1f1f1;\n",
       "}\n",
       "#T_028cb_row1_col1 {\n",
       "  background-color: #f4fbf2;\n",
       "  color: #000000;\n",
       "}\n",
       "#T_028cb_row1_col2 {\n",
       "  background-color: #e2f4dd;\n",
       "  color: #000000;\n",
       "}\n",
       "#T_028cb_row1_col4 {\n",
       "  background-color: #5ab769;\n",
       "  color: #f1f1f1;\n",
       "}\n",
       "#T_028cb_row2_col7 {\n",
       "  background-color: #e7f6e3;\n",
       "  color: #000000;\n",
       "}\n",
       "</style>\n",
       "<table id=\"T_028cb\">\n",
       "  <thead>\n",
       "    <tr>\n",
       "      <th class=\"blank level0\" >&nbsp;</th>\n",
       "      <th id=\"T_028cb_level0_col0\" class=\"col_heading level0 col0\" >count</th>\n",
       "      <th id=\"T_028cb_level0_col1\" class=\"col_heading level0 col1\" >mean</th>\n",
       "      <th id=\"T_028cb_level0_col2\" class=\"col_heading level0 col2\" >std</th>\n",
       "      <th id=\"T_028cb_level0_col3\" class=\"col_heading level0 col3\" >min</th>\n",
       "      <th id=\"T_028cb_level0_col4\" class=\"col_heading level0 col4\" >25%</th>\n",
       "      <th id=\"T_028cb_level0_col5\" class=\"col_heading level0 col5\" >50%</th>\n",
       "      <th id=\"T_028cb_level0_col6\" class=\"col_heading level0 col6\" >75%</th>\n",
       "      <th id=\"T_028cb_level0_col7\" class=\"col_heading level0 col7\" >max</th>\n",
       "    </tr>\n",
       "    <tr>\n",
       "      <th class=\"index_name level0\" >결제방법</th>\n",
       "      <th class=\"blank col0\" >&nbsp;</th>\n",
       "      <th class=\"blank col1\" >&nbsp;</th>\n",
       "      <th class=\"blank col2\" >&nbsp;</th>\n",
       "      <th class=\"blank col3\" >&nbsp;</th>\n",
       "      <th class=\"blank col4\" >&nbsp;</th>\n",
       "      <th class=\"blank col5\" >&nbsp;</th>\n",
       "      <th class=\"blank col6\" >&nbsp;</th>\n",
       "      <th class=\"blank col7\" >&nbsp;</th>\n",
       "    </tr>\n",
       "  </thead>\n",
       "  <tbody>\n",
       "    <tr>\n",
       "      <th id=\"T_028cb_level0_row0\" class=\"row_heading level0 row0\" >제로페이</th>\n",
       "      <td id=\"T_028cb_row0_col0\" class=\"data row0 col0\" >13,620</td>\n",
       "      <td id=\"T_028cb_row0_col1\" class=\"data row0 col1\" >120,506</td>\n",
       "      <td id=\"T_028cb_row0_col2\" class=\"data row0 col2\" >131,943</td>\n",
       "      <td id=\"T_028cb_row0_col3\" class=\"data row0 col3\" >100</td>\n",
       "      <td id=\"T_028cb_row0_col4\" class=\"data row0 col4\" >58,000</td>\n",
       "      <td id=\"T_028cb_row0_col5\" class=\"data row0 col5\" >89,000</td>\n",
       "      <td id=\"T_028cb_row0_col6\" class=\"data row0 col6\" >144,000</td>\n",
       "      <td id=\"T_028cb_row0_col7\" class=\"data row0 col7\" >5,280,000</td>\n",
       "    </tr>\n",
       "    <tr>\n",
       "      <th id=\"T_028cb_level0_row1\" class=\"row_heading level0 row1\" >카드</th>\n",
       "      <td id=\"T_028cb_row1_col0\" class=\"data row1 col0\" >37,336</td>\n",
       "      <td id=\"T_028cb_row1_col1\" class=\"data row1 col1\" >126,471</td>\n",
       "      <td id=\"T_028cb_row1_col2\" class=\"data row1 col2\" >291,942</td>\n",
       "      <td id=\"T_028cb_row1_col3\" class=\"data row1 col3\" >1,000</td>\n",
       "      <td id=\"T_028cb_row1_col4\" class=\"data row1 col4\" >54,500</td>\n",
       "      <td id=\"T_028cb_row1_col5\" class=\"data row1 col5\" >92,000</td>\n",
       "      <td id=\"T_028cb_row1_col6\" class=\"data row1 col6\" >151,000</td>\n",
       "      <td id=\"T_028cb_row1_col7\" class=\"data row1 col7\" >45,526,140</td>\n",
       "    </tr>\n",
       "    <tr>\n",
       "      <th id=\"T_028cb_level0_row2\" class=\"row_heading level0 row2\" >현금</th>\n",
       "      <td id=\"T_028cb_row2_col0\" class=\"data row2 col0\" >472</td>\n",
       "      <td id=\"T_028cb_row2_col1\" class=\"data row2 col1\" >383,039</td>\n",
       "      <td id=\"T_028cb_row2_col2\" class=\"data row2 col2\" >1,291,238</td>\n",
       "      <td id=\"T_028cb_row2_col3\" class=\"data row2 col3\" >0</td>\n",
       "      <td id=\"T_028cb_row2_col4\" class=\"data row2 col4\" >50,000</td>\n",
       "      <td id=\"T_028cb_row2_col5\" class=\"data row2 col5\" >50,000</td>\n",
       "      <td id=\"T_028cb_row2_col6\" class=\"data row2 col6\" >100,000</td>\n",
       "      <td id=\"T_028cb_row2_col7\" class=\"data row2 col7\" >9,689,400</td>\n",
       "    </tr>\n",
       "  </tbody>\n",
       "</table>\n"
      ],
      "text/plain": [
       "<pandas.io.formats.style.Styler at 0x1283efc90>"
      ]
     },
     "execution_count": 35,
     "metadata": {},
     "output_type": "execute_result"
    }
   ],
   "source": [
    "df.groupby(\"결제방법\")[\"집행금액\"].describe().style.format(\"{:,.0f}\").background_gradient(cmap=\"Greens\")"
   ]
  },
  {
   "cell_type": "code",
   "execution_count": 36,
   "id": "6aaf6abe",
   "metadata": {},
   "outputs": [],
   "source": [
    "# 주요 상호별 결제 방법\n"
   ]
  },
  {
   "cell_type": "markdown",
   "id": "b8cc4434",
   "metadata": {},
   "source": [
    "* Fancy Indexing\n",
    "\n",
    "<img src=\"http://scipy-lectures.org/_images/numpy_fancy_indexing.png\" width=\"400\" align=\"left\">"
   ]
  },
  {
   "cell_type": "markdown",
   "id": "77dcb9b0",
   "metadata": {},
   "source": [
    "\n",
    "* 이미지 출처 : http://scipy-lectures.org/intro/numpy/array_object.html#manual-construction-of-arrays\n",
    "\n",
    "<img src=\"http://scipy-lectures.org/_images/numpy_indexing.png\" width=\"300\" align=\"left\">"
   ]
  },
  {
   "cell_type": "markdown",
   "id": "1e701dc3",
   "metadata": {},
   "source": [
    "## 월별 지출액"
   ]
  },
  {
   "cell_type": "code",
   "execution_count": 37,
   "id": "52772f9d",
   "metadata": {},
   "outputs": [
    {
     "data": {
      "text/plain": [
       "집행월\n",
       "1     1077346924\n",
       "2      461547226\n",
       "3      475312243\n",
       "4      435448819\n",
       "5      445756073\n",
       "6      468068588\n",
       "7      478799266\n",
       "8      445592380\n",
       "9      480884240\n",
       "10     444843200\n",
       "11     506911959\n",
       "12     823510345\n",
       "Name: 집행금액, dtype: int64"
      ]
     },
     "execution_count": 37,
     "metadata": {},
     "output_type": "execute_result"
    }
   ],
   "source": [
    "df.groupby(\"집행월\")[\"집행금액\"].sum()"
   ]
  },
  {
   "cell_type": "code",
   "execution_count": 38,
   "id": "3c57f563-fc20-4430-8de4-a8a8b4ec0e39",
   "metadata": {},
   "outputs": [
    {
     "data": {
      "text/html": [
       "<style type=\"text/css\">\n",
       "#T_9fbe0_row0_col0, #T_9fbe0_row0_col1, #T_9fbe0_row0_col2, #T_9fbe0_row0_col4, #T_9fbe0_row0_col5, #T_9fbe0_row9_col6, #T_9fbe0_row11_col3 {\n",
       "  background-color: #023858;\n",
       "  color: #f1f1f1;\n",
       "}\n",
       "#T_9fbe0_row0_col3 {\n",
       "  background-color: #034369;\n",
       "  color: #f1f1f1;\n",
       "}\n",
       "#T_9fbe0_row0_col6, #T_9fbe0_row7_col1, #T_9fbe0_row7_col5 {\n",
       "  background-color: #faf2f8;\n",
       "  color: #000000;\n",
       "}\n",
       "#T_9fbe0_row1_col0 {\n",
       "  background-color: #ede8f3;\n",
       "  color: #000000;\n",
       "}\n",
       "#T_9fbe0_row1_col1, #T_9fbe0_row4_col3 {\n",
       "  background-color: #ece7f2;\n",
       "  color: #000000;\n",
       "}\n",
       "#T_9fbe0_row1_col2, #T_9fbe0_row3_col0 {\n",
       "  background-color: #f1ebf4;\n",
       "  color: #000000;\n",
       "}\n",
       "#T_9fbe0_row1_col3 {\n",
       "  background-color: #e3e0ee;\n",
       "  color: #000000;\n",
       "}\n",
       "#T_9fbe0_row1_col4 {\n",
       "  background-color: #d8d7e9;\n",
       "  color: #000000;\n",
       "}\n",
       "#T_9fbe0_row1_col5, #T_9fbe0_row3_col2 {\n",
       "  background-color: #f8f1f8;\n",
       "  color: #000000;\n",
       "}\n",
       "#T_9fbe0_row1_col6 {\n",
       "  background-color: #f7f0f7;\n",
       "  color: #000000;\n",
       "}\n",
       "#T_9fbe0_row2_col0, #T_9fbe0_row6_col2 {\n",
       "  background-color: #eae6f1;\n",
       "  color: #000000;\n",
       "}\n",
       "#T_9fbe0_row2_col1, #T_9fbe0_row7_col4, #T_9fbe0_row11_col0 {\n",
       "  background-color: #f0eaf4;\n",
       "  color: #000000;\n",
       "}\n",
       "#T_9fbe0_row2_col2, #T_9fbe0_row4_col0, #T_9fbe0_row5_col6 {\n",
       "  background-color: #f6eff7;\n",
       "  color: #000000;\n",
       "}\n",
       "#T_9fbe0_row2_col3 {\n",
       "  background-color: #bdc8e1;\n",
       "  color: #000000;\n",
       "}\n",
       "#T_9fbe0_row2_col4 {\n",
       "  background-color: #dad9ea;\n",
       "  color: #000000;\n",
       "}\n",
       "#T_9fbe0_row2_col5 {\n",
       "  background-color: #569dc8;\n",
       "  color: #f1f1f1;\n",
       "}\n",
       "#T_9fbe0_row2_col6 {\n",
       "  background-color: #d6d6e9;\n",
       "  color: #000000;\n",
       "}\n",
       "#T_9fbe0_row3_col1 {\n",
       "  background-color: #f3edf5;\n",
       "  color: #000000;\n",
       "}\n",
       "#T_9fbe0_row3_col3 {\n",
       "  background-color: #ebe6f2;\n",
       "  color: #000000;\n",
       "}\n",
       "#T_9fbe0_row3_col4, #T_9fbe0_row8_col2 {\n",
       "  background-color: #e0dded;\n",
       "  color: #000000;\n",
       "}\n",
       "#T_9fbe0_row3_col5 {\n",
       "  background-color: #b9c6e0;\n",
       "  color: #000000;\n",
       "}\n",
       "#T_9fbe0_row3_col6, #T_9fbe0_row4_col1, #T_9fbe0_row5_col4, #T_9fbe0_row9_col4 {\n",
       "  background-color: #d5d5e8;\n",
       "  color: #000000;\n",
       "}\n",
       "#T_9fbe0_row4_col2 {\n",
       "  background-color: #dcdaeb;\n",
       "  color: #000000;\n",
       "}\n",
       "#T_9fbe0_row4_col4, #T_9fbe0_row5_col1, #T_9fbe0_row7_col6, #T_9fbe0_row8_col3, #T_9fbe0_row9_col0, #T_9fbe0_row9_col2, #T_9fbe0_row10_col5 {\n",
       "  background-color: #fff7fb;\n",
       "  color: #000000;\n",
       "}\n",
       "#T_9fbe0_row4_col5 {\n",
       "  background-color: #d7d6e9;\n",
       "  color: #000000;\n",
       "}\n",
       "#T_9fbe0_row4_col6 {\n",
       "  background-color: #e9e5f1;\n",
       "  color: #000000;\n",
       "}\n",
       "#T_9fbe0_row5_col0, #T_9fbe0_row6_col4, #T_9fbe0_row11_col5, #T_9fbe0_row11_col6 {\n",
       "  background-color: #f2ecf5;\n",
       "  color: #000000;\n",
       "}\n",
       "#T_9fbe0_row5_col2 {\n",
       "  background-color: #f4edf6;\n",
       "  color: #000000;\n",
       "}\n",
       "#T_9fbe0_row5_col3 {\n",
       "  background-color: #a8bedc;\n",
       "  color: #000000;\n",
       "}\n",
       "#T_9fbe0_row5_col5 {\n",
       "  background-color: #0a73b2;\n",
       "  color: #f1f1f1;\n",
       "}\n",
       "#T_9fbe0_row6_col0 {\n",
       "  background-color: #b3c3de;\n",
       "  color: #000000;\n",
       "}\n",
       "#T_9fbe0_row6_col1 {\n",
       "  background-color: #e7e3f0;\n",
       "  color: #000000;\n",
       "}\n",
       "#T_9fbe0_row6_col3 {\n",
       "  background-color: #e1dfed;\n",
       "  color: #000000;\n",
       "}\n",
       "#T_9fbe0_row6_col5 {\n",
       "  background-color: #76aad0;\n",
       "  color: #f1f1f1;\n",
       "}\n",
       "#T_9fbe0_row6_col6 {\n",
       "  background-color: #fbf3f9;\n",
       "  color: #000000;\n",
       "}\n",
       "#T_9fbe0_row7_col0 {\n",
       "  background-color: #faf3f9;\n",
       "  color: #000000;\n",
       "}\n",
       "#T_9fbe0_row7_col2, #T_9fbe0_row9_col3 {\n",
       "  background-color: #dedcec;\n",
       "  color: #000000;\n",
       "}\n",
       "#T_9fbe0_row7_col3, #T_9fbe0_row8_col5 {\n",
       "  background-color: #cccfe5;\n",
       "  color: #000000;\n",
       "}\n",
       "#T_9fbe0_row8_col0 {\n",
       "  background-color: #e5e1ef;\n",
       "  color: #000000;\n",
       "}\n",
       "#T_9fbe0_row8_col1, #T_9fbe0_row10_col2 {\n",
       "  background-color: #cdd0e5;\n",
       "  color: #000000;\n",
       "}\n",
       "#T_9fbe0_row8_col4 {\n",
       "  background-color: #d4d4e8;\n",
       "  color: #000000;\n",
       "}\n",
       "#T_9fbe0_row8_col6 {\n",
       "  background-color: #f5eef6;\n",
       "  color: #000000;\n",
       "}\n",
       "#T_9fbe0_row9_col1 {\n",
       "  background-color: #eee9f3;\n",
       "  color: #000000;\n",
       "}\n",
       "#T_9fbe0_row9_col5 {\n",
       "  background-color: #509ac6;\n",
       "  color: #f1f1f1;\n",
       "}\n",
       "#T_9fbe0_row10_col0 {\n",
       "  background-color: #f4eef6;\n",
       "  color: #000000;\n",
       "}\n",
       "#T_9fbe0_row10_col1, #T_9fbe0_row10_col6 {\n",
       "  background-color: #ede7f2;\n",
       "  color: #000000;\n",
       "}\n",
       "#T_9fbe0_row10_col3 {\n",
       "  background-color: #a9bfdc;\n",
       "  color: #000000;\n",
       "}\n",
       "#T_9fbe0_row10_col4 {\n",
       "  background-color: #d9d8ea;\n",
       "  color: #000000;\n",
       "}\n",
       "#T_9fbe0_row11_col1 {\n",
       "  background-color: #5ea0ca;\n",
       "  color: #f1f1f1;\n",
       "}\n",
       "#T_9fbe0_row11_col2 {\n",
       "  background-color: #034871;\n",
       "  color: #f1f1f1;\n",
       "}\n",
       "#T_9fbe0_row11_col4 {\n",
       "  background-color: #4a98c5;\n",
       "  color: #f1f1f1;\n",
       "}\n",
       "</style>\n",
       "<table id=\"T_9fbe0\">\n",
       "  <thead>\n",
       "    <tr>\n",
       "      <th class=\"index_name level0\" >집행요일</th>\n",
       "      <th id=\"T_9fbe0_level0_col0\" class=\"col_heading level0 col0\" >0</th>\n",
       "      <th id=\"T_9fbe0_level0_col1\" class=\"col_heading level0 col1\" >1</th>\n",
       "      <th id=\"T_9fbe0_level0_col2\" class=\"col_heading level0 col2\" >2</th>\n",
       "      <th id=\"T_9fbe0_level0_col3\" class=\"col_heading level0 col3\" >3</th>\n",
       "      <th id=\"T_9fbe0_level0_col4\" class=\"col_heading level0 col4\" >4</th>\n",
       "      <th id=\"T_9fbe0_level0_col5\" class=\"col_heading level0 col5\" >5</th>\n",
       "      <th id=\"T_9fbe0_level0_col6\" class=\"col_heading level0 col6\" >6</th>\n",
       "    </tr>\n",
       "    <tr>\n",
       "      <th class=\"index_name level0\" >집행월</th>\n",
       "      <th class=\"blank col0\" >&nbsp;</th>\n",
       "      <th class=\"blank col1\" >&nbsp;</th>\n",
       "      <th class=\"blank col2\" >&nbsp;</th>\n",
       "      <th class=\"blank col3\" >&nbsp;</th>\n",
       "      <th class=\"blank col4\" >&nbsp;</th>\n",
       "      <th class=\"blank col5\" >&nbsp;</th>\n",
       "      <th class=\"blank col6\" >&nbsp;</th>\n",
       "    </tr>\n",
       "  </thead>\n",
       "  <tbody>\n",
       "    <tr>\n",
       "      <th id=\"T_9fbe0_level0_row0\" class=\"row_heading level0 row0\" >1</th>\n",
       "      <td id=\"T_9fbe0_row0_col0\" class=\"data row0 col0\" >192,300,879</td>\n",
       "      <td id=\"T_9fbe0_row0_col1\" class=\"data row0 col1\" >218,329,450</td>\n",
       "      <td id=\"T_9fbe0_row0_col2\" class=\"data row0 col2\" >235,648,265</td>\n",
       "      <td id=\"T_9fbe0_row0_col3\" class=\"data row0 col3\" >197,815,092</td>\n",
       "      <td id=\"T_9fbe0_row0_col4\" class=\"data row0 col4\" >227,199,732</td>\n",
       "      <td id=\"T_9fbe0_row0_col5\" class=\"data row0 col5\" >5,036,006</td>\n",
       "      <td id=\"T_9fbe0_row0_col6\" class=\"data row0 col6\" >1,017,500</td>\n",
       "    </tr>\n",
       "    <tr>\n",
       "      <th id=\"T_9fbe0_level0_row1\" class=\"row_heading level0 row1\" >2</th>\n",
       "      <td id=\"T_9fbe0_row1_col0\" class=\"data row1 col0\" >83,282,850</td>\n",
       "      <td id=\"T_9fbe0_row1_col1\" class=\"data row1 col1\" >90,276,966</td>\n",
       "      <td id=\"T_9fbe0_row1_col2\" class=\"data row1 col2\" >95,484,130</td>\n",
       "      <td id=\"T_9fbe0_row1_col3\" class=\"data row1 col3\" >92,495,060</td>\n",
       "      <td id=\"T_9fbe0_row1_col4\" class=\"data row1 col4\" >97,908,405</td>\n",
       "      <td id=\"T_9fbe0_row1_col5\" class=\"data row1 col5\" >947,700</td>\n",
       "      <td id=\"T_9fbe0_row1_col6\" class=\"data row1 col6\" >1,152,115</td>\n",
       "    </tr>\n",
       "    <tr>\n",
       "      <th id=\"T_9fbe0_level0_row2\" class=\"row_heading level0 row2\" >3</th>\n",
       "      <td id=\"T_9fbe0_row2_col0\" class=\"data row2 col0\" >85,313,851</td>\n",
       "      <td id=\"T_9fbe0_row2_col1\" class=\"data row2 col1\" >86,740,015</td>\n",
       "      <td id=\"T_9fbe0_row2_col2\" class=\"data row2 col2\" >90,437,746</td>\n",
       "      <td id=\"T_9fbe0_row2_col3\" class=\"data row2 col3\" >111,035,934</td>\n",
       "      <td id=\"T_9fbe0_row2_col4\" class=\"data row2 col4\" >95,944,861</td>\n",
       "      <td id=\"T_9fbe0_row2_col5\" class=\"data row2 col5\" >3,154,437</td>\n",
       "      <td id=\"T_9fbe0_row2_col6\" class=\"data row2 col6\" >2,685,399</td>\n",
       "    </tr>\n",
       "    <tr>\n",
       "      <th id=\"T_9fbe0_level0_row3\" class=\"row_heading level0 row3\" >4</th>\n",
       "      <td id=\"T_9fbe0_row3_col0\" class=\"data row3 col0\" >80,115,995</td>\n",
       "      <td id=\"T_9fbe0_row3_col1\" class=\"data row3 col1\" >83,349,850</td>\n",
       "      <td id=\"T_9fbe0_row3_col2\" class=\"data row3 col2\" >87,799,064</td>\n",
       "      <td id=\"T_9fbe0_row3_col3\" class=\"data row3 col3\" >87,352,930</td>\n",
       "      <td id=\"T_9fbe0_row3_col4\" class=\"data row3 col4\" >92,007,280</td>\n",
       "      <td id=\"T_9fbe0_row3_col5\" class=\"data row3 col5\" >2,113,500</td>\n",
       "      <td id=\"T_9fbe0_row3_col6\" class=\"data row3 col6\" >2,710,200</td>\n",
       "    </tr>\n",
       "    <tr>\n",
       "      <th id=\"T_9fbe0_level0_row4\" class=\"row_heading level0 row4\" >5</th>\n",
       "      <td id=\"T_9fbe0_row4_col0\" class=\"data row4 col0\" >75,760,493</td>\n",
       "      <td id=\"T_9fbe0_row4_col1\" class=\"data row4 col1\" >105,519,838</td>\n",
       "      <td id=\"T_9fbe0_row4_col2\" class=\"data row4 col2\" >111,583,386</td>\n",
       "      <td id=\"T_9fbe0_row4_col3\" class=\"data row4 col3\" >87,296,563</td>\n",
       "      <td id=\"T_9fbe0_row4_col4\" class=\"data row4 col4\" >61,984,473</td>\n",
       "      <td id=\"T_9fbe0_row4_col5\" class=\"data row4 col5\" >1,702,220</td>\n",
       "      <td id=\"T_9fbe0_row4_col6\" class=\"data row4 col6\" >1,909,100</td>\n",
       "    </tr>\n",
       "    <tr>\n",
       "      <th id=\"T_9fbe0_level0_row5\" class=\"row_heading level0 row5\" >6</th>\n",
       "      <td id=\"T_9fbe0_row5_col0\" class=\"data row5 col0\" >79,421,818</td>\n",
       "      <td id=\"T_9fbe0_row5_col1\" class=\"data row5 col1\" >71,843,060</td>\n",
       "      <td id=\"T_9fbe0_row5_col2\" class=\"data row5 col2\" >92,761,080</td>\n",
       "      <td id=\"T_9fbe0_row5_col3\" class=\"data row5 col3\" >119,338,415</td>\n",
       "      <td id=\"T_9fbe0_row5_col4\" class=\"data row5 col4\" >99,565,027</td>\n",
       "      <td id=\"T_9fbe0_row5_col5\" class=\"data row5 col5\" >3,901,672</td>\n",
       "      <td id=\"T_9fbe0_row5_col6\" class=\"data row5 col6\" >1,237,516</td>\n",
       "    </tr>\n",
       "    <tr>\n",
       "      <th id=\"T_9fbe0_level0_row6\" class=\"row_heading level0 row6\" >7</th>\n",
       "      <td id=\"T_9fbe0_row6_col0\" class=\"data row6 col0\" >110,181,350</td>\n",
       "      <td id=\"T_9fbe0_row6_col1\" class=\"data row6 col1\" >93,081,690</td>\n",
       "      <td id=\"T_9fbe0_row6_col2\" class=\"data row6 col2\" >101,404,696</td>\n",
       "      <td id=\"T_9fbe0_row6_col3\" class=\"data row6 col3\" >93,501,260</td>\n",
       "      <td id=\"T_9fbe0_row6_col4\" class=\"data row6 col4\" >76,815,670</td>\n",
       "      <td id=\"T_9fbe0_row6_col5\" class=\"data row6 col5\" >2,867,000</td>\n",
       "      <td id=\"T_9fbe0_row6_col6\" class=\"data row6 col6\" >947,600</td>\n",
       "    </tr>\n",
       "    <tr>\n",
       "      <th id=\"T_9fbe0_level0_row7\" class=\"row_heading level0 row7\" >8</th>\n",
       "      <td id=\"T_9fbe0_row7_col0\" class=\"data row7 col0\" >72,395,790</td>\n",
       "      <td id=\"T_9fbe0_row7_col1\" class=\"data row7 col1\" >77,064,300</td>\n",
       "      <td id=\"T_9fbe0_row7_col2\" class=\"data row7 col2\" >110,382,700</td>\n",
       "      <td id=\"T_9fbe0_row7_col3\" class=\"data row7 col3\" >105,324,190</td>\n",
       "      <td id=\"T_9fbe0_row7_col4\" class=\"data row7 col4\" >78,821,800</td>\n",
       "      <td id=\"T_9fbe0_row7_col5\" class=\"data row7 col5\" >918,450</td>\n",
       "      <td id=\"T_9fbe0_row7_col6\" class=\"data row7 col6\" >685,150</td>\n",
       "    </tr>\n",
       "    <tr>\n",
       "      <th id=\"T_9fbe0_level0_row8\" class=\"row_heading level0 row8\" >9</th>\n",
       "      <td id=\"T_9fbe0_row8_col0\" class=\"data row8 col0\" >88,203,718</td>\n",
       "      <td id=\"T_9fbe0_row8_col1\" class=\"data row8 col1\" >110,043,162</td>\n",
       "      <td id=\"T_9fbe0_row8_col2\" class=\"data row8 col2\" >109,095,060</td>\n",
       "      <td id=\"T_9fbe0_row8_col3\" class=\"data row8 col3\" >70,188,514</td>\n",
       "      <td id=\"T_9fbe0_row8_col4\" class=\"data row8 col4\" >100,179,418</td>\n",
       "      <td id=\"T_9fbe0_row8_col5\" class=\"data row8 col5\" >1,878,737</td>\n",
       "      <td id=\"T_9fbe0_row8_col6\" class=\"data row8 col6\" >1,295,631</td>\n",
       "    </tr>\n",
       "    <tr>\n",
       "      <th id=\"T_9fbe0_level0_row9\" class=\"row_heading level0 row9\" >10</th>\n",
       "      <td id=\"T_9fbe0_row9_col0\" class=\"data row9 col0\" >68,462,957</td>\n",
       "      <td id=\"T_9fbe0_row9_col1\" class=\"data row9 col1\" >87,917,300</td>\n",
       "      <td id=\"T_9fbe0_row9_col2\" class=\"data row9 col2\" >80,803,404</td>\n",
       "      <td id=\"T_9fbe0_row9_col3\" class=\"data row9 col3\" >95,343,041</td>\n",
       "      <td id=\"T_9fbe0_row9_col4\" class=\"data row9 col4\" >99,506,933</td>\n",
       "      <td id=\"T_9fbe0_row9_col5\" class=\"data row9 col5\" >3,209,019</td>\n",
       "      <td id=\"T_9fbe0_row9_col6\" class=\"data row9 col6\" >9,600,546</td>\n",
       "    </tr>\n",
       "    <tr>\n",
       "      <th id=\"T_9fbe0_level0_row10\" class=\"row_heading level0 row10\" >11</th>\n",
       "      <td id=\"T_9fbe0_row10_col0\" class=\"data row10 col0\" >77,371,268</td>\n",
       "      <td id=\"T_9fbe0_row10_col1\" class=\"data row10 col1\" >90,059,720</td>\n",
       "      <td id=\"T_9fbe0_row10_col2\" class=\"data row10 col2\" >121,185,631</td>\n",
       "      <td id=\"T_9fbe0_row10_col3\" class=\"data row10 col3\" >118,651,460</td>\n",
       "      <td id=\"T_9fbe0_row10_col4\" class=\"data row10 col4\" >97,100,540</td>\n",
       "      <td id=\"T_9fbe0_row10_col5\" class=\"data row10 col5\" >757,240</td>\n",
       "      <td id=\"T_9fbe0_row10_col6\" class=\"data row10 col6\" >1,786,100</td>\n",
       "    </tr>\n",
       "    <tr>\n",
       "      <th id=\"T_9fbe0_level0_row11\" class=\"row_heading level0 row11\" >12</th>\n",
       "      <td id=\"T_9fbe0_row11_col0\" class=\"data row11 col0\" >81,250,400</td>\n",
       "      <td id=\"T_9fbe0_row11_col1\" class=\"data row11 col1\" >151,865,885</td>\n",
       "      <td id=\"T_9fbe0_row11_col2\" class=\"data row11 col2\" >226,011,020</td>\n",
       "      <td id=\"T_9fbe0_row11_col3\" class=\"data row11 col3\" >203,048,680</td>\n",
       "      <td id=\"T_9fbe0_row11_col4\" class=\"data row11 col4\" >158,716,160</td>\n",
       "      <td id=\"T_9fbe0_row11_col5\" class=\"data row11 col5\" >1,139,200</td>\n",
       "      <td id=\"T_9fbe0_row11_col6\" class=\"data row11 col6\" >1,479,000</td>\n",
       "    </tr>\n",
       "  </tbody>\n",
       "</table>\n"
      ],
      "text/plain": [
       "<pandas.io.formats.style.Styler at 0x1280cd150>"
      ]
     },
     "execution_count": 38,
     "metadata": {},
     "output_type": "execute_result"
    }
   ],
   "source": [
    "df.groupby([\"집행월\", \"집행요일\"])[\"집행금액\"].sum().unstack().style.format(\"{:,.0f}\").background_gradient()"
   ]
  },
  {
   "cell_type": "code",
   "execution_count": null,
   "id": "8d39e84c",
   "metadata": {},
   "outputs": [],
   "source": []
  },
  {
   "cell_type": "code",
   "execution_count": null,
   "id": "543fd36a",
   "metadata": {},
   "outputs": [],
   "source": []
  },
  {
   "cell_type": "code",
   "execution_count": null,
   "id": "c068c7db",
   "metadata": {},
   "outputs": [],
   "source": []
  },
  {
   "cell_type": "code",
   "execution_count": null,
   "id": "0e2a18ab",
   "metadata": {},
   "outputs": [],
   "source": []
  }
 ],
 "metadata": {
  "kernelspec": {
   "display_name": "Python 3 (ipykernel)",
   "language": "python",
   "name": "python3"
  },
  "language_info": {
   "codemirror_mode": {
    "name": "ipython",
    "version": 3
   },
   "file_extension": ".py",
   "mimetype": "text/x-python",
   "name": "python",
   "nbconvert_exporter": "python",
   "pygments_lexer": "ipython3",
   "version": "3.11.4"
  },
  "toc": {
   "base_numbering": 1,
   "nav_menu": {},
   "number_sections": true,
   "sideBar": true,
   "skip_h1_title": false,
   "title_cell": "Table of Contents",
   "title_sidebar": "Contents",
   "toc_cell": false,
   "toc_position": {},
   "toc_section_display": true,
   "toc_window_display": false
  },
  "varInspector": {
   "cols": {
    "lenName": 16,
    "lenType": 16,
    "lenVar": 40
   },
   "kernels_config": {
    "python": {
     "delete_cmd_postfix": "",
     "delete_cmd_prefix": "del ",
     "library": "var_list.py",
     "varRefreshCmd": "print(var_dic_list())"
    },
    "r": {
     "delete_cmd_postfix": ") ",
     "delete_cmd_prefix": "rm(",
     "library": "var_list.r",
     "varRefreshCmd": "cat(var_dic_list()) "
    }
   },
   "types_to_exclude": [
    "module",
    "function",
    "builtin_function_or_method",
    "instance",
    "_Feature"
   ],
   "window_display": false
  }
 },
 "nbformat": 4,
 "nbformat_minor": 5
}
