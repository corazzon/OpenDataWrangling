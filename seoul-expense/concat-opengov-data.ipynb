{
 "cells": [
  {
   "cell_type": "markdown",
   "metadata": {},
   "source": [
    "# 서울시 업무추진비 데이터 병합\n",
    "* 업무추진비 데이터 공개 위치 : [부서별 집행 현황 | 서울시 업무추진비 | 업무추진비 | 서울시 정보소통광장(정보공개)](http://opengov.seoul.go.kr/expense)\n",
    "* 서울시 정보소통광장에 있는 일부 데이터는 github을 통해 공개되어 있으며, 여기 있는 데이터는 깃헙 데이터를 병합했다.\n",
    "* github : https://github.com/seoul-opengov/opengov"
   ]
  },
  {
   "cell_type": "code",
   "execution_count": 1,
   "metadata": {},
   "outputs": [
    {
     "name": "stdout",
     "output_type": "stream",
     "text": [
      "expense_list2018/201801_expense_list.csv\n",
      "expense_list2018/201802_expense_list.csv\n",
      "expense_list2018/201803_expense_list.csv\n",
      "expense_list2018/201804_expense_list.csv\n",
      "expense_list2018/201805_expense_list.csv\n",
      "expense_list2018/201806_expense_list.csv\n",
      "expense_list2018/201807_expense_list.csv\n",
      "expense_list2018/201808_expense_list.csv\n",
      "expense_list2018/201809_expense_list.csv\n",
      "expense_list2018/201810_expense_list.csv\n",
      "expense_list2018/201811_expense_list.csv\n"
     ]
    }
   ],
   "source": [
    "%ls expense_list2018/*.csv"
   ]
  },
  {
   "cell_type": "code",
   "execution_count": 2,
   "metadata": {},
   "outputs": [],
   "source": [
    "import pandas as pd\n",
    "from glob import glob"
   ]
  },
  {
   "cell_type": "code",
   "execution_count": 3,
   "metadata": {},
   "outputs": [
    {
     "data": {
      "text/plain": [
       "['expense_list2018/201801_expense_list.csv',\n",
       " 'expense_list2018/201802_expense_list.csv',\n",
       " 'expense_list2018/201803_expense_list.csv',\n",
       " 'expense_list2018/201804_expense_list.csv',\n",
       " 'expense_list2018/201805_expense_list.csv',\n",
       " 'expense_list2018/201806_expense_list.csv',\n",
       " 'expense_list2018/201807_expense_list.csv',\n",
       " 'expense_list2018/201808_expense_list.csv',\n",
       " 'expense_list2018/201809_expense_list.csv',\n",
       " 'expense_list2018/201810_expense_list.csv',\n",
       " 'expense_list2018/201811_expense_list.csv']"
      ]
     },
     "execution_count": 3,
     "metadata": {},
     "output_type": "execute_result"
    }
   ],
   "source": [
    "def get_file_list_by_year(year):\n",
    "    file_list = []\n",
    "    for file in glob('expense_list'+ str(year) +'/*.csv'):\n",
    "        file_list.append(file)\n",
    "    return sorted(file_list)\n",
    "        \n",
    "get_file_list_by_year(2018)"
   ]
  },
  {
   "cell_type": "code",
   "execution_count": 4,
   "metadata": {},
   "outputs": [
    {
     "data": {
      "text/plain": [
       "(6713, 18)"
      ]
     },
     "execution_count": 4,
     "metadata": {},
     "output_type": "execute_result"
    }
   ],
   "source": [
    "filename = \"expense_list2018/201801_expense_list.csv\"\n",
    "df1 = pd.read_csv(filename)\n",
    "df1.shape"
   ]
  },
  {
   "cell_type": "code",
   "execution_count": 5,
   "metadata": {},
   "outputs": [],
   "source": [
    "def concat_data(year):\n",
    "    df_lists = []\n",
    "    # 파일별로 데이터를 가져온다.\n",
    "    files = get_file_list_by_year(year)\n",
    "    for filename in sorted(files):\n",
    "        df_temp = pd.read_csv(filename)\n",
    "        # 해당 데이터프레임이 비어있지 않다면 병합하기 위해 리스트에 담는다.\n",
    "        if not df_temp.empty :\n",
    "            print(filename, df_temp.shape)\n",
    "            df_lists.append(df_temp)\n",
    "    # 리스트가 비어있지 않다면 데이터프레임을 합쳐준다.       \n",
    "    if df_lists :    \n",
    "        df = pd.concat(df_lists)\n",
    "    print(df.shape)\n",
    "    return df        "
   ]
  },
  {
   "cell_type": "code",
   "execution_count": 6,
   "metadata": {},
   "outputs": [
    {
     "name": "stdout",
     "output_type": "stream",
     "text": [
      "expense_list2018/201801_expense_list.csv (6713, 18)\n",
      "expense_list2018/201802_expense_list.csv (6357, 18)\n",
      "expense_list2018/201803_expense_list.csv (6282, 18)\n",
      "expense_list2018/201804_expense_list.csv (6034, 18)\n",
      "expense_list2018/201805_expense_list.csv (5455, 18)\n",
      "expense_list2018/201806_expense_list.csv (5831, 18)\n",
      "expense_list2018/201807_expense_list.csv (6425, 18)\n",
      "expense_list2018/201808_expense_list.csv (7061, 18)\n",
      "expense_list2018/201809_expense_list.csv (5925, 18)\n",
      "expense_list2018/201810_expense_list.csv (6706, 18)\n",
      "expense_list2018/201811_expense_list.csv (6788, 18)\n",
      "(69577, 18)\n"
     ]
    }
   ],
   "source": [
    "df_2018 = concat_data(2018)"
   ]
  },
  {
   "cell_type": "code",
   "execution_count": 7,
   "metadata": {},
   "outputs": [
    {
     "name": "stdout",
     "output_type": "stream",
     "text": [
      "expense_list2017/201701_expense_list.csv (5645, 18)\n",
      "expense_list2017/201702_expense_list.csv (5799, 18)\n",
      "expense_list2017/201703_expense_list.csv (6192, 18)\n",
      "expense_list2017/201704_expense_list.csv (5470, 18)\n",
      "expense_list2017/201705_expense_list.csv (5615, 18)\n",
      "expense_list2017/201706_expense_list.csv (6268, 18)\n",
      "expense_list2017/201707_expense_list.csv (5767, 18)\n",
      "expense_list2017/201708_expense_list.csv (5758, 18)\n",
      "expense_list2017/201709_expense_list.csv (5966, 18)\n",
      "expense_list2017/201710_expense_list.csv (5176, 18)\n",
      "expense_list2017/201711_expense_list.csv (6543, 18)\n",
      "expense_list2017/201712_expense_list.csv (7484, 18)\n",
      "(71683, 18)\n"
     ]
    }
   ],
   "source": [
    "df_2017 = concat_data(2017)"
   ]
  },
  {
   "cell_type": "code",
   "execution_count": 8,
   "metadata": {},
   "outputs": [
    {
     "name": "stdout",
     "output_type": "stream",
     "text": [
      "expense_list2016/201601_expense_list.csv (233, 18)\n",
      "expense_list2016/201602_expense_list.csv (299, 18)\n",
      "expense_list2016/201603_expense_list.csv (342, 18)\n",
      "expense_list2016/201604_expense_list.csv (360, 18)\n",
      "expense_list2016/201605_expense_list.csv (320, 18)\n",
      "expense_list2016/201606_expense_list.csv (349, 18)\n",
      "expense_list2016/201607_expense_list.csv (304, 18)\n",
      "expense_list2016/201608_expense_list.csv (302, 18)\n",
      "expense_list2016/201609_expense_list.csv (443, 18)\n",
      "expense_list2016/201610_expense_list.csv (458, 18)\n",
      "expense_list2016/201611_expense_list.csv (6608, 18)\n",
      "expense_list2016/201612_expense_list.csv (8322, 18)\n",
      "(18340, 18)\n"
     ]
    }
   ],
   "source": [
    "df_2016 = concat_data(2016)"
   ]
  },
  {
   "cell_type": "code",
   "execution_count": 9,
   "metadata": {},
   "outputs": [
    {
     "name": "stdout",
     "output_type": "stream",
     "text": [
      "<class 'pandas.core.frame.DataFrame'>\n",
      "MultiIndex: 69577 entries, (14618781, 2018년 1월 서울시본청 기후환경본부 환경정책과 업무추진비 내역) to (16856748, 2018년 11월 사업소_상수도사업본부_강북아리수정수센터_정수과 업무추진비 내역)\n",
      "Data columns (total 18 columns):\n",
      "nid                  69577 non-null object\n",
      "title                69577 non-null object\n",
      "url                  69577 non-null object\n",
      "dept_nm_lvl_1        59988 non-null object\n",
      "dept_nm_lvl_2        17430 non-null object\n",
      "dept_nm_lvl_3        3138 non-null object\n",
      "dept_nm_lvl_4        69577 non-null int64\n",
      "dept_nm_lvl_5        69577 non-null int64\n",
      "exec_yr              3512 non-null float64\n",
      "exec_month           2946 non-null float64\n",
      "expense_budget       2360 non-null object\n",
      "expense_execution    69577 non-null object\n",
      "category             69577 non-null object\n",
      "exec_dt              68866 non-null object\n",
      "exec_loc             69577 non-null object\n",
      "target_nm            69277 non-null object\n",
      "payment_method       69577 non-null object\n",
      "exec_amount          69577 non-null int64\n",
      "dtypes: float64(2), int64(3), object(13)\n",
      "memory usage: 9.9+ MB\n"
     ]
    }
   ],
   "source": [
    "df_2018.info()"
   ]
  },
  {
   "cell_type": "code",
   "execution_count": 10,
   "metadata": {},
   "outputs": [
    {
     "data": {
      "image/png": "[encoded data removed]",
      "text/plain": [
       "<matplotlib.figure.Figure at 0x1123922b0>"
      ]
     },
     "metadata": {},
     "output_type": "display_data"
    }
   ],
   "source": [
    "import missingno as msno\n",
    "msno.matrix(df_2018)"
   ]
  },
  {
   "cell_type": "code",
   "execution_count": 11,
   "metadata": {},
   "outputs": [
    {
     "data": {
      "text/html": [
       "<div>\n",
       "<style scoped>\n",
       "    .dataframe tbody tr th:only-of-type {\n",
       "        vertical-align: middle;\n",
       "    }\n",
       "\n",
       "    .dataframe tbody tr th {\n",
       "        vertical-align: top;\n",
       "    }\n",
       "\n",
       "    .dataframe thead th {\n",
       "        text-align: right;\n",
       "    }\n",
       "</style>\n",
       "<table border=\"1\" class=\"dataframe\">\n",
       "  <thead>\n",
       "    <tr style=\"text-align: right;\">\n",
       "      <th></th>\n",
       "      <th></th>\n",
       "      <th>nid</th>\n",
       "      <th>title</th>\n",
       "      <th>url</th>\n",
       "      <th>dept_nm_lvl_1</th>\n",
       "      <th>dept_nm_lvl_2</th>\n",
       "      <th>dept_nm_lvl_3</th>\n",
       "      <th>dept_nm_lvl_4</th>\n",
       "      <th>dept_nm_lvl_5</th>\n",
       "      <th>exec_yr</th>\n",
       "      <th>exec_month</th>\n",
       "      <th>expense_budget</th>\n",
       "      <th>expense_execution</th>\n",
       "      <th>category</th>\n",
       "      <th>exec_dt</th>\n",
       "      <th>exec_loc</th>\n",
       "      <th>target_nm</th>\n",
       "      <th>payment_method</th>\n",
       "      <th>exec_amount</th>\n",
       "    </tr>\n",
       "  </thead>\n",
       "  <tbody>\n",
       "    <tr>\n",
       "      <th rowspan=\"5\" valign=\"top\">15211770</th>\n",
       "      <th>2017년 12월 의회사무처_교통전문위원실 업무추진비 내역</th>\n",
       "      <td>http://opengov.seoul.go.kr/public/15211770</td>\n",
       "      <td>의회사무처</td>\n",
       "      <td>교통전문위원실</td>\n",
       "      <td>NaN</td>\n",
       "      <td>NaN</td>\n",
       "      <td>NaN</td>\n",
       "      <td>2017</td>\n",
       "      <td>12</td>\n",
       "      <td>NaN</td>\n",
       "      <td>NaN</td>\n",
       "      <td>NaN</td>\n",
       "      <td>시의회교통전문위원실</td>\n",
       "      <td>2017-12-13 21:53</td>\n",
       "      <td>북창터 (중구 세종대로)</td>\n",
       "      <td>입법조사관련  간담회</td>\n",
       "      <td>수석전문위원외 9</td>\n",
       "      <td>카드</td>\n",
       "      <td>150000</td>\n",
       "    </tr>\n",
       "    <tr>\n",
       "      <th>2017년 12월 의회사무처_교통전문위원실 업무추진비 내역</th>\n",
       "      <td>http://opengov.seoul.go.kr/public/15211770</td>\n",
       "      <td>의회사무처</td>\n",
       "      <td>교통전문위원실</td>\n",
       "      <td>NaN</td>\n",
       "      <td>NaN</td>\n",
       "      <td>NaN</td>\n",
       "      <td>2017</td>\n",
       "      <td>12</td>\n",
       "      <td>NaN</td>\n",
       "      <td>NaN</td>\n",
       "      <td>NaN</td>\n",
       "      <td>시의회교통전문위원실</td>\n",
       "      <td>2017-12-12 20:33</td>\n",
       "      <td>팔팔전어횟집 (노원구 광운로)</td>\n",
       "      <td>입법조사관련  간담회</td>\n",
       "      <td>전문위원외 11</td>\n",
       "      <td>카드</td>\n",
       "      <td>204000</td>\n",
       "    </tr>\n",
       "    <tr>\n",
       "      <th>2017년 12월 의회사무처_교통전문위원실 업무추진비 내역</th>\n",
       "      <td>http://opengov.seoul.go.kr/public/15211770</td>\n",
       "      <td>의회사무처</td>\n",
       "      <td>교통전문위원실</td>\n",
       "      <td>NaN</td>\n",
       "      <td>NaN</td>\n",
       "      <td>NaN</td>\n",
       "      <td>2017</td>\n",
       "      <td>12</td>\n",
       "      <td>NaN</td>\n",
       "      <td>NaN</td>\n",
       "      <td>NaN</td>\n",
       "      <td>시의회교통전문위원실</td>\n",
       "      <td>2017-12-12 21:27</td>\n",
       "      <td>북창터 (중구 세종대로)</td>\n",
       "      <td>입법조사관련  간담회</td>\n",
       "      <td>수석전문위원외 2</td>\n",
       "      <td>카드</td>\n",
       "      <td>43000</td>\n",
       "    </tr>\n",
       "    <tr>\n",
       "      <th>2017년 12월 의회사무처_교통전문위원실 업무추진비 내역</th>\n",
       "      <td>http://opengov.seoul.go.kr/public/15211770</td>\n",
       "      <td>의회사무처</td>\n",
       "      <td>교통전문위원실</td>\n",
       "      <td>NaN</td>\n",
       "      <td>NaN</td>\n",
       "      <td>NaN</td>\n",
       "      <td>2017</td>\n",
       "      <td>12</td>\n",
       "      <td>NaN</td>\n",
       "      <td>NaN</td>\n",
       "      <td>NaN</td>\n",
       "      <td>시의회교통전문위원실</td>\n",
       "      <td>2017-12-07 13:03</td>\n",
       "      <td>잼배옥 (중구 세종대로)</td>\n",
       "      <td>입법조사관련  간담회</td>\n",
       "      <td>수석전문위원외 2</td>\n",
       "      <td>카드</td>\n",
       "      <td>48000</td>\n",
       "    </tr>\n",
       "    <tr>\n",
       "      <th>2017년 12월 의회사무처_교통전문위원실 업무추진비 내역</th>\n",
       "      <td>http://opengov.seoul.go.kr/public/15211770</td>\n",
       "      <td>의회사무처</td>\n",
       "      <td>교통전문위원실</td>\n",
       "      <td>NaN</td>\n",
       "      <td>NaN</td>\n",
       "      <td>NaN</td>\n",
       "      <td>2017</td>\n",
       "      <td>12</td>\n",
       "      <td>NaN</td>\n",
       "      <td>NaN</td>\n",
       "      <td>NaN</td>\n",
       "      <td>시의회교통전문위원실</td>\n",
       "      <td>2017-12-04 20:49</td>\n",
       "      <td>북창터 (중구 세종대로)</td>\n",
       "      <td>입법조사관련  간담회</td>\n",
       "      <td>수석전문위원외 4</td>\n",
       "      <td>카드</td>\n",
       "      <td>98000</td>\n",
       "    </tr>\n",
       "  </tbody>\n",
       "</table>\n",
       "</div>"
      ],
      "text/plain": [
       "                                                                                  nid  \\\n",
       "15211770 2017년 12월 의회사무처_교통전문위원실 업무추진비 내역  http://opengov.seoul.go.kr/public/15211770   \n",
       "         2017년 12월 의회사무처_교통전문위원실 업무추진비 내역  http://opengov.seoul.go.kr/public/15211770   \n",
       "         2017년 12월 의회사무처_교통전문위원실 업무추진비 내역  http://opengov.seoul.go.kr/public/15211770   \n",
       "         2017년 12월 의회사무처_교통전문위원실 업무추진비 내역  http://opengov.seoul.go.kr/public/15211770   \n",
       "         2017년 12월 의회사무처_교통전문위원실 업무추진비 내역  http://opengov.seoul.go.kr/public/15211770   \n",
       "\n",
       "                                           title      url dept_nm_lvl_1  \\\n",
       "15211770 2017년 12월 의회사무처_교통전문위원실 업무추진비 내역  의회사무처  교통전문위원실           NaN   \n",
       "         2017년 12월 의회사무처_교통전문위원실 업무추진비 내역  의회사무처  교통전문위원실           NaN   \n",
       "         2017년 12월 의회사무처_교통전문위원실 업무추진비 내역  의회사무처  교통전문위원실           NaN   \n",
       "         2017년 12월 의회사무처_교통전문위원실 업무추진비 내역  의회사무처  교통전문위원실           NaN   \n",
       "         2017년 12월 의회사무처_교통전문위원실 업무추진비 내역  의회사무처  교통전문위원실           NaN   \n",
       "\n",
       "                                          dept_nm_lvl_2 dept_nm_lvl_3  \\\n",
       "15211770 2017년 12월 의회사무처_교통전문위원실 업무추진비 내역           NaN           NaN   \n",
       "         2017년 12월 의회사무처_교통전문위원실 업무추진비 내역           NaN           NaN   \n",
       "         2017년 12월 의회사무처_교통전문위원실 업무추진비 내역           NaN           NaN   \n",
       "         2017년 12월 의회사무처_교통전문위원실 업무추진비 내역           NaN           NaN   \n",
       "         2017년 12월 의회사무처_교통전문위원실 업무추진비 내역           NaN           NaN   \n",
       "\n",
       "                                           dept_nm_lvl_4  dept_nm_lvl_5  \\\n",
       "15211770 2017년 12월 의회사무처_교통전문위원실 업무추진비 내역           2017             12   \n",
       "         2017년 12월 의회사무처_교통전문위원실 업무추진비 내역           2017             12   \n",
       "         2017년 12월 의회사무처_교통전문위원실 업무추진비 내역           2017             12   \n",
       "         2017년 12월 의회사무처_교통전문위원실 업무추진비 내역           2017             12   \n",
       "         2017년 12월 의회사무처_교통전문위원실 업무추진비 내역           2017             12   \n",
       "\n",
       "                                           exec_yr  exec_month expense_budget  \\\n",
       "15211770 2017년 12월 의회사무처_교통전문위원실 업무추진비 내역      NaN         NaN            NaN   \n",
       "         2017년 12월 의회사무처_교통전문위원실 업무추진비 내역      NaN         NaN            NaN   \n",
       "         2017년 12월 의회사무처_교통전문위원실 업무추진비 내역      NaN         NaN            NaN   \n",
       "         2017년 12월 의회사무처_교통전문위원실 업무추진비 내역      NaN         NaN            NaN   \n",
       "         2017년 12월 의회사무처_교통전문위원실 업무추진비 내역      NaN         NaN            NaN   \n",
       "\n",
       "                                          expense_execution          category  \\\n",
       "15211770 2017년 12월 의회사무처_교통전문위원실 업무추진비 내역        시의회교통전문위원실  2017-12-13 21:53   \n",
       "         2017년 12월 의회사무처_교통전문위원실 업무추진비 내역        시의회교통전문위원실  2017-12-12 20:33   \n",
       "         2017년 12월 의회사무처_교통전문위원실 업무추진비 내역        시의회교통전문위원실  2017-12-12 21:27   \n",
       "         2017년 12월 의회사무처_교통전문위원실 업무추진비 내역        시의회교통전문위원실  2017-12-07 13:03   \n",
       "         2017년 12월 의회사무처_교통전문위원실 업무추진비 내역        시의회교통전문위원실  2017-12-04 20:49   \n",
       "\n",
       "                                                    exec_dt     exec_loc  \\\n",
       "15211770 2017년 12월 의회사무처_교통전문위원실 업무추진비 내역     북창터 (중구 세종대로)  입법조사관련  간담회   \n",
       "         2017년 12월 의회사무처_교통전문위원실 업무추진비 내역  팔팔전어횟집 (노원구 광운로)  입법조사관련  간담회   \n",
       "         2017년 12월 의회사무처_교통전문위원실 업무추진비 내역     북창터 (중구 세종대로)  입법조사관련  간담회   \n",
       "         2017년 12월 의회사무처_교통전문위원실 업무추진비 내역     잼배옥 (중구 세종대로)  입법조사관련  간담회   \n",
       "         2017년 12월 의회사무처_교통전문위원실 업무추진비 내역     북창터 (중구 세종대로)  입법조사관련  간담회   \n",
       "\n",
       "                                           target_nm payment_method  \\\n",
       "15211770 2017년 12월 의회사무처_교통전문위원실 업무추진비 내역  수석전문위원외 9             카드   \n",
       "         2017년 12월 의회사무처_교통전문위원실 업무추진비 내역   전문위원외 11             카드   \n",
       "         2017년 12월 의회사무처_교통전문위원실 업무추진비 내역  수석전문위원외 2             카드   \n",
       "         2017년 12월 의회사무처_교통전문위원실 업무추진비 내역  수석전문위원외 2             카드   \n",
       "         2017년 12월 의회사무처_교통전문위원실 업무추진비 내역  수석전문위원외 4             카드   \n",
       "\n",
       "                                           exec_amount  \n",
       "15211770 2017년 12월 의회사무처_교통전문위원실 업무추진비 내역       150000  \n",
       "         2017년 12월 의회사무처_교통전문위원실 업무추진비 내역       204000  \n",
       "         2017년 12월 의회사무처_교통전문위원실 업무추진비 내역        43000  \n",
       "         2017년 12월 의회사무처_교통전문위원실 업무추진비 내역        48000  \n",
       "         2017년 12월 의회사무처_교통전문위원실 업무추진비 내역        98000  "
      ]
     },
     "execution_count": 11,
     "metadata": {},
     "output_type": "execute_result"
    }
   ],
   "source": [
    "df_2017.tail()"
   ]
  },
  {
   "cell_type": "code",
   "execution_count": 12,
   "metadata": {},
   "outputs": [
    {
     "data": {
      "text/plain": [
       "(159600, 18)"
      ]
     },
     "execution_count": 12,
     "metadata": {},
     "output_type": "execute_result"
    }
   ],
   "source": [
    "df_expense = pd.concat([df_2016, df_2017, df_2018])\n",
    "df_expense.shape"
   ]
  },
  {
   "cell_type": "code",
   "execution_count": 13,
   "metadata": {},
   "outputs": [],
   "source": [
    "df_expense.to_csv('data/seoul_city_hall_expense.csv')"
   ]
  },
  {
   "cell_type": "code",
   "execution_count": null,
   "metadata": {},
   "outputs": [],
   "source": []
  }
 ],
 "metadata": {
  "kernelspec": {
   "display_name": "Python 3",
   "language": "python",
   "name": "python3"
  },
  "language_info": {
   "codemirror_mode": {
    "name": "ipython",
    "version": 3
   },
   "file_extension": ".py",
   "mimetype": "text/x-python",
   "name": "python",
   "nbconvert_exporter": "python",
   "pygments_lexer": "ipython3",
   "version": "3.6.1"
  }
 },
 "nbformat": 4,
 "nbformat_minor": 2
}
