{
 "cells": [
  {
   "cell_type": "code",
   "execution_count": 12,
   "metadata": {},
   "outputs": [],
   "source": [
    "jmt_name = ['참숯골 종로',\n",
    "'우도일식',\n",
    "'구이구이 종로',\n",
    "'곰국시집',\n",
    "'동해일식 무교점',\n",
    "'소호정 무교점',\n",
    "'바닷가작은부엌',\n",
    "'동원참치 종로',\n",
    "'오리마당',\n",
    "'창고 43 무교점']"
   ]
  },
  {
   "cell_type": "code",
   "execution_count": 17,
   "metadata": {},
   "outputs": [],
   "source": [
    "jmt_name_map = ['참숯골',\n",
    "'우도일식',\n",
    "'구이구이',\n",
    "'곰국시집',\n",
    "'동해일식',\n",
    "'소호정',\n",
    "'바닷가작은부엌',\n",
    "'동원참치',\n",
    "'오리마당',\n",
    "'창고 43']"
   ]
  },
  {
   "cell_type": "code",
   "execution_count": 13,
   "metadata": {},
   "outputs": [
    {
     "data": {
      "text/plain": [
       "[{'address_components': [{'long_name': '１９',\n",
       "    'short_name': '１９',\n",
       "    'types': ['premise']},\n",
       "   {'long_name': '무교동',\n",
       "    'short_name': '무교동',\n",
       "    'types': ['political', 'sublocality', 'sublocality_level_2']},\n",
       "   {'long_name': '중구',\n",
       "    'short_name': '중구',\n",
       "    'types': ['political', 'sublocality', 'sublocality_level_1']},\n",
       "   {'long_name': '서울특별시',\n",
       "    'short_name': '서울특별시',\n",
       "    'types': ['administrative_area_level_1', 'political']},\n",
       "   {'long_name': '대한민국',\n",
       "    'short_name': 'KR',\n",
       "    'types': ['country', 'political']},\n",
       "   {'long_name': '100-170',\n",
       "    'short_name': '100-170',\n",
       "    'types': ['postal_code']}],\n",
       "  'formatted_address': '대한민국 서울특별시 중구 무교동 19',\n",
       "  'geometry': {'location': {'lat': 37.5673335, 'lng': 126.9793367},\n",
       "   'location_type': 'ROOFTOP',\n",
       "   'viewport': {'northeast': {'lat': 37.56868248029149,\n",
       "     'lng': 126.9806856802915},\n",
       "    'southwest': {'lat': 37.56598451970849, 'lng': 126.9779877197085}}},\n",
       "  'place_id': 'ChIJ2RE-v-2ifDUR2_P51Ng2f8g',\n",
       "  'plus_code': {'compound_code': 'HX8H+WP 대한민국 서울특별시',\n",
       "   'global_code': '8Q98HX8H+WP'},\n",
       "  'types': ['establishment', 'food', 'point_of_interest', 'restaurant']}]"
      ]
     },
     "execution_count": 13,
     "metadata": {},
     "output_type": "execute_result"
    }
   ],
   "source": [
    "gmaps.geocode('동해일식 무교점', language='ko')"
   ]
  },
  {
   "cell_type": "code",
   "execution_count": 14,
   "metadata": {},
   "outputs": [],
   "source": [
    "import googlemaps\n",
    "gmaps_key = 'gmaps_key' # 자신의 key를 사용합니다.\n",
    "gmaps = googlemaps.Client(key=gmaps_key)"
   ]
  },
  {
   "cell_type": "code",
   "execution_count": 15,
   "metadata": {},
   "outputs": [
    {
     "name": "stdout",
     "output_type": "stream",
     "text": [
      "참숯골 종로-->대한민국 서울특별시 중구 명동 무교로 16\n",
      "우도일식-->대한민국 서울특별시 중구 태평로1가\n",
      "구이구이 종로-->대한민국 서울특별시 종로구\n",
      "곰국시집-->대한민국 서울특별시 중구 무교동 12-1\n",
      "동해일식 무교점-->대한민국 서울특별시 중구 무교동 19\n",
      "소호정 무교점-->대한민국 서울특별시 중구 태평로1가 31-19\n",
      "바닷가작은부엌-->대한민국 서울특별시 중구 소공동 덕수궁길 7\n",
      "동원참치 종로-->대한민국 서울특별시 종로구 관훈동 인사동7길 37\n",
      "오리마당-->대한민국 서울특별시 중구 태평로2가 43\n",
      "창고 43 무교점-->대한민국 서울특별시 중구 무교로 21 더익스체인지서울 2층\n"
     ]
    }
   ],
   "source": [
    "jmt_addreess = []\n",
    "jmt_lat = []\n",
    "jmt_lng = []\n",
    "\n",
    "for name in jmt_name:\n",
    "    tmp = gmaps.geocode(name, language='ko')\n",
    "    jmt_addreess.append(tmp[0].get(\"formatted_address\"))\n",
    "    \n",
    "    tmp_loc = tmp[0].get(\"geometry\")\n",
    "\n",
    "    jmt_lat.append(tmp_loc['location']['lat'])\n",
    "    jmt_lng.append(tmp_loc['location']['lng'])\n",
    "    \n",
    "    print(name + '-->' + tmp[0].get(\"formatted_address\"))"
   ]
  },
  {
   "cell_type": "code",
   "execution_count": 23,
   "metadata": {},
   "outputs": [
    {
     "data": {
      "text/html": [
       "<div style=\"width:100%;\"><div style=\"position:relative;width:100%;height:0;padding-bottom:60%;\"><iframe src=\"data:text/html;charset=utf-8;base64,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\" style=\"position:absolute;width:100%;height:100%;left:0;top:0;border:none !important;\" allowfullscreen webkitallowfullscreen mozallowfullscreen></iframe></div></div>"
      ],
      "text/plain": [
       "<folium.folium.Map at 0x1143060b8>"
      ]
     },
     "execution_count": 23,
     "metadata": {},
     "output_type": "execute_result"
    }
   ],
   "source": [
    "import numpy as np\n",
    "import folium\n",
    "\n",
    "map = folium.Map(location=[np.mean(jmt_lat), np.mean(jmt_lng)], zoom_start=17)\n",
    "\n",
    "for n, v in enumerate(jmt_name_map):\n",
    "    popup_name = jmt_name_map[n] + ' - ' + jmt_addreess[n] \n",
    "    folium.Marker([jmt_lat[n], jmt_lng[n]], popup=popup_name).add_to(map)\n",
    "\n",
    "map"
   ]
  },
  {
   "cell_type": "code",
   "execution_count": null,
   "metadata": {},
   "outputs": [],
   "source": []
  }
 ],
 "metadata": {
  "kernelspec": {
   "display_name": "Python 3",
   "language": "python",
   "name": "python3"
  },
  "language_info": {
   "codemirror_mode": {
    "name": "ipython",
    "version": 3
   },
   "file_extension": ".py",
   "mimetype": "text/x-python",
   "name": "python",
   "nbconvert_exporter": "python",
   "pygments_lexer": "ipython3",
   "version": "3.6.1"
  }
 },
 "nbformat": 4,
 "nbformat_minor": 2
}
