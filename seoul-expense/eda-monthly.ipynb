{
 "cells": [
  {
   "cell_type": "markdown",
   "id": "60ece758",
   "metadata": {},
   "source": [
    "[서울시 본청 업무추진비 목록> 데이터셋> 공공데이터 | 서울열린데이터광장](https://data.seoul.go.kr/dataList/OA-22156/S/1/datasetView.do)"
   ]
  },
  {
   "cell_type": "markdown",
   "id": "02b65811-a45a-47b8-afb6-066a7ed1e305",
   "metadata": {},
   "source": [
    "## 라이브러리 로드"
   ]
  },
  {
   "cell_type": "code",
   "execution_count": null,
   "id": "375aac8e-4f7f-4bb7-ae8d-656252f5cf85",
   "metadata": {},
   "outputs": [],
   "source": [
    "# !pip install pandas openpyxl"
   ]
  },
  {
   "cell_type": "code",
   "execution_count": null,
   "id": "b5f9d253",
   "metadata": {},
   "outputs": [],
   "source": [
    "import re\n",
    "import pandas as pd\n",
    "import seaborn as sns\n",
    "import koreanize_matplotlib\n",
    "import matplotlib.pyplot as plt"
   ]
  },
  {
   "cell_type": "markdown",
   "id": "fcade6fc-4672-428d-ab97-a673c6f74df0",
   "metadata": {},
   "source": [
    "## 파일 불러오기\n",
    "<img src=\"https://pandas.pydata.org/docs/_images/02_io_readwrite.svg\">\n",
    "\n",
    "https://bit.ly/seoul-expense-24"
   ]
  },
  {
   "cell_type": "code",
   "execution_count": null,
   "id": "b34cecbd",
   "metadata": {},
   "outputs": [],
   "source": [
    "# 데이터 로드\n",
    "\n",
    "df = pd.read_csv(\"data/seoul-expense-2023.csv\")\n",
    "df.shape"
   ]
  },
  {
   "cell_type": "code",
   "execution_count": null,
   "id": "89b633e6",
   "metadata": {},
   "outputs": [],
   "source": [
    "df.head(2)"
   ]
  },
  {
   "cell_type": "code",
   "execution_count": null,
   "id": "729d6511",
   "metadata": {},
   "outputs": [],
   "source": [
    "# tail()\n",
    "df.tail()"
   ]
  },
  {
   "cell_type": "code",
   "execution_count": null,
   "id": "9cb71a2c",
   "metadata": {},
   "outputs": [],
   "source": [
    "# sample()\n",
    "df.sample()"
   ]
  },
  {
   "cell_type": "markdown",
   "id": "2e998c68",
   "metadata": {},
   "source": [
    "## 기본 정보"
   ]
  },
  {
   "cell_type": "code",
   "execution_count": null,
   "id": "bcd90bd5",
   "metadata": {},
   "outputs": [],
   "source": [
    "df.info()"
   ]
  },
  {
   "cell_type": "markdown",
   "id": "26b7458f-142c-4209-8a66-bdb3b100b6f0",
   "metadata": {},
   "source": [
    "## 기초 기술 통계"
   ]
  },
  {
   "cell_type": "code",
   "execution_count": null,
   "id": "c019fe35",
   "metadata": {},
   "outputs": [],
   "source": [
    "df.describe().round(2)"
   ]
  },
  {
   "cell_type": "code",
   "execution_count": null,
   "id": "41135fad",
   "metadata": {},
   "outputs": [],
   "source": [
    "df.describe(include=\"object\")"
   ]
  },
  {
   "cell_type": "markdown",
   "id": "655fe8c9-49d6-41d4-9c6d-0a9a3a5332cb",
   "metadata": {},
   "source": [
    "## 파생변수 만들기\n",
    "* 월, 일, 요일"
   ]
  },
  {
   "cell_type": "code",
   "execution_count": null,
   "id": "a05900d5-0ab5-4849-9f82-675ccd626de3",
   "metadata": {},
   "outputs": [],
   "source": [
    "df[\"집행일시\"] = pd.to_datetime(df[\"집행일시\"])\n",
    "df[\"집행연도\"] = df[\"집행일시\"].dt.year\n",
    "df[\"집행월\"] = df[\"집행일시\"].dt.month\n",
    "df[\"집행일\"] = df[\"집행일시\"].dt.day\n",
    "df[\"집행요일\"] = df[\"집행일시\"].dt.dayofweek"
   ]
  },
  {
   "cell_type": "markdown",
   "id": "4b190fe3",
   "metadata": {},
   "source": [
    "### 추가된 파생변수의 기술 통계"
   ]
  },
  {
   "cell_type": "code",
   "execution_count": null,
   "id": "f52df1be-209c-429b-932b-3e240016ebe1",
   "metadata": {},
   "outputs": [],
   "source": [
    "df.describe()"
   ]
  },
  {
   "cell_type": "code",
   "execution_count": null,
   "id": "a5764960-c25a-4a93-b0ac-6af76738e533",
   "metadata": {},
   "outputs": [],
   "source": [
    "df.hist(figsize=(12, 6));"
   ]
  },
  {
   "cell_type": "markdown",
   "id": "9192f21a-724c-4641-b286-437acbbd2ea8",
   "metadata": {},
   "source": [
    "## 빈도 분석"
   ]
  },
  {
   "cell_type": "code",
   "execution_count": null,
   "id": "4dc51969-9d17-44aa-899c-610a99dfbcc9",
   "metadata": {},
   "outputs": [],
   "source": [
    "df.describe()"
   ]
  },
  {
   "cell_type": "code",
   "execution_count": null,
   "id": "c434e8db-c7bd-413a-afad-021796f74e8e",
   "metadata": {},
   "outputs": [],
   "source": [
    "df[\"집행연도\"].value_counts()"
   ]
  },
  {
   "cell_type": "code",
   "execution_count": null,
   "id": "d74c9774-ddf7-40fc-8e0e-217c5e6835e2",
   "metadata": {},
   "outputs": [],
   "source": [
    "df[\"집행월\"].value_counts()"
   ]
  },
  {
   "cell_type": "code",
   "execution_count": null,
   "id": "a7de6dfe-f5ee-4878-bea5-99cffda1950d",
   "metadata": {},
   "outputs": [],
   "source": []
  },
  {
   "cell_type": "code",
   "execution_count": null,
   "id": "fa08503c-b752-49fe-b04a-7fc5c58ebd4f",
   "metadata": {},
   "outputs": [],
   "source": []
  },
  {
   "cell_type": "code",
   "execution_count": null,
   "id": "b8d8e173-715e-43a9-8fda-153f928d8bf4",
   "metadata": {},
   "outputs": [],
   "source": [
    "df.info()"
   ]
  },
  {
   "cell_type": "code",
   "execution_count": null,
   "id": "0890ef05-38a2-4108-93ef-a98dd22f13f8",
   "metadata": {},
   "outputs": [],
   "source": [
    "# 엑셀 파일로 저장\n",
    "with pd.ExcelWriter('seoul-expense-monthly.xlsx', engine='openpyxl') as writer:\n",
    "    for month in df['집행월'].unique():\n",
    "        df_month = df[df['집행월'] == month]\n",
    "        df_month.to_excel(writer, sheet_name=f'{month}월', index=False)"
   ]
  },
  {
   "cell_type": "code",
   "execution_count": null,
   "id": "cbb01978-c8a2-4ff3-98f0-cb40c8fd17e2",
   "metadata": {},
   "outputs": [],
   "source": []
  },
  {
   "cell_type": "code",
   "execution_count": null,
   "id": "1382e893-1aa3-46ae-9a3c-31f75d6a6c75",
   "metadata": {},
   "outputs": [],
   "source": []
  }
 ],
 "metadata": {
  "kernelspec": {
   "display_name": "Python 3 (ipykernel)",
   "language": "python",
   "name": "python3"
  },
  "language_info": {
   "codemirror_mode": {
    "name": "ipython",
    "version": 3
   },
   "file_extension": ".py",
   "mimetype": "text/x-python",
   "name": "python",
   "nbconvert_exporter": "python",
   "pygments_lexer": "ipython3",
   "version": "3.11.4"
  },
  "toc": {
   "base_numbering": 1,
   "nav_menu": {},
   "number_sections": true,
   "sideBar": true,
   "skip_h1_title": false,
   "title_cell": "Table of Contents",
   "title_sidebar": "Contents",
   "toc_cell": false,
   "toc_position": {},
   "toc_section_display": true,
   "toc_window_display": false
  },
  "varInspector": {
   "cols": {
    "lenName": 16,
    "lenType": 16,
    "lenVar": 40
   },
   "kernels_config": {
    "python": {
     "delete_cmd_postfix": "",
     "delete_cmd_prefix": "del ",
     "library": "var_list.py",
     "varRefreshCmd": "print(var_dic_list())"
    },
    "r": {
     "delete_cmd_postfix": ") ",
     "delete_cmd_prefix": "rm(",
     "library": "var_list.r",
     "varRefreshCmd": "cat(var_dic_list()) "
    }
   },
   "types_to_exclude": [
    "module",
    "function",
    "builtin_function_or_method",
    "instance",
    "_Feature"
   ],
   "window_display": false
  }
 },
 "nbformat": 4,
 "nbformat_minor": 5
}
