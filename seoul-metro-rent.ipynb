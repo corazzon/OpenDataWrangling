{
 "cells": [
  {
   "cell_type": "markdown",
   "id": "677e69f7-2876-43f4-855a-381fc7dd2da2",
   "metadata": {},
   "source": [
    "[서울시 도시철도역사 지하상가 임대 현황> 데이터셋> 공공데이터 | 서울열린데이터광장](https://data.seoul.go.kr/dataList/OA-21305/S/1/datasetView.do)"
   ]
  },
  {
   "cell_type": "code",
   "execution_count": null,
   "id": "ddd0ddc5-cbb6-4755-b04f-bfabf6015081",
   "metadata": {},
   "outputs": [],
   "source": [
    "import pandas as pd\n",
    "import numpy as np\n",
    "import koreanize_matplotlib"
   ]
  },
  {
   "cell_type": "code",
   "execution_count": null,
   "id": "de1005a0-4c10-4d2f-a519-76e40f839f1f",
   "metadata": {},
   "outputs": [],
   "source": [
    "df = pd.read_csv(\"data/seoul-metro-rent.csv\", encoding=\"cp949\")\n",
    "df.shape"
   ]
  },
  {
   "cell_type": "code",
   "execution_count": null,
   "id": "17853b67-9909-418f-8755-1effe41103ba",
   "metadata": {},
   "outputs": [],
   "source": [
    "df.info()"
   ]
  },
  {
   "cell_type": "code",
   "execution_count": null,
   "id": "acee7724-403d-46a6-8108-870fb53bbdd2",
   "metadata": {},
   "outputs": [],
   "source": [
    "df.describe()"
   ]
  },
  {
   "cell_type": "code",
   "execution_count": null,
   "id": "b49cf06e-fae6-4375-a12b-6dfd1992cc80",
   "metadata": {},
   "outputs": [],
   "source": [
    "df[\"월임대료원\"] = df[\"월임대료\"].str.replace(\",\", \"\").astype(float)\n",
    "df[\"월임대료원\"]"
   ]
  },
  {
   "cell_type": "code",
   "execution_count": null,
   "id": "a02f7ad4-fe6e-4990-a778-e508f3feef14",
   "metadata": {},
   "outputs": [],
   "source": [
    "df.describe().style.format(\"{:,.0f}\")"
   ]
  },
  {
   "cell_type": "code",
   "execution_count": null,
   "id": "b2679a87-548d-4800-9ecc-7e692a827d90",
   "metadata": {},
   "outputs": [],
   "source": [
    "df.hist(bins=50);"
   ]
  },
  {
   "cell_type": "code",
   "execution_count": null,
   "id": "228764a2-3ab9-4407-9323-97327798e7f9",
   "metadata": {},
   "outputs": [],
   "source": [
    "df"
   ]
  },
  {
   "cell_type": "code",
   "execution_count": null,
   "id": "6b50e20a-c067-4320-8579-36427e97ffee",
   "metadata": {},
   "outputs": [],
   "source": [
    "df.nlargest(10, \"월임대료원\")"
   ]
  },
  {
   "cell_type": "code",
   "execution_count": null,
   "id": "c68217a1-0d05-401c-b5d6-7be9dbdb2a05",
   "metadata": {},
   "outputs": [],
   "source": [
    "df.nsmallest(10, \"월임대료원\")"
   ]
  },
  {
   "cell_type": "code",
   "execution_count": null,
   "id": "3230be62-3e65-4c08-872f-57274cdff85c",
   "metadata": {},
   "outputs": [],
   "source": [
    "df[\"면적당임대료\"] = df[\"월임대료원\"] / df[\"면적(㎡)\"]"
   ]
  },
  {
   "cell_type": "code",
   "execution_count": null,
   "id": "95a8c2f0-b441-48db-96c3-01463330c6a0",
   "metadata": {},
   "outputs": [],
   "source": [
    "df.describe()"
   ]
  },
  {
   "cell_type": "code",
   "execution_count": null,
   "id": "92a1a7c6-642c-4096-b66b-8996b2afaf60",
   "metadata": {
    "scrolled": true
   },
   "outputs": [],
   "source": [
    "df_sub = df[df[\"면적당임대료\"].notnull() & (df[\"면적당임대료\"] != np.inf )]\n",
    "df_sub.describe()"
   ]
  },
  {
   "cell_type": "code",
   "execution_count": null,
   "id": "d977941a-a930-4e13-823c-d6fbf8a79892",
   "metadata": {},
   "outputs": [],
   "source": [
    "df_sub.hist(bins=50);"
   ]
  },
  {
   "cell_type": "code",
   "execution_count": null,
   "id": "b5dcd2c6-3ea9-4183-b97e-829afa53dd9a",
   "metadata": {},
   "outputs": [],
   "source": [
    "df_sub.plot(kind=\"box\")"
   ]
  },
  {
   "cell_type": "code",
   "execution_count": null,
   "id": "7a51a84d-4eb0-448a-b565-88aaecc5e7e1",
   "metadata": {},
   "outputs": [],
   "source": [
    "df.describe(include=\"object\")"
   ]
  },
  {
   "cell_type": "code",
   "execution_count": null,
   "id": "11743895-7036-4e57-892b-184eb5262820",
   "metadata": {},
   "outputs": [],
   "source": [
    "df[df != np.inf].nlargest(10, \"면적당임대료\")"
   ]
  },
  {
   "cell_type": "code",
   "execution_count": null,
   "id": "7d6a5449-943f-411b-95a1-5a333fd0b04f",
   "metadata": {},
   "outputs": [],
   "source": [
    "df.nsmallest(10, \"면적당임대료\")"
   ]
  },
  {
   "cell_type": "markdown",
   "id": "46b728a5-05b0-4162-bdc2-b95022d89534",
   "metadata": {},
   "source": [
    "## 날짜"
   ]
  },
  {
   "cell_type": "code",
   "execution_count": null,
   "id": "2d760711-dd36-4b29-a4d8-04ade4f86a6a",
   "metadata": {},
   "outputs": [],
   "source": [
    "df[\"계약시작일\"] = pd.to_datetime(df[\"계약시작일\"])\n",
    "df[\"계약종료일\"] = pd.to_datetime(df[\"계약종료일\"])"
   ]
  },
  {
   "cell_type": "markdown",
   "id": "7dba3e1a-5392-484f-99b0-43b8054ae0a3",
   "metadata": {},
   "source": [
    "### 계약기간"
   ]
  },
  {
   "cell_type": "code",
   "execution_count": null,
   "id": "5676e9a7-0193-4b6f-983e-edb5feeb625b",
   "metadata": {},
   "outputs": [],
   "source": [
    "df[\"계약기간\"] = df[\"계약종료일\"] - df[\"계약시작일\"]"
   ]
  },
  {
   "cell_type": "code",
   "execution_count": null,
   "id": "06ef49a0-f8f6-46aa-9c24-36fdf6c0c59b",
   "metadata": {},
   "outputs": [],
   "source": [
    "df[\"계약기간\"].describe()"
   ]
  },
  {
   "cell_type": "code",
   "execution_count": null,
   "id": "e61322eb-1023-438e-b2f6-04f3a905e635",
   "metadata": {},
   "outputs": [],
   "source": [
    "df.nlargest(10, \"계약기간\")"
   ]
  },
  {
   "cell_type": "code",
   "execution_count": null,
   "id": "31185d6d-a706-4ebf-a4df-c79940b0b803",
   "metadata": {},
   "outputs": [],
   "source": [
    "df.nsmallest(10, \"계약기간\")"
   ]
  },
  {
   "cell_type": "code",
   "execution_count": null,
   "id": "f858d175-ea23-4a35-a95d-816b3e252002",
   "metadata": {},
   "outputs": [],
   "source": []
  }
 ],
 "metadata": {
  "kernelspec": {
   "display_name": "Python 3 (ipykernel)",
   "language": "python",
   "name": "python3"
  },
  "language_info": {
   "codemirror_mode": {
    "name": "ipython",
    "version": 3
   },
   "file_extension": ".py",
   "mimetype": "text/x-python",
   "name": "python",
   "nbconvert_exporter": "python",
   "pygments_lexer": "ipython3",
   "version": "3.11.4"
  }
 },
 "nbformat": 4,
 "nbformat_minor": 5
}
