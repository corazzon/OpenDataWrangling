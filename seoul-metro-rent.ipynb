{
 "cells": [
  {
   "cell_type": "markdown",
   "id": "677e69f7-2876-43f4-855a-381fc7dd2da2",
   "metadata": {},
   "source": [
    "[서울시 도시철도역사 지하상가 임대 현황> 데이터셋> 공공데이터 | 서울열린데이터광장](https://data.seoul.go.kr/dataList/OA-21305/S/1/datasetView.do)"
   ]
  },
  {
   "cell_type": "code",
   "execution_count": null,
   "id": "ddd0ddc5-cbb6-4755-b04f-bfabf6015081",
   "metadata": {},
   "outputs": [],
   "source": [
    "import pandas as pd\n",
    "import numpy as np\n",
    "import koreanize_matplotlib\n",
    "import matplotlib.pyplot as plt\n",
    "import seaborn as sns"
   ]
  },
  {
   "cell_type": "code",
   "execution_count": null,
   "id": "de1005a0-4c10-4d2f-a519-76e40f839f1f",
   "metadata": {},
   "outputs": [],
   "source": [
    "df = pd.read_csv(\"data/seoul-metro-rent.csv\", encoding=\"cp949\")\n",
    "df.shape"
   ]
  },
  {
   "cell_type": "code",
   "execution_count": null,
   "id": "17853b67-9909-418f-8755-1effe41103ba",
   "metadata": {},
   "outputs": [],
   "source": [
    "df.info()"
   ]
  },
  {
   "cell_type": "code",
   "execution_count": null,
   "id": "acee7724-403d-46a6-8108-870fb53bbdd2",
   "metadata": {},
   "outputs": [],
   "source": [
    "df.describe()"
   ]
  },
  {
   "cell_type": "code",
   "execution_count": null,
   "id": "b49cf06e-fae6-4375-a12b-6dfd1992cc80",
   "metadata": {},
   "outputs": [],
   "source": [
    "df[\"월임대료원\"] = df[\"월임대료\"].str.replace(\",\", \"\").astype(float)\n",
    "df[\"월임대료원\"]"
   ]
  },
  {
   "cell_type": "code",
   "execution_count": null,
   "id": "a02f7ad4-fe6e-4990-a778-e508f3feef14",
   "metadata": {},
   "outputs": [],
   "source": [
    "df.describe().style.format(\"{:,.0f}\")"
   ]
  },
  {
   "cell_type": "code",
   "execution_count": null,
   "id": "b2679a87-548d-4800-9ecc-7e692a827d90",
   "metadata": {},
   "outputs": [],
   "source": [
    "df.hist(bins=50);"
   ]
  },
  {
   "cell_type": "code",
   "execution_count": null,
   "id": "228764a2-3ab9-4407-9323-97327798e7f9",
   "metadata": {},
   "outputs": [],
   "source": [
    "df"
   ]
  },
  {
   "cell_type": "code",
   "execution_count": null,
   "id": "6b50e20a-c067-4320-8579-36427e97ffee",
   "metadata": {},
   "outputs": [],
   "source": [
    "df.nlargest(10, \"월임대료원\")"
   ]
  },
  {
   "cell_type": "code",
   "execution_count": null,
   "id": "c68217a1-0d05-401c-b5d6-7be9dbdb2a05",
   "metadata": {},
   "outputs": [],
   "source": [
    "df.nsmallest(10, \"월임대료원\")"
   ]
  },
  {
   "cell_type": "code",
   "execution_count": null,
   "id": "3230be62-3e65-4c08-872f-57274cdff85c",
   "metadata": {},
   "outputs": [],
   "source": [
    "df[\"면적당임대료\"] = df[\"월임대료원\"] / df[\"면적(㎡)\"]"
   ]
  },
  {
   "cell_type": "code",
   "execution_count": null,
   "id": "95a8c2f0-b441-48db-96c3-01463330c6a0",
   "metadata": {},
   "outputs": [],
   "source": [
    "df.describe()"
   ]
  },
  {
   "cell_type": "code",
   "execution_count": null,
   "id": "92a1a7c6-642c-4096-b66b-8996b2afaf60",
   "metadata": {
    "scrolled": true
   },
   "outputs": [],
   "source": [
    "df_sub = df[df[\"면적당임대료\"].notnull() & (df[\"면적당임대료\"] != np.inf )]\n",
    "df_sub.describe()"
   ]
  },
  {
   "cell_type": "code",
   "execution_count": null,
   "id": "d977941a-a930-4e13-823c-d6fbf8a79892",
   "metadata": {},
   "outputs": [],
   "source": [
    "df_sub.hist(bins=50);"
   ]
  },
  {
   "cell_type": "code",
   "execution_count": null,
   "id": "b5dcd2c6-3ea9-4183-b97e-829afa53dd9a",
   "metadata": {},
   "outputs": [],
   "source": [
    "df_sub.plot(kind=\"box\")"
   ]
  },
  {
   "cell_type": "code",
   "execution_count": null,
   "id": "7a51a84d-4eb0-448a-b565-88aaecc5e7e1",
   "metadata": {},
   "outputs": [],
   "source": [
    "df.describe(include=\"object\")"
   ]
  },
  {
   "cell_type": "code",
   "execution_count": null,
   "id": "11743895-7036-4e57-892b-184eb5262820",
   "metadata": {},
   "outputs": [],
   "source": [
    "df[df != np.inf].nlargest(10, \"면적당임대료\")"
   ]
  },
  {
   "cell_type": "code",
   "execution_count": null,
   "id": "7d6a5449-943f-411b-95a1-5a333fd0b04f",
   "metadata": {},
   "outputs": [],
   "source": [
    "df.nsmallest(10, \"면적당임대료\")"
   ]
  },
  {
   "cell_type": "markdown",
   "id": "46b728a5-05b0-4162-bdc2-b95022d89534",
   "metadata": {},
   "source": [
    "## 날짜"
   ]
  },
  {
   "cell_type": "code",
   "execution_count": null,
   "id": "2d760711-dd36-4b29-a4d8-04ade4f86a6a",
   "metadata": {},
   "outputs": [],
   "source": [
    "df[\"계약시작일\"] = pd.to_datetime(df[\"계약시작일\"])\n",
    "df[\"계약종료일\"] = pd.to_datetime(df[\"계약종료일\"])"
   ]
  },
  {
   "cell_type": "code",
   "execution_count": null,
   "id": "be485ef6-41a1-488c-8801-18236b4c4c14",
   "metadata": {},
   "outputs": [],
   "source": [
    "df[\"계약종료연도\"] = df[\"계약종료일\"].dt.year"
   ]
  },
  {
   "cell_type": "code",
   "execution_count": null,
   "id": "63f2a9e7-cff9-482c-919b-ea6b02a30a87",
   "metadata": {},
   "outputs": [],
   "source": []
  },
  {
   "cell_type": "markdown",
   "id": "7dba3e1a-5392-484f-99b0-43b8054ae0a3",
   "metadata": {},
   "source": [
    "### 계약기간"
   ]
  },
  {
   "cell_type": "code",
   "execution_count": null,
   "id": "5676e9a7-0193-4b6f-983e-edb5feeb625b",
   "metadata": {},
   "outputs": [],
   "source": [
    "df[\"계약기간\"] = df[\"계약종료일\"] - df[\"계약시작일\"]"
   ]
  },
  {
   "cell_type": "code",
   "execution_count": null,
   "id": "06ef49a0-f8f6-46aa-9c24-36fdf6c0c59b",
   "metadata": {},
   "outputs": [],
   "source": [
    "df[\"계약기간\"].describe()"
   ]
  },
  {
   "cell_type": "code",
   "execution_count": null,
   "id": "e61322eb-1023-438e-b2f6-04f3a905e635",
   "metadata": {},
   "outputs": [],
   "source": [
    "df.nlargest(10, \"계약기간\")"
   ]
  },
  {
   "cell_type": "code",
   "execution_count": null,
   "id": "31185d6d-a706-4ebf-a4df-c79940b0b803",
   "metadata": {},
   "outputs": [],
   "source": [
    "df.nsmallest(10, \"계약기간\")"
   ]
  },
  {
   "cell_type": "code",
   "execution_count": null,
   "id": "f858d175-ea23-4a35-a95d-816b3e252002",
   "metadata": {},
   "outputs": [],
   "source": [
    "station_price = df.groupby([\"역명\"])[\"월임대료원\"].describe()\n",
    "station_price"
   ]
  },
  {
   "cell_type": "code",
   "execution_count": null,
   "id": "c68cdc6a-d7d9-45ff-9478-b6372185ff3b",
   "metadata": {},
   "outputs": [],
   "source": [
    "station_price[\"mean\"].nlargest(10).round(0)"
   ]
  },
  {
   "cell_type": "code",
   "execution_count": null,
   "id": "dda01c32-440e-4e7b-b332-494a40478d4f",
   "metadata": {},
   "outputs": [],
   "source": [
    "df[\"역명\"].value_counts().nlargest(20)"
   ]
  },
  {
   "cell_type": "code",
   "execution_count": null,
   "id": "86c76624-c58b-47bc-a19b-01f1684edde2",
   "metadata": {},
   "outputs": [],
   "source": [
    "# ### 계약종료일을 참고해서 임대로 나올만한 상가 수가 어느정도 인지 찾아보고자 한다면?"
   ]
  },
  {
   "cell_type": "code",
   "execution_count": null,
   "id": "6dbecc00-ccd8-4fe1-bd19-82816b506beb",
   "metadata": {},
   "outputs": [],
   "source": [
    "df[\"계약기간일\"] = df[\"계약기간\"].dt.days"
   ]
  },
  {
   "cell_type": "code",
   "execution_count": null,
   "id": "cc12edd9-6d73-467e-b778-3512da391153",
   "metadata": {},
   "outputs": [],
   "source": [
    "df[[\"계약시작일\", \"계약종료일\", \"계약종료연도\", \"계약기간일\"]].hist(figsize=(12, 6), bins=30);"
   ]
  },
  {
   "cell_type": "code",
   "execution_count": null,
   "id": "d20b30cf-45c9-4d08-991c-556164a2b6f9",
   "metadata": {},
   "outputs": [],
   "source": [
    "station_expire = pd.crosstab(df[\"역명\"], df[\"계약종료연도\"])\n",
    "station_expire"
   ]
  },
  {
   "cell_type": "code",
   "execution_count": null,
   "id": "fc6dfff4-e464-4e58-ac1c-943ba1631e3f",
   "metadata": {},
   "outputs": [],
   "source": [
    "sns.heatmap(station_expire, cmap=\"gray\")"
   ]
  },
  {
   "cell_type": "code",
   "execution_count": null,
   "id": "0dd87340-38d2-4d83-b642-c6d6d47af2aa",
   "metadata": {},
   "outputs": [],
   "source": [
    "station_expire[2026].max()"
   ]
  },
  {
   "cell_type": "code",
   "execution_count": null,
   "id": "28330086-0bea-4b01-b71b-986f016f9142",
   "metadata": {},
   "outputs": [],
   "source": [
    "# 특정연도\n",
    "station_expire[2026].nlargest(10)"
   ]
  },
  {
   "cell_type": "code",
   "execution_count": null,
   "id": "73db4edb-91b6-4a53-90b4-c42e01b303f6",
   "metadata": {},
   "outputs": [],
   "source": [
    "df[df[\"역명\"] == \"잠실\"]"
   ]
  },
  {
   "cell_type": "code",
   "execution_count": null,
   "id": "db9c018f-0d49-4fb3-ab66-09ddbe0134a1",
   "metadata": {},
   "outputs": [],
   "source": [
    "df[\"계약종료연도\"].value_counts().sort_index()"
   ]
  },
  {
   "cell_type": "code",
   "execution_count": null,
   "id": "7db94add-5000-47cb-99b4-bfbd331fec8a",
   "metadata": {},
   "outputs": [],
   "source": [
    "sns.countplot(data=df, x=\"계약종료연도\")"
   ]
  },
  {
   "cell_type": "code",
   "execution_count": null,
   "id": "7e018e3d-9111-4193-86e2-d581cca48ac0",
   "metadata": {},
   "outputs": [],
   "source": []
  },
  {
   "cell_type": "code",
   "execution_count": null,
   "id": "57d0257b-a112-44e7-b164-5a3497818fc1",
   "metadata": {},
   "outputs": [],
   "source": []
  },
  {
   "cell_type": "code",
   "execution_count": null,
   "id": "2b3db253-c1ea-48fc-b4d4-5dac4fccac56",
   "metadata": {},
   "outputs": [],
   "source": []
  }
 ],
 "metadata": {
  "kernelspec": {
   "display_name": "Python 3 (ipykernel)",
   "language": "python",
   "name": "python3"
  },
  "language_info": {
   "codemirror_mode": {
    "name": "ipython",
    "version": 3
   },
   "file_extension": ".py",
   "mimetype": "text/x-python",
   "name": "python",
   "nbconvert_exporter": "python",
   "pygments_lexer": "ipython3",
   "version": "3.11.4"
  }
 },
 "nbformat": 4,
 "nbformat_minor": 5
}
