{
 "cells": [
  {
   "cell_type": "markdown",
   "id": "677e69f7-2876-43f4-855a-381fc7dd2da2",
   "metadata": {},
   "source": [
    "[서울시 도시철도역사 지하상가 임대 현황> 데이터셋> 공공데이터 | 서울열린데이터광장](https://data.seoul.go.kr/dataList/OA-21305/S/1/datasetView.do)"
   ]
  },
  {
   "cell_type": "code",
   "execution_count": null,
   "id": "ddd0ddc5-cbb6-4755-b04f-bfabf6015081",
   "metadata": {},
   "outputs": [],
   "source": [
    "import pandas as pd"
   ]
  },
  {
   "cell_type": "code",
   "execution_count": null,
   "id": "de1005a0-4c10-4d2f-a519-76e40f839f1f",
   "metadata": {},
   "outputs": [],
   "source": [
    "df = pd.read_csv(\"data/seoul-metro-rent.csv\", encoding=\"cp949\")\n",
    "df.shape"
   ]
  },
  {
   "cell_type": "code",
   "execution_count": null,
   "id": "17853b67-9909-418f-8755-1effe41103ba",
   "metadata": {},
   "outputs": [],
   "source": []
  }
 ],
 "metadata": {
  "kernelspec": {
   "display_name": "Python 3 (ipykernel)",
   "language": "python",
   "name": "python3"
  },
  "language_info": {
   "codemirror_mode": {
    "name": "ipython",
    "version": 3
   },
   "file_extension": ".py",
   "mimetype": "text/x-python",
   "name": "python",
   "nbconvert_exporter": "python",
   "pygments_lexer": "ipython3",
   "version": "3.11.4"
  }
 },
 "nbformat": 4,
 "nbformat_minor": 5
}
