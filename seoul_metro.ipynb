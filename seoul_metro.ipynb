{
 "cells": [
  {
   "cell_type": "markdown",
   "metadata": {},
   "source": [
    "* 데이터출처 : 서울 열린데이터광장\n",
    "\n",
    "* 서울시 버스노선별 정류장별 시간대별 승하차 인원 정보 : http://data.seoul.go.kr/dataList/OA-12913/S/1/datasetView.do\n",
    "* 서울시 지하철 호선별 역별 시간대별 승하차 인원 정보 :http://data.seoul.go.kr/dataList/OA-12252/S/1/datasetView.do"
   ]
  },
  {
   "cell_type": "code",
   "execution_count": 1,
   "metadata": {},
   "outputs": [],
   "source": [
    "import pandas as pd\n",
    "import numpy as np\n",
    "import seaborn as sns\n",
    "import matplotlib.pyplot as plt"
   ]
  },
  {
   "cell_type": "code",
   "execution_count": 2,
   "metadata": {},
   "outputs": [],
   "source": [
    "def get_font_family():\n",
    "    \"\"\"\n",
    "    시스템 환경에 따른 기본 폰트명을 반환하는 함수\n",
    "    \"\"\"\n",
    "    import platform\n",
    "    system_name = platform.system()\n",
    "\n",
    "    if system_name == \"Darwin\" :\n",
    "        font_family = \"AppleGothic\"\n",
    "    elif system_name == \"Windows\":\n",
    "        font_family = \"Malgun Gothic\"\n",
    "    else:\n",
    "        # Linux(colab)\n",
    "        !apt-get install fonts-nanum -qq  > /dev/null\n",
    "        !fc-cache -fv\n",
    "\n",
    "        import matplotlib as mpl\n",
    "        mpl.font_manager._rebuild()\n",
    "        findfont = mpl.font_manager.fontManager.findfont\n",
    "        mpl.font_manager.findfont = findfont\n",
    "        mpl.backends.backend_agg.findfont = findfont\n",
    "        \n",
    "        font_family = \"NanumBarunGothic\"\n",
    "    return font_family\n",
    "\n",
    "plt.rc(\"font\", family=get_font_family())\n",
    "plt.rc(\"axes\", unicode_minus=False)"
   ]
  },
  {
   "cell_type": "markdown",
   "metadata": {},
   "source": [
    "## 데이터 로드"
   ]
  },
  {
   "cell_type": "code",
   "execution_count": 3,
   "metadata": {},
   "outputs": [
    {
     "data": {
      "text/plain": [
       "(45945, 52)"
      ]
     },
     "execution_count": 3,
     "metadata": {},
     "output_type": "execute_result"
    }
   ],
   "source": [
    "raw = pd.read_csv(\"data/서울시 지하철 호선별 역별 시간대별 승하차 인원 정보.csv\", encoding=\"cp949\")\n",
    "raw.shape"
   ]
  },
  {
   "cell_type": "code",
   "execution_count": 4,
   "metadata": {},
   "outputs": [
    {
     "data": {
      "text/html": [
       "<div>\n",
       "<style scoped>\n",
       "    .dataframe tbody tr th:only-of-type {\n",
       "        vertical-align: middle;\n",
       "    }\n",
       "\n",
       "    .dataframe tbody tr th {\n",
       "        vertical-align: top;\n",
       "    }\n",
       "\n",
       "    .dataframe thead th {\n",
       "        text-align: right;\n",
       "    }\n",
       "</style>\n",
       "<table border=\"1\" class=\"dataframe\">\n",
       "  <thead>\n",
       "    <tr style=\"text-align: right;\">\n",
       "      <th></th>\n",
       "      <th>사용월</th>\n",
       "      <th>호선명</th>\n",
       "      <th>지하철역</th>\n",
       "      <th>04시-05시 승차인원</th>\n",
       "      <th>04시-05시 하차인원</th>\n",
       "      <th>05시-06시 승차인원</th>\n",
       "      <th>05시-06시 하차인원</th>\n",
       "      <th>06시-07시 승차인원</th>\n",
       "      <th>06시-07시 하차인원</th>\n",
       "      <th>07시-08시 승차인원</th>\n",
       "      <th>...</th>\n",
       "      <th>23시-24시 하차인원</th>\n",
       "      <th>00시-01시 승차인원</th>\n",
       "      <th>00시-01시 하차인원</th>\n",
       "      <th>01시-02시 승차인원</th>\n",
       "      <th>01시-02시 하차인원</th>\n",
       "      <th>02시-03시 승차인원</th>\n",
       "      <th>02시-03시 하차인원</th>\n",
       "      <th>03시-04시 승차인원</th>\n",
       "      <th>03시-04시 하차인원</th>\n",
       "      <th>작업일자</th>\n",
       "    </tr>\n",
       "  </thead>\n",
       "  <tbody>\n",
       "    <tr>\n",
       "      <th>0</th>\n",
       "      <td>202107</td>\n",
       "      <td>1호선</td>\n",
       "      <td>동대문</td>\n",
       "      <td>665</td>\n",
       "      <td>13</td>\n",
       "      <td>13154</td>\n",
       "      <td>2112</td>\n",
       "      <td>8755</td>\n",
       "      <td>6552</td>\n",
       "      <td>13558</td>\n",
       "      <td>...</td>\n",
       "      <td>7234</td>\n",
       "      <td>7</td>\n",
       "      <td>1394</td>\n",
       "      <td>0</td>\n",
       "      <td>0</td>\n",
       "      <td>0</td>\n",
       "      <td>1</td>\n",
       "      <td>0</td>\n",
       "      <td>0</td>\n",
       "      <td>20210803</td>\n",
       "    </tr>\n",
       "    <tr>\n",
       "      <th>1</th>\n",
       "      <td>202107</td>\n",
       "      <td>1호선</td>\n",
       "      <td>동묘앞</td>\n",
       "      <td>92</td>\n",
       "      <td>0</td>\n",
       "      <td>3197</td>\n",
       "      <td>1077</td>\n",
       "      <td>3575</td>\n",
       "      <td>4910</td>\n",
       "      <td>5452</td>\n",
       "      <td>...</td>\n",
       "      <td>1955</td>\n",
       "      <td>3</td>\n",
       "      <td>1039</td>\n",
       "      <td>0</td>\n",
       "      <td>0</td>\n",
       "      <td>0</td>\n",
       "      <td>0</td>\n",
       "      <td>0</td>\n",
       "      <td>0</td>\n",
       "      <td>20210803</td>\n",
       "    </tr>\n",
       "    <tr>\n",
       "      <th>2</th>\n",
       "      <td>202107</td>\n",
       "      <td>1호선</td>\n",
       "      <td>서울역</td>\n",
       "      <td>654</td>\n",
       "      <td>6</td>\n",
       "      <td>8652</td>\n",
       "      <td>6342</td>\n",
       "      <td>11542</td>\n",
       "      <td>33836</td>\n",
       "      <td>34033</td>\n",
       "      <td>...</td>\n",
       "      <td>5824</td>\n",
       "      <td>29</td>\n",
       "      <td>551</td>\n",
       "      <td>0</td>\n",
       "      <td>0</td>\n",
       "      <td>0</td>\n",
       "      <td>0</td>\n",
       "      <td>0</td>\n",
       "      <td>0</td>\n",
       "      <td>20210803</td>\n",
       "    </tr>\n",
       "    <tr>\n",
       "      <th>3</th>\n",
       "      <td>202107</td>\n",
       "      <td>1호선</td>\n",
       "      <td>시청</td>\n",
       "      <td>13</td>\n",
       "      <td>0</td>\n",
       "      <td>1803</td>\n",
       "      <td>4616</td>\n",
       "      <td>2797</td>\n",
       "      <td>19665</td>\n",
       "      <td>6210</td>\n",
       "      <td>...</td>\n",
       "      <td>988</td>\n",
       "      <td>6</td>\n",
       "      <td>84</td>\n",
       "      <td>0</td>\n",
       "      <td>0</td>\n",
       "      <td>0</td>\n",
       "      <td>0</td>\n",
       "      <td>0</td>\n",
       "      <td>0</td>\n",
       "      <td>20210803</td>\n",
       "    </tr>\n",
       "    <tr>\n",
       "      <th>4</th>\n",
       "      <td>202107</td>\n",
       "      <td>1호선</td>\n",
       "      <td>신설동</td>\n",
       "      <td>295</td>\n",
       "      <td>14</td>\n",
       "      <td>7940</td>\n",
       "      <td>3120</td>\n",
       "      <td>7834</td>\n",
       "      <td>10994</td>\n",
       "      <td>15927</td>\n",
       "      <td>...</td>\n",
       "      <td>4104</td>\n",
       "      <td>21</td>\n",
       "      <td>437</td>\n",
       "      <td>1</td>\n",
       "      <td>0</td>\n",
       "      <td>0</td>\n",
       "      <td>0</td>\n",
       "      <td>0</td>\n",
       "      <td>0</td>\n",
       "      <td>20210803</td>\n",
       "    </tr>\n",
       "  </tbody>\n",
       "</table>\n",
       "<p>5 rows × 52 columns</p>\n",
       "</div>"
      ],
      "text/plain": [
       "      사용월  호선명 지하철역  04시-05시 승차인원  04시-05시 하차인원  05시-06시 승차인원  05시-06시 하차인원  \\\n",
       "0  202107  1호선  동대문           665            13         13154          2112   \n",
       "1  202107  1호선  동묘앞            92             0          3197          1077   \n",
       "2  202107  1호선  서울역           654             6          8652          6342   \n",
       "3  202107  1호선   시청            13             0          1803          4616   \n",
       "4  202107  1호선  신설동           295            14          7940          3120   \n",
       "\n",
       "   06시-07시 승차인원  06시-07시 하차인원  07시-08시 승차인원  ...  23시-24시 하차인원  00시-01시 승차인원  \\\n",
       "0          8755          6552         13558  ...          7234             7   \n",
       "1          3575          4910          5452  ...          1955             3   \n",
       "2         11542         33836         34033  ...          5824            29   \n",
       "3          2797         19665          6210  ...           988             6   \n",
       "4          7834         10994         15927  ...          4104            21   \n",
       "\n",
       "   00시-01시 하차인원  01시-02시 승차인원  01시-02시 하차인원  02시-03시 승차인원  02시-03시 하차인원  \\\n",
       "0          1394             0             0             0             1   \n",
       "1          1039             0             0             0             0   \n",
       "2           551             0             0             0             0   \n",
       "3            84             0             0             0             0   \n",
       "4           437             1             0             0             0   \n",
       "\n",
       "   03시-04시 승차인원  03시-04시 하차인원      작업일자  \n",
       "0             0             0  20210803  \n",
       "1             0             0  20210803  \n",
       "2             0             0  20210803  \n",
       "3             0             0  20210803  \n",
       "4             0             0  20210803  \n",
       "\n",
       "[5 rows x 52 columns]"
      ]
     },
     "execution_count": 4,
     "metadata": {},
     "output_type": "execute_result"
    }
   ],
   "source": [
    "raw.head()"
   ]
  },
  {
   "cell_type": "code",
   "execution_count": 5,
   "metadata": {},
   "outputs": [
    {
     "data": {
      "text/html": [
       "<div>\n",
       "<style scoped>\n",
       "    .dataframe tbody tr th:only-of-type {\n",
       "        vertical-align: middle;\n",
       "    }\n",
       "\n",
       "    .dataframe tbody tr th {\n",
       "        vertical-align: top;\n",
       "    }\n",
       "\n",
       "    .dataframe thead th {\n",
       "        text-align: right;\n",
       "    }\n",
       "</style>\n",
       "<table border=\"1\" class=\"dataframe\">\n",
       "  <thead>\n",
       "    <tr style=\"text-align: right;\">\n",
       "      <th></th>\n",
       "      <th>사용월</th>\n",
       "      <th>호선명</th>\n",
       "      <th>지하철역</th>\n",
       "      <th>04시-05시 승차인원</th>\n",
       "      <th>04시-05시 하차인원</th>\n",
       "      <th>05시-06시 승차인원</th>\n",
       "      <th>05시-06시 하차인원</th>\n",
       "      <th>06시-07시 승차인원</th>\n",
       "      <th>06시-07시 하차인원</th>\n",
       "      <th>07시-08시 승차인원</th>\n",
       "      <th>...</th>\n",
       "      <th>23시-24시 하차인원</th>\n",
       "      <th>00시-01시 승차인원</th>\n",
       "      <th>00시-01시 하차인원</th>\n",
       "      <th>01시-02시 승차인원</th>\n",
       "      <th>01시-02시 하차인원</th>\n",
       "      <th>02시-03시 승차인원</th>\n",
       "      <th>02시-03시 하차인원</th>\n",
       "      <th>03시-04시 승차인원</th>\n",
       "      <th>03시-04시 하차인원</th>\n",
       "      <th>작업일자</th>\n",
       "    </tr>\n",
       "  </thead>\n",
       "  <tbody>\n",
       "    <tr>\n",
       "      <th>45940</th>\n",
       "      <td>201501</td>\n",
       "      <td>중앙선</td>\n",
       "      <td>운길산</td>\n",
       "      <td>0</td>\n",
       "      <td>0</td>\n",
       "      <td>177</td>\n",
       "      <td>56</td>\n",
       "      <td>642</td>\n",
       "      <td>403</td>\n",
       "      <td>1292</td>\n",
       "      <td>...</td>\n",
       "      <td>633</td>\n",
       "      <td>3</td>\n",
       "      <td>222</td>\n",
       "      <td>0</td>\n",
       "      <td>0</td>\n",
       "      <td>0</td>\n",
       "      <td>0</td>\n",
       "      <td>0</td>\n",
       "      <td>0</td>\n",
       "      <td>20151223</td>\n",
       "    </tr>\n",
       "    <tr>\n",
       "      <th>45941</th>\n",
       "      <td>201501</td>\n",
       "      <td>중앙선</td>\n",
       "      <td>원덕</td>\n",
       "      <td>1</td>\n",
       "      <td>0</td>\n",
       "      <td>292</td>\n",
       "      <td>4</td>\n",
       "      <td>415</td>\n",
       "      <td>46</td>\n",
       "      <td>537</td>\n",
       "      <td>...</td>\n",
       "      <td>383</td>\n",
       "      <td>3</td>\n",
       "      <td>157</td>\n",
       "      <td>0</td>\n",
       "      <td>0</td>\n",
       "      <td>0</td>\n",
       "      <td>0</td>\n",
       "      <td>0</td>\n",
       "      <td>0</td>\n",
       "      <td>20151223</td>\n",
       "    </tr>\n",
       "    <tr>\n",
       "      <th>45942</th>\n",
       "      <td>201501</td>\n",
       "      <td>중앙선</td>\n",
       "      <td>중랑</td>\n",
       "      <td>14</td>\n",
       "      <td>1</td>\n",
       "      <td>4929</td>\n",
       "      <td>424</td>\n",
       "      <td>8539</td>\n",
       "      <td>2084</td>\n",
       "      <td>22160</td>\n",
       "      <td>...</td>\n",
       "      <td>6501</td>\n",
       "      <td>86</td>\n",
       "      <td>1617</td>\n",
       "      <td>0</td>\n",
       "      <td>0</td>\n",
       "      <td>0</td>\n",
       "      <td>0</td>\n",
       "      <td>0</td>\n",
       "      <td>0</td>\n",
       "      <td>20151223</td>\n",
       "    </tr>\n",
       "    <tr>\n",
       "      <th>45943</th>\n",
       "      <td>201501</td>\n",
       "      <td>중앙선</td>\n",
       "      <td>팔당</td>\n",
       "      <td>0</td>\n",
       "      <td>0</td>\n",
       "      <td>161</td>\n",
       "      <td>50</td>\n",
       "      <td>368</td>\n",
       "      <td>149</td>\n",
       "      <td>1227</td>\n",
       "      <td>...</td>\n",
       "      <td>336</td>\n",
       "      <td>8</td>\n",
       "      <td>85</td>\n",
       "      <td>0</td>\n",
       "      <td>0</td>\n",
       "      <td>0</td>\n",
       "      <td>0</td>\n",
       "      <td>0</td>\n",
       "      <td>0</td>\n",
       "      <td>20151223</td>\n",
       "    </tr>\n",
       "    <tr>\n",
       "      <th>45944</th>\n",
       "      <td>201501</td>\n",
       "      <td>중앙선</td>\n",
       "      <td>회기</td>\n",
       "      <td>436</td>\n",
       "      <td>3</td>\n",
       "      <td>10929</td>\n",
       "      <td>3067</td>\n",
       "      <td>23317</td>\n",
       "      <td>10430</td>\n",
       "      <td>65043</td>\n",
       "      <td>...</td>\n",
       "      <td>35702</td>\n",
       "      <td>767</td>\n",
       "      <td>9314</td>\n",
       "      <td>0</td>\n",
       "      <td>0</td>\n",
       "      <td>0</td>\n",
       "      <td>0</td>\n",
       "      <td>0</td>\n",
       "      <td>0</td>\n",
       "      <td>20151223</td>\n",
       "    </tr>\n",
       "  </tbody>\n",
       "</table>\n",
       "<p>5 rows × 52 columns</p>\n",
       "</div>"
      ],
      "text/plain": [
       "          사용월  호선명 지하철역  04시-05시 승차인원  04시-05시 하차인원  05시-06시 승차인원  \\\n",
       "45940  201501  중앙선  운길산             0             0           177   \n",
       "45941  201501  중앙선   원덕             1             0           292   \n",
       "45942  201501  중앙선   중랑            14             1          4929   \n",
       "45943  201501  중앙선   팔당             0             0           161   \n",
       "45944  201501  중앙선   회기           436             3         10929   \n",
       "\n",
       "       05시-06시 하차인원  06시-07시 승차인원  06시-07시 하차인원  07시-08시 승차인원  ...  \\\n",
       "45940            56           642           403          1292  ...   \n",
       "45941             4           415            46           537  ...   \n",
       "45942           424          8539          2084         22160  ...   \n",
       "45943            50           368           149          1227  ...   \n",
       "45944          3067         23317         10430         65043  ...   \n",
       "\n",
       "       23시-24시 하차인원  00시-01시 승차인원  00시-01시 하차인원  01시-02시 승차인원  01시-02시 하차인원  \\\n",
       "45940           633             3           222             0             0   \n",
       "45941           383             3           157             0             0   \n",
       "45942          6501            86          1617             0             0   \n",
       "45943           336             8            85             0             0   \n",
       "45944         35702           767          9314             0             0   \n",
       "\n",
       "       02시-03시 승차인원  02시-03시 하차인원  03시-04시 승차인원  03시-04시 하차인원      작업일자  \n",
       "45940             0             0             0             0  20151223  \n",
       "45941             0             0             0             0  20151223  \n",
       "45942             0             0             0             0  20151223  \n",
       "45943             0             0             0             0  20151223  \n",
       "45944             0             0             0             0  20151223  \n",
       "\n",
       "[5 rows x 52 columns]"
      ]
     },
     "execution_count": 5,
     "metadata": {},
     "output_type": "execute_result"
    }
   ],
   "source": [
    "raw.tail()"
   ]
  },
  {
   "cell_type": "code",
   "execution_count": 6,
   "metadata": {},
   "outputs": [
    {
     "name": "stdout",
     "output_type": "stream",
     "text": [
      "<class 'pandas.core.frame.DataFrame'>\n",
      "RangeIndex: 45945 entries, 0 to 45944\n",
      "Data columns (total 52 columns):\n",
      " #   Column        Non-Null Count  Dtype \n",
      "---  ------        --------------  ----- \n",
      " 0   사용월           45945 non-null  int64 \n",
      " 1   호선명           45945 non-null  object\n",
      " 2   지하철역          45945 non-null  object\n",
      " 3   04시-05시 승차인원  45945 non-null  int64 \n",
      " 4   04시-05시 하차인원  45945 non-null  int64 \n",
      " 5   05시-06시 승차인원  45945 non-null  int64 \n",
      " 6   05시-06시 하차인원  45945 non-null  int64 \n",
      " 7   06시-07시 승차인원  45945 non-null  int64 \n",
      " 8   06시-07시 하차인원  45945 non-null  int64 \n",
      " 9   07시-08시 승차인원  45945 non-null  int64 \n",
      " 10  07시-08시 하차인원  45945 non-null  int64 \n",
      " 11  08시-09시 승차인원  45945 non-null  int64 \n",
      " 12  08시-09시 하차인원  45945 non-null  int64 \n",
      " 13  09시-10시 승차인원  45945 non-null  int64 \n",
      " 14  09시-10시 하차인원  45945 non-null  int64 \n",
      " 15  10시-11시 승차인원  45945 non-null  int64 \n",
      " 16  10시-11시 하차인원  45945 non-null  int64 \n",
      " 17  11시-12시 승차인원  45945 non-null  int64 \n",
      " 18  11시-12시 하차인원  45945 non-null  int64 \n",
      " 19  12시-13시 승차인원  45945 non-null  int64 \n",
      " 20  12시-13시 하차인원  45945 non-null  int64 \n",
      " 21  13시-14시 승차인원  45945 non-null  int64 \n",
      " 22  13시-14시 하차인원  45945 non-null  int64 \n",
      " 23  14시-15시 승차인원  45945 non-null  int64 \n",
      " 24  14시-15시 하차인원  45945 non-null  int64 \n",
      " 25  15시-16시 승차인원  45945 non-null  int64 \n",
      " 26  15시-16시 하차인원  45945 non-null  int64 \n",
      " 27  16시-17시 승차인원  45945 non-null  int64 \n",
      " 28  16시-17시 하차인원  45945 non-null  int64 \n",
      " 29  17시-18시 승차인원  45945 non-null  int64 \n",
      " 30  17시-18시 하차인원  45945 non-null  int64 \n",
      " 31  18시-19시 승차인원  45945 non-null  int64 \n",
      " 32  18시-19시 하차인원  45945 non-null  int64 \n",
      " 33  19시-20시 승차인원  45945 non-null  int64 \n",
      " 34  19시-20시 하차인원  45945 non-null  int64 \n",
      " 35  20시-21시 승차인원  45945 non-null  int64 \n",
      " 36  20시-21시 하차인원  45945 non-null  int64 \n",
      " 37  21시-22시 승차인원  45945 non-null  int64 \n",
      " 38  21시-22시 하차인원  45945 non-null  int64 \n",
      " 39  22시-23시 승차인원  45945 non-null  int64 \n",
      " 40  22시-23시 하차인원  45945 non-null  int64 \n",
      " 41  23시-24시 승차인원  45945 non-null  int64 \n",
      " 42  23시-24시 하차인원  45945 non-null  int64 \n",
      " 43  00시-01시 승차인원  45945 non-null  int64 \n",
      " 44  00시-01시 하차인원  45945 non-null  int64 \n",
      " 45  01시-02시 승차인원  45945 non-null  int64 \n",
      " 46  01시-02시 하차인원  45945 non-null  int64 \n",
      " 47  02시-03시 승차인원  45945 non-null  int64 \n",
      " 48  02시-03시 하차인원  45945 non-null  int64 \n",
      " 49  03시-04시 승차인원  45945 non-null  int64 \n",
      " 50  03시-04시 하차인원  45945 non-null  int64 \n",
      " 51  작업일자          45945 non-null  int64 \n",
      "dtypes: int64(50), object(2)\n",
      "memory usage: 18.2+ MB\n"
     ]
    }
   ],
   "source": [
    "raw.info()"
   ]
  },
  {
   "cell_type": "markdown",
   "metadata": {},
   "source": [
    "## tidy data\n",
    "* melt"
   ]
  },
  {
   "cell_type": "code",
   "execution_count": 7,
   "metadata": {},
   "outputs": [
    {
     "data": {
      "text/html": [
       "<div>\n",
       "<style scoped>\n",
       "    .dataframe tbody tr th:only-of-type {\n",
       "        vertical-align: middle;\n",
       "    }\n",
       "\n",
       "    .dataframe tbody tr th {\n",
       "        vertical-align: top;\n",
       "    }\n",
       "\n",
       "    .dataframe thead th {\n",
       "        text-align: right;\n",
       "    }\n",
       "</style>\n",
       "<table border=\"1\" class=\"dataframe\">\n",
       "  <thead>\n",
       "    <tr style=\"text-align: right;\">\n",
       "      <th></th>\n",
       "      <th>사용월</th>\n",
       "      <th>호선명</th>\n",
       "      <th>지하철역</th>\n",
       "      <th>시간승하차</th>\n",
       "      <th>인원수</th>\n",
       "    </tr>\n",
       "  </thead>\n",
       "  <tbody>\n",
       "    <tr>\n",
       "      <th>0</th>\n",
       "      <td>202107</td>\n",
       "      <td>1호선</td>\n",
       "      <td>동대문</td>\n",
       "      <td>04시-05시 승차인원</td>\n",
       "      <td>665</td>\n",
       "    </tr>\n",
       "    <tr>\n",
       "      <th>1</th>\n",
       "      <td>202107</td>\n",
       "      <td>1호선</td>\n",
       "      <td>동묘앞</td>\n",
       "      <td>04시-05시 승차인원</td>\n",
       "      <td>92</td>\n",
       "    </tr>\n",
       "    <tr>\n",
       "      <th>2</th>\n",
       "      <td>202107</td>\n",
       "      <td>1호선</td>\n",
       "      <td>서울역</td>\n",
       "      <td>04시-05시 승차인원</td>\n",
       "      <td>654</td>\n",
       "    </tr>\n",
       "    <tr>\n",
       "      <th>3</th>\n",
       "      <td>202107</td>\n",
       "      <td>1호선</td>\n",
       "      <td>시청</td>\n",
       "      <td>04시-05시 승차인원</td>\n",
       "      <td>13</td>\n",
       "    </tr>\n",
       "    <tr>\n",
       "      <th>4</th>\n",
       "      <td>202107</td>\n",
       "      <td>1호선</td>\n",
       "      <td>신설동</td>\n",
       "      <td>04시-05시 승차인원</td>\n",
       "      <td>295</td>\n",
       "    </tr>\n",
       "  </tbody>\n",
       "</table>\n",
       "</div>"
      ],
      "text/plain": [
       "      사용월  호선명 지하철역         시간승하차  인원수\n",
       "0  202107  1호선  동대문  04시-05시 승차인원  665\n",
       "1  202107  1호선  동묘앞  04시-05시 승차인원   92\n",
       "2  202107  1호선  서울역  04시-05시 승차인원  654\n",
       "3  202107  1호선   시청  04시-05시 승차인원   13\n",
       "4  202107  1호선  신설동  04시-05시 승차인원  295"
      ]
     },
     "execution_count": 7,
     "metadata": {},
     "output_type": "execute_result"
    }
   ],
   "source": [
    "df = raw.melt(id_vars=[\"사용월\", \"호선명\", \"지하철역\"], var_name=\"시간승하차\", value_name=\"인원수\")\n",
    "df.head()"
   ]
  },
  {
   "cell_type": "code",
   "execution_count": 8,
   "metadata": {},
   "outputs": [
    {
     "data": {
      "text/plain": [
       "array(['1호선', '2호선', '3호선', '4호선', '5호선', '6호선', '7호선', '8호선', '9호선',\n",
       "       '9호선2~3단계', '경강선', '경부선', '경원선', '경의선', '경인선', '경춘선', '공항철도 1호선',\n",
       "       '과천선', '분당선', '수인선', '안산선', '우이신설선', '일산선', '장항선', '중앙선', '9호선2단계'],\n",
       "      dtype=object)"
      ]
     },
     "execution_count": 8,
     "metadata": {},
     "output_type": "execute_result"
    }
   ],
   "source": [
    "df[\"호선명\"].unique()"
   ]
  },
  {
   "cell_type": "code",
   "execution_count": 9,
   "metadata": {},
   "outputs": [
    {
     "data": {
      "text/plain": [
       "array(['04시-05시 승차인원', '04시-05시 하차인원', '05시-06시 승차인원', '05시-06시 하차인원',\n",
       "       '06시-07시 승차인원', '06시-07시 하차인원', '07시-08시 승차인원', '07시-08시 하차인원',\n",
       "       '08시-09시 승차인원', '08시-09시 하차인원', '09시-10시 승차인원', '09시-10시 하차인원',\n",
       "       '10시-11시 승차인원', '10시-11시 하차인원', '11시-12시 승차인원', '11시-12시 하차인원',\n",
       "       '12시-13시 승차인원', '12시-13시 하차인원', '13시-14시 승차인원', '13시-14시 하차인원',\n",
       "       '14시-15시 승차인원', '14시-15시 하차인원', '15시-16시 승차인원', '15시-16시 하차인원',\n",
       "       '16시-17시 승차인원', '16시-17시 하차인원', '17시-18시 승차인원', '17시-18시 하차인원',\n",
       "       '18시-19시 승차인원', '18시-19시 하차인원', '19시-20시 승차인원', '19시-20시 하차인원',\n",
       "       '20시-21시 승차인원', '20시-21시 하차인원', '21시-22시 승차인원', '21시-22시 하차인원',\n",
       "       '22시-23시 승차인원', '22시-23시 하차인원', '23시-24시 승차인원', '23시-24시 하차인원',\n",
       "       '00시-01시 승차인원', '00시-01시 하차인원', '01시-02시 승차인원', '01시-02시 하차인원',\n",
       "       '02시-03시 승차인원', '02시-03시 하차인원', '03시-04시 승차인원', '03시-04시 하차인원',\n",
       "       '작업일자'], dtype=object)"
      ]
     },
     "execution_count": 9,
     "metadata": {},
     "output_type": "execute_result"
    }
   ],
   "source": [
    "df[\"시간승하차\"].unique()"
   ]
  },
  {
   "cell_type": "code",
   "execution_count": 10,
   "metadata": {},
   "outputs": [
    {
     "name": "stdout",
     "output_type": "stream",
     "text": [
      "(2251305, 5)\n",
      "(2205360, 5)\n"
     ]
    }
   ],
   "source": [
    "print(df.shape)\n",
    "df = df[df[\"시간승하차\"] != \"작업일자\"].copy()\n",
    "print(df.shape)"
   ]
  },
  {
   "cell_type": "code",
   "execution_count": 11,
   "metadata": {},
   "outputs": [
    {
     "data": {
      "text/html": [
       "<div>\n",
       "<style scoped>\n",
       "    .dataframe tbody tr th:only-of-type {\n",
       "        vertical-align: middle;\n",
       "    }\n",
       "\n",
       "    .dataframe tbody tr th {\n",
       "        vertical-align: top;\n",
       "    }\n",
       "\n",
       "    .dataframe thead th {\n",
       "        text-align: right;\n",
       "    }\n",
       "</style>\n",
       "<table border=\"1\" class=\"dataframe\">\n",
       "  <thead>\n",
       "    <tr style=\"text-align: right;\">\n",
       "      <th></th>\n",
       "      <th>사용월</th>\n",
       "      <th>인원수</th>\n",
       "    </tr>\n",
       "  </thead>\n",
       "  <tbody>\n",
       "    <tr>\n",
       "      <th>count</th>\n",
       "      <td>2.205360e+06</td>\n",
       "      <td>2.205360e+06</td>\n",
       "    </tr>\n",
       "    <tr>\n",
       "      <th>mean</th>\n",
       "      <td>2.017933e+05</td>\n",
       "      <td>1.490138e+04</td>\n",
       "    </tr>\n",
       "    <tr>\n",
       "      <th>std</th>\n",
       "      <td>1.902518e+02</td>\n",
       "      <td>2.396117e+04</td>\n",
       "    </tr>\n",
       "    <tr>\n",
       "      <th>min</th>\n",
       "      <td>2.015010e+05</td>\n",
       "      <td>0.000000e+00</td>\n",
       "    </tr>\n",
       "    <tr>\n",
       "      <th>25%</th>\n",
       "      <td>2.016090e+05</td>\n",
       "      <td>1.086000e+03</td>\n",
       "    </tr>\n",
       "    <tr>\n",
       "      <th>50%</th>\n",
       "      <td>2.018050e+05</td>\n",
       "      <td>7.182000e+03</td>\n",
       "    </tr>\n",
       "    <tr>\n",
       "      <th>75%</th>\n",
       "      <td>2.019120e+05</td>\n",
       "      <td>1.872200e+04</td>\n",
       "    </tr>\n",
       "    <tr>\n",
       "      <th>max</th>\n",
       "      <td>2.021070e+05</td>\n",
       "      <td>4.654060e+05</td>\n",
       "    </tr>\n",
       "  </tbody>\n",
       "</table>\n",
       "</div>"
      ],
      "text/plain": [
       "                사용월           인원수\n",
       "count  2.205360e+06  2.205360e+06\n",
       "mean   2.017933e+05  1.490138e+04\n",
       "std    1.902518e+02  2.396117e+04\n",
       "min    2.015010e+05  0.000000e+00\n",
       "25%    2.016090e+05  1.086000e+03\n",
       "50%    2.018050e+05  7.182000e+03\n",
       "75%    2.019120e+05  1.872200e+04\n",
       "max    2.021070e+05  4.654060e+05"
      ]
     },
     "execution_count": 11,
     "metadata": {},
     "output_type": "execute_result"
    }
   ],
   "source": [
    "df.describe()"
   ]
  },
  {
   "cell_type": "code",
   "execution_count": 12,
   "metadata": {},
   "outputs": [
    {
     "data": {
      "text/html": [
       "<div>\n",
       "<style scoped>\n",
       "    .dataframe tbody tr th:only-of-type {\n",
       "        vertical-align: middle;\n",
       "    }\n",
       "\n",
       "    .dataframe tbody tr th {\n",
       "        vertical-align: top;\n",
       "    }\n",
       "\n",
       "    .dataframe thead th {\n",
       "        text-align: right;\n",
       "    }\n",
       "</style>\n",
       "<table border=\"1\" class=\"dataframe\">\n",
       "  <thead>\n",
       "    <tr style=\"text-align: right;\">\n",
       "      <th></th>\n",
       "      <th>호선명</th>\n",
       "      <th>지하철역</th>\n",
       "      <th>시간승하차</th>\n",
       "    </tr>\n",
       "  </thead>\n",
       "  <tbody>\n",
       "    <tr>\n",
       "      <th>count</th>\n",
       "      <td>2205360</td>\n",
       "      <td>2205360</td>\n",
       "      <td>2205360</td>\n",
       "    </tr>\n",
       "    <tr>\n",
       "      <th>unique</th>\n",
       "      <td>26</td>\n",
       "      <td>579</td>\n",
       "      <td>48</td>\n",
       "    </tr>\n",
       "    <tr>\n",
       "      <th>top</th>\n",
       "      <td>5호선</td>\n",
       "      <td>서울역</td>\n",
       "      <td>04시-05시 승차인원</td>\n",
       "    </tr>\n",
       "    <tr>\n",
       "      <th>freq</th>\n",
       "      <td>195264</td>\n",
       "      <td>20832</td>\n",
       "      <td>45945</td>\n",
       "    </tr>\n",
       "  </tbody>\n",
       "</table>\n",
       "</div>"
      ],
      "text/plain": [
       "            호선명     지하철역         시간승하차\n",
       "count   2205360  2205360       2205360\n",
       "unique       26      579            48\n",
       "top         5호선      서울역  04시-05시 승차인원\n",
       "freq     195264    20832         45945"
      ]
     },
     "execution_count": 12,
     "metadata": {},
     "output_type": "execute_result"
    }
   ],
   "source": [
    "df.describe(include=\"object\")"
   ]
  },
  {
   "cell_type": "markdown",
   "metadata": {},
   "source": [
    "## 파생변수 만들기\n",
    "### 문자열 나누기"
   ]
  },
  {
   "cell_type": "code",
   "execution_count": 13,
   "metadata": {},
   "outputs": [
    {
     "data": {
      "text/html": [
       "<div>\n",
       "<style scoped>\n",
       "    .dataframe tbody tr th:only-of-type {\n",
       "        vertical-align: middle;\n",
       "    }\n",
       "\n",
       "    .dataframe tbody tr th {\n",
       "        vertical-align: top;\n",
       "    }\n",
       "\n",
       "    .dataframe thead th {\n",
       "        text-align: right;\n",
       "    }\n",
       "</style>\n",
       "<table border=\"1\" class=\"dataframe\">\n",
       "  <thead>\n",
       "    <tr style=\"text-align: right;\">\n",
       "      <th></th>\n",
       "      <th>사용월</th>\n",
       "      <th>호선명</th>\n",
       "      <th>지하철역</th>\n",
       "      <th>시간승하차</th>\n",
       "      <th>인원수</th>\n",
       "      <th>시간</th>\n",
       "      <th>승하차</th>\n",
       "    </tr>\n",
       "  </thead>\n",
       "  <tbody>\n",
       "    <tr>\n",
       "      <th>0</th>\n",
       "      <td>202107</td>\n",
       "      <td>1호선</td>\n",
       "      <td>동대문</td>\n",
       "      <td>04시-05시 승차인원</td>\n",
       "      <td>665</td>\n",
       "      <td>04시-05시</td>\n",
       "      <td>승차인원</td>\n",
       "    </tr>\n",
       "  </tbody>\n",
       "</table>\n",
       "</div>"
      ],
      "text/plain": [
       "      사용월  호선명 지하철역         시간승하차  인원수       시간   승하차\n",
       "0  202107  1호선  동대문  04시-05시 승차인원  665  04시-05시  승차인원"
      ]
     },
     "execution_count": 13,
     "metadata": {},
     "output_type": "execute_result"
    }
   ],
   "source": [
    "df[\"시간\"] = df[\"시간승하차\"].str.split(expand=True)[0]\n",
    "df[\"승하차\"] = df[\"시간승하차\"].str.split(expand=True)[1]\n",
    "df.head(1)"
   ]
  },
  {
   "cell_type": "markdown",
   "metadata": {},
   "source": [
    "### 출퇴근 시간 변수 만들기"
   ]
  },
  {
   "cell_type": "code",
   "execution_count": 14,
   "metadata": {},
   "outputs": [
    {
     "data": {
      "text/plain": [
       "0          4\n",
       "1          4\n",
       "2          4\n",
       "3          4\n",
       "4          4\n",
       "          ..\n",
       "2205355    3\n",
       "2205356    3\n",
       "2205357    3\n",
       "2205358    3\n",
       "2205359    3\n",
       "Name: 시간대, Length: 2205360, dtype: int64"
      ]
     },
     "execution_count": 14,
     "metadata": {},
     "output_type": "execute_result"
    }
   ],
   "source": [
    "df[\"시간대\"] = df[\"시간\"].str[:2].astype(int)\n",
    "df[\"시간대\"]"
   ]
  },
  {
   "cell_type": "code",
   "execution_count": 15,
   "metadata": {},
   "outputs": [
    {
     "data": {
      "text/html": [
       "<div>\n",
       "<style scoped>\n",
       "    .dataframe tbody tr th:only-of-type {\n",
       "        vertical-align: middle;\n",
       "    }\n",
       "\n",
       "    .dataframe tbody tr th {\n",
       "        vertical-align: top;\n",
       "    }\n",
       "\n",
       "    .dataframe thead th {\n",
       "        text-align: right;\n",
       "    }\n",
       "</style>\n",
       "<table border=\"1\" class=\"dataframe\">\n",
       "  <thead>\n",
       "    <tr style=\"text-align: right;\">\n",
       "      <th></th>\n",
       "      <th>사용월</th>\n",
       "      <th>호선명</th>\n",
       "      <th>지하철역</th>\n",
       "      <th>시간승하차</th>\n",
       "      <th>인원수</th>\n",
       "      <th>시간</th>\n",
       "      <th>승하차</th>\n",
       "      <th>시간대</th>\n",
       "      <th>출퇴근</th>\n",
       "    </tr>\n",
       "  </thead>\n",
       "  <tbody>\n",
       "    <tr>\n",
       "      <th>0</th>\n",
       "      <td>202107</td>\n",
       "      <td>1호선</td>\n",
       "      <td>동대문</td>\n",
       "      <td>04시-05시 승차인원</td>\n",
       "      <td>665</td>\n",
       "      <td>04시-05시</td>\n",
       "      <td>승차인원</td>\n",
       "      <td>4</td>\n",
       "      <td>NaN</td>\n",
       "    </tr>\n",
       "    <tr>\n",
       "      <th>1</th>\n",
       "      <td>202107</td>\n",
       "      <td>1호선</td>\n",
       "      <td>동묘앞</td>\n",
       "      <td>04시-05시 승차인원</td>\n",
       "      <td>92</td>\n",
       "      <td>04시-05시</td>\n",
       "      <td>승차인원</td>\n",
       "      <td>4</td>\n",
       "      <td>NaN</td>\n",
       "    </tr>\n",
       "    <tr>\n",
       "      <th>2</th>\n",
       "      <td>202107</td>\n",
       "      <td>1호선</td>\n",
       "      <td>서울역</td>\n",
       "      <td>04시-05시 승차인원</td>\n",
       "      <td>654</td>\n",
       "      <td>04시-05시</td>\n",
       "      <td>승차인원</td>\n",
       "      <td>4</td>\n",
       "      <td>NaN</td>\n",
       "    </tr>\n",
       "    <tr>\n",
       "      <th>3</th>\n",
       "      <td>202107</td>\n",
       "      <td>1호선</td>\n",
       "      <td>시청</td>\n",
       "      <td>04시-05시 승차인원</td>\n",
       "      <td>13</td>\n",
       "      <td>04시-05시</td>\n",
       "      <td>승차인원</td>\n",
       "      <td>4</td>\n",
       "      <td>NaN</td>\n",
       "    </tr>\n",
       "    <tr>\n",
       "      <th>4</th>\n",
       "      <td>202107</td>\n",
       "      <td>1호선</td>\n",
       "      <td>신설동</td>\n",
       "      <td>04시-05시 승차인원</td>\n",
       "      <td>295</td>\n",
       "      <td>04시-05시</td>\n",
       "      <td>승차인원</td>\n",
       "      <td>4</td>\n",
       "      <td>NaN</td>\n",
       "    </tr>\n",
       "  </tbody>\n",
       "</table>\n",
       "</div>"
      ],
      "text/plain": [
       "      사용월  호선명 지하철역         시간승하차  인원수       시간   승하차  시간대  출퇴근\n",
       "0  202107  1호선  동대문  04시-05시 승차인원  665  04시-05시  승차인원    4  NaN\n",
       "1  202107  1호선  동묘앞  04시-05시 승차인원   92  04시-05시  승차인원    4  NaN\n",
       "2  202107  1호선  서울역  04시-05시 승차인원  654  04시-05시  승차인원    4  NaN\n",
       "3  202107  1호선   시청  04시-05시 승차인원   13  04시-05시  승차인원    4  NaN\n",
       "4  202107  1호선  신설동  04시-05시 승차인원  295  04시-05시  승차인원    4  NaN"
      ]
     },
     "execution_count": 15,
     "metadata": {},
     "output_type": "execute_result"
    }
   ],
   "source": [
    "df.loc[(df[\"시간대\"] >= 7) & (df[\"시간대\"] <= 10), \"출퇴근\"] = \"출근\"\n",
    "df.loc[(df[\"시간대\"] >= 17) & (df[\"시간대\"] <= 21), \"출퇴근\"] = \"퇴근\"\n",
    "df.head()"
   ]
  },
  {
   "cell_type": "markdown",
   "metadata": {},
   "source": [
    "### 문자열 대체\n",
    "* 승차인원 => 승차\n",
    "* 하차인원 => 하차\n",
    "* \"인원\" 텍스트 제거"
   ]
  },
  {
   "cell_type": "code",
   "execution_count": 16,
   "metadata": {},
   "outputs": [
    {
     "data": {
      "text/html": [
       "<div>\n",
       "<style scoped>\n",
       "    .dataframe tbody tr th:only-of-type {\n",
       "        vertical-align: middle;\n",
       "    }\n",
       "\n",
       "    .dataframe tbody tr th {\n",
       "        vertical-align: top;\n",
       "    }\n",
       "\n",
       "    .dataframe thead th {\n",
       "        text-align: right;\n",
       "    }\n",
       "</style>\n",
       "<table border=\"1\" class=\"dataframe\">\n",
       "  <thead>\n",
       "    <tr style=\"text-align: right;\">\n",
       "      <th></th>\n",
       "      <th>사용월</th>\n",
       "      <th>호선명</th>\n",
       "      <th>지하철역</th>\n",
       "      <th>시간승하차</th>\n",
       "      <th>인원수</th>\n",
       "      <th>시간</th>\n",
       "      <th>승하차</th>\n",
       "      <th>시간대</th>\n",
       "      <th>출퇴근</th>\n",
       "    </tr>\n",
       "  </thead>\n",
       "  <tbody>\n",
       "    <tr>\n",
       "      <th>0</th>\n",
       "      <td>202107</td>\n",
       "      <td>1호선</td>\n",
       "      <td>동대문</td>\n",
       "      <td>04시-05시 승차인원</td>\n",
       "      <td>665</td>\n",
       "      <td>04시-05시</td>\n",
       "      <td>승차</td>\n",
       "      <td>4</td>\n",
       "      <td>NaN</td>\n",
       "    </tr>\n",
       "  </tbody>\n",
       "</table>\n",
       "</div>"
      ],
      "text/plain": [
       "      사용월  호선명 지하철역         시간승하차  인원수       시간 승하차  시간대  출퇴근\n",
       "0  202107  1호선  동대문  04시-05시 승차인원  665  04시-05시  승차    4  NaN"
      ]
     },
     "execution_count": 16,
     "metadata": {},
     "output_type": "execute_result"
    }
   ],
   "source": [
    "df[\"승하차\"] = df[\"승하차\"].str.replace(\"인원\", \"\")\n",
    "df.head(1)"
   ]
  },
  {
   "cell_type": "markdown",
   "metadata": {},
   "source": [
    "### 문자열 슬라이싱\n",
    "* \"연도월\" 형태의 데이터를 특정 인덱스를 기준으로 슬라이싱"
   ]
  },
  {
   "cell_type": "code",
   "execution_count": 17,
   "metadata": {},
   "outputs": [
    {
     "data": {
      "text/html": [
       "<div>\n",
       "<style scoped>\n",
       "    .dataframe tbody tr th:only-of-type {\n",
       "        vertical-align: middle;\n",
       "    }\n",
       "\n",
       "    .dataframe tbody tr th {\n",
       "        vertical-align: top;\n",
       "    }\n",
       "\n",
       "    .dataframe thead th {\n",
       "        text-align: right;\n",
       "    }\n",
       "</style>\n",
       "<table border=\"1\" class=\"dataframe\">\n",
       "  <thead>\n",
       "    <tr style=\"text-align: right;\">\n",
       "      <th></th>\n",
       "      <th>사용월</th>\n",
       "      <th>호선명</th>\n",
       "      <th>지하철역</th>\n",
       "      <th>시간승하차</th>\n",
       "      <th>인원수</th>\n",
       "      <th>시간</th>\n",
       "      <th>승하차</th>\n",
       "      <th>시간대</th>\n",
       "      <th>출퇴근</th>\n",
       "      <th>연도</th>\n",
       "      <th>월</th>\n",
       "    </tr>\n",
       "  </thead>\n",
       "  <tbody>\n",
       "    <tr>\n",
       "      <th>0</th>\n",
       "      <td>202107</td>\n",
       "      <td>1호선</td>\n",
       "      <td>동대문</td>\n",
       "      <td>04시-05시 승차인원</td>\n",
       "      <td>665</td>\n",
       "      <td>04시-05시</td>\n",
       "      <td>승차</td>\n",
       "      <td>4</td>\n",
       "      <td>NaN</td>\n",
       "      <td>2021</td>\n",
       "      <td>07</td>\n",
       "    </tr>\n",
       "  </tbody>\n",
       "</table>\n",
       "</div>"
      ],
      "text/plain": [
       "      사용월  호선명 지하철역         시간승하차  인원수       시간 승하차  시간대  출퇴근    연도   월\n",
       "0  202107  1호선  동대문  04시-05시 승차인원  665  04시-05시  승차    4  NaN  2021  07"
      ]
     },
     "execution_count": 17,
     "metadata": {},
     "output_type": "execute_result"
    }
   ],
   "source": [
    "df[\"연도\"] = df[\"사용월\"].astype(str).str[:4]\n",
    "df[\"월\"] = df[\"사용월\"].astype(str).str[4:]\n",
    "df.head(1)"
   ]
  },
  {
   "cell_type": "code",
   "execution_count": null,
   "metadata": {},
   "outputs": [],
   "source": [
    "sns.barplot(data=df.sort_values(\"연도\"), x=\"연도\", y=\"인원수\", ci=None, estimator=np.sum)\n",
    "plt.title(\"연도별 합계 인원\")"
   ]
  },
  {
   "cell_type": "markdown",
   "metadata": {},
   "source": [
    "## 코로나 이전 이후 비교\n",
    "### 특정 연도 추출"
   ]
  },
  {
   "cell_type": "code",
   "execution_count": null,
   "metadata": {},
   "outputs": [],
   "source": [
    "df_192021 = df[df[\"연도\"].isin([\"2019\", \"2020\", \"2021\"])]\n",
    "df.shape, df_192021.shape"
   ]
  },
  {
   "cell_type": "markdown",
   "metadata": {},
   "source": [
    "### 연도별 합계 인원"
   ]
  },
  {
   "cell_type": "code",
   "execution_count": null,
   "metadata": {},
   "outputs": [],
   "source": [
    "sns.barplot(data=df_192021, x=\"연도\", y=\"인원수\", ci=None, estimator=np.sum)\n",
    "plt.title(\"연도별 합계 인원\")"
   ]
  },
  {
   "cell_type": "markdown",
   "metadata": {},
   "source": [
    "### 호선별 합계 인원"
   ]
  },
  {
   "cell_type": "code",
   "execution_count": null,
   "metadata": {
    "scrolled": false
   },
   "outputs": [],
   "source": [
    "plt.figure(figsize=(15, 6))\n",
    "sns.barplot(data=df_192021, x=\"인원수\", y=\"호선명\", ci=None, estimator=np.sum, hue=\"연도\")\n",
    "plt.title(\"호선별 합계 인원\")"
   ]
  },
  {
   "cell_type": "code",
   "execution_count": null,
   "metadata": {},
   "outputs": [],
   "source": [
    "df_line_year = df.groupby([\"호선명\", \"연도\"])[\"인원수\"].sum().unstack()\n",
    "df_line_year.style.background_gradient().format(\"{:,.0f}\")"
   ]
  },
  {
   "cell_type": "markdown",
   "metadata": {},
   "source": [
    "## 월별 승하차 인원"
   ]
  },
  {
   "cell_type": "code",
   "execution_count": null,
   "metadata": {
    "scrolled": true
   },
   "outputs": [],
   "source": [
    "plt.figure(figsize=(15, 4))\n",
    "plt.xticks(rotation=60)\n",
    "sns.pointplot(data=df_192021, x=\"사용월\", y=\"인원수\", hue=\"승하차\", ci=None)"
   ]
  },
  {
   "cell_type": "code",
   "execution_count": null,
   "metadata": {},
   "outputs": [],
   "source": [
    "plt.figure(figsize=(15, 4))\n",
    "plt.xticks(rotation=60)\n",
    "sns.pointplot(data=df_192021, x=\"사용월\", y=\"인원수\", hue=\"승하차\", ci=None, estimator=np.sum)"
   ]
  },
  {
   "cell_type": "markdown",
   "metadata": {},
   "source": [
    "## 호선별 인원"
   ]
  },
  {
   "cell_type": "code",
   "execution_count": null,
   "metadata": {},
   "outputs": [],
   "source": [
    "plt.figure(figsize=(15, 6))\n",
    "sns.barplot(data=df, x=\"인원수\", y=\"호선명\", ci=None)\n",
    "plt.title(\"호선별 평균 인원\")"
   ]
  },
  {
   "cell_type": "code",
   "execution_count": null,
   "metadata": {},
   "outputs": [],
   "source": [
    "plt.figure(figsize=(15, 6))\n",
    "sns.barplot(data=df, x=\"인원수\", y=\"호선명\", ci=None, estimator=sum)\n",
    "plt.title(\"호선별 합계 인원\")"
   ]
  },
  {
   "cell_type": "code",
   "execution_count": null,
   "metadata": {},
   "outputs": [],
   "source": [
    "plt.figure(figsize=(15, 6))\n",
    "sns.barplot(data=df, x=\"인원수\", y=\"호선명\", ci=None, estimator=sum, hue=\"승하차\")\n",
    "plt.title(\"호선별 합계 인원\")"
   ]
  },
  {
   "cell_type": "code",
   "execution_count": null,
   "metadata": {},
   "outputs": [],
   "source": [
    "plt.figure(figsize=(12, 4))\n",
    "plt.xticks(rotation=80)\n",
    "sns.pointplot(data=df, x=\"시간\", y=\"인원수\", ci=None, hue=\"승하차\")"
   ]
  },
  {
   "cell_type": "code",
   "execution_count": null,
   "metadata": {},
   "outputs": [],
   "source": [
    "plt.figure(figsize=(12, 4))\n",
    "plt.xticks(rotation=80)\n",
    "sns.pointplot(data=df_192021, x=\"시간\", y=\"인원수\", ci=None, hue=\"연도\", estimator=np.sum)"
   ]
  },
  {
   "cell_type": "code",
   "execution_count": null,
   "metadata": {},
   "outputs": [],
   "source": [
    "sns.catplot(data=df_192021, x=\"시간\", y=\"인원수\", kind=\"point\",\n",
    "            ci=None, hue=\"승하차\", col=\"호선명\", col_wrap=4)"
   ]
  },
  {
   "cell_type": "markdown",
   "metadata": {},
   "source": [
    "## 승하차 인원"
   ]
  },
  {
   "cell_type": "code",
   "execution_count": null,
   "metadata": {},
   "outputs": [],
   "source": [
    "df_192021[df_192021[\"승하차\"] == \"하차\"].sort_values(by=[\"인원수\", \"지하철역\"], ascending=False).head(20)"
   ]
  },
  {
   "cell_type": "code",
   "execution_count": null,
   "metadata": {},
   "outputs": [],
   "source": [
    "df_192021[df_192021[\"승하차\"] == \"승차\"].sort_values(by=[\"인원수\", \"지하철역\"], ascending=False).head(20)"
   ]
  },
  {
   "cell_type": "markdown",
   "metadata": {},
   "source": [
    "## 출퇴근 시간 승하차 빈도수"
   ]
  },
  {
   "cell_type": "code",
   "execution_count": null,
   "metadata": {},
   "outputs": [],
   "source": [
    "df_station = df_192021.groupby(by=[\"지하철역\", \"승하차\", \"시간\", \"출퇴근\"])[\"인원수\"].sum().reset_index()\n",
    "df_station"
   ]
  },
  {
   "cell_type": "code",
   "execution_count": null,
   "metadata": {},
   "outputs": [],
   "source": [
    "df_station[df_station[\"승하차\"] == \"하차\"].sort_values(\"인원수\", ascending=False).head(20)"
   ]
  },
  {
   "cell_type": "code",
   "execution_count": null,
   "metadata": {},
   "outputs": [],
   "source": [
    "df_station[\n",
    "    (df_station[\"승하차\"] == \"승차\") & (df_station[\"출퇴근\"] == \"출근\")\n",
    "].sort_values(\"인원수\", ascending=False).head(20)"
   ]
  },
  {
   "cell_type": "code",
   "execution_count": null,
   "metadata": {},
   "outputs": [],
   "source": [
    "df_station[\n",
    "    (df_station[\"승하차\"] == \"하차\") & (df_station[\"출퇴근\"] == \"출근\")\n",
    "].sort_values(\"인원수\", ascending=False).head(20)"
   ]
  },
  {
   "cell_type": "code",
   "execution_count": null,
   "metadata": {},
   "outputs": [],
   "source": [
    "df_station[\n",
    "    (df_station[\"승하차\"] == \"승차\") & (df_station[\"출퇴근\"] == \"퇴근\")\n",
    "].sort_values(\"인원수\", ascending=False).head(20)"
   ]
  },
  {
   "cell_type": "code",
   "execution_count": null,
   "metadata": {},
   "outputs": [],
   "source": [
    "df_station[\n",
    "    (df_station[\"승하차\"] == \"하차\") & (df_station[\"출퇴근\"] == \"퇴근\")\n",
    "].sort_values(\"인원수\", ascending=False).head(20)"
   ]
  },
  {
   "cell_type": "code",
   "execution_count": null,
   "metadata": {},
   "outputs": [],
   "source": []
  }
 ],
 "metadata": {
  "kernelspec": {
   "display_name": "Python 3",
   "language": "python",
   "name": "python3"
  },
  "language_info": {
   "codemirror_mode": {
    "name": "ipython",
    "version": 3
   },
   "file_extension": ".py",
   "mimetype": "text/x-python",
   "name": "python",
   "nbconvert_exporter": "python",
   "pygments_lexer": "ipython3",
   "version": "3.7.6"
  },
  "toc": {
   "base_numbering": 1,
   "nav_menu": {},
   "number_sections": true,
   "sideBar": true,
   "skip_h1_title": false,
   "title_cell": "Table of Contents",
   "title_sidebar": "Contents",
   "toc_cell": false,
   "toc_position": {},
   "toc_section_display": true,
   "toc_window_display": false
  },
  "varInspector": {
   "cols": {
    "lenName": 16,
    "lenType": 16,
    "lenVar": 40
   },
   "kernels_config": {
    "python": {
     "delete_cmd_postfix": "",
     "delete_cmd_prefix": "del ",
     "library": "var_list.py",
     "varRefreshCmd": "print(var_dic_list())"
    },
    "r": {
     "delete_cmd_postfix": ") ",
     "delete_cmd_prefix": "rm(",
     "library": "var_list.r",
     "varRefreshCmd": "cat(var_dic_list()) "
    }
   },
   "types_to_exclude": [
    "module",
    "function",
    "builtin_function_or_method",
    "instance",
    "_Feature"
   ],
   "window_display": false
  }
 },
 "nbformat": 4,
 "nbformat_minor": 4
}
