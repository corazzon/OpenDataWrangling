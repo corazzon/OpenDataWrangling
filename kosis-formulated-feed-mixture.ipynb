{
 "cells": [
  {
   "cell_type": "code",
   "execution_count": null,
   "id": "ba8303c6-2578-437f-862f-68092d2689d3",
   "metadata": {},
   "outputs": [],
   "source": [
    "import pandas as pd\n",
    "from glob import glob\n",
    "import koreanize_matplotlib"
   ]
  },
  {
   "cell_type": "code",
   "execution_count": null,
   "id": "f77ebe70-1229-4e7f-af74-f3fb4d8b3678",
   "metadata": {},
   "outputs": [],
   "source": [
    "file_names = glob(\"data/kosis-formulated*.csv\")\n",
    "file_names"
   ]
  },
  {
   "cell_type": "code",
   "execution_count": null,
   "id": "4766a52c-ef18-4490-b0b4-683858d7b05a",
   "metadata": {},
   "outputs": [],
   "source": [
    "# df_a = pd.read_csv(\"data/kosis-formulated-feed-mixture-2012-after.csv\", encoding=\"cp949\")\n",
    "df_a = pd.read_csv(file_names[0], dtype={\"시점\":\"object\"}, encoding=\"cp949\")\n",
    "df_a.shape"
   ]
  },
  {
   "cell_type": "code",
   "execution_count": null,
   "id": "2d44bb99-b3d1-459b-ba77-5ef7450b1c31",
   "metadata": {},
   "outputs": [],
   "source": [
    "df_b = pd.read_csv(file_names[1], dtype={\"시점\":\"object\"}, encoding=\"cp949\")\n",
    "df_b.shape"
   ]
  },
  {
   "cell_type": "code",
   "execution_count": null,
   "id": "1ed67547-f302-46be-8976-5143b68b5395",
   "metadata": {},
   "outputs": [],
   "source": [
    "df_a.head(2)"
   ]
  },
  {
   "cell_type": "code",
   "execution_count": null,
   "id": "7a47c7f6-3209-4feb-9f0f-87f33ed66e2a",
   "metadata": {},
   "outputs": [],
   "source": [
    "df_b.head(2)"
   ]
  },
  {
   "cell_type": "code",
   "execution_count": null,
   "id": "aeaf8c5e-ddc4-492d-b0f2-1b03c2045177",
   "metadata": {},
   "outputs": [],
   "source": [
    "df_a.info()"
   ]
  },
  {
   "cell_type": "code",
   "execution_count": null,
   "id": "9db5abf4-2253-4e71-8d56-f7925301c79b",
   "metadata": {},
   "outputs": [],
   "source": [
    "df_b.info()"
   ]
  },
  {
   "cell_type": "code",
   "execution_count": null,
   "id": "012f15db-68ba-4cdf-b01f-51bae64061a4",
   "metadata": {},
   "outputs": [],
   "source": [
    "df_a = df_a.rename(columns={\"축종별(1)\":\"축종별\"})\n",
    "df_a.head()"
   ]
  },
  {
   "cell_type": "code",
   "execution_count": null,
   "id": "003ed706-b784-47ce-9bb6-323ccd055d44",
   "metadata": {},
   "outputs": [],
   "source": [
    "df = pd.concat([df_a, df_b])\n",
    "df.shape"
   ]
  },
  {
   "cell_type": "code",
   "execution_count": null,
   "id": "64538456-79d9-46bf-a445-f338532a603a",
   "metadata": {},
   "outputs": [],
   "source": [
    "df"
   ]
  },
  {
   "cell_type": "code",
   "execution_count": null,
   "id": "ba902390-a3b1-458e-b388-72b57436bedd",
   "metadata": {},
   "outputs": [],
   "source": [
    "df.info()"
   ]
  },
  {
   "cell_type": "code",
   "execution_count": null,
   "id": "05595792-b106-43e5-bd85-65fc1b9439a2",
   "metadata": {},
   "outputs": [],
   "source": [
    "df.describe()"
   ]
  },
  {
   "cell_type": "code",
   "execution_count": null,
   "id": "a1e86896-3600-435a-b562-1ed59a5328ae",
   "metadata": {},
   "outputs": [],
   "source": [
    "df.describe(include=\"object\")"
   ]
  },
  {
   "cell_type": "code",
   "execution_count": null,
   "id": "f46caef3-07af-40da-b0d8-44f1acda3506",
   "metadata": {},
   "outputs": [],
   "source": [
    "df.hist(bins=50);"
   ]
  },
  {
   "cell_type": "code",
   "execution_count": null,
   "id": "cdfa2280-627a-4313-b090-0f27a4f0b7c1",
   "metadata": {},
   "outputs": [],
   "source": [
    "df[\"축종별\"].value_counts()"
   ]
  },
  {
   "cell_type": "code",
   "execution_count": null,
   "id": "b1fe9a18-eaa8-4480-9657-1cd1757c2c71",
   "metadata": {},
   "outputs": [],
   "source": [
    "df.loc[df[\"축종별\"] == \"고기소\", \"시점\"].unique()"
   ]
  },
  {
   "cell_type": "code",
   "execution_count": null,
   "id": "d6932782-33d3-49e2-b6e2-c6256b8ab261",
   "metadata": {},
   "outputs": [],
   "source": [
    "df[\"연도\"] = df[\"시점\"].map(lambda x : int(x.split(\".\")[0]))\n",
    "df[\"월\"] = df[\"시점\"].map(lambda x : int(x.split(\".\")[-1]))\n",
    "df.head()"
   ]
  },
  {
   "cell_type": "code",
   "execution_count": null,
   "id": "b66c627c-f585-42d5-bbc8-71d80aa31dec",
   "metadata": {},
   "outputs": [],
   "source": [
    "df.hist(bins=50);"
   ]
  },
  {
   "cell_type": "code",
   "execution_count": null,
   "id": "04fe33da-5a60-4e8f-96b7-069f735c8eda",
   "metadata": {},
   "outputs": [],
   "source": [
    "df.groupby(\"연도\")[\"데이터\"].count()"
   ]
  },
  {
   "cell_type": "code",
   "execution_count": null,
   "id": "9098a41f-2fe8-40b5-8cf9-8fbb406a6839",
   "metadata": {},
   "outputs": [],
   "source": [
    "df[df[\"연도\"] == 2012]"
   ]
  },
  {
   "cell_type": "code",
   "execution_count": null,
   "id": "558d941f-a09e-4d71-995e-26d0b0422883",
   "metadata": {},
   "outputs": [],
   "source": [
    "for g in df.groupby(\"축종별\"):\n",
    "    print(g[0])\n",
    "    display(g[1].describe())"
   ]
  },
  {
   "cell_type": "code",
   "execution_count": null,
   "id": "9fb0317b-3cfa-45f4-88f3-d8c4756e33cf",
   "metadata": {},
   "outputs": [],
   "source": [
    "df.groupby(\"축종별\")[\"데이터\"].describe()"
   ]
  },
  {
   "cell_type": "code",
   "execution_count": null,
   "id": "317fa511-a739-45ee-9af5-0bfdbc41e90e",
   "metadata": {},
   "outputs": [],
   "source": []
  }
 ],
 "metadata": {
  "kernelspec": {
   "display_name": "Python 3 (ipykernel)",
   "language": "python",
   "name": "python3"
  },
  "language_info": {
   "codemirror_mode": {
    "name": "ipython",
    "version": 3
   },
   "file_extension": ".py",
   "mimetype": "text/x-python",
   "name": "python",
   "nbconvert_exporter": "python",
   "pygments_lexer": "ipython3",
   "version": "3.12.3"
  }
 },
 "nbformat": 4,
 "nbformat_minor": 5
}
