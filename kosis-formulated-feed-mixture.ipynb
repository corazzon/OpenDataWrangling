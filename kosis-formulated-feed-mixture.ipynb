{
 "cells": [
  {
   "cell_type": "code",
   "execution_count": null,
   "id": "b90383a7-9eab-4e76-8d01-8807aeda371b",
   "metadata": {},
   "outputs": [],
   "source": [
    "import pandas as pd"
   ]
  },
  {
   "cell_type": "code",
   "execution_count": null,
   "id": "8128363f-8837-49d9-9e7b-65743bb6424b",
   "metadata": {},
   "outputs": [],
   "source": [
    "df01 = pd.read_csv(\"data/kosis-formulated-feed-mixture-2012-before.csv\", dtype={\"시점\": \"object\"}, encoding=\"cp949\")\n",
    "df01"
   ]
  },
  {
   "cell_type": "code",
   "execution_count": null,
   "id": "9e092df1-8470-41fd-869e-3667c7732a4c",
   "metadata": {},
   "outputs": [],
   "source": [
    "df02 = pd.read_csv(\"data/kosis-formulated-feed-mixture-2012-after.csv\", dtype={\"시점\": \"object\"}, encoding=\"cp949\")\n",
    "df02"
   ]
  },
  {
   "cell_type": "code",
   "execution_count": null,
   "id": "d044c703-4148-4a2b-a8cd-3ee9d6dc1612",
   "metadata": {},
   "outputs": [],
   "source": []
  }
 ],
 "metadata": {
  "kernelspec": {
   "display_name": "Python 3 (ipykernel)",
   "language": "python",
   "name": "python3"
  },
  "language_info": {
   "codemirror_mode": {
    "name": "ipython",
    "version": 3
   },
   "file_extension": ".py",
   "mimetype": "text/x-python",
   "name": "python",
   "nbconvert_exporter": "python",
   "pygments_lexer": "ipython3",
   "version": "3.12.3"
  }
 },
 "nbformat": 4,
 "nbformat_minor": 5
}
