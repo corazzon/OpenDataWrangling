{
 "cells": [
  {
   "cell_type": "markdown",
   "id": "835d056c-5757-467b-bd0f-13dd7aa2f608",
   "metadata": {},
   "source": [
    "### 축종별 배합사료 생산실적\n",
    "* https://kosis.kr/statHtml/statHtml.do?orgId=114&tblId=DT_114N_1B001&vw_cd=MT_ZTITLE&list_id=K1_25&seqNo=&lang_mode=ko&language=kor&obj_var_id=&itm_id=&conn_path=MT_ZTITLE\n",
    "* [Pandas\\_Cheat\\_Sheet.pdf](https://pandas.pydata.org/Pandas_Cheat_Sheet.pdf)"
   ]
  },
  {
   "cell_type": "code",
   "execution_count": null,
   "id": "573bded8-07a7-4b06-8efc-631023e0b9e8",
   "metadata": {},
   "outputs": [],
   "source": [
    "# for colab\n",
    "# !pip install koreanize-matplotlib"
   ]
  },
  {
   "cell_type": "code",
   "execution_count": null,
   "id": "ba8303c6-2578-437f-862f-68092d2689d3",
   "metadata": {},
   "outputs": [],
   "source": [
    "import pandas as pd\n",
    "from glob import glob\n",
    "import koreanize_matplotlib\n",
    "import seaborn as sns"
   ]
  },
  {
   "cell_type": "markdown",
   "id": "dfecbf2a-8411-4909-96f9-2df56fe75df6",
   "metadata": {},
   "source": [
    "<img src=\"https://pandas.pydata.org/docs/_images/02_io_readwrite.svg\">"
   ]
  },
  {
   "cell_type": "code",
   "execution_count": null,
   "id": "f77ebe70-1229-4e7f-af74-f3fb4d8b3678",
   "metadata": {},
   "outputs": [],
   "source": [
    "file_names = glob(\"data/kosis-formulated*.csv\")\n",
    "file_names"
   ]
  },
  {
   "cell_type": "code",
   "execution_count": null,
   "id": "d5ca40a2-5adc-4788-931b-00e2c804d515",
   "metadata": {},
   "outputs": [],
   "source": [
    "# df_a = pd.read_csv(\"data/kosis-formulated-feed-mixture-2012-after.csv\", encoding=\"cp949\")\n",
    "df_a = pd.read_csv(file_names[0], dtype={\"시점\":\"object\"}, encoding=\"cp949\")\n",
    "df_a.shape"
   ]
  },
  {
   "cell_type": "code",
   "execution_count": null,
   "id": "2d44bb99-b3d1-459b-ba77-5ef7450b1c31",
   "metadata": {},
   "outputs": [],
   "source": [
    "df_b = pd.read_csv(file_names[1], dtype={\"시점\":\"object\"}, encoding=\"cp949\")\n",
    "df_b.shape"
   ]
  },
  {
   "cell_type": "code",
   "execution_count": null,
   "id": "1ed67547-f302-46be-8976-5143b68b5395",
   "metadata": {},
   "outputs": [],
   "source": [
    "df_a.head(2)"
   ]
  },
  {
   "cell_type": "code",
   "execution_count": null,
   "id": "7a47c7f6-3209-4feb-9f0f-87f33ed66e2a",
   "metadata": {},
   "outputs": [],
   "source": [
    "df_b.head(2)"
   ]
  },
  {
   "cell_type": "code",
   "execution_count": null,
   "id": "aeaf8c5e-ddc4-492d-b0f2-1b03c2045177",
   "metadata": {},
   "outputs": [],
   "source": [
    "df_a.info()"
   ]
  },
  {
   "cell_type": "code",
   "execution_count": null,
   "id": "9db5abf4-2253-4e71-8d56-f7925301c79b",
   "metadata": {},
   "outputs": [],
   "source": [
    "df_b.info()"
   ]
  },
  {
   "cell_type": "code",
   "execution_count": null,
   "id": "012f15db-68ba-4cdf-b01f-51bae64061a4",
   "metadata": {},
   "outputs": [],
   "source": [
    "df_a = df_a.rename(columns={\"축종별(1)\":\"축종별\"})\n",
    "df_a.head()"
   ]
  },
  {
   "cell_type": "markdown",
   "id": "5baaff8b-f0ba-488c-81b5-adc5072bc366",
   "metadata": {},
   "source": [
    "## 하나의 데이터프레임으로 합치기\n",
    "\n",
    "<img src=\"https://pandas.pydata.org/docs/_images/merging_concat_basic.png\">\n",
    "\n",
    "* [Merge, join, concatenate and compare documentation](https://pandas.pydata.org/docs/user_guide/merging.html#merge-join-concatenate-and-compare)\n",
    "\n",
    "* concat :  \n",
    "    * axis=0 행을 기준으로 위아래로 같은 컬럼끼리 값을 이어 붙여 새로운 행을 만듦\n",
    "    * axis=1 컬럼을 기준으로 인덱스가 같은 값을 옆으로 붙여 새로운 컬럼을 만듦"
   ]
  },
  {
   "cell_type": "code",
   "execution_count": null,
   "id": "003ed706-b784-47ce-9bb6-323ccd055d44",
   "metadata": {},
   "outputs": [],
   "source": [
    "df = pd.concat([df_a, df_b])\n",
    "df.shape"
   ]
  },
  {
   "cell_type": "code",
   "execution_count": null,
   "id": "64538456-79d9-46bf-a445-f338532a603a",
   "metadata": {},
   "outputs": [],
   "source": [
    "df"
   ]
  },
  {
   "cell_type": "code",
   "execution_count": null,
   "id": "ba902390-a3b1-458e-b388-72b57436bedd",
   "metadata": {},
   "outputs": [],
   "source": [
    "df.info()"
   ]
  },
  {
   "cell_type": "code",
   "execution_count": null,
   "id": "05595792-b106-43e5-bd85-65fc1b9439a2",
   "metadata": {},
   "outputs": [],
   "source": [
    "df.describe()"
   ]
  },
  {
   "cell_type": "code",
   "execution_count": null,
   "id": "a1e86896-3600-435a-b562-1ed59a5328ae",
   "metadata": {},
   "outputs": [],
   "source": [
    "df.describe(include=\"object\")"
   ]
  },
  {
   "cell_type": "code",
   "execution_count": null,
   "id": "f46caef3-07af-40da-b0d8-44f1acda3506",
   "metadata": {},
   "outputs": [],
   "source": [
    "df.hist(bins=50);"
   ]
  },
  {
   "cell_type": "code",
   "execution_count": null,
   "id": "cdfa2280-627a-4313-b090-0f27a4f0b7c1",
   "metadata": {},
   "outputs": [],
   "source": [
    "df[\"축종별\"].value_counts()"
   ]
  },
  {
   "cell_type": "code",
   "execution_count": null,
   "id": "b1fe9a18-eaa8-4480-9657-1cd1757c2c71",
   "metadata": {},
   "outputs": [],
   "source": [
    "df.loc[df[\"축종별\"] == \"고기소\", \"시점\"].unique()"
   ]
  },
  {
   "cell_type": "code",
   "execution_count": null,
   "id": "549639c4-0bba-4a9d-a030-a07dbd5aa88b",
   "metadata": {},
   "outputs": [],
   "source": [
    "df[\"축종별\"] = df[\"축종별\"].replace(\"고기소\", \"고기소용\")\n",
    "df[\"축종별\"].value_counts()"
   ]
  },
  {
   "cell_type": "code",
   "execution_count": null,
   "id": "d6932782-33d3-49e2-b6e2-c6256b8ab261",
   "metadata": {},
   "outputs": [],
   "source": [
    "# df[\"연도\"] = df[\"시점\"].map(lambda x : int(x.split(\".\")[0]))\n",
    "# df[\"월\"] = df[\"시점\"].map(lambda x : int(x.split(\".\")[-1]))\n",
    "# df.head()"
   ]
  },
  {
   "cell_type": "code",
   "execution_count": null,
   "id": "14f27c4c-3588-446f-8834-a9bd97dadf8e",
   "metadata": {},
   "outputs": [],
   "source": [
    "df[\"연도\"] = df[\"시점\"].str.split(\".\", expand=True)[0].astype(int)\n",
    "df[\"월\"] = df[\"시점\"].str.split(\".\", expand=True)[1].astype(int)\n",
    "df.head()"
   ]
  },
  {
   "cell_type": "code",
   "execution_count": null,
   "id": "b66c627c-f585-42d5-bbc8-71d80aa31dec",
   "metadata": {},
   "outputs": [],
   "source": [
    "df.hist(bins=50);"
   ]
  },
  {
   "cell_type": "code",
   "execution_count": null,
   "id": "04fe33da-5a60-4e8f-96b7-069f735c8eda",
   "metadata": {},
   "outputs": [],
   "source": [
    "df.groupby(\"연도\")[\"데이터\"].count()"
   ]
  },
  {
   "cell_type": "code",
   "execution_count": null,
   "id": "9098a41f-2fe8-40b5-8cf9-8fbb406a6839",
   "metadata": {},
   "outputs": [],
   "source": [
    "df[df[\"연도\"] == 2012]"
   ]
  },
  {
   "cell_type": "code",
   "execution_count": null,
   "id": "0c30208a-5b18-4260-84e2-91e395c06488",
   "metadata": {},
   "outputs": [],
   "source": [
    "sns.histplot(data=df, x=\"데이터\", hue=\"축종별\", bins=50);"
   ]
  },
  {
   "cell_type": "markdown",
   "id": "524564fb-b500-464b-929f-748e8d9ecfb7",
   "metadata": {},
   "source": [
    "### split-apply-combine pattern\n",
    "<img src=\"https://pandas.pydata.org/docs/_images/06_valuecounts.svg\">"
   ]
  },
  {
   "cell_type": "code",
   "execution_count": null,
   "id": "558d941f-a09e-4d71-995e-26d0b0422883",
   "metadata": {},
   "outputs": [],
   "source": [
    "# \"축종별\" 열을 기준으로 데이터프레임을 그룹화하고, 각 그룹에 대해 기술 통계량을 출력하고 히스토그램 시각화\n",
    "for g in df.groupby(\"축종별\"):\n",
    "    print(g[0])\n",
    "    display(g[1].describe())\n",
    "    g[1].hist()"
   ]
  },
  {
   "cell_type": "code",
   "execution_count": null,
   "id": "9fb0317b-3cfa-45f4-88f3-d8c4756e33cf",
   "metadata": {},
   "outputs": [],
   "source": [
    "df.groupby(\"축종별\")[\"데이터\"].describe().style.format(\"{:,.0f}\")"
   ]
  },
  {
   "cell_type": "code",
   "execution_count": null,
   "id": "2952bc96-3aaa-4f21-a786-209820b24aee",
   "metadata": {},
   "outputs": [],
   "source": [
    "gb[\"mean\"].sort_values().plot(kind=\"barh\", title=\"축종별 평균 배합사료 생산실적(톤)\", figsize=(10,3));"
   ]
  },
  {
   "cell_type": "code",
   "execution_count": null,
   "id": "1679886a-3c22-42ca-ab06-e1e25d264fc9",
   "metadata": {},
   "outputs": [],
   "source": [
    "# df.plot(kind=?)\n",
    "\n",
    "    # - 'line' : line plot (default)\n",
    "    # - 'bar' : vertical bar plot\n",
    "    # - 'barh' : horizontal bar plot\n",
    "    # - 'hist' : histogram\n",
    "    # - 'box' : boxplot\n",
    "    # - 'kde' : Kernel Density Estimation plot\n",
    "    # - 'density' : same as 'kde'\n",
    "    # - 'area' : area plot\n",
    "    # - 'pie' : pie plot\n",
    "    # - 'scatter' : scatter plot (DataFrame only)\n",
    "    # - 'hexbin' : hexbin plot (DataFrame only)"
   ]
  },
  {
   "cell_type": "code",
   "execution_count": null,
   "id": "a0b74824-3e55-40d4-932a-ce71f4934e22",
   "metadata": {},
   "outputs": [],
   "source": [
    "dfp = df.pivot_table(index=[\"연도\", \"월\"], columns=\"축종별\", values=\"데이터\")\n",
    "dfp"
   ]
  },
  {
   "cell_type": "code",
   "execution_count": null,
   "id": "017a69ae-d570-4abe-9793-ab3cbd2d52c9",
   "metadata": {},
   "outputs": [],
   "source": [
    "dfp.hist(bins=50, figsize=(6, 6));"
   ]
  },
  {
   "cell_type": "code",
   "execution_count": null,
   "id": "6e6cece1-7e41-4922-bbb1-969017ff9a3e",
   "metadata": {},
   "outputs": [],
   "source": [
    "dfp.plot(kind=\"box\");"
   ]
  },
  {
   "cell_type": "code",
   "execution_count": null,
   "id": "741b823a-5e8c-4262-b5a9-2a0c75b86144",
   "metadata": {},
   "outputs": [],
   "source": [
    "dfp.plot(kind=\"scatter\", x=\"양계용\", y=\"양돈용\")"
   ]
  },
  {
   "cell_type": "markdown",
   "id": "e05ab214-2c2c-4f76-99e9-7027bfd9aa8a",
   "metadata": {},
   "source": [
    "<img src=\"https://seaborn.pydata.org/_images/function_overview_8_0.png\">\n",
    "\n",
    "* https://seaborn.pydata.org/tutorial/function_overview.html"
   ]
  },
  {
   "cell_type": "code",
   "execution_count": null,
   "id": "317fa511-a739-45ee-9af5-0bfdbc41e90e",
   "metadata": {},
   "outputs": [],
   "source": [
    "sns.barplot(data=df, x=\"축종별\", y=\"데이터\")"
   ]
  },
  {
   "cell_type": "code",
   "execution_count": null,
   "id": "b78cf98a-d57c-488f-b027-10be87d7b0b8",
   "metadata": {},
   "outputs": [],
   "source": [
    "sns.boxplot(data=df, x=\"축종별\", y=\"데이터\")"
   ]
  },
  {
   "cell_type": "code",
   "execution_count": null,
   "id": "a1eec5c1-acd6-4ffd-8aaf-10b8b0f6a8f7",
   "metadata": {},
   "outputs": [],
   "source": [
    "sns.violinplot(data=df, x=\"축종별\", y=\"데이터\")"
   ]
  }
 ],
 "metadata": {
  "kernelspec": {
   "display_name": "Python 3 (ipykernel)",
   "language": "python",
   "name": "python3"
  },
  "language_info": {
   "codemirror_mode": {
    "name": "ipython",
    "version": 3
   },
   "file_extension": ".py",
   "mimetype": "text/x-python",
   "name": "python",
   "nbconvert_exporter": "python",
   "pygments_lexer": "ipython3",
   "version": "3.11.4"
  }
 },
 "nbformat": 4,
 "nbformat_minor": 5
}
