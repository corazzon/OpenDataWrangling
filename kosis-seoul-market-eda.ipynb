{
 "cells": [
  {
   "cell_type": "markdown",
   "id": "d75ecfac-92f9-4def-bed4-79dc5485c2aa",
   "metadata": {},
   "source": [
    "[서울시 상권분석서비스(추정매출-상권)> 데이터셋> 공공데이터 | 서울열린데이터광장](https://data.seoul.go.kr/dataList/OA-15572/S/1/datasetView.do)"
   ]
  },
  {
   "cell_type": "code",
   "execution_count": null,
   "id": "36f696aa-39a3-402a-b9e0-61f7e1adebb7",
   "metadata": {},
   "outputs": [],
   "source": [
    "import pandas as pd\n",
    "import koreanize_matplotlib"
   ]
  },
  {
   "cell_type": "code",
   "execution_count": null,
   "id": "7913f12f-f93d-410d-b7d0-0fda27b990b9",
   "metadata": {},
   "outputs": [],
   "source": [
    "df = pd.read_csv(\"data/서울시_상권분석서비스(추정매출-상권)_2022년.zip\", encoding=\"cp949\")\n",
    "df.shape"
   ]
  },
  {
   "cell_type": "code",
   "execution_count": null,
   "id": "551f2b2f-811f-46bb-a277-9fdbb53bb9a9",
   "metadata": {},
   "outputs": [],
   "source": [
    "df.head()"
   ]
  },
  {
   "cell_type": "code",
   "execution_count": null,
   "id": "52ecc681-71d9-467b-8dae-5af2f367dcbb",
   "metadata": {},
   "outputs": [],
   "source": [
    "df.info()"
   ]
  },
  {
   "cell_type": "code",
   "execution_count": null,
   "id": "2c2b5d53-08ac-44a1-acc9-471989e34845",
   "metadata": {},
   "outputs": [],
   "source": [
    "df.columns"
   ]
  },
  {
   "cell_type": "code",
   "execution_count": null,
   "id": "2d898da9-c1b4-4f43-b1ba-01f6de3fb81a",
   "metadata": {},
   "outputs": [],
   "source": [
    "df.columns[:-6]"
   ]
  },
  {
   "cell_type": "code",
   "execution_count": null,
   "id": "c1120c0e-13ee-4b36-9c94-20bc2f77e01b",
   "metadata": {},
   "outputs": [],
   "source": [
    "# Melt the DataFrame\n",
    "melted_df = df.melt(\n",
    "    id_vars=['기준_년분기_코드', '상권_구분_코드', '상권_구분_코드_명', '상권_코드', '상권_코드_명', '서비스_업종_코드', '서비스_업종_코드_명'],\n",
    "    var_name='항목',\n",
    "    value_name='값'\n",
    ")\n",
    "melted_df"
   ]
  },
  {
   "cell_type": "code",
   "execution_count": null,
   "id": "39af1940-269d-49bd-93df-3d6c9abbbc5a",
   "metadata": {},
   "outputs": [],
   "source": [
    "# Extract variables from 항목 column\n",
    "melted_df['요일'] = melted_df['항목'].str.extract(r'^(월요일|화요일|수요일|목요일|금요일|토요일|일요일)')\n",
    "melted_df['시간대'] = melted_df['항목'].str.extract(r'(시간대_\\d{2}~\\d{2})')[0].str.replace('시간대_', '')\n",
    "melted_df['성별'] = melted_df['항목'].str.extract(r'(남성|여성)')\n",
    "melted_df['연령대'] = melted_df['항목'].str.extract(r'연령대_(\\d+|60_이상)')\n",
    "\n",
    "# Fill NaN with appropriate values\n",
    "melted_df['요일'] = melted_df['요일'].fillna('해당없음')\n",
    "melted_df['시간대'] = melted_df['시간대'].fillna('해당없음')\n",
    "melted_df['성별'] = melted_df['성별'].fillna('해당없음')\n",
    "melted_df['연령대'] = melted_df['연령대'].fillna('해당없음')\n",
    "\n",
    "# Drop the 항목 column\n",
    "tidy_df = melted_df.drop(columns=['항목'])\n",
    "\n",
    "# Display the tidy data\n",
    "# import ace_tools as tools; tools.display_dataframe_to_user(name=\"Tidy Data with Variables\", dataframe=tidy_df)"
   ]
  },
  {
   "cell_type": "code",
   "execution_count": null,
   "id": "055d7413-c001-4326-be2e-21046941bc0d",
   "metadata": {},
   "outputs": [],
   "source": [
    "tidy_df"
   ]
  },
  {
   "cell_type": "code",
   "execution_count": null,
   "id": "4f79f0e4-ce22-44e3-a9e3-555a1e501f98",
   "metadata": {},
   "outputs": [],
   "source": []
  }
 ],
 "metadata": {
  "kernelspec": {
   "display_name": "Python 3 (ipykernel)",
   "language": "python",
   "name": "python3"
  },
  "language_info": {
   "codemirror_mode": {
    "name": "ipython",
    "version": 3
   },
   "file_extension": ".py",
   "mimetype": "text/x-python",
   "name": "python",
   "nbconvert_exporter": "python",
   "pygments_lexer": "ipython3",
   "version": "3.11.4"
  }
 },
 "nbformat": 4,
 "nbformat_minor": 5
}
