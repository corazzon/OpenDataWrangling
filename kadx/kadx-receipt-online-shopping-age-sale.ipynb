{
 "cells": [
  {
   "cell_type": "markdown",
   "id": "f523b2ba-9c9c-436e-bea0-fd870ca3942e",
   "metadata": {},
   "source": [
    "[실 구매 영수증 기반 온라인 쇼핑몰 연령별 매출 데이터 - KADX 농식품 빅데이터 거래소](https://kadx.co.kr/opmk/frn/pmumkproductDetail/PMU_9334c816-5826-4d0e-a8f4-0b9eb47f6f4d/5#!)"
   ]
  },
  {
   "cell_type": "code",
   "execution_count": null,
   "id": "eb05f444-cabd-4bdd-bb4c-eb624df0f8ca",
   "metadata": {},
   "outputs": [],
   "source": [
    "# !pip install -Uq koreanize-matplotlib"
   ]
  },
  {
   "cell_type": "code",
   "execution_count": null,
   "id": "ba268e8b-0cd7-40eb-a6b6-c576615815cd",
   "metadata": {},
   "outputs": [],
   "source": [
    "import pandas as pd\n",
    "import numpy as np\n",
    "import koreanize_matplotlib\n",
    "import matplotlib.pyplot as plt\n",
    "import plotly.express as px"
   ]
  },
  {
   "cell_type": "code",
   "execution_count": null,
   "id": "e94ed306-633f-41e5-9012-63fe2a0b94eb",
   "metadata": {},
   "outputs": [],
   "source": [
    "df = pd.read_excel(\"data/실 구매 영수증 기반 온라인 쇼핑몰 연령별 매출 데이터.xlsx\")\n",
    "df.shape"
   ]
  },
  {
   "cell_type": "code",
   "execution_count": null,
   "id": "198a8c9a-36df-4bb2-8490-fe830ab9a76d",
   "metadata": {},
   "outputs": [],
   "source": [
    "df.head()"
   ]
  },
  {
   "cell_type": "code",
   "execution_count": null,
   "id": "7a6a1bd5-f6ac-486b-bbec-def9fdaf9c41",
   "metadata": {},
   "outputs": [],
   "source": [
    "df.info()"
   ]
  },
  {
   "cell_type": "code",
   "execution_count": null,
   "id": "2880d48b-b957-4152-a596-81f5d8cadbea",
   "metadata": {},
   "outputs": [],
   "source": [
    "# 중복데이터 확인\n",
    "df[df.duplicated()]"
   ]
  },
  {
   "cell_type": "code",
   "execution_count": null,
   "id": "615bfa58-646c-471d-aeee-77fd667a766c",
   "metadata": {},
   "outputs": [],
   "source": [
    "# 결측치 확인\n",
    "df.isnull().sum()"
   ]
  },
  {
   "cell_type": "code",
   "execution_count": null,
   "id": "44349363-84eb-4889-88dd-6df8980fdcac",
   "metadata": {},
   "outputs": [],
   "source": [
    "# 수치형 변수의 기술 통계 확인\n",
    "df.describe()"
   ]
  },
  {
   "cell_type": "code",
   "execution_count": null,
   "id": "017ffcb4-9c43-45a0-b77e-419bc48248e5",
   "metadata": {},
   "outputs": [],
   "source": [
    "# 범주형 변수의 기술 통계 확인\n",
    "df.describe(include=\"object\")"
   ]
  },
  {
   "cell_type": "code",
   "execution_count": null,
   "id": "a1413aeb-eee9-43e0-b9ed-b041fe96808a",
   "metadata": {},
   "outputs": [],
   "source": [
    "# 전체 변수의 고유값(유일값)\n",
    "df.nunique()"
   ]
  },
  {
   "cell_type": "code",
   "execution_count": null,
   "id": "e35ddde0-6469-4c6b-98c5-19068159613e",
   "metadata": {},
   "outputs": [],
   "source": [
    "# 구매 대분류별 판매 성과 분석\n",
    "channel_sales_summary = df.groupby('대분류')[['구매수량', '구매금액']].agg(['sum', 'mean', 'count']).reset_index()\n",
    "channel_sales_summary"
   ]
  },
  {
   "cell_type": "code",
   "execution_count": null,
   "id": "16c64484-1af5-47c4-814c-5e6c43b977b7",
   "metadata": {},
   "outputs": [],
   "source": [
    "# 대분류별 매출 비율\n",
    "total_sales = df['구매금액'].sum()\n",
    "channel_sales_summary[('매출 비율', 'percent')] = (channel_sales_summary[('구매금액', 'sum')] / total_sales) * 100\n",
    "channel_sales_summary"
   ]
  },
  {
   "cell_type": "code",
   "execution_count": null,
   "id": "50c86edc-acb8-4eec-957d-555a7887ae56",
   "metadata": {},
   "outputs": [],
   "source": [
    "# 대분류별 주요 구매 상품 분석\n",
    "top_products_by_channel = df.groupby('대분류')['구매상품명'].apply(lambda x: x.value_counts().index[0]).reset_index()\n",
    "top_products_by_channel.columns = ['대분류', '가장 많이 구매된 상품']\n",
    "top_products_by_channel"
   ]
  },
  {
   "cell_type": "code",
   "execution_count": null,
   "id": "3773e03e-9ce4-4f9b-a155-af24fe36063a",
   "metadata": {},
   "outputs": [],
   "source": [
    "# 주차별 구매 패턴 분석\n",
    "weekly_sales_pattern = df.groupby('구매주차')['구매금액'].sum().reset_index()\n",
    "weekly_sales_pattern"
   ]
  },
  {
   "cell_type": "code",
   "execution_count": null,
   "id": "44089925-13fb-4d17-9307-77f99d5b79e9",
   "metadata": {},
   "outputs": [],
   "source": [
    "# 연령대별 구매 금액 히스토그램\n",
    "px.histogram(df, x='구매금액', color='구매자연령', nbins=20, title='연령대별 구매 금액 분포')"
   ]
  },
  {
   "cell_type": "code",
   "execution_count": null,
   "id": "b0653100-a589-400d-b9d7-2f239dd24491",
   "metadata": {},
   "outputs": [],
   "source": [
    "# 대분류별 구매 금액 히스토그램\n",
    "px.histogram(df, x='구매금액', color='대분류', nbins=20, title='제품 대분류별 구매 금액 분포')"
   ]
  },
  {
   "cell_type": "code",
   "execution_count": null,
   "id": "e57ac521-335b-4059-ae00-a457592417de",
   "metadata": {},
   "outputs": [],
   "source": [
    "# 구매 주차별 구매 수량 히스토그램\n",
    "px.histogram(df, x='구매주차', y='구매수량', color='구매주차', title='구매 주차별 구매 수량 분포', histfunc='sum')"
   ]
  },
  {
   "cell_type": "code",
   "execution_count": null,
   "id": "c6a65e7b-bd76-4d3f-a2b2-68f2ae34e312",
   "metadata": {},
   "outputs": [],
   "source": [
    "# 연령대별 구매 금액 및 수량\n",
    "px.scatter( df, x='구매자연령', y='구매금액', size='구매수량', color='구매자연령', title='연령대별 구매 금액 및 수량')"
   ]
  },
  {
   "cell_type": "code",
   "execution_count": null,
   "id": "97aaf927-a562-4858-9a14-c4f098f34b4f",
   "metadata": {},
   "outputs": [],
   "source": [
    "# 제품 카테고리별 판매 성과\n",
    "px.pie(\n",
    "    df,\n",
    "    names='대분류',\n",
    "    values='구매금액',\n",
    "    title='제품 카테고리별 판매 성과'\n",
    ")"
   ]
  },
  {
   "cell_type": "code",
   "execution_count": null,
   "id": "53794ea8-e521-42fb-aff0-adf8ea3d40b3",
   "metadata": {},
   "outputs": [],
   "source": [
    "# 주차별 매출 추이\n",
    "weekly_sales_pattern = df.groupby('구매주차')['구매금액'].sum().reset_index()\n",
    "px.line(\n",
    "    weekly_sales_pattern,\n",
    "    x='구매주차',\n",
    "    y='구매금액',\n",
    "    title='주차별 매출 추이'\n",
    ")"
   ]
  },
  {
   "cell_type": "code",
   "execution_count": null,
   "id": "5088ce8b-216b-450f-94a3-d467970e0683",
   "metadata": {},
   "outputs": [],
   "source": []
  },
  {
   "cell_type": "code",
   "execution_count": null,
   "id": "d0d9d64a-e2e7-419d-bd42-49b5be1a77f4",
   "metadata": {},
   "outputs": [],
   "source": []
  },
  {
   "cell_type": "code",
   "execution_count": null,
   "id": "4cd4a4ae-bda9-484f-aeb6-edb938a7ffb4",
   "metadata": {},
   "outputs": [],
   "source": []
  }
 ],
 "metadata": {
  "kernelspec": {
   "display_name": "Python 3 (ipykernel)",
   "language": "python",
   "name": "python3"
  },
  "language_info": {
   "codemirror_mode": {
    "name": "ipython",
    "version": 3
   },
   "file_extension": ".py",
   "mimetype": "text/x-python",
   "name": "python",
   "nbconvert_exporter": "python",
   "pygments_lexer": "ipython3",
   "version": "3.11.4"
  }
 },
 "nbformat": 4,
 "nbformat_minor": 5
}
