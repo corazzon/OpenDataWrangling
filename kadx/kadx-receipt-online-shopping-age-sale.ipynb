{
 "cells": [
  {
   "cell_type": "markdown",
   "id": "f523b2ba-9c9c-436e-bea0-fd870ca3942e",
   "metadata": {},
   "source": [
    "[실 구매 영수증 기반 온라인 쇼핑몰 연령별 매출 데이터 - KADX 농식품 빅데이터 거래소](https://kadx.co.kr/opmk/frn/pmumkproductDetail/PMU_9334c816-5826-4d0e-a8f4-0b9eb47f6f4d/5#!)\n",
    "\n",
    "## 실 구매 영수증 기반 온라인 쇼핑몰 연령별 매출 데이터 \n",
    "* 주력 상품 카테고리 파악: 어떤 상품 카테고리가 가장 높은 매출을 기록하는지 파악하여 마케팅 전략 수립에 활용할 수 있습니다.\n",
    "* 고객 세분화: RFM 분석을 통해 고객을 세분화하여 맞춤형 마케팅 전략을 수립할 수 있습니다.\n",
    "* 구매 패턴 분석: 주차별, 연령별, 제품 카테고리별 구매 패턴을 분석하여 프로모션 시행 시점이나 재고 관리 전략 수립에 활용할 수 있습니다.\n",
    "* 매출 변동 분석: 주차별, 계절별 매출 변동을 분석하여 매출 예측 모델을 개발하고, 사업 계획 수립에 활용할 수 있습니다."
   ]
  },
  {
   "cell_type": "code",
   "execution_count": null,
   "id": "eb05f444-cabd-4bdd-bb4c-eb624df0f8ca",
   "metadata": {},
   "outputs": [],
   "source": [
    "# !pip install -Uq koreanize-matplotlib"
   ]
  },
  {
   "cell_type": "code",
   "execution_count": null,
   "id": "ba268e8b-0cd7-40eb-a6b6-c576615815cd",
   "metadata": {},
   "outputs": [],
   "source": [
    "import pandas as pd\n",
    "import numpy as np\n",
    "import koreanize_matplotlib\n",
    "import matplotlib.pyplot as plt\n",
    "import plotly.express as px"
   ]
  },
  {
   "cell_type": "code",
   "execution_count": null,
   "id": "e94ed306-633f-41e5-9012-63fe2a0b94eb",
   "metadata": {},
   "outputs": [],
   "source": [
    "df = pd.read_excel(\"data/실 구매 영수증 기반 온라인 쇼핑몰 연령별 매출 데이터.xlsx\")\n",
    "df.shape"
   ]
  },
  {
   "cell_type": "code",
   "execution_count": null,
   "id": "198a8c9a-36df-4bb2-8490-fe830ab9a76d",
   "metadata": {},
   "outputs": [],
   "source": [
    "df.head()"
   ]
  },
  {
   "cell_type": "code",
   "execution_count": null,
   "id": "7a6a1bd5-f6ac-486b-bbec-def9fdaf9c41",
   "metadata": {},
   "outputs": [],
   "source": [
    "df.info()"
   ]
  },
  {
   "cell_type": "code",
   "execution_count": null,
   "id": "2880d48b-b957-4152-a596-81f5d8cadbea",
   "metadata": {},
   "outputs": [],
   "source": [
    "# 중복데이터 확인\n",
    "df[df.duplicated()]"
   ]
  },
  {
   "cell_type": "code",
   "execution_count": null,
   "id": "615bfa58-646c-471d-aeee-77fd667a766c",
   "metadata": {},
   "outputs": [],
   "source": [
    "# 결측치 확인\n",
    "df.isnull().sum()"
   ]
  },
  {
   "cell_type": "code",
   "execution_count": null,
   "id": "44349363-84eb-4889-88dd-6df8980fdcac",
   "metadata": {},
   "outputs": [],
   "source": [
    "# 수치형 변수의 기술 통계 확인\n",
    "df.describe()"
   ]
  },
  {
   "cell_type": "code",
   "execution_count": null,
   "id": "017ffcb4-9c43-45a0-b77e-419bc48248e5",
   "metadata": {},
   "outputs": [],
   "source": [
    "# 범주형 변수의 기술 통계 확인\n",
    "df.describe(include=\"object\")"
   ]
  },
  {
   "cell_type": "code",
   "execution_count": null,
   "id": "a1413aeb-eee9-43e0-b9ed-b041fe96808a",
   "metadata": {},
   "outputs": [],
   "source": [
    "# 전체 변수의 고유값(유일값)\n",
    "df.nunique()"
   ]
  },
  {
   "cell_type": "code",
   "execution_count": null,
   "id": "e35ddde0-6469-4c6b-98c5-19068159613e",
   "metadata": {},
   "outputs": [],
   "source": [
    "# 구매 대분류별 판매 성과 분석\n",
    "channel_sales_summary = df.groupby('대분류')[['구매수량', '구매금액']].agg(['sum', 'mean', 'count']).reset_index()\n",
    "channel_sales_summary"
   ]
  },
  {
   "cell_type": "code",
   "execution_count": null,
   "id": "16c64484-1af5-47c4-814c-5e6c43b977b7",
   "metadata": {},
   "outputs": [],
   "source": [
    "# 대분류별 매출 비율\n",
    "total_sales = df['구매금액'].sum()\n",
    "channel_sales_summary[('매출 비율', 'percent')] = (channel_sales_summary[('구매금액', 'sum')] / total_sales) * 100\n",
    "channel_sales_summary"
   ]
  },
  {
   "cell_type": "code",
   "execution_count": null,
   "id": "50c86edc-acb8-4eec-957d-555a7887ae56",
   "metadata": {},
   "outputs": [],
   "source": [
    "# 대분류별 주요 구매 상품 분석\n",
    "top_products_by_channel = df.groupby('대분류')['구매상품명'].apply(lambda x: x.value_counts().index[0]).reset_index()\n",
    "top_products_by_channel.columns = ['대분류', '가장 많이 구매된 상품']\n",
    "top_products_by_channel"
   ]
  },
  {
   "cell_type": "code",
   "execution_count": null,
   "id": "3773e03e-9ce4-4f9b-a155-af24fe36063a",
   "metadata": {},
   "outputs": [],
   "source": [
    "# 주차별 구매 패턴 분석\n",
    "weekly_sales_pattern = df.groupby('구매주차')['구매금액'].sum().reset_index()\n",
    "weekly_sales_pattern"
   ]
  },
  {
   "cell_type": "code",
   "execution_count": null,
   "id": "3b67b910-fe97-4247-8d54-548992dd8954",
   "metadata": {},
   "outputs": [],
   "source": [
    "age_sales = df.groupby('구매자연령')['구매금액'].sum().sort_values(ascending=False)\n",
    "age_sales"
   ]
  },
  {
   "cell_type": "code",
   "execution_count": null,
   "id": "c18a03d3-316c-44e9-89e3-4b751f2cfc4e",
   "metadata": {},
   "outputs": [],
   "source": [
    "df['구매일'] = pd.to_datetime(df['구매주차일자'].str.split('~').str[0].str.strip())\n",
    "daily_sales = df.groupby('구매일')['구매금액'].sum().sort_index()\n",
    "daily_sales"
   ]
  },
  {
   "cell_type": "code",
   "execution_count": null,
   "id": "14f6c957-2210-4d76-addd-ed11cd952003",
   "metadata": {},
   "outputs": [],
   "source": [
    "(df[\"구매일\"].max() - df['구매일']).dt.days"
   ]
  },
  {
   "cell_type": "markdown",
   "id": "cb315583-b642-43ba-a5c5-55ba12e4ea1e",
   "metadata": {},
   "source": [
    "## RFM 분석\n",
    "\n",
    "RFM 분석을 통해 고객을 최근성(Recency), 빈도(Frequency), 금액(Monetary) 기준으로 세분화합니다. RFM 분석은 고객의 가치를 평가하고 마케팅 전략을 수립하는 데 유용한 도구입니다."
   ]
  },
  {
   "cell_type": "code",
   "execution_count": null,
   "id": "21b35d07-b2d1-4367-8a8b-875a44c89fec",
   "metadata": {},
   "outputs": [],
   "source": [
    "def rfm_analysis(df):\n",
    "    # 최근성(Recency): 가장 최근 구매일\n",
    "    df['구매일'] = pd.to_datetime(df['구매주차일자'].str.split('~').str[0].str.strip())\n",
    "    recency = df.groupby('구매자연령')['구매일'].max()\n",
    "    \n",
    "    # 빈도(Frequency): 구매 빈도\n",
    "    frequency = df.groupby('구매자연령')['테이블순번'].count()\n",
    "    \n",
    "    # 금액(Monetary): 총 구매 금액\n",
    "    monetary = df.groupby('구매자연령')['구매금액'].sum()\n",
    "    \n",
    "    rfm = pd.concat([recency, frequency, monetary], axis=1)\n",
    "    rfm.columns = ['Recency', 'Frequency', 'Monetary']\n",
    "    return rfm\n",
    "\n",
    "rfm = rfm_analysis(df)\n",
    "rfm"
   ]
  },
  {
   "cell_type": "markdown",
   "id": "ea681234-256d-407c-90fd-c0d85e98d620",
   "metadata": {},
   "source": [
    "## 시각화 \n",
    "\n",
    "\n",
    "시각화는 복잡한 데이터 패턴을 직관적으로 이해하는 데 도움을 줍니다. 예를 들어, Treemap과 Sunburst Chart를 통해 제품 카테고리 간의 상대적 중요도를 쉽게 파악할 수 있으며, 시계열 차트를 통해 매출의 계절성이나 트렌드를 식별할 수 있습니다.\n",
    "\n",
    "### plotly\n",
    "* Treemap, Sunburst Chart: 제품 카테고리별 매출 비중을 시각적으로 표현하여 전체적인 매출 구조를 파악합니다.\n",
    "* 히스토그램: 연령대별, 제품 카테고리별, 구매 주차별 구매 금액 및 수량 분포를 확인하여 데이터의 분포를 시각적으로 파악합니다.\n",
    "* 산점도: 연령대별 구매 금액과 수량의 관계를 시각적으로 표현하여 연령대별 소비 패턴을 파악합니다.\n",
    "* 원형 차트: 제품 카테고리별 매출 비중을 원형 차트로 표현하여 전체적인 매출 구조를 파악합니다.\n",
    "* 선 그래프: 주차별 매출 추이를 시각적으로 표현하여 매출 변동을 파악합니다.\n"
   ]
  },
  {
   "cell_type": "code",
   "execution_count": null,
   "id": "eebd25b1-191e-4b1a-a287-473a1b5f907c",
   "metadata": {},
   "outputs": [],
   "source": [
    "# Treemap Chart 시각화\n",
    "px.treemap(\n",
    "    df,\n",
    "    path=['대분류', '중분류', '소분류'],  # 계층 구조를 나타내는 열\n",
    "    values='구매금액',  # 크기를 나타내는 열\n",
    "    width=900, height=600,\n",
    "    title='제품 카테고리별 구매 금액 Treemap Chart'\n",
    ")"
   ]
  },
  {
   "cell_type": "code",
   "execution_count": null,
   "id": "d498641c-1a9e-4abb-a169-ae6c0c102ce0",
   "metadata": {},
   "outputs": [],
   "source": [
    "# Sunburst Chart 시각화\n",
    "px.sunburst(\n",
    "    df,\n",
    "    path=['대분류', '중분류', '소분류'],  # 계층 구조를 나타내는 열\n",
    "    values='구매금액',  # 크기를 나타내는 열\n",
    "    width=900, height=900,\n",
    "    title='제품 카테고리별 구매 금액 Sunburst Chart'\n",
    ")"
   ]
  },
  {
   "cell_type": "code",
   "execution_count": null,
   "id": "44089925-13fb-4d17-9307-77f99d5b79e9",
   "metadata": {},
   "outputs": [],
   "source": [
    "# 연령대별 구매 금액 히스토그램\n",
    "px.histogram(df, x='구매금액', color='구매자연령', nbins=20, title='연령대별 구매 금액 분포')"
   ]
  },
  {
   "cell_type": "code",
   "execution_count": null,
   "id": "b0653100-a589-400d-b9d7-2f239dd24491",
   "metadata": {},
   "outputs": [],
   "source": [
    "# 대분류별 구매 금액 히스토그램\n",
    "px.histogram(df, x='구매금액', color='대분류', nbins=20, title='제품 대분류별 구매 금액 분포')"
   ]
  },
  {
   "cell_type": "code",
   "execution_count": null,
   "id": "e57ac521-335b-4059-ae00-a457592417de",
   "metadata": {},
   "outputs": [],
   "source": [
    "# 구매 주차별 구매 수량 히스토그램\n",
    "px.histogram(df, x='구매주차', y='구매수량', color='구매주차', title='구매 주차별 구매 수량', histfunc='sum')"
   ]
  },
  {
   "cell_type": "code",
   "execution_count": null,
   "id": "c6a65e7b-bd76-4d3f-a2b2-68f2ae34e312",
   "metadata": {},
   "outputs": [],
   "source": [
    "# 연령대별 구매 금액 및 수량\n",
    "px.scatter( df, x='구매자연령', y='구매금액', size='구매수량', color='구매자연령', title='연령대별 구매 금액 및 수량')"
   ]
  },
  {
   "cell_type": "code",
   "execution_count": null,
   "id": "97aaf927-a562-4858-9a14-c4f098f34b4f",
   "metadata": {},
   "outputs": [],
   "source": [
    "# 제품 카테고리별 판매 성과\n",
    "px.pie(\n",
    "    df,\n",
    "    names='대분류',\n",
    "    values='구매금액',\n",
    "    width=900, height=900,\n",
    "    title='제품 카테고리별 판매 성과'\n",
    ")"
   ]
  },
  {
   "cell_type": "code",
   "execution_count": null,
   "id": "53794ea8-e521-42fb-aff0-adf8ea3d40b3",
   "metadata": {},
   "outputs": [],
   "source": [
    "# 주차별 매출 추이\n",
    "weekly_sales_pattern = df.groupby('구매주차')['구매금액'].sum().reset_index()\n",
    "px.line(\n",
    "    weekly_sales_pattern,\n",
    "    x='구매주차',\n",
    "    y='구매금액',\n",
    "    title='주차별 매출 추이'\n",
    ")"
   ]
  },
  {
   "cell_type": "code",
   "execution_count": null,
   "id": "c3b2df89-0ea1-458f-8c1f-0f33f6e28efa",
   "metadata": {},
   "outputs": [],
   "source": []
  },
  {
   "cell_type": "code",
   "execution_count": null,
   "id": "5088ce8b-216b-450f-94a3-d467970e0683",
   "metadata": {},
   "outputs": [],
   "source": []
  },
  {
   "cell_type": "code",
   "execution_count": null,
   "id": "4cd4a4ae-bda9-484f-aeb6-edb938a7ffb4",
   "metadata": {},
   "outputs": [],
   "source": []
  }
 ],
 "metadata": {
  "kernelspec": {
   "display_name": "Python 3 (ipykernel)",
   "language": "python",
   "name": "python3"
  },
  "language_info": {
   "codemirror_mode": {
    "name": "ipython",
    "version": 3
   },
   "file_extension": ".py",
   "mimetype": "text/x-python",
   "name": "python",
   "nbconvert_exporter": "python",
   "pygments_lexer": "ipython3",
   "version": "3.11.4"
  }
 },
 "nbformat": 4,
 "nbformat_minor": 5
}
