{
 "cells": [
  {
   "cell_type": "markdown",
   "id": "f523b2ba-9c9c-436e-bea0-fd870ca3942e",
   "metadata": {},
   "source": [
    "[실 구매 영수증 기반 온라인 쇼핑몰 연령별 매출 데이터 - KADX 농식품 빅데이터 거래소](https://kadx.co.kr/opmk/frn/pmumkproductDetail/PMU_9334c816-5826-4d0e-a8f4-0b9eb47f6f4d/5#!)\n",
    "\n",
    "## 실 구매 영수증 기반 온라인 쇼핑몰 연령별 매출 데이터 \n",
    "* 주력 상품 카테고리 파악: 어떤 상품 카테고리가 가장 높은 매출을 기록하는지 파악하여 마케팅 전략 수립에 활용할 수 있습니다.\n",
    "* 고객 세분화: RFM 분석을 통해 고객을 세분화하여 맞춤형 마케팅 전략을 수립할 수 있습니다.\n",
    "* 구매 패턴 분석: 주차별, 연령별, 제품 카테고리별 구매 패턴을 분석하여 프로모션 시행 시점이나 재고 관리 전략 수립에 활용할 수 있습니다.\n",
    "* 매출 변동 분석: 주차별, 계절별 매출 변동을 분석하여 매출 예측 모델을 개발하고, 사업 계획 수립에 활용할 수 있습니다."
   ]
  },
  {
   "cell_type": "code",
   "execution_count": null,
   "id": "eb05f444-cabd-4bdd-bb4c-eb624df0f8ca",
   "metadata": {},
   "outputs": [],
   "source": [
    "# !pip install -Uq koreanize-matplotlib"
   ]
  },
  {
   "cell_type": "code",
   "execution_count": null,
   "id": "ba268e8b-0cd7-40eb-a6b6-c576615815cd",
   "metadata": {},
   "outputs": [],
   "source": [
    "import pandas as pd\n",
    "import numpy as np\n",
    "import koreanize_matplotlib\n",
    "import matplotlib.pyplot as plt\n",
    "import plotly.express as px"
   ]
  },
  {
   "cell_type": "code",
   "execution_count": null,
   "id": "e94ed306-633f-41e5-9012-63fe2a0b94eb",
   "metadata": {},
   "outputs": [],
   "source": [
    "df = pd.read_excel(\"data/실 구매 영수증 기반 온라인 쇼핑몰 연령별 매출 데이터.xlsx\")\n",
    "df.shape"
   ]
  },
  {
   "cell_type": "code",
   "execution_count": null,
   "id": "198a8c9a-36df-4bb2-8490-fe830ab9a76d",
   "metadata": {},
   "outputs": [],
   "source": [
    "df.head()"
   ]
  },
  {
   "cell_type": "code",
   "execution_count": null,
   "id": "7a6a1bd5-f6ac-486b-bbec-def9fdaf9c41",
   "metadata": {},
   "outputs": [],
   "source": [
    "df.info()"
   ]
  },
  {
   "cell_type": "code",
   "execution_count": null,
   "id": "2880d48b-b957-4152-a596-81f5d8cadbea",
   "metadata": {},
   "outputs": [],
   "source": [
    "# 중복데이터 확인\n",
    "df[df.duplicated()]"
   ]
  },
  {
   "cell_type": "code",
   "execution_count": null,
   "id": "615bfa58-646c-471d-aeee-77fd667a766c",
   "metadata": {},
   "outputs": [],
   "source": [
    "# 결측치 확인\n",
    "df.isnull().sum()"
   ]
  },
  {
   "cell_type": "code",
   "execution_count": null,
   "id": "44349363-84eb-4889-88dd-6df8980fdcac",
   "metadata": {},
   "outputs": [],
   "source": [
    "# 수치형 변수의 기술 통계 확인\n",
    "df.describe()"
   ]
  },
  {
   "cell_type": "code",
   "execution_count": null,
   "id": "017ffcb4-9c43-45a0-b77e-419bc48248e5",
   "metadata": {},
   "outputs": [],
   "source": [
    "# 범주형 변수의 기술 통계 확인\n",
    "df.describe(include=\"object\")"
   ]
  },
  {
   "cell_type": "code",
   "execution_count": null,
   "id": "a1413aeb-eee9-43e0-b9ed-b041fe96808a",
   "metadata": {},
   "outputs": [],
   "source": [
    "# 전체 변수의 고유값(유일값)\n",
    "df.nunique()"
   ]
  },
  {
   "cell_type": "markdown",
   "id": "5986879b-d304-48a0-8e5b-e603a1028cf8",
   "metadata": {},
   "source": [
    "## 분류별 데이터 빈도 및 구매금액 합계"
   ]
  },
  {
   "cell_type": "code",
   "execution_count": null,
   "id": "ba5ec8a0-05d7-4439-a9a2-12ab4d65f614",
   "metadata": {},
   "outputs": [],
   "source": [
    "fig, axes = plt.subplots(nrows=1, ncols=2, figsize=(15, 3))\n",
    "df['대분류'].value_counts().sort_values(ascending=True).plot(kind='barh', ax=axes[0]);\n",
    "df.groupby('대분류')['구매금액'].sum().sort_values(ascending=True).plot(kind='barh', ax=axes[1]);"
   ]
  },
  {
   "cell_type": "code",
   "execution_count": null,
   "id": "50409057-1ea6-4d81-a1b0-16a02c50f3e2",
   "metadata": {},
   "outputs": [],
   "source": [
    "fig, axes = plt.subplots(nrows=2, ncols=1, figsize=(15, 15))\n",
    "df['중분류'].value_counts().plot(kind='bar', rot=60, ax=axes[0], title='중분류 데이터 빈도');\n",
    "df.groupby('중분류')['구매금액'].sum().sort_values(ascending=False).plot(kind='bar', title='중분류 구매금액 합계', rot=60, ax=axes[1]);"
   ]
  },
  {
   "cell_type": "code",
   "execution_count": null,
   "id": "98b00d05-09d5-4365-b557-47589946fa8e",
   "metadata": {},
   "outputs": [],
   "source": [
    "df['구매상품명'].value_counts().head(10)"
   ]
  },
  {
   "cell_type": "code",
   "execution_count": null,
   "id": "c50ac818-92ee-455d-9b93-52ae1052267e",
   "metadata": {},
   "outputs": [],
   "source": [
    "df.groupby('구매상품명')['구매금액'].sum().nlargest(10)"
   ]
  },
  {
   "cell_type": "markdown",
   "id": "153e8d66-f83e-4781-ae0c-54395fcedfbe",
   "metadata": {},
   "source": [
    "## 구매 분류별 수량 및 금액 분석"
   ]
  },
  {
   "cell_type": "code",
   "execution_count": null,
   "id": "e35ddde0-6469-4c6b-98c5-19068159613e",
   "metadata": {},
   "outputs": [],
   "source": [
    "# 구매 대분류별 판매 성과 분석\n",
    "channel_sales_summary = df.groupby('대분류')[['구매수량', '구매금액']].agg(['sum', 'mean', 'count']).reset_index()\n",
    "channel_sales_summary"
   ]
  },
  {
   "cell_type": "code",
   "execution_count": null,
   "id": "16c64484-1af5-47c4-814c-5e6c43b977b7",
   "metadata": {},
   "outputs": [],
   "source": [
    "# 대분류별 매출 비율\n",
    "total_sales = df['구매금액'].sum()\n",
    "channel_sales_summary[('매출 비율', 'percent')] = (channel_sales_summary[('구매금액', 'sum')] / total_sales) * 100\n",
    "channel_sales_summary"
   ]
  },
  {
   "cell_type": "code",
   "execution_count": null,
   "id": "50c86edc-acb8-4eec-957d-555a7887ae56",
   "metadata": {},
   "outputs": [],
   "source": [
    "# 대분류별 주요 구매 상품 분석\n",
    "top_products_by_channel = df.groupby('대분류')['구매상품명'].apply(lambda x: x.value_counts().index[0]).reset_index()\n",
    "top_products_by_channel.columns = ['대분류', '가장 많이 구매된 상품']\n",
    "top_products_by_channel"
   ]
  },
  {
   "cell_type": "code",
   "execution_count": null,
   "id": "3773e03e-9ce4-4f9b-a155-af24fe36063a",
   "metadata": {},
   "outputs": [],
   "source": [
    "# 주차별 구매 패턴 분석\n",
    "weekly_sales_pattern = df.groupby('구매주차')['구매금액'].sum().reset_index()\n",
    "weekly_sales_pattern"
   ]
  },
  {
   "cell_type": "code",
   "execution_count": null,
   "id": "3b67b910-fe97-4247-8d54-548992dd8954",
   "metadata": {},
   "outputs": [],
   "source": [
    "age_sales = df.groupby('구매자연령')['구매금액'].sum().sort_values(ascending=False)\n",
    "age_sales"
   ]
  },
  {
   "cell_type": "code",
   "execution_count": null,
   "id": "c18a03d3-316c-44e9-89e3-4b751f2cfc4e",
   "metadata": {},
   "outputs": [],
   "source": [
    "df['구매일'] = pd.to_datetime(df['구매주차일자'].str.split('~').str[0].str.strip())\n",
    "daily_sales = df.groupby('구매일')['구매금액'].sum().sort_index()\n",
    "daily_sales"
   ]
  },
  {
   "cell_type": "code",
   "execution_count": null,
   "id": "14f6c957-2210-4d76-addd-ed11cd952003",
   "metadata": {},
   "outputs": [],
   "source": [
    "(df[\"구매일\"].max() - df['구매일']).dt.days"
   ]
  },
  {
   "cell_type": "markdown",
   "id": "cb315583-b642-43ba-a5c5-55ba12e4ea1e",
   "metadata": {},
   "source": [
    "## RFM 분석\n",
    "\n",
    "RFM 분석을 통해 고객을 최근성(Recency), 빈도(Frequency), 금액(Monetary) 기준으로 세분화합니다. RFM 분석은 고객의 가치를 평가하고 마케팅 전략을 수립하는 데 유용한 도구입니다.\n",
    "\n",
    "\n",
    "* RFM 분석을 위해서는 고객ID 가 있어야 하지만, 여기에서는 고객 ID를 알 수 없습니다.\n",
    "* 고객 식별이 어려운 경우, 고객 집단이나 상품을 중심으로 분석하여 세그먼트를 정의합니다.\n",
    "* 분석 결과를 활용해 그룹별로 프로모션 전략, 채널 운영, 상품 추천 등을 개선할 수 있습니다."
   ]
  },
  {
   "cell_type": "code",
   "execution_count": null,
   "id": "21b35d07-b2d1-4367-8a8b-875a44c89fec",
   "metadata": {},
   "outputs": [],
   "source": [
    "# 최근성(Recency): 가장 최근 구매일\n",
    "df['구매일'] = pd.to_datetime(df['구매주차일자'].str.split('~').str[0].str.strip())\n",
    "recency = df.groupby('구매자연령')['구매일'].max()\n",
    "\n",
    "# 빈도(Frequency): 구매 빈도\n",
    "frequency = df.groupby('구매자연령')['테이블순번'].count()\n",
    "\n",
    "# 금액(Monetary): 총 구매 금액\n",
    "monetary = df.groupby('구매자연령')['구매금액'].sum()\n",
    "\n",
    "rfm = pd.concat([recency, frequency, monetary], axis=1)\n",
    "rfm.columns = ['Recency', 'Frequency', 'Monetary']\n",
    "rfm"
   ]
  },
  {
   "cell_type": "code",
   "execution_count": null,
   "id": "4a1de8e2-b581-4ac1-b332-a1da3fc3077b",
   "metadata": {},
   "outputs": [],
   "source": [
    "\n",
    "recency = df.groupby('중분류')['구매일'].max()\n",
    "\n",
    "# 빈도(Frequency): 구매 빈도\n",
    "frequency = df.groupby('중분류')['테이블순번'].count()\n",
    "\n",
    "# 금액(Monetary): 총 구매 금액\n",
    "monetary = df.groupby('중분류')['구매금액'].sum()\n",
    "\n",
    "rfm = pd.concat([recency, frequency, monetary], axis=1)\n",
    "rfm.columns = ['Recency', 'Frequency', 'Monetary']\n",
    "rfm"
   ]
  },
  {
   "cell_type": "markdown",
   "id": "ea681234-256d-407c-90fd-c0d85e98d620",
   "metadata": {},
   "source": [
    "## 시각화 \n",
    "\n",
    "\n",
    "시각화는 복잡한 데이터 패턴을 직관적으로 이해하는 데 도움을 줍니다. 예를 들어, Treemap과 Sunburst Chart를 통해 제품 카테고리 간의 상대적 중요도를 쉽게 파악할 수 있으며, 시계열 차트를 통해 매출의 계절성이나 트렌드를 식별할 수 있습니다.\n",
    "\n",
    "### plotly\n",
    "* 선 그래프: 주차별 매출 추이를 시각적으로 표현하여 매출 변동을 파악합니다.\n",
    "* 파이 차트: 제품 카테고리별 매출 비중을 파이 차트로 표현하여 전체적인 매출 구조를 파악합니다.\n",
    "* Treemap, Sunburst Chart: 제품 카테고리별 매출 비중을 시각적으로 표현하여 전체적인 매출 구조를 파악합니다.\n",
    "* 히스토그램: 연령대별, 제품 카테고리별, 구매 주차별 구매 금액 및 수량 분포를 확인하여 데이터의 분포를 시각적으로 파악합니다."
   ]
  },
  {
   "cell_type": "code",
   "execution_count": null,
   "id": "23c275f5-4a6d-4b3f-9ff5-82f69598036a",
   "metadata": {},
   "outputs": [],
   "source": [
    "# 주차별 매출 추이\n",
    "weekly_sales_pattern = df.groupby('구매주차')['구매금액'].sum().reset_index()\n",
    "px.line(\n",
    "    weekly_sales_pattern,\n",
    "    x='구매주차',\n",
    "    y='구매금액',\n",
    "    title='주차별 합계 매출 추이'\n",
    ")"
   ]
  },
  {
   "cell_type": "code",
   "execution_count": null,
   "id": "630909ac-8375-4f92-8a8e-1a32b952a1f8",
   "metadata": {},
   "outputs": [],
   "source": [
    "# 주차별 매출 추이\n",
    "weekly_sales_pattern = df.groupby('구매주차')['구매금액'].mean().reset_index()\n",
    "px.line(\n",
    "    weekly_sales_pattern,\n",
    "    x='구매주차',\n",
    "    y='구매금액',\n",
    "    title='주차별 평균 매출 추이'\n",
    ")"
   ]
  },
  {
   "cell_type": "code",
   "execution_count": null,
   "id": "6034ee8b-6be8-468e-89ee-3ef0aae4aea8",
   "metadata": {},
   "outputs": [],
   "source": [
    "# 제품 카테고리별 판매 성과\n",
    "px.pie(\n",
    "    df,\n",
    "    names='대분류',\n",
    "    values='구매금액',\n",
    "    width=400, height=400,\n",
    "    title='제품 카테고리별 판매 성과'\n",
    ")"
   ]
  },
  {
   "cell_type": "code",
   "execution_count": null,
   "id": "eebd25b1-191e-4b1a-a287-473a1b5f907c",
   "metadata": {},
   "outputs": [],
   "source": [
    "# Treemap Chart 시각화\n",
    "px.treemap(\n",
    "    df,\n",
    "    path=['대분류', '중분류', '소분류'],  # 계층 구조를 나타내는 열\n",
    "    values='구매금액',  # 크기를 나타내는 열\n",
    "    width=900, height=600,\n",
    "    title='제품 카테고리별 구매 금액 Treemap Chart'\n",
    ")"
   ]
  },
  {
   "cell_type": "code",
   "execution_count": null,
   "id": "d498641c-1a9e-4abb-a169-ae6c0c102ce0",
   "metadata": {},
   "outputs": [],
   "source": [
    "# Sunburst Chart 시각화\n",
    "px.sunburst(\n",
    "    df,\n",
    "    path=['대분류', '중분류', '소분류'],  # 계층 구조를 나타내는 열\n",
    "    values='구매금액',  # 크기를 나타내는 열\n",
    "    width=900, height=900,\n",
    "    title='제품 카테고리별 구매 금액 Sunburst Chart'\n",
    ")"
   ]
  },
  {
   "cell_type": "code",
   "execution_count": null,
   "id": "7a1d3903-5a36-45da-b4f5-e5fd5482d750",
   "metadata": {},
   "outputs": [],
   "source": [
    "df.groupby('구매자연령')['구매금액'].describe().style.background_gradient().format('{:,.0f}')"
   ]
  },
  {
   "cell_type": "code",
   "execution_count": null,
   "id": "44089925-13fb-4d17-9307-77f99d5b79e9",
   "metadata": {},
   "outputs": [],
   "source": [
    "# 연령대별 구매 금액 히스토그램\n",
    "px.histogram(df, x='구매금액', color='구매자연령', nbins=100, marginal=\"violin\",\n",
    "             title='연령대별 구매 금액 분포')"
   ]
  },
  {
   "cell_type": "code",
   "execution_count": null,
   "id": "dee7a0af-c180-45cc-be7e-5d6e803ea0a1",
   "metadata": {},
   "outputs": [],
   "source": [
    "df.groupby('대분류')['구매금액'].describe().style.background_gradient().format('{:,.0f}')"
   ]
  },
  {
   "cell_type": "code",
   "execution_count": null,
   "id": "b0653100-a589-400d-b9d7-2f239dd24491",
   "metadata": {},
   "outputs": [],
   "source": [
    "# 대분류별 구매 금액 히스토그램\n",
    "px.histogram(df, x='구매금액', color='대분류', nbins=100, marginal=\"violin\",\n",
    "             title='제품 대분류별 구매 금액 분포')"
   ]
  },
  {
   "cell_type": "code",
   "execution_count": null,
   "id": "e57ac521-335b-4059-ae00-a457592417de",
   "metadata": {},
   "outputs": [],
   "source": [
    "# 구매 주차별 구매 수량 히스토그램\n",
    "px.histogram(df, x='구매주차', y='구매수량', color='구매주차', title='구매 주차별 구매 수량', histfunc='sum')"
   ]
  },
  {
   "cell_type": "code",
   "execution_count": null,
   "id": "a38e9f48-df34-4606-9263-734f13cdc60d",
   "metadata": {},
   "outputs": [],
   "source": [
    "df.groupby('구매자연령')['구매금액'].describe().style.background_gradient().format('{:,.0f}')"
   ]
  },
  {
   "cell_type": "markdown",
   "id": "165b638b-23ab-4fff-81c0-0aec12c4c51e",
   "metadata": {},
   "source": [
    "## 군집화"
   ]
  },
  {
   "cell_type": "code",
   "execution_count": null,
   "id": "53794ea8-e521-42fb-aff0-adf8ea3d40b3",
   "metadata": {},
   "outputs": [],
   "source": [
    "from sklearn.preprocessing import LabelEncoder, StandardScaler\n",
    "from sklearn.cluster import KMeans\n",
    "\n",
    "# 데이터 전처리\n",
    "# 필요한 컬럼만 선택\n",
    "columns_to_use = ['구매주차', '구매자연령', '대분류', '중분류', '구매수량', '구매금액']\n",
    "df_selected = df[columns_to_use].copy()\n",
    "\n",
    "# 범주형 데이터를 Label Encoding\n",
    "label_encoders = {}\n",
    "for col in ['구매주차', '구매자연령', '대분류', '중분류']:\n",
    "    le = LabelEncoder()\n",
    "    df_selected[col] = le.fit_transform(df_selected[col])\n",
    "    label_encoders[col] = le\n",
    "\n",
    "# 데이터 스케일링\n",
    "scaler = StandardScaler()\n",
    "df_scaled = scaler.fit_transform(df_selected)\n",
    "\n",
    "# 최적의 클러스터 수 결정 (Elbow Method)\n",
    "inertia = []\n",
    "for k in range(1, 11):\n",
    "    kmeans = KMeans(n_clusters=k, random_state=42)\n",
    "    kmeans.fit(df_scaled)\n",
    "    inertia.append(kmeans.inertia_)\n",
    "\n",
    "# Elbow Method 시각화\n",
    "plt.figure(figsize=(8, 5))\n",
    "plt.plot(range(1, 11), inertia, marker='o')\n",
    "plt.xlabel('Number of Clusters')\n",
    "plt.ylabel('Inertia')\n",
    "plt.title('Elbow Method')\n",
    "plt.show()"
   ]
  },
  {
   "cell_type": "code",
   "execution_count": null,
   "id": "c3b2df89-0ea1-458f-8c1f-0f33f6e28efa",
   "metadata": {},
   "outputs": [],
   "source": [
    "# K-Means Clustering\n",
    "optimal_clusters = 3  # Elbow Method로 최적 클러스터 수를 선택\n",
    "kmeans = KMeans(n_clusters=optimal_clusters, random_state=42)\n",
    "df_selected['Cluster'] = kmeans.fit_predict(df_scaled)\n",
    "\n",
    "# 결과 확인\n",
    "print(df_selected.head())\n",
    "\n",
    "# 클러스터별 데이터 분석\n",
    "cluster_summary = df_selected.groupby('Cluster').mean()\n",
    "print(cluster_summary)"
   ]
  },
  {
   "cell_type": "code",
   "execution_count": null,
   "id": "78291b05-f9a1-4d26-a4a6-fbdabcd2a3a1",
   "metadata": {},
   "outputs": [],
   "source": [
    "df['cluster'] = kmeans.fit_predict(df_scaled)\n",
    "df"
   ]
  },
  {
   "cell_type": "code",
   "execution_count": null,
   "id": "5088ce8b-216b-450f-94a3-d467970e0683",
   "metadata": {},
   "outputs": [],
   "source": [
    "# 군집별 수량 확인\n",
    "cluster_counts = df['cluster'].value_counts().reset_index()\n",
    "cluster_counts.columns = ['Cluster', 'Count']\n",
    "print(\"Cluster Counts:\")\n",
    "print(cluster_counts)"
   ]
  },
  {
   "cell_type": "code",
   "execution_count": null,
   "id": "85dccd5a-00e2-4ead-a19f-c8d519cb7fd9",
   "metadata": {},
   "outputs": [],
   "source": [
    "pd.crosstab(df['대분류'], df['cluster'])"
   ]
  },
  {
   "cell_type": "code",
   "execution_count": null,
   "id": "4cd4a4ae-bda9-484f-aeb6-edb938a7ffb4",
   "metadata": {},
   "outputs": [],
   "source": [
    "# 군집별 주요 통계 분석\n",
    "# 구매금액, 구매수량, 구매자연령 등 주요 변수에 대해 평균/최대값 계산\n",
    "cluster_summary = df.groupby('cluster').agg({\n",
    "    '구매수량': ['mean', 'sum'],\n",
    "    '구매금액': ['mean', 'sum', 'max'],\n",
    "    '구매자연령': lambda x: x.mode()[0],  # 최빈값\n",
    "    '대분류': lambda x: x.mode()[0],     # 최빈값\n",
    "    '중분류': lambda x: x.mode()[0]      # 최빈값\n",
    "}).reset_index()\n",
    "\n",
    "# 컬럼 이름 정리\n",
    "cluster_summary.columns = ['Cluster', \n",
    "                           'Avg Quantity', 'Total Quantity', \n",
    "                           'Avg Amount', 'Total Amount', 'Max Amount', \n",
    "                           'Most Common Age', 'Most Common Category', 'Most Common Subcategory']\n",
    "print(\"\\nCluster Summary:\")\n",
    "cluster_summary"
   ]
  },
  {
   "cell_type": "code",
   "execution_count": null,
   "id": "85996bf8-952a-43e5-b24b-56d634fb2861",
   "metadata": {},
   "outputs": [],
   "source": []
  }
 ],
 "metadata": {
  "kernelspec": {
   "display_name": "Python 3 (ipykernel)",
   "language": "python",
   "name": "python3"
  },
  "language_info": {
   "codemirror_mode": {
    "name": "ipython",
    "version": 3
   },
   "file_extension": ".py",
   "mimetype": "text/x-python",
   "name": "python",
   "nbconvert_exporter": "python",
   "pygments_lexer": "ipython3",
   "version": "3.11.4"
  }
 },
 "nbformat": 4,
 "nbformat_minor": 5
}
