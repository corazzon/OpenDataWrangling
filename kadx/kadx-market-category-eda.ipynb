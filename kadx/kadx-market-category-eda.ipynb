{
 "cells": [
  {
   "cell_type": "markdown",
   "id": "06341c91-76a7-40e6-b60d-da93c1227b72",
   "metadata": {},
   "source": [
    "### 자영업자를 위한 소비 분석 카테고리 데이터 분석\n",
    "\n",
    "1. **대분류별 제품 다양성 분석**:\n",
    "   - 특정 대분류에서 다양한 제품이 존재하는지 확인할 수 있습니다. 예를 들어, 특정 카테고리에서 다양한 상품을 취급할수록 더 많은 판매 기회가 생길 수 있습니다.\n",
    "   - 제품 다양성이 적은 카테고리에 대해서는 신제품을 추가하거나, 해당 카테고리에 집중된 마케팅을 고려해볼 수 있습니다.\n",
    "\n",
    "2. **대분류 및 중분류별 총 판매량 분석**:\n",
    "   - 판매량이 많은 대분류와 중분류를 파악함으로써 어떤 제품군이 주력 상품인지 알 수 있습니다.\n",
    "   - 판매량이 낮은 카테고리는 개선이 필요하며, 추가적인 프로모션이나 패키지 상품으로 고객 유치를 고려할 수 있습니다.\n",
    "\n",
    "3. **대분류-중분류 간 판매량 관계 분석**:\n",
    "   - 특정 대분류와 중분류 조합에서 판매량이 높은지 확인할 수 있습니다. 이를 통해 자영업자는 인기 있는 조합의 상품군을 중점적으로 프로모션할 수 있습니다.\n",
    "\n",
    "4. **판매량 상위 제품 분석**:\n",
    "   - 가장 많이 팔린 상위 제품을 파악함으로써 어떤 상품이 고객의 선호도가 높은지 알 수 있습니다. 이 상품들에 대해 추가적인 재고를 확보하거나, 관련 상품을 패키지로 묶어 판매를 촉진할 수 있습니다.\n",
    "\n",
    "5. **농산물과 가공상품 간 판매량 비교**:\n",
    "   - 농산물과 가공상품 간의 판매량 차이를 비교하여, 주력으로 삼아야 할 제품군을 결정할 수 있습니다. 예를 들어, 농산물이 더 많이 팔린다면 신선한 농산물을 주력 상품으로 삼고, 이를 홍보할 수 있습니다.\n",
    "\n",
    "이러한 분석을 통해 자영업자는 판매 성과를 최적화할 수 있는 구체적인 전략을 도출할 수 있으며, 이는 매출 증대와 고객 만족도 향상에 기여할 수 있습니다."
   ]
  },
  {
   "cell_type": "markdown",
   "id": "b017cdf0-83c3-45c2-b4b3-d1302663e244",
   "metadata": {},
   "source": [
    "## 소비 분석 카테고리 데이터\n",
    "* https://kadx.co.kr/opmk/frn/pmumkproductDetail/PMU_5fe8f2b8-47aa-43a6-8daf-ab9c2e9b84c2/5#!\n",
    "* [장보자닷컴](http://jangboja.com/)"
   ]
  },
  {
   "cell_type": "code",
   "execution_count": null,
   "id": "73970f15-e450-42f3-a233-052a545cb12e",
   "metadata": {},
   "outputs": [],
   "source": [
    "# !pip install -Uq koreanize-matplotlib"
   ]
  },
  {
   "cell_type": "code",
   "execution_count": null,
   "id": "552d21f6-4471-4395-95fa-8dc913e57bd2",
   "metadata": {},
   "outputs": [],
   "source": [
    "import pandas as pd\n",
    "import koreanize_matplotlib\n",
    "import matplotlib.pyplot as plt\n",
    "import seaborn as sns\n",
    "import numpy as np\n",
    "from glob import glob"
   ]
  },
  {
   "cell_type": "code",
   "execution_count": null,
   "id": "36185772-7af8-4a42-8789-95882b8af9d0",
   "metadata": {},
   "outputs": [],
   "source": [
    "# 데이터 컬럼 정보를 불러옵니다.\n",
    "df_col = pd.read_csv(\"data/kadx-market-consumer-category_detail.csv\")\n",
    "df_col.shape"
   ]
  },
  {
   "cell_type": "code",
   "execution_count": null,
   "id": "dafbfcb1-2a6f-48b6-96d5-a4839955e627",
   "metadata": {},
   "outputs": [],
   "source": [
    "df_col"
   ]
  },
  {
   "cell_type": "code",
   "execution_count": null,
   "id": "e5a7d9dc-bbc7-4990-9433-6cc56338f8fa",
   "metadata": {},
   "outputs": [],
   "source": [
    "file_list = glob(\"data/market-category/*.csv\")\n",
    "file_list = sorted(file_list)\n",
    "file_list"
   ]
  },
  {
   "cell_type": "code",
   "execution_count": null,
   "id": "effc5f5e-84b8-40e3-b007-5df5a4faaccd",
   "metadata": {},
   "outputs": [],
   "source": [
    "df_list = []\n",
    "for file_path in file_list:\n",
    "    df_temp = pd.read_csv(file_path, encoding='cp949', low_memory=False)\n",
    "    df_list.append(df_temp)"
   ]
  },
  {
   "cell_type": "code",
   "execution_count": null,
   "id": "4d8684c5-5d55-44fd-b032-61bb7ed43300",
   "metadata": {},
   "outputs": [],
   "source": [
    "raw = pd.concat(df_list)\n",
    "raw.shape"
   ]
  },
  {
   "cell_type": "code",
   "execution_count": null,
   "id": "48b984d5-3b36-401c-9a01-63f025c69c7d",
   "metadata": {},
   "outputs": [],
   "source": [
    "# 영문 컬럼명을 한글로 변환하기 위한 매핑 딕셔너리를 생성합니다.\n",
    "col_dict = df_col[[\"nameEn\",\"nameKo\"]].set_index(\"nameEn\")['nameKo'].to_dict()\n",
    "col_dict"
   ]
  },
  {
   "cell_type": "code",
   "execution_count": null,
   "id": "b7077db1-d72a-4eb1-a575-b4b47e0c71fc",
   "metadata": {},
   "outputs": [],
   "source": [
    "# 원본 데이터의 컬럼명을 한글로 변환합니다.\n",
    "df = raw.rename(columns=col_dict)"
   ]
  },
  {
   "cell_type": "code",
   "execution_count": null,
   "id": "f4c049ab-6a5f-4437-a390-8152419d6fba",
   "metadata": {},
   "outputs": [],
   "source": [
    "# 변환된 데이터의 첫 몇 줄을 확인합니다.\n",
    "df.head()"
   ]
  },
  {
   "cell_type": "code",
   "execution_count": null,
   "id": "01bbd81e-a638-4c95-a91f-80013b047d1a",
   "metadata": {},
   "outputs": [],
   "source": [
    "df.columns"
   ]
  },
  {
   "cell_type": "markdown",
   "id": "318b9d38-8307-4dba-9731-bbc8d5eb1689",
   "metadata": {},
   "source": [
    "## 기초 기술통계"
   ]
  },
  {
   "cell_type": "code",
   "execution_count": null,
   "id": "945b5d3d-6434-4676-9be0-6d41391094bf",
   "metadata": {},
   "outputs": [],
   "source": [
    "df.info()"
   ]
  },
  {
   "cell_type": "code",
   "execution_count": null,
   "id": "ef1a3e9c-93a0-404c-9337-39efe23d6797",
   "metadata": {},
   "outputs": [],
   "source": [
    "df.describe().round(2)"
   ]
  },
  {
   "cell_type": "code",
   "execution_count": null,
   "id": "ce88ea59-b95f-4b67-9277-8a3f5c970737",
   "metadata": {},
   "outputs": [],
   "source": [
    "df.hist(bins=50, figsize=(10, 8));"
   ]
  },
  {
   "cell_type": "code",
   "execution_count": null,
   "id": "77eebb3f-e060-4f67-8e19-f3c308870352",
   "metadata": {},
   "outputs": [],
   "source": [
    "df.describe(exclude=\"number\")"
   ]
  },
  {
   "cell_type": "markdown",
   "id": "e41d18fc-1f7c-4188-9569-ce7630231ada",
   "metadata": {},
   "source": [
    "### 식자재품목 대중소분류 분석"
   ]
  },
  {
   "cell_type": "code",
   "execution_count": null,
   "id": "b5261a7a-9ac0-4e5c-ad0d-8b056db71d71",
   "metadata": {},
   "outputs": [],
   "source": [
    "# 대분류별 제품 다양성 분석\n",
    "product_diversity = df.groupby('식자재품목대분류명')['식자재품목명'].nunique().sort_values(ascending=False)\n",
    "product_diversity.plot(kind='bar', rot=0, figsize=(10, 2))\n",
    "plt.title('대분류별 제품 다양성')\n",
    "plt.show()"
   ]
  },
  {
   "cell_type": "code",
   "execution_count": null,
   "id": "50fd66c8-fd64-4afb-a393-4c6f24d16333",
   "metadata": {},
   "outputs": [],
   "source": [
    "# 대분류별 판매량 분석\n",
    "subcategory_sales = df.groupby('식자재품목대분류명')['총판매수량'].sum().sort_values(ascending=False).head(10)\n",
    "subcategory_sales.plot(kind='bar', rot=0, figsize=(10, 2))\n",
    "plt.title('대분류별 총 판매수량');"
   ]
  },
  {
   "cell_type": "code",
   "execution_count": null,
   "id": "23a74e3c-e341-4862-8eaa-cb2843eadd3c",
   "metadata": {},
   "outputs": [],
   "source": [
    "# 중분류별 상위 판매량 분석\n",
    "subcategory_sales = df.groupby('식자재품목중분류명')['총판매수량'].sum().sort_values(ascending=False).head(10)\n",
    "plt.figure(figsize=(10, 2))\n",
    "subcategory_sales.plot(kind='bar', rot=0)\n",
    "plt.title('중분류별 총 판매수량');"
   ]
  },
  {
   "cell_type": "code",
   "execution_count": null,
   "id": "e6d4373e-bbb2-4915-b1d3-63fc6f1b348d",
   "metadata": {},
   "outputs": [],
   "source": [
    "# 중분류별 상위 판매량 분석\n",
    "subcategory_sales = df.groupby('식자재품목소분류명')['총판매수량'].sum().sort_values(ascending=True).tail(20)\n",
    "plt.figure(figsize=(8, 6))\n",
    "subcategory_sales.plot(kind='barh', rot=0)\n",
    "plt.title('소분류별 총 판매수량');"
   ]
  },
  {
   "cell_type": "markdown",
   "id": "1d78c33d-d33f-4634-b686-c2795eedd4ab",
   "metadata": {},
   "source": [
    "### 식자재 품목명 상위 판매 수량"
   ]
  },
  {
   "cell_type": "code",
   "execution_count": null,
   "id": "a90331ea-5e4f-417d-9200-f865729617c8",
   "metadata": {},
   "outputs": [],
   "source": [
    "# 판매량 상위 제품 분석\n",
    "top_products = df.groupby(['식자재품목명'])['총판매수량'].sum().nlargest(30).dropna()\n",
    "top_products"
   ]
  },
  {
   "cell_type": "markdown",
   "id": "478d11bd-319b-44f0-a058-bc12688c1a0d",
   "metadata": {},
   "source": [
    "### 대중소 분류 시각화"
   ]
  },
  {
   "cell_type": "code",
   "execution_count": null,
   "id": "168a0b1e-f942-4166-9e1c-71378f48a143",
   "metadata": {},
   "outputs": [],
   "source": [
    "# 대분류-중분류 빈도 분석\n",
    "category_subcategory = df.groupby(\n",
    "    ['식자재품목대분류명', '식자재품목중분류명', '식자재품목소분류명'])['총판매수량'].sum().reset_index()\n",
    "category_subcategory"
   ]
  },
  {
   "cell_type": "code",
   "execution_count": null,
   "id": "0446f223-893a-4e5b-9562-11736926554d",
   "metadata": {},
   "outputs": [],
   "source": [
    "import plotly.express as px\n",
    "\n",
    "# Data preparation\n",
    "df_reset = category_subcategory.reset_index()  # Reset index to prepare for Plotly\n",
    "\n",
    "# Sunburst plot\n",
    "fig_sunburst = px.sunburst(\n",
    "    df_reset,\n",
    "    path=['식자재품목대분류명', '식자재품목중분류명', '식자재품목소분류명'],\n",
    "    values='총판매수량',\n",
    "    title=\"Sunburst Plot of Sales by Category Hierarchy\"\n",
    ")\n",
    "fig_sunburst.update_layout(margin=dict(t=40, l=0, r=0, b=0))\n",
    "fig_sunburst.show()\n",
    "\n",
    "# Treemap plot\n",
    "fig_treemap = px.treemap(\n",
    "    df_reset,\n",
    "    path=['식자재품목대분류명', '식자재품목중분류명', '식자재품목소분류명'],\n",
    "    values='총판매수량',\n",
    "    title=\"Treemap of Sales by Category Hierarchy\"\n",
    ")\n",
    "fig_treemap.update_layout(margin=dict(t=40, l=0, r=0, b=0))\n",
    "fig_treemap.show()\n"
   ]
  },
  {
   "cell_type": "markdown",
   "id": "6666684d-fa35-49d4-9f34-4050f19242af",
   "metadata": {},
   "source": [
    "## 확정일자"
   ]
  },
  {
   "cell_type": "code",
   "execution_count": null,
   "id": "5910b952-dff5-4834-af65-732c16774a7f",
   "metadata": {},
   "outputs": [],
   "source": [
    "df['확정일자']"
   ]
  },
  {
   "cell_type": "code",
   "execution_count": null,
   "id": "9e36752d-1b23-4e63-b539-d3e5a1875690",
   "metadata": {},
   "outputs": [],
   "source": [
    "df['확정일자'] = pd.to_datetime(df['확정일자'], format='%Y%m%d')\n",
    "df['확정일자'].describe()"
   ]
  },
  {
   "cell_type": "code",
   "execution_count": null,
   "id": "88b0de72-a2a0-4e33-93fb-b0a88631c90b",
   "metadata": {},
   "outputs": [],
   "source": [
    "df['월'] = df['확정일자'].dt.month\n",
    "df['요일'] = df['확정일자'].dt.dayofweek"
   ]
  },
  {
   "cell_type": "code",
   "execution_count": null,
   "id": "6057bb15-1562-499b-be43-1a474cbd1855",
   "metadata": {},
   "outputs": [],
   "source": [
    "# 일별 판매량 합계 계산\n",
    "daily_sales = df.groupby('확정일자')['총판매수량'].sum()\n",
    "daily_sales.plot(figsize=(10, 2));"
   ]
  },
  {
   "cell_type": "markdown",
   "id": "eef9de2f-a7ca-4178-8d83-2c0d296fba14",
   "metadata": {},
   "source": [
    "### 확정일자별 주문"
   ]
  },
  {
   "cell_type": "code",
   "execution_count": null,
   "id": "0b974871-0e4f-449c-9aae-510cac01bbfd",
   "metadata": {},
   "outputs": [],
   "source": [
    "mdow = pd.crosstab(df['월'], df['요일'])\n",
    "mdow.columns = list('월화수목금토일')\n",
    "mdow.style.background_gradient(axis=None).format('{:,}')"
   ]
  },
  {
   "cell_type": "code",
   "execution_count": null,
   "id": "149fcb8c-ba44-4f06-b379-535308984933",
   "metadata": {},
   "outputs": [],
   "source": [
    "mdow = pd.crosstab(df['월'], df['요일'], aggfunc='sum', values=df['총판매수량'])\n",
    "mdow.columns = list('월화수목금토일')\n",
    "mdow.style.background_gradient(axis=None).format('{:,}')"
   ]
  },
  {
   "cell_type": "code",
   "execution_count": null,
   "id": "7e75b338-d4c6-419e-b40c-554136c0476b",
   "metadata": {},
   "outputs": [],
   "source": [
    "mdow = pd.crosstab(df['식자재품목대분류명'], df['요일'])\n",
    "mdow.columns = list('월화수목금토일')\n",
    "mdow.style.background_gradient(axis=None, cmap='Greens').format('{:,}')"
   ]
  },
  {
   "cell_type": "code",
   "execution_count": null,
   "id": "0f853c1d-043b-473b-a9ee-f2aa2e7e7d3f",
   "metadata": {},
   "outputs": [],
   "source": [
    "mdow = pd.crosstab(df['식자재품목대분류명'], df['요일'], aggfunc='sum', values=df['총판매수량'])\n",
    "mdow.columns = list('월화수목금토일')\n",
    "mdow.style.background_gradient(axis=None, cmap='Greens').format('{:,}')"
   ]
  },
  {
   "cell_type": "code",
   "execution_count": null,
   "id": "6433770c-7fea-48b5-94c4-e183acacbe16",
   "metadata": {},
   "outputs": [],
   "source": [
    "mdow.T.plot(subplots=True);"
   ]
  },
  {
   "cell_type": "code",
   "execution_count": null,
   "id": "a357adcd-3ec1-4256-b61c-017bbc434995",
   "metadata": {},
   "outputs": [],
   "source": [
    "mdow = pd.crosstab(df['식자재품목중분류명'], df['요일'])\n",
    "mdow.columns = list('월화수목금토일')\n",
    "mdow = mdow.sort_values('토', ascending=False)\n",
    "mdow.style.background_gradient(axis=None, cmap='Greens').format('{:,}')"
   ]
  },
  {
   "cell_type": "code",
   "execution_count": null,
   "id": "acc19f73-d0c7-4212-b308-6eee22f7ac84",
   "metadata": {},
   "outputs": [],
   "source": [
    "mdow = pd.crosstab(df['식자재품목중분류명'], df['요일'], aggfunc='sum', values=df['총판매수량'])\n",
    "mdow.columns = list('월화수목금토일')\n",
    "mdow = mdow.sort_values('토', ascending=False)\n",
    "mdow.style.background_gradient(axis=None, cmap='Greens').format('{:,}')"
   ]
  },
  {
   "cell_type": "markdown",
   "id": "a1cd96a5-f359-47bc-9ed1-c5f284762123",
   "metadata": {},
   "source": [
    "## 특정 두 가지 상품 비교"
   ]
  },
  {
   "cell_type": "code",
   "execution_count": null,
   "id": "12e7b538-9bc8-4ad4-9000-4ad22173ac5c",
   "metadata": {},
   "outputs": [],
   "source": [
    "df.columns"
   ]
  },
  {
   "cell_type": "code",
   "execution_count": null,
   "id": "dcfd17e8-32e0-425e-9fe7-4ee06648e212",
   "metadata": {},
   "outputs": [],
   "source": [
    "df_sub = df[df['식자재품목소분류명'].isin(['삼겹살', '목심'])]\n",
    "df_sub.head(3)"
   ]
  },
  {
   "cell_type": "code",
   "execution_count": null,
   "id": "149d3888-e2fc-4745-b708-ddc7633ab024",
   "metadata": {},
   "outputs": [],
   "source": [
    "daily_sum = df_sub.groupby(['확정일자','식자재품목소분류명'])['총판매수량'].sum().unstack()\n",
    "daily_sum.plot(figsize=(10, 3))"
   ]
  },
  {
   "cell_type": "markdown",
   "id": "e817bd66-0006-4e82-88d2-3ee8478de19c",
   "metadata": {},
   "source": [
    "## 두 제품군 간 판매량 차이의 통계적 분석 및 시각화\n",
    "1. 기술 통계:\n",
    "   * 두 그룹의 중앙값(median)과 사분위수 범위(IQR)를 비교할 수 있습니다.\n",
    "   * 각 그룹의 평균 순위(mean rank)를 계산하여 데이터의 전반적인 분포 차이를 확인할 수 있습니다.\n",
    "\n",
    "2. Mann-Whitney U 검정 결과:\n",
    "   * Mann-Whitney U 통계량과 p-값을 계산할 수 있습니다.\n",
    "   * 사용자가 지정한 유의수준(기본값 0.05)과 비교하여 결과를 해석할 수 있습니다.\n",
    "\n",
    "3. 결과 해석:\n",
    "   * p-값이 유의수준보다 작으면 귀무가설을 기각하고, 두 그룹의 분포가 통계적으로 유의미하게 다르다고 결론 내릴 수 있습니다.\n",
    "   * p-값이 유의수준보다 크면 귀무가설을 기각할 수 없으며, 두 그룹의 분포에 통계적으로 유의미한 차이가 없다고 결론 내릴 수 있습니다.\n",
    "\n",
    "4. 시각화:\n",
    "   * 박스플롯을 통해 두 그룹의 데이터 분포를 시각적으로 비교할 수 있습니다.\n",
    "   * 이를 통해 각 그룹의 중앙값, 사분위수 범위, 이상치 등을 한눈에 파악할 수 있습니다.\n",
    "\n",
    "5. 효과 크기:\n",
    "   * Cliff's delta를 계산하여 두 그룹 간 차이의 실질적 크기를 평가할 수 있습니다.\n",
    "   * 일반적인 해석 기준(|d| < 0.147 \"무시할 만한\", |d| < 0.33 \"작은\", |d| < 0.474 \"중간\", 그 외 \"큰\" 효과)을 사용하여 효과의 크기를 판단할 수 있습니다.\n",
    "\n",
    "6. 추가 분석:\n",
    "   * 그룹별 판매량에 대한 기술 통계(중앙값, IQR, 데이터 수 등)를 계산하여 전체적인 분포를 파악할 수 있습니다.\n",
    "\n",
    "7. 전체 데이터 시각화:\n",
    "   * 모든 그룹에 대한 데이터 분포를 박스플롯으로 시각화하여 전체적인 비교가 가능합니다.\n",
    "\n",
    "이 코드는 두 그룹 간의 분포 차이를 분석하는 일반적인 프레임워크를 제공합니다. Mann-Whitney U 검정은 데이터가 정규 분포를 따르지 않거나 순서형 데이터일 때 특히 유용합니다. 데이터셋이 바뀌더라도 그룹을 나타내는 열과 비교하고자 하는 수치 데이터 열만 적절히 지정하면, 동일한 분석을 수행할 수 있습니다.\n",
    "\n",
    "이러한 분석을 통해 데이터의 전반적인 특성을 이해하고, 그룹 간 차이의 통계적 유의성과 실질적 크기를 평가할 수 있습니다. Mann-Whitney U 검정은 중앙 경향값의 차이를 검정하므로, 두 그룹의 전체적인 분포 차이를 파악하는 데 도움이 됩니다. 이는 데이터에 기반한 의사결정을 내리는 데 유용하며, 특히 데이터가 정규 분포를 따르지 않거나 이상치가 많은 경우에 더욱 적합할 수 있습니다."
   ]
  },
  {
   "cell_type": "code",
   "execution_count": null,
   "id": "73d729e1-8e95-444c-aab7-ad59b05cee3e",
   "metadata": {},
   "outputs": [],
   "source": [
    "sns.boxplot(x='식자재품목소분류명', y='총판매수량', data=df_sub)"
   ]
  },
  {
   "cell_type": "code",
   "execution_count": null,
   "id": "9c87ab6d-2ab7-4b4e-9e44-9d470017a762",
   "metadata": {},
   "outputs": [],
   "source": [
    "sns.histplot(data=df_sub, x='총판매수량', hue='식자재품목소분류명')"
   ]
  },
  {
   "cell_type": "code",
   "execution_count": null,
   "id": "b045867c-dd3c-4b0c-b8c1-d5b69f749fe4",
   "metadata": {},
   "outputs": [],
   "source": [
    "from scipy.stats import shapiro, levene, ttest_ind, mannwhitneyu\n",
    "import statsmodels.formula.api as smf\n",
    "from statsmodels.stats.anova import anova_lm\n",
    "\n",
    "# 그룹 분리\n",
    "pork_belly = df[df['식자재품목소분류명'] == '삼겹살']['총판매수량']\n",
    "pork_neck = df[df['식자재품목소분류명'] == '목심']['총판매수량']\n",
    "\n",
    "# 기술 통계량 계산\n",
    "belly_mean = pork_belly.mean()\n",
    "neck_mean = pork_neck.mean()\n",
    "belly_std = pork_belly.std()\n",
    "neck_std = pork_neck.std()\n",
    "\n",
    "print(f\"삼겹살 평균 판매량: {belly_mean:.2f}, 표준편차: {belly_std:.2f}\")\n",
    "print(f\"목심 평균 판매량: {neck_mean:.2f}, 표준편차: {neck_std:.2f}\")"
   ]
  },
  {
   "cell_type": "code",
   "execution_count": null,
   "id": "9034cc6e-0256-40e4-b3f9-5c96fb9ed447",
   "metadata": {},
   "outputs": [],
   "source": [
    "# 정규성 검정\n",
    "stat_belly, p_belly = shapiro(pork_belly)\n",
    "stat_neck, p_neck = shapiro(pork_neck)\n",
    "print(f\"삼겹살 판매량 정규성 검정 p-값: {p_belly:.4f}\")\n",
    "print(f\"목심 판매량 정규성 검정 p-값: {p_neck:.4f}\")\n",
    "\n",
    "# 등분산 검정\n",
    "stat_levene, p_levene = levene(pork_belly, pork_neck)\n",
    "print(f\"등분산 검정 p-값: {p_levene:.4f}\")"
   ]
  },
  {
   "cell_type": "code",
   "execution_count": null,
   "id": "eb111e1a-2baf-45af-a95a-6d2587c4f1bf",
   "metadata": {},
   "outputs": [],
   "source": [
    "# 정규성에 따라 적절한 검정 방법 선택\n",
    "if p_belly > 0.05 and p_neck > 0.05:\n",
    "    # t-검정 수행\n",
    "    equal_var = True if p_levene > 0.05 else False\n",
    "    stat_test, p_value = ttest_ind(pork_belly, pork_neck, equal_var=equal_var)\n",
    "    test_name = 't-검정'\n",
    "else:\n",
    "    # Mann-Whitney U 검정 수행\n",
    "    stat_test, p_value = mannwhitneyu(pork_belly, pork_neck)\n",
    "    test_name = 'Mann-Whitney U 검정'\n",
    "\n",
    "print(f\"\\n{test_name} 결과: p-값 = {p_value:.4f}\")\n",
    "\n",
    "# 결과 해석\n",
    "alpha = 0.05\n",
    "if p_value < alpha:\n",
    "    print(\"판매수량에 유의미한 차이가 있습니다.\")\n",
    "else:\n",
    "    print(\"판매수량에 유의미한 차이가 없습니다.\")\n",
    "\n",
    "# 회귀분석 준비\n",
    "pork_belly_df = pd.DataFrame({'판매수량': pork_belly, '품목': '삼겹살'})\n",
    "pork_neck_df = pd.DataFrame({'판매수량': pork_neck, '품목': '목심'})\n",
    "\n",
    "data = pd.concat([pork_belly_df, pork_neck_df], ignore_index=True)\n",
    "\n",
    "# 회귀분석 수행\n",
    "model = smf.ols('판매수량 ~ C(품목)', data=data).fit()\n",
    "print(model.summary())\n",
    "\n",
    "# 분산분석표 생성\n",
    "anova_results = anova_lm(model)\n",
    "print(anova_results)"
   ]
  },
  {
   "cell_type": "markdown",
   "id": "992116bb-3db2-4e82-9fef-3b7bd2a1627a",
   "metadata": {},
   "source": [
    "## 추가로 분석해 볼 수 있는 것\n",
    "* 전체 카테고리 비교: 전체적인 제품 카테고리 성과를 비교할 수 있습니다.\n",
    "데이터 불균형 확인: 각 대분류별 데이터 수(count)를 통해 특정 카테고리에 데이터가 편중되어 있는지 확인할 수 있습니다. 이는 분석 결과의 신뢰성을 평가하는 데 도움이 될 수 있습니다.\n",
    "* 변동성 비교: 각 대분류의 표준편차를 비교함으로써, 어떤 카테고리의 판매량이 더 안정적인지 또는 변동이 큰지 파악할 수 있습니다.\n",
    "* 이상치 식별: 박스플롯을 통해 각 대분류에서 이상치(outlier)를 시각적으로 확인할 수 있습니다. 이는 특별히 높거나 낮은 판매량을 기록한 제품을 식별하는 데 도움이 될 수 있습니다.\n",
    "* 전략적 포커스: 평균 판매량이 높은 대분류에 대해서는 현재의 성공 요인을 분석하고, 낮은 대분류에 대해서는 개선 전략을 수립할 수 있습니다.\n",
    "\n",
    "이러한 분석을 통해 더 넓은 시각에서 제품 카테고리 전반에 대한 이해를 높이고, 데이터에 기반한 전략적 의사결정을 내릴 수 있습니다. 각 대분류의 특성과 성과를 비교함으로써, 제품 라인업 조정, 재고 관리 최적화, 마케팅 전략 수립 등 다양한 비즈니스 영역에서 인사이트를 활용할 수 있습니다."
   ]
  },
  {
   "cell_type": "code",
   "execution_count": null,
   "id": "cd90fff3-ca8c-4017-989b-772c9b025061",
   "metadata": {},
   "outputs": [],
   "source": []
  }
 ],
 "metadata": {
  "kernelspec": {
   "display_name": "Python 3 (ipykernel)",
   "language": "python",
   "name": "python3"
  },
  "language_info": {
   "codemirror_mode": {
    "name": "ipython",
    "version": 3
   },
   "file_extension": ".py",
   "mimetype": "text/x-python",
   "name": "python",
   "nbconvert_exporter": "python",
   "pygments_lexer": "ipython3",
   "version": "3.11.4"
  }
 },
 "nbformat": 4,
 "nbformat_minor": 5
}
