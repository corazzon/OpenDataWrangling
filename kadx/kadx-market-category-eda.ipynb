{
 "cells": [
  {
   "cell_type": "markdown",
   "id": "06341c91-76a7-40e6-b60d-da93c1227b72",
   "metadata": {},
   "source": [
    "### 자영업자를 위한 소비 분석 카테고리 데이터 분석\n",
    "\n",
    "1. **대분류별 제품 다양성 분석**:\n",
    "   - 특정 대분류에서 다양한 제품이 존재하는지 확인할 수 있습니다. 예를 들어, 특정 카테고리에서 다양한 상품을 취급할수록 더 많은 판매 기회가 생길 수 있습니다.\n",
    "   - 제품 다양성이 적은 카테고리에 대해서는 신제품을 추가하거나, 해당 카테고리에 집중된 마케팅을 고려해볼 수 있습니다.\n",
    "\n",
    "2. **대분류 및 중분류별 총 판매량 분석**:\n",
    "   - 판매량이 많은 대분류와 중분류를 파악함으로써 어떤 제품군이 주력 상품인지 알 수 있습니다.\n",
    "   - 판매량이 낮은 카테고리는 개선이 필요하며, 추가적인 프로모션이나 패키지 상품으로 고객 유치를 고려할 수 있습니다.\n",
    "\n",
    "3. **대분류-중분류 간 판매량 관계 분석**:\n",
    "   - 특정 대분류와 중분류 조합에서 판매량이 높은지 확인할 수 있습니다. 이를 통해 자영업자는 인기 있는 조합의 상품군을 중점적으로 프로모션할 수 있습니다.\n",
    "\n",
    "4. **판매량 상위 제품 분석**:\n",
    "   - 가장 많이 팔린 상위 제품을 파악함으로써 어떤 상품이 고객의 선호도가 높은지 알 수 있습니다. 이 상품들에 대해 추가적인 재고를 확보하거나, 관련 상품을 패키지로 묶어 판매를 촉진할 수 있습니다.\n",
    "\n",
    "5. **농산물과 가공상품 간 판매량 비교**:\n",
    "   - 농산물과 가공상품 간의 판매량 차이를 비교하여, 주력으로 삼아야 할 제품군을 결정할 수 있습니다. 예를 들어, 농산물이 더 많이 팔린다면 신선한 농산물을 주력 상품으로 삼고, 이를 홍보할 수 있습니다.\n",
    "   - p-값이 유의미하다면, 두 상품군 간의 전략적인 차별화가 필요할 수 있습니다.\n",
    "\n",
    "6. **Cohen's d에 따른 효과 크기 평가**:\n",
    "   - Cohen's d를 통해 판매량 차이의 실질적 크기를 평가할 수 있습니다. 효과 크기가 크다면, 자영업자는 이 차이를 활용하여 상품군별로 차별화된 판매 전략을 수립할 수 있습니다.\n",
    "\n",
    "이러한 분석을 통해 자영업자는 판매 성과를 최적화할 수 있는 구체적인 전략을 도출할 수 있으며, 이는 매출 증대와 고객 만족도 향상에 기여할 수 있습니다."
   ]
  },
  {
   "cell_type": "markdown",
   "id": "b017cdf0-83c3-45c2-b4b3-d1302663e244",
   "metadata": {},
   "source": [
    "## 소비 분석 카테고리 데이터\n",
    "* https://kadx.co.kr/opmk/frn/pmumkproductDetail/PMU_5fe8f2b8-47aa-43a6-8daf-ab9c2e9b84c2/5#!"
   ]
  },
  {
   "cell_type": "code",
   "execution_count": null,
   "id": "73970f15-e450-42f3-a233-052a545cb12e",
   "metadata": {},
   "outputs": [],
   "source": [
    "# !pip install -Uq koreanize-matplotlib"
   ]
  },
  {
   "cell_type": "code",
   "execution_count": null,
   "id": "552d21f6-4471-4395-95fa-8dc913e57bd2",
   "metadata": {},
   "outputs": [],
   "source": [
    "import pandas as pd\n",
    "import koreanize_matplotlib\n",
    "import matplotlib.pyplot as plt\n",
    "import seaborn as sns\n",
    "import numpy as np"
   ]
  },
  {
   "cell_type": "code",
   "execution_count": null,
   "id": "36185772-7af8-4a42-8789-95882b8af9d0",
   "metadata": {},
   "outputs": [],
   "source": [
    "# 데이터 컬럼 정보를 불러옵니다.\n",
    "df_col = pd.read_csv(\"data/kadx-market-consumer-category_detail.csv\")\n",
    "df_col.shape"
   ]
  },
  {
   "cell_type": "code",
   "execution_count": null,
   "id": "dafbfcb1-2a6f-48b6-96d5-a4839955e627",
   "metadata": {},
   "outputs": [],
   "source": [
    "df_col"
   ]
  },
  {
   "cell_type": "code",
   "execution_count": null,
   "id": "effc5f5e-84b8-40e3-b007-5df5a4faaccd",
   "metadata": {},
   "outputs": [],
   "source": [
    "# 원본 데이터를 불러옵니다.\n",
    "raw = pd.read_csv(\"data/kadx-market-consumer-category.csv\")\n",
    "raw.shape"
   ]
  },
  {
   "cell_type": "code",
   "execution_count": null,
   "id": "48b984d5-3b36-401c-9a01-63f025c69c7d",
   "metadata": {},
   "outputs": [],
   "source": [
    "# 영문 컬럼명을 한글로 변환하기 위한 매핑 딕셔너리를 생성합니다.\n",
    "col_dict = df_col[[\"nameEn\",\"nameKo\"]].set_index(\"nameEn\")['nameKo'].to_dict()\n",
    "col_dict"
   ]
  },
  {
   "cell_type": "code",
   "execution_count": null,
   "id": "b7077db1-d72a-4eb1-a575-b4b47e0c71fc",
   "metadata": {},
   "outputs": [],
   "source": [
    "# 원본 데이터의 컬럼명을 한글로 변환합니다.\n",
    "df = raw.rename(columns=col_dict)"
   ]
  },
  {
   "cell_type": "code",
   "execution_count": null,
   "id": "f4c049ab-6a5f-4437-a390-8152419d6fba",
   "metadata": {},
   "outputs": [],
   "source": [
    "# 변환된 데이터의 첫 몇 줄을 확인합니다.\n",
    "df.head()"
   ]
  },
  {
   "cell_type": "code",
   "execution_count": null,
   "id": "01bbd81e-a638-4c95-a91f-80013b047d1a",
   "metadata": {},
   "outputs": [],
   "source": [
    "df.columns"
   ]
  },
  {
   "cell_type": "markdown",
   "id": "318b9d38-8307-4dba-9731-bbc8d5eb1689",
   "metadata": {},
   "source": [
    "## 기초 기술통계"
   ]
  },
  {
   "cell_type": "code",
   "execution_count": null,
   "id": "945b5d3d-6434-4676-9be0-6d41391094bf",
   "metadata": {},
   "outputs": [],
   "source": [
    "df.info()"
   ]
  },
  {
   "cell_type": "code",
   "execution_count": null,
   "id": "ef1a3e9c-93a0-404c-9337-39efe23d6797",
   "metadata": {},
   "outputs": [],
   "source": [
    "df.describe()"
   ]
  },
  {
   "cell_type": "code",
   "execution_count": null,
   "id": "77eebb3f-e060-4f67-8e19-f3c308870352",
   "metadata": {},
   "outputs": [],
   "source": [
    "df.describe(exclude=\"number\")"
   ]
  },
  {
   "cell_type": "markdown",
   "id": "e41d18fc-1f7c-4188-9569-ce7630231ada",
   "metadata": {},
   "source": [
    "### 유일값 분석"
   ]
  },
  {
   "cell_type": "code",
   "execution_count": null,
   "id": "1c90204c-8c70-4c17-83ca-d1b7707e7f03",
   "metadata": {},
   "outputs": [],
   "source": [
    "df.nunique()"
   ]
  },
  {
   "cell_type": "code",
   "execution_count": null,
   "id": "74bd716a-27ff-4144-8b0f-6faaac1e5b84",
   "metadata": {},
   "outputs": [],
   "source": [
    "nuniq = df.nunique() \n",
    "nuniq[nuniq > 1]"
   ]
  },
  {
   "cell_type": "markdown",
   "id": "aab88b69-e418-4394-8e8a-3a24344b2fa4",
   "metadata": {},
   "source": [
    "## 빈도 분석"
   ]
  },
  {
   "cell_type": "code",
   "execution_count": null,
   "id": "0a7286df-f113-4346-b453-d6a024a41e55",
   "metadata": {},
   "outputs": [],
   "source": [
    "sns.histplot(df['총판매수량'], kde=True);"
   ]
  },
  {
   "cell_type": "code",
   "execution_count": null,
   "id": "b5261a7a-9ac0-4e5c-ad0d-8b056db71d71",
   "metadata": {},
   "outputs": [],
   "source": [
    "# 대분류별 제품 다양성 분석\n",
    "product_diversity = df.groupby('식자재품목대분류명')['식자재품목명'].nunique().sort_values(ascending=True)\n",
    "plt.figure(figsize=(10, 2))\n",
    "product_diversity.plot(kind='bar', rot=0)"
   ]
  },
  {
   "cell_type": "code",
   "execution_count": null,
   "id": "50fd66c8-fd64-4afb-a393-4c6f24d16333",
   "metadata": {},
   "outputs": [],
   "source": [
    "# 대분류별 판매량 분석 (상위 5개)\n",
    "subcategory_sales = df.groupby('식자재품목대분류명')['총판매수량'].sum().sort_values(ascending=False).head()\n",
    "plt.figure(figsize=(10, 2))\n",
    "subcategory_sales.plot(kind='bar', rot=0)\n",
    "plt.title('대분류별 총 판매량 (상위 5개)');"
   ]
  },
  {
   "cell_type": "code",
   "execution_count": null,
   "id": "23a74e3c-e341-4862-8eaa-cb2843eadd3c",
   "metadata": {},
   "outputs": [],
   "source": [
    "# 중분류별 판매량 분석 (상위 5개)\n",
    "subcategory_sales = df.groupby('식자재품목중분류명')['총판매수량'].sum().sort_values(ascending=False).head()\n",
    "plt.figure(figsize=(10, 2))\n",
    "subcategory_sales.plot(kind='bar', rot=0)\n",
    "plt.title('중분류별 총 판매량 (상위 5개)');"
   ]
  },
  {
   "cell_type": "code",
   "execution_count": null,
   "id": "07d49eed-2665-465c-a506-2c9d4eb6fa19",
   "metadata": {},
   "outputs": [],
   "source": [
    "sns.barplot(data=df, x=\"식자재품목중분류명\", y=\"총판매수량\", hue=\"식자재품목대분류명\")"
   ]
  },
  {
   "cell_type": "code",
   "execution_count": null,
   "id": "168a0b1e-f942-4166-9e1c-71378f48a143",
   "metadata": {},
   "outputs": [],
   "source": [
    "# 대분류-중분류 빈도 분석\n",
    "category_subcategory = df.groupby(['식자재품목대분류명', '식자재품목중분류명']).size().unstack(fill_value=0)\n",
    "plt.figure(figsize=(12, 2))\n",
    "sns.heatmap(category_subcategory, annot=True, fmt='d', cmap='YlGnBu')\n",
    "plt.title('대분류-중분류 빈도 관계')"
   ]
  },
  {
   "cell_type": "code",
   "execution_count": null,
   "id": "3c7eb3e1-7c51-4882-91ab-d695a76ffc22",
   "metadata": {},
   "outputs": [],
   "source": [
    "# 대분류-중분류 총 판매수량 분석\n",
    "category_subcategory = df.groupby(['식자재품목대분류명', '식자재품목중분류명'])[\"총판매수량\"].sum().unstack(fill_value=0)\n",
    "plt.figure(figsize=(12, 2))\n",
    "sns.heatmap(category_subcategory, annot=True, fmt='.0f', cmap='YlGnBu')\n",
    "plt.title('대분류-중분류 총판매수량')"
   ]
  },
  {
   "cell_type": "code",
   "execution_count": null,
   "id": "3073a998-84c1-452a-864a-1727b1e54d44",
   "metadata": {},
   "outputs": [],
   "source": [
    "df.groupby(['식자재품목대분류명', '식자재품목중분류명'])[\"총판매수량\"].describe()"
   ]
  },
  {
   "cell_type": "code",
   "execution_count": null,
   "id": "ca7be9a6-5b11-4860-9816-a3c503a196be",
   "metadata": {},
   "outputs": [],
   "source": [
    "# 바코드 자릿수 분석\n",
    "df['바코드자릿수'] = df['바코드정보'].astype(str).str.len()\n",
    "plt.figure(figsize=(10, 2))\n",
    "df['바코드자릿수'].value_counts().sort_index().plot(kind='bar', rot=0)"
   ]
  },
  {
   "cell_type": "code",
   "execution_count": null,
   "id": "2bd3b028-a23b-4504-ab20-b4c4742ee6b2",
   "metadata": {},
   "outputs": [],
   "source": [
    "# 판매량 상위 제품 분석\n",
    "top_products = df.nlargest(10, '총판매수량')[['식자재품목명', '총판매수량']].dropna()\n",
    "top_products"
   ]
  },
  {
   "cell_type": "markdown",
   "id": "e817bd66-0006-4e82-88d2-3ee8478de19c",
   "metadata": {},
   "source": [
    "## 두 제품군 간 판매량 차이의 통계적 분석 및 시각화\n",
    "\n",
    "1. 기술 통계:\n",
    "   * 두 그룹의 중앙값(median)과 사분위수 범위(IQR)를 비교할 수 있습니다.\n",
    "   * 각 그룹의 평균 순위(mean rank)를 계산하여 데이터의 전반적인 분포 차이를 확인할 수 있습니다.\n",
    "\n",
    "2. Mann-Whitney U 검정 결과:\n",
    "   * Mann-Whitney U 통계량과 p-값을 계산할 수 있습니다.\n",
    "   * 사용자가 지정한 유의수준(기본값 0.05)과 비교하여 결과를 해석할 수 있습니다.\n",
    "\n",
    "3. 결과 해석:\n",
    "   * p-값이 유의수준보다 작으면 귀무가설을 기각하고, 두 그룹의 분포가 통계적으로 유의미하게 다르다고 결론 내릴 수 있습니다.\n",
    "   * p-값이 유의수준보다 크면 귀무가설을 기각할 수 없으며, 두 그룹의 분포에 통계적으로 유의미한 차이가 없다고 결론 내릴 수 있습니다.\n",
    "\n",
    "4. 시각화:\n",
    "   * 박스플롯을 통해 두 그룹의 데이터 분포를 시각적으로 비교할 수 있습니다.\n",
    "   * 이를 통해 각 그룹의 중앙값, 사분위수 범위, 이상치 등을 한눈에 파악할 수 있습니다.\n",
    "\n",
    "5. 효과 크기:\n",
    "   * Cliff's delta를 계산하여 두 그룹 간 차이의 실질적 크기를 평가할 수 있습니다.\n",
    "   * 일반적인 해석 기준(|d| < 0.147 \"무시할 만한\", |d| < 0.33 \"작은\", |d| < 0.474 \"중간\", 그 외 \"큰\" 효과)을 사용하여 효과의 크기를 판단할 수 있습니다.\n",
    "\n",
    "6. 추가 분석:\n",
    "   * 그룹별 판매량에 대한 기술 통계(중앙값, IQR, 데이터 수 등)를 계산하여 전체적인 분포를 파악할 수 있습니다.\n",
    "\n",
    "7. 전체 데이터 시각화:\n",
    "   * 모든 그룹에 대한 데이터 분포를 박스플롯으로 시각화하여 전체적인 비교가 가능합니다.\n",
    "\n",
    "이 코드는 두 그룹 간의 분포 차이를 분석하는 일반적인 프레임워크를 제공합니다. Mann-Whitney U 검정은 데이터가 정규 분포를 따르지 않거나 순서형 데이터일 때 특히 유용합니다. 데이터셋이 바뀌더라도 그룹을 나타내는 열과 비교하고자 하는 수치 데이터 열만 적절히 지정하면, 동일한 분석을 수행할 수 있습니다.\n",
    "\n",
    "이러한 분석을 통해 데이터의 전반적인 특성을 이해하고, 그룹 간 차이의 통계적 유의성과 실질적 크기를 평가할 수 있습니다. Mann-Whitney U 검정은 중앙 경향값의 차이를 검정하므로, 두 그룹의 전체적인 분포 차이를 파악하는 데 도움이 됩니다. 이는 데이터에 기반한 의사결정을 내리는 데 유용하며, 특히 데이터가 정규 분포를 따르지 않거나 이상치가 많은 경우에 더욱 적합할 수 있습니다."
   ]
  },
  {
   "cell_type": "code",
   "execution_count": null,
   "id": "ed95eda5-36ab-4097-aff2-72943f23eed5",
   "metadata": {},
   "outputs": [],
   "source": [
    "from scipy import stats\n",
    "\n",
    "# 농산물과 가공상품 그룹 분리\n",
    "agricultural = df[df['식자재품목대분류명'] == '농산물']['총판매수량']\n",
    "processed = df[df['식자재품목대분류명'] == '가공상품']['총판매수량']\n",
    "\n",
    "# 기술 통계량 계산\n",
    "agri_mean = agricultural.mean()\n",
    "proc_mean = processed.mean()\n",
    "agri_std = agricultural.std()\n",
    "proc_std = processed.std()\n",
    "\n",
    "print(f\"농산물 평균 판매량: {agri_mean:.2f}, 표준편차: {agri_std:.2f}\")\n",
    "print(f\"가공상품 평균 판매량: {proc_mean:.2f}, 표준편차: {proc_std:.2f}\")\n",
    "\n",
    "# Mann-Whitney U 검정 사용\n",
    "statistic, p_value = stats.mannwhitneyu(agricultural, processed)\n",
    "print(f\"\\nMann-Whitney U 검정 결과: p-값 = {p_value:.4f}\")\n",
    "\n",
    "# 결과 해석\n",
    "alpha = 0.05\n",
    "if p_value < alpha:\n",
    "    print(\"농산물과 가공상품의 판매량에 유의미한 차이가 있습니다.\")\n",
    "else:\n",
    "    print(\"농산물과 가공상품의 판매량에 유의미한 차이가 없습니다.\")\n",
    "\n",
    "# 대분류별 판매량 분포 시각화\n",
    "plt.figure(figsize=(10, 6))\n",
    "sns.boxplot(x='식자재품목대분류명', y='총판매수량', data=df)\n",
    "plt.title('대분류별 판매량 분포')\n",
    "plt.xlabel('대분류')\n",
    "plt.ylabel('총판매량')\n",
    "plt.xticks(rotation=45)\n",
    "plt.show()\n",
    "\n",
    "# 효과 크기 계산 (Cohen's d)\n",
    "agri_mean = agricultural.mean()\n",
    "proc_mean = processed.mean()\n",
    "agri_std = agricultural.std()\n",
    "proc_std = processed.std()\n",
    "pooled_std = np.sqrt(((len(agricultural) - 1) * agri_std**2 + (len(processed) - 1) * proc_std**2) / \n",
    "                     (len(agricultural) + len(processed) - 2))\n",
    "cohen_d = (agri_mean - proc_mean) / pooled_std\n",
    "print(f\"\\nCohen's d (효과 크기): {cohen_d:.4f}\")"
   ]
  },
  {
   "cell_type": "markdown",
   "id": "992116bb-3db2-4e82-9fef-3b7bd2a1627a",
   "metadata": {},
   "source": [
    "## 추가로 분석해 볼 수 있는 것\n",
    "* 전체 카테고리 비교: 농산물과 가공상품 외의 다른 대분류들의 판매량 분포도 확인할 수 있어, 전체적인 제품 카테고리 성과를 비교할 수 있습니다.\n",
    "데이터 불균형 확인: 각 대분류별 데이터 수(count)를 통해 특정 카테고리에 데이터가 편중되어 있는지 확인할 수 있습니다. 이는 분석 결과의 신뢰성을 평가하는 데 도움이 될 수 있습니다.\n",
    "* 변동성 비교: 각 대분류의 표준편차를 비교함으로써, 어떤 카테고리의 판매량이 더 안정적인지 또는 변동이 큰지 파악할 수 있습니다.\n",
    "* 이상치 식별: 박스플롯을 통해 각 대분류에서 이상치(outlier)를 시각적으로 확인할 수 있습니다. 이는 특별히 높거나 낮은 판매량을 기록한 제품을 식별하는 데 도움이 될 수 있습니다.\n",
    "* 전략적 포커스: 평균 판매량이 높은 대분류에 대해서는 현재의 성공 요인을 분석하고, 낮은 대분류에 대해서는 개선 전략을 수립할 수 있습니다.\n",
    "\n",
    "이러한 분석을 통해 더 넓은 시각에서 제품 카테고리 전반에 대한 이해를 높이고, 데이터에 기반한 전략적 의사결정을 내릴 수 있습니다. 각 대분류의 특성과 성과를 비교함으로써, 제품 라인업 조정, 재고 관리 최적화, 마케팅 전략 수립 등 다양한 비즈니스 영역에서 인사이트를 활용할 수 있습니다."
   ]
  },
  {
   "cell_type": "code",
   "execution_count": null,
   "id": "6920c9e4-7dfd-41a0-b7d0-f162228521df",
   "metadata": {},
   "outputs": [],
   "source": []
  }
 ],
 "metadata": {
  "kernelspec": {
   "display_name": "Python 3 (ipykernel)",
   "language": "python",
   "name": "python3"
  },
  "language_info": {
   "codemirror_mode": {
    "name": "ipython",
    "version": 3
   },
   "file_extension": ".py",
   "mimetype": "text/x-python",
   "name": "python",
   "nbconvert_exporter": "python",
   "pygments_lexer": "ipython3",
   "version": "3.11.4"
  }
 },
 "nbformat": 4,
 "nbformat_minor": 5
}
