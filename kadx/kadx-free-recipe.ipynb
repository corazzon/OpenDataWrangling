{
 "cells": [
  {
   "cell_type": "markdown",
   "id": "73071762-3a8b-4211-b866-40347b58d57b",
   "metadata": {},
   "source": [
    "## 자영업자를 위한 무료 레시피 데이터 활용하기\n",
    "\n",
    "### 1. **소비자 취향 변화 분석**:\n",
    "   - **분석 방법**: 시간에 따른 조회수, 추천수, 스크랩수의 변화 추이를 분석합니다. 특히, 특정 요리나 재료가 시즌이나 특정 이벤트(예: 명절, 여름철)에 따라 인기가 변하는지를 파악할 수 있습니다.\n",
    "   - **인사이트**: 시간의 흐름에 따라 소비자들의 취향이 어떻게 변화하는지 파악하여, 계절별로 혹은 이벤트별로 메뉴를 조정하거나 한정 메뉴를 기획할 수 있습니다. 예를 들어, 여름철에는 시원한 요리가, 겨울철에는 따뜻한 국물 요리가 인기를 끌 수 있습니다.\n",
    "\n",
    "### 2. **신규 레시피의 인기 예측**:\n",
    "   - **분석 방법**: 새로운 레시피의 조회수, 추천수, 스크랩수를 기존 레시피와 비교하여 인기 예측 모델을 구축합니다. 예를 들어, 레시피의 재료, 조리 방법, 난이도 등이 과거의 인기 레시피와 얼마나 유사한지 분석합니다.\n",
    "   - **인사이트**: 새로운 레시피를 출시하기 전에 그 성공 가능성을 예측할 수 있습니다. 이를 통해 자영업자는 메뉴를 구성할 때 더 큰 성공 가능성을 가진 레시피에 우선순위를 두어 메뉴 개발 리스크를 줄일 수 있습니다.\n",
    "\n",
    "### 3. **지역별 소비자 선호도 분석**:\n",
    "   - **분석 방법**: 데이터에 지역 정보가 포함되어 있을 경우, 지역별로 인기 있는 레시피나 재료를 분석합니다. 예를 들어, 대도시와 지방 도시 간에 인기 메뉴의 차이가 있는지를 확인할 수 있습니다.\n",
    "   - **인사이트**: 지역에 따른 메뉴 차별화를 통해 보다 맞춤형 메뉴를 제공할 수 있습니다. 예를 들어, 특정 지역에서는 해산물 요리가 인기가 높다면, 해당 지역에서는 이를 강조하는 마케팅 전략을 사용할 수 있습니다.\n",
    "\n",
    "### 4. **요리 트렌드 변화 분석**:\n",
    "   - **분석 방법**: 기간별로 레시피에 사용된 주요 재료나 요리 방법의 빈도 변화를 분석하여 요리 트렌드의 변화를 파악합니다. 예를 들어, 특정 기간 동안의 데이터를 비교하여 건강식, 비건 요리, 퓨전 요리 등의 트렌드가 어떻게 변화해 왔는지 분석합니다.\n",
    "   - **인사이트**: 현재와 미래의 요리 트렌드를 반영하여 메뉴를 업데이트할 수 있습니다. 예를 들어, 건강에 대한 관심이 높아지면 저칼로리, 저지방, 고단백 요리를 중심으로 메뉴를 구성할 수 있습니다.\n",
    "\n",
    "### 5. **경쟁자 분석**:\n",
    "   - **분석 방법**: 다른 자영업자들이 등록한 레시피와 비교하여 자사의 레시피가 경쟁자 대비 어느 정도의 인기를 얻고 있는지 분석합니다. 특히, 조회수, 추천수, 스크랩수에서 경쟁자와의 차이를 분석합니다.\n",
    "   - **인사이트**: 경쟁자 대비 자사의 강점과 약점을 파악할 수 있습니다. 경쟁자보다 인기가 낮은 메뉴는 개선하거나 메뉴에서 제외하고, 경쟁자보다 우수한 메뉴는 더욱 강화하여 마케팅 전략을 세울 수 있습니다.\n",
    "\n",
    "### 6. **소비자 피드백 분석**:\n",
    "   - **분석 방법**: 데이터에 소비자 리뷰나 평점이 포함되어 있다면, 이를 텍스트 마이닝 기법을 사용하여 분석합니다. 소비자들이 긍정적이거나 부정적으로 언급하는 부분을 파악하여, 메뉴 개선에 반영합니다.\n",
    "   - **인사이트**: 소비자 피드백을 반영하여 메뉴의 품질을 향상시키고, 소비자 만족도를 높일 수 있습니다. 예를 들어, 특정 메뉴에 대해 반복적으로 언급되는 부정적인 피드백(예: 맛이 심심하다, 양이 적다)을 바탕으로 개선안을 마련할 수 있습니다.\n",
    "\n",
    "### 7. **고객 세분화 및 타겟팅**:\n",
    "   - **분석 방법**: 고객의 소비 패턴을 기반으로 고객을 세분화하여 각 세그먼트별로 선호하는 요리나 재료를 분석합니다. 이를 통해 다양한 고객층에 맞춘 맞춤형 마케팅 전략을 개발할 수 있습니다.\n",
    "   - **인사이트**: 고객 세그먼트별로 차별화된 메뉴와 마케팅을 통해 보다 효과적으로 타겟팅할 수 있습니다. 예를 들어, 가족 단위 고객을 위한 대용량 메뉴, 1인 가구를 위한 소량 요리 메뉴 등을 개발할 수 있습니다.\n",
    "\n",
    "이러한 분석들은 자영업자들이 새로운 데이터에서 유용한 비즈니스 인사이트를 얻어, 고객의 니즈에 맞춘 전략적 결정을 내리는 데 도움을 줄 수 있습니다. 데이터의 특성과 변화하는 트렌드를 반영한 접근 방식은 지속적인 성장을 지원할 것입니다."
   ]
  },
  {
   "cell_type": "markdown",
   "id": "80f330c5-4389-4949-9140-c7ac1c30e7cf",
   "metadata": {},
   "source": [
    "## 무료 레시피 데이터\n",
    "\n",
    "https://kadx.co.kr/opmk/frn/pmumkproductDetail/PMU_6d212747-8bd4-42c2-bc55-60bc636d6121/5"
   ]
  },
  {
   "cell_type": "code",
   "execution_count": null,
   "id": "440e3012-7429-468a-b802-3ac079909af2",
   "metadata": {},
   "outputs": [],
   "source": [
    "# !pip install -Uq koreanize-matplotlib"
   ]
  },
  {
   "cell_type": "code",
   "execution_count": null,
   "id": "3a954521-b136-4c6d-bb36-3eaf8c70a9be",
   "metadata": {},
   "outputs": [],
   "source": [
    "import pandas as pd\n",
    "import koreanize_matplotlib\n",
    "import matplotlib.pyplot as plt\n",
    "import seaborn as sns\n",
    "from sklearn.feature_extraction.text import TfidfVectorizer\n",
    "from sklearn.cluster import KMeans\n",
    "from sklearn.decomposition import PCA\n",
    "import numpy as np"
   ]
  },
  {
   "cell_type": "code",
   "execution_count": null,
   "id": "1dea1bb7-adb4-4bf9-988f-7006136f674c",
   "metadata": {},
   "outputs": [],
   "source": [
    "# 데이터 컬럼 정보를 불러옵니다.\n",
    "df_col = pd.read_csv(\"data/kadx-utf8-recipe-detail.csv\")\n",
    "df_col.shape"
   ]
  },
  {
   "cell_type": "code",
   "execution_count": null,
   "id": "17a5e48c-76f8-44f5-be86-8ea4919a0e85",
   "metadata": {},
   "outputs": [],
   "source": [
    "df_col"
   ]
  },
  {
   "cell_type": "code",
   "execution_count": null,
   "id": "66e0d6ca-069a-4b9f-bc72-24e0c46a9f7e",
   "metadata": {},
   "outputs": [],
   "source": [
    "from glob import glob\n",
    "\n",
    "file_path = glob(\"data/TB_RECIPE*\")\n",
    "file_path"
   ]
  },
  {
   "cell_type": "code",
   "execution_count": null,
   "id": "aa0bf3c2-f9eb-4fce-bd16-99389d42bc22",
   "metadata": {},
   "outputs": [],
   "source": [
    "# 원본 데이터를 불러옵니다.\n",
    "raw = pd.read_csv(file_path[0])\n",
    "raw.shape"
   ]
  },
  {
   "cell_type": "code",
   "execution_count": null,
   "id": "f8c115ea-35a4-4258-be97-652018a183d7",
   "metadata": {},
   "outputs": [],
   "source": [
    "raw.head(2)"
   ]
  },
  {
   "cell_type": "code",
   "execution_count": null,
   "id": "27f332cb-d7ac-492e-b641-8e0d2ed6d09e",
   "metadata": {},
   "outputs": [],
   "source": [
    "# 영문 컬럼명을 한글로 변환하기 위한 매핑 딕셔너리를 생성합니다.\n",
    "col_dict = df_col[[\"nameEn\",\"nameKo\"]].set_index(\"nameEn\")['nameKo'].to_dict()\n",
    "col_dict"
   ]
  },
  {
   "cell_type": "code",
   "execution_count": null,
   "id": "5af736ef-1137-4dc7-b261-2d86ee089670",
   "metadata": {},
   "outputs": [],
   "source": [
    "# 원본 데이터의 컬럼명을 한글로 변환합니다.\n",
    "df = raw.rename(columns=col_dict)"
   ]
  },
  {
   "cell_type": "code",
   "execution_count": null,
   "id": "9bf82dc4-633e-4664-96b5-734a85836a9f",
   "metadata": {},
   "outputs": [],
   "source": [
    "# 변환된 데이터의 첫 몇 줄을 확인합니다.\n",
    "df.head()"
   ]
  },
  {
   "cell_type": "code",
   "execution_count": null,
   "id": "d78483b0-bd9f-4868-a557-29b726649b03",
   "metadata": {},
   "outputs": [],
   "source": [
    "# 기본 EDA\n",
    "df.info()"
   ]
  },
  {
   "cell_type": "code",
   "execution_count": null,
   "id": "8210c88f-34b2-4c29-b77a-68503ccf8bd2",
   "metadata": {},
   "outputs": [],
   "source": [
    "df.describe()"
   ]
  },
  {
   "cell_type": "code",
   "execution_count": null,
   "id": "7fa23607-07d3-4b70-bbb7-02d820ca7df1",
   "metadata": {},
   "outputs": [],
   "source": [
    "df.duplicated().sum()"
   ]
  },
  {
   "cell_type": "code",
   "execution_count": null,
   "id": "eaea5495-ff3b-472d-97be-fd11edc2f432",
   "metadata": {},
   "outputs": [],
   "source": [
    "# 시각화: 조회수, 스크랩수에 대한 분포\n",
    "sns.histplot(df['조회수'], kde=True)\n",
    "plt.title('조회수 분포')\n",
    "plt.show()\n",
    "\n",
    "sns.histplot(df['스크랩수'], kde=True)\n",
    "plt.title('스크랩수 분포')\n",
    "plt.show()"
   ]
  },
  {
   "cell_type": "code",
   "execution_count": null,
   "id": "554f3f10-74d8-481b-8213-11dcec77cdbe",
   "metadata": {},
   "outputs": [],
   "source": [
    "# 결측치 처리\n",
    "df['요리인분명'].fillna('미정', inplace=True)\n",
    "df['요리시간명'].fillna('미정', inplace=True)\n",
    "\n",
    "# 요리 인기도 분석 (조회수, 추천수, 스크랩수)\n",
    "df['인기도'] = df['조회수'] + df['추천수'] + df['스크랩수']\n",
    "popular_recipes = df.sort_values(by='인기도', ascending=False)\n",
    "\n",
    "# 인기도 상위 5개 레시피\n",
    "top_5_popular = popular_recipes[['레시피제목', '요리명', '조회수', '추천수', '스크랩수', '인기도']].head()\n",
    "display(\"인기도 상위 5개 레시피:\\n\", top_5_popular)\n",
    "\n",
    "# 요리 방법, 상황, 재료별 인기도 분석\n",
    "def plot_popularity_by_feature(feature):\n",
    "    plt.figure(figsize=(10, 3))\n",
    "    sns.barplot(x=feature, y='인기도', data=df, estimator=sum)\n",
    "    plt.title(f'{feature}별 레시피 인기도')\n",
    "    plt.xticks(rotation=45)\n",
    "    plt.show()\n",
    "\n",
    "# 요리방법, 요리상황, 요리재료별 인기도 시각화\n",
    "for feature in ['요리방법별명', '요리상황별명', '요리재료별명']:\n",
    "    plot_popularity_by_feature(feature)\n",
    "\n",
    "# 요리 난이도 및 시간별 인기도 분석\n",
    "plot_popularity_by_feature('요리난이도명')\n",
    "plot_popularity_by_feature('요리시간명')\n",
    "\n",
    "# 인사이트 도출\n",
    "# 1. 특정 요리방법이나 요리상황에서 인기가 높은 레시피 파악\n",
    "# 2. 요리 난이도와 시간이 인기에 미치는 영향 분석\n",
    "# 3. 인기 있는 레시피를 기반으로 메뉴 구성 및 프로모션 전략 수립\n",
    "\n",
    "# 추가 분석: 자영업자에게 유용한 추천 레시피\n",
    "# 특정 조건에 따라 추천할 레시피를 필터링합니다 (예: 빠르게 조리할 수 있고 인기가 높은 레시피)\n",
    "filtered_recipes = df[(df['요리시간명'] != '미정') & (df['인기도'] > df['인기도'].mean())]\n",
    "display(\"추천 레시피:\\n\", filtered_recipes[['레시피제목', '요리명', '요리시간명', '인기도']])"
   ]
  },
  {
   "cell_type": "code",
   "execution_count": null,
   "id": "bee0c411-5e72-44b5-af2c-319595bc7974",
   "metadata": {},
   "outputs": [],
   "source": [
    "pd.crosstab(df['요리상황별명'], df['요리방법별명']).style.background_gradient()"
   ]
  },
  {
   "cell_type": "code",
   "execution_count": null,
   "id": "4935dcff-42c3-4bd0-8572-290902b74b4f",
   "metadata": {},
   "outputs": [],
   "source": [
    "pd.crosstab(df['요리상황별명'], df['요리재료별명']).style.background_gradient()"
   ]
  },
  {
   "cell_type": "code",
   "execution_count": null,
   "id": "5f9d4e8b-6816-4daa-b187-d1ee10229723",
   "metadata": {},
   "outputs": [],
   "source": [
    "pd.crosstab(df['요리방법별명'], df['요리재료별명']).style.background_gradient()"
   ]
  },
  {
   "cell_type": "markdown",
   "id": "fd247fb9-5b4e-4310-adc8-08a254e2d238",
   "metadata": {},
   "source": [
    "### 군집분석"
   ]
  },
  {
   "cell_type": "code",
   "execution_count": null,
   "id": "fb056569-29fc-4a96-a4bf-370dcb5f264f",
   "metadata": {},
   "outputs": [],
   "source": [
    "# 텍스트 분석: 요리소개와 재료내용을 TF-IDF로 변환\n",
    "vectorizer = TfidfVectorizer()\n",
    "tfidf_matrix = vectorizer.fit_transform(df['요리소개'])\n",
    "\n",
    "# 군집 분석: KMeans 사용\n",
    "kmeans = KMeans(n_clusters=3, random_state=42)\n",
    "kmeans.fit(tfidf_matrix)\n",
    "df['Cluster'] = kmeans.labels_\n",
    "\n",
    "# 군집 분석 결과 시각화 (PCA로 차원 축소)\n",
    "pca = PCA(n_components=2)\n",
    "pca_components = pca.fit_transform(tfidf_matrix.toarray())\n",
    "plt.scatter(pca_components[:, 0], pca_components[:, 1], c=df['Cluster'])\n",
    "plt.title('KMeans Clustering of Recipes')\n",
    "plt.xlabel('PCA Component 1')\n",
    "plt.ylabel('PCA Component 2')\n",
    "plt.show()\n",
    "\n",
    "# 군집별 주요 키워드 나열\n",
    "def get_top_keywords(tfidf_matrix, kmeans, vectorizer, n_terms=10):\n",
    "    df_top_keywords = pd.DataFrame()\n",
    "    order_centroids = kmeans.cluster_centers_.argsort()[:, ::-1]\n",
    "    terms = vectorizer.get_feature_names_out()\n",
    "    \n",
    "    for i in range(kmeans.n_clusters):\n",
    "        top_keywords = [terms[ind] for ind in order_centroids[i, :n_terms]]\n",
    "        df_top_keywords[f'Cluster {i}'] = top_keywords\n",
    "    \n",
    "    return df_top_keywords\n",
    "\n",
    "# 군집별 주요 키워드 출력\n",
    "df_keywords = get_top_keywords(tfidf_matrix, kmeans, vectorizer)\n",
    "print(\"\\n군집별 주요 키워드:\\n\", df_keywords)\n",
    "\n",
    "# 군집별 레시피 개수\n",
    "print(\"\\n군집별 레시피 개수:\\n\", df['Cluster'].value_counts())"
   ]
  },
  {
   "cell_type": "markdown",
   "id": "6479a4e5-9277-4a22-b226-f1ce9bc1c6f5",
   "metadata": {},
   "source": [
    "### 군집별 워드클라우드"
   ]
  },
  {
   "cell_type": "code",
   "execution_count": null,
   "id": "712c3e2e-4c13-447e-96b6-2599ceb8768c",
   "metadata": {},
   "outputs": [],
   "source": [
    "# 동그라미 마스크 생성\n",
    "x, y = np.ogrid[:800, :800]\n",
    "center = 400\n",
    "radius = 400\n",
    "circle_mask = np.ones((800, 800), dtype=np.uint8) * 255\n",
    "mask = (x - center) ** 2 + (y - center) ** 2 > radius ** 2\n",
    "circle_mask[mask] = 0"
   ]
  },
  {
   "cell_type": "code",
   "execution_count": null,
   "id": "69350332-84a8-4f4e-92f1-fd77420a47a6",
   "metadata": {},
   "outputs": [],
   "source": [
    "import matplotlib.pyplot as plt\n",
    "from wordcloud import WordCloud\n",
    "import numpy as np\n",
    "from PIL import Image\n",
    "from matplotlib import font_manager, rc\n",
    "\n",
    "# 한글 폰트 설정 (맥OS 기준, 윈도우의 경우 적절한 폰트 경로로 변경 필요)\n",
    "font_path = \"/System/Library/Fonts/Supplemental/AppleGothic.ttf\"\n",
    "font = font_manager.FontProperties(fname=font_path).get_name()\n",
    "rc('font', family=font)\n",
    "\n",
    "# 원형 마스크 생성\n",
    "def create_circle_mask(size):\n",
    "    x, y = np.ogrid[:size, :size]\n",
    "    center = (size - 1) / 2\n",
    "    circle_mask = (x - center) ** 2 + (y - center) ** 2 > (center ** 2)\n",
    "    mask = np.ones((size, size), dtype=np.uint8) * 255\n",
    "    mask[circle_mask] = 0\n",
    "    return mask\n",
    "\n",
    "# 워드 클라우드 생성 함수\n",
    "def create_wordcloud_subplots(df_keywords, kmeans, vectorizer):\n",
    "    fig, axes = plt.subplots(1, 3, figsize=(20, 20))  # 2x2 서브플롯 생성\n",
    "    axes = axes.flatten()\n",
    "    \n",
    "    circle_mask = create_circle_mask(800)  # 800x800 크기의 원형 마스크 생성\n",
    "    \n",
    "    for i in range(kmeans.n_clusters):\n",
    "        cluster_keywords = df_keywords[f'Cluster {i}']\n",
    "        cluster_center = kmeans.cluster_centers_[i]\n",
    "        keyword_weights = [cluster_center[vectorizer.vocabulary_[keyword]] for keyword in cluster_keywords]\n",
    "        \n",
    "        wordcloud = WordCloud(font_path=font_path,\n",
    "                              background_color='white',\n",
    "                              mask=255-circle_mask,\n",
    "                              contour_width=0,  # 외곽선 두께를 0으로 설정하여 원 바깥의 선을 없앰\n",
    "                              width=800,\n",
    "                              height=800,\n",
    "                              max_font_size=150,\n",
    "                              min_font_size=10).generate_from_frequencies(dict(zip(cluster_keywords, keyword_weights)))\n",
    "        \n",
    "        axes[i].imshow(wordcloud, interpolation='bilinear')\n",
    "        axes[i].axis('off')\n",
    "        axes[i].set_title(f'Cluster {i} Word Cloud', fontsize=20)\n",
    "    \n",
    "    plt.tight_layout(pad=0)\n",
    "    plt.show()\n",
    "\n",
    "# 전체 데이터에 대한 워드 클라우드 생성에 필요한 키워드와 가중치를 계산하는 함수\n",
    "def get_overall_keywords_and_weights(tfidf_matrix, vectorizer):\n",
    "    overall_weights = tfidf_matrix.sum(axis=0).A1  # 각 단어의 전체 가중치를 계산\n",
    "    keywords = vectorizer.get_feature_names_out()\n",
    "    keyword_weights = dict(zip(keywords, overall_weights))\n",
    "    \n",
    "    sorted_keywords = sorted(keyword_weights.items(), key=lambda item: item[1], reverse=True)\n",
    "    sorted_keywords = sorted_keywords[:50]  # 상위 50개 키워드 선택\n",
    "    all_keywords, all_weights = zip(*sorted_keywords)\n",
    "    \n",
    "    return all_keywords, all_weights\n",
    "\n",
    "# get_top_keywords 함수를 사용하여 각 군집의 주요 키워드 추출\n",
    "df_keywords = get_top_keywords(tfidf_matrix, kmeans, vectorizer, n_terms=50)  # 상위 50개 키워드 추출\n",
    "\n",
    "# 서브플롯을 사용하여 각 군집별 워드 클라우드 생성\n",
    "create_wordcloud_subplots(df_keywords, kmeans, vectorizer)\n",
    "\n",
    "# 전체 데이터에 대한 키워드와 가중치 추출\n",
    "all_keywords, all_weights = get_overall_keywords_and_weights(tfidf_matrix, vectorizer)\n",
    "\n",
    "# 전체 데이터에 대한 워드 클라우드 생성 (비교용)\n",
    "plt.figure(figsize=(10, 10))\n",
    "circle_mask = create_circle_mask(800)  # 800x800 크기의 원형 마스크 생성\n",
    "overall_wordcloud = WordCloud(font_path=font_path,\n",
    "                              background_color='white',\n",
    "                              mask=255-circle_mask,\n",
    "                              contour_width=0,  # 외곽선 두께를 0으로 설정하여 원 바깥의 선을 없앰\n",
    "                              width=800,\n",
    "                              height=800,\n",
    "                              max_font_size=150,\n",
    "                              min_font_size=10).generate_from_frequencies(dict(zip(all_keywords, all_weights)))\n",
    "\n",
    "plt.imshow(overall_wordcloud, interpolation='bilinear')\n",
    "plt.axis('off')\n",
    "plt.title('Overall Word Cloud', fontsize=20)\n",
    "plt.tight_layout(pad=0)\n",
    "plt.show()\n"
   ]
  },
  {
   "cell_type": "markdown",
   "id": "8c7e5b5c-6260-4745-9be4-ebc143dd58b1",
   "metadata": {},
   "source": [
    "### 자영업자를 위한 무료 레시피 비즈니스 활용법 제안\n",
    "\n",
    "1. **인기 레시피 분석**:\n",
    "   - 조회수, 추천수, 스크랩수를 기준으로 인기도를 계산한 결과, 어묵볶음과 같은 간단한 반찬류가 매우 인기가 높았습니다. 이들은 소비자들이 자주 찾고, 쉽게 따라 할 수 있는 레시피들로서 자영업자들에게는 효과적인 메뉴 구성의 참고자료가 됩니다.\n",
    "\n",
    "2. **요리방법별 인기도 분석**:\n",
    "   - 요리방법별 인기도 분석에서는 '볶음', '찜' 등이 높은 인기를 차지했습니다. 이는 소비자들이 간편하고 빠르게 조리할 수 있는 메뉴를 선호한다는 것을 보여줍니다. 자영업자들은 이를 반영하여 메뉴를 최적화할 수 있습니다.\n",
    "\n",
    "3. **요리시간 및 난이도별 인기도 분석**:\n",
    "   - 요리시간이 짧고 난이도가 낮은 레시피들이 인기가 높았습니다. 자영업자들은 이러한 트렌드를 반영하여 빠른 조리가 가능한 메뉴를 개발하고 이를 중심으로 홍보할 수 있습니다.\n",
    "\n",
    "4. **군집분석을 통한 키워드 도출**:\n",
    "   - TF-IDF를 활용한 군집분석 결과, 각 군집별로 주요 키워드가 도출되었습니다. 이러한 키워드는 소비자들이 특정 상황에서 주로 찾는 요리의 특징을 보여줍니다. 예를 들어, '간편하게', '초스피드' 등의 키워드는 바쁜 현대인들이 선호하는 레시피의 특징을 잘 나타냅니다.\n",
    "\n",
    "5. **요리상황별 요리 재료 선호도 분석**:\n",
    "   - 특정 요리상황(예: 다이어트, 손님접대)에 따라 선호되는 요리 재료가 다르게 나타났습니다. 이를 통해 자영업자들은 특정 상황에 맞춘 메뉴를 기획할 수 있습니다. 예를 들어, 다이어트용 메뉴로는 채소류가 많이 사용되며, 손님 접대용 메뉴로는 고급 재료들이 주로 사용됩니다."
   ]
  },
  {
   "cell_type": "code",
   "execution_count": null,
   "id": "4b293dd5-d848-4331-bfd0-3d9fccfd8a70",
   "metadata": {},
   "outputs": [],
   "source": []
  }
 ],
 "metadata": {
  "kernelspec": {
   "display_name": "Python 3 (ipykernel)",
   "language": "python",
   "name": "python3"
  },
  "language_info": {
   "codemirror_mode": {
    "name": "ipython",
    "version": 3
   },
   "file_extension": ".py",
   "mimetype": "text/x-python",
   "name": "python",
   "nbconvert_exporter": "python",
   "pygments_lexer": "ipython3",
   "version": "3.11.4"
  }
 },
 "nbformat": 4,
 "nbformat_minor": 5
}
