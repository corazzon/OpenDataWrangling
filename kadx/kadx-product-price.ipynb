{
 "cells": [
  {
   "cell_type": "markdown",
   "id": "b1a6ad1a-0f0e-4839-ad31-948822a75958",
   "metadata": {},
   "source": [
    "## 자영업자는 농수축산물 일자별 도소매 가격으로 어떤 인사이트를 얻을 수 있을까요?\n",
    "\n",
    "* 가격 변동 원인: 특정 품목의 가격이 연중 어느 시기에 가장 높고 낮은지, 그 원인은 무엇일까요?\n",
    "* 지역 차이 요인: 어떤 지역에서 특정 품목의 가격이 가장 높고 낮은지, 그 이유는 무엇일까요?\n",
    "* 최적 할인 전략: 어떤 품목에서 할인 정책이 가장 효과적이며, 최적의 할인 전략(할인 폭, 기간 등)은 무엇일까요?\n",
    "* 품종/등급 선호도: 어떤 품종이 가장 높은 가격 프리미엄을 가지며, 소비자들의 품종 및 등급 선호도는 어떻게 변화하고 있을까요?\n",
    "* 유통 효율화 방안: 어떤 품목에서 도소매 가격 차이가 가장 크고 작은지, 유통 마진을 줄이기 위한 효과적인 방안은 무엇일까요?"
   ]
  },
  {
   "cell_type": "markdown",
   "id": "b017cdf0-83c3-45c2-b4b3-d1302663e244",
   "metadata": {},
   "source": [
    "## 농수축산물 일자별 도소매 가격\n",
    "\n",
    "https://kadx.co.kr/opmk/frn/pmumkproductDetail/PMU_6faffdb1-c1c0-4c1e-aacb-9eb34b32f772/5"
   ]
  },
  {
   "cell_type": "code",
   "execution_count": null,
   "id": "73970f15-e450-42f3-a233-052a545cb12e",
   "metadata": {},
   "outputs": [],
   "source": [
    "# !pip install -Uq koreanize-matplotlib"
   ]
  },
  {
   "cell_type": "code",
   "execution_count": null,
   "id": "552d21f6-4471-4395-95fa-8dc913e57bd2",
   "metadata": {},
   "outputs": [],
   "source": [
    "import pandas as pd\n",
    "import koreanize_matplotlib\n",
    "import matplotlib.pyplot as plt\n",
    "import seaborn as sns\n",
    "import numpy as np"
   ]
  },
  {
   "cell_type": "code",
   "execution_count": null,
   "id": "36185772-7af8-4a42-8789-95882b8af9d0",
   "metadata": {},
   "outputs": [],
   "source": [
    "# 데이터 컬럼 정보를 불러옵니다.|\n",
    "df_col = pd.read_csv(\"data/kadx-utf-8-at-product-price-detail.csv\")\n",
    "df_col.shape"
   ]
  },
  {
   "cell_type": "code",
   "execution_count": null,
   "id": "dafbfcb1-2a6f-48b6-96d5-a4839955e627",
   "metadata": {},
   "outputs": [],
   "source": [
    "df_col"
   ]
  },
  {
   "cell_type": "code",
   "execution_count": null,
   "id": "effc5f5e-84b8-40e3-b007-5df5a4faaccd",
   "metadata": {},
   "outputs": [],
   "source": [
    "# 원본 데이터를 불러옵니다.\n",
    "raw = pd.read_csv(\"data/kadx-utf-8-at-product-price.csv\")\n",
    "raw.shape"
   ]
  },
  {
   "cell_type": "code",
   "execution_count": null,
   "id": "48b984d5-3b36-401c-9a01-63f025c69c7d",
   "metadata": {},
   "outputs": [],
   "source": [
    "# 영문 컬럼명을 한글로 변환하기 위한 매핑 딕셔너리를 생성합니다.\n",
    "col_dict = df_col[[\"nameEn\",\"nameKo\"]].set_index(\"nameEn\")['nameKo'].to_dict()\n",
    "col_dict"
   ]
  },
  {
   "cell_type": "code",
   "execution_count": null,
   "id": "b7077db1-d72a-4eb1-a575-b4b47e0c71fc",
   "metadata": {},
   "outputs": [],
   "source": [
    "# 원본 데이터의 컬럼명을 한글로 변환합니다.\n",
    "df = raw.rename(columns=col_dict)"
   ]
  },
  {
   "cell_type": "code",
   "execution_count": null,
   "id": "f4c049ab-6a5f-4437-a390-8152419d6fba",
   "metadata": {},
   "outputs": [],
   "source": [
    "# 변환된 데이터의 첫 몇 줄을 확인합니다.\n",
    "df.head()"
   ]
  },
  {
   "cell_type": "code",
   "execution_count": null,
   "id": "01bbd81e-a638-4c95-a91f-80013b047d1a",
   "metadata": {},
   "outputs": [],
   "source": [
    "df.columns"
   ]
  },
  {
   "cell_type": "markdown",
   "id": "318b9d38-8307-4dba-9731-bbc8d5eb1689",
   "metadata": {},
   "source": [
    "## 기초 기술통계"
   ]
  },
  {
   "cell_type": "code",
   "execution_count": null,
   "id": "945b5d3d-6434-4676-9be0-6d41391094bf",
   "metadata": {},
   "outputs": [],
   "source": [
    "df.info()"
   ]
  },
  {
   "cell_type": "code",
   "execution_count": null,
   "id": "ef1a3e9c-93a0-404c-9337-39efe23d6797",
   "metadata": {},
   "outputs": [],
   "source": [
    "df.describe()"
   ]
  },
  {
   "cell_type": "code",
   "execution_count": null,
   "id": "77eebb3f-e060-4f67-8e19-f3c308870352",
   "metadata": {},
   "outputs": [],
   "source": [
    "df.describe(exclude=\"number\")"
   ]
  },
  {
   "cell_type": "markdown",
   "id": "e41d18fc-1f7c-4188-9569-ce7630231ada",
   "metadata": {},
   "source": [
    "### 유일값 분석"
   ]
  },
  {
   "cell_type": "code",
   "execution_count": null,
   "id": "1c90204c-8c70-4c17-83ca-d1b7707e7f03",
   "metadata": {},
   "outputs": [],
   "source": [
    "df.nunique()"
   ]
  },
  {
   "cell_type": "code",
   "execution_count": null,
   "id": "74bd716a-27ff-4144-8b0f-6faaac1e5b84",
   "metadata": {},
   "outputs": [],
   "source": [
    "nuniq = df.nunique() \n",
    "nuniq[nuniq > 1]"
   ]
  },
  {
   "cell_type": "markdown",
   "id": "6af43760-e6e1-4947-85b9-a324b77d68ce",
   "metadata": {},
   "source": [
    "## 데이터 타입 변경"
   ]
  },
  {
   "cell_type": "code",
   "execution_count": null,
   "id": "8bc26eba-8a58-4cf7-9e12-3a7894b4d65d",
   "metadata": {},
   "outputs": [],
   "source": [
    "df[\"가격등록일자\"] = pd.to_datetime(df[\"가격등록일자\"].astype(str))"
   ]
  },
  {
   "cell_type": "markdown",
   "id": "aab88b69-e418-4394-8e8a-3a24344b2fa4",
   "metadata": {},
   "source": [
    "## 빈도 분석"
   ]
  },
  {
   "cell_type": "code",
   "execution_count": null,
   "id": "c9310cd5-9a79-4362-9a83-30699d323120",
   "metadata": {},
   "outputs": [],
   "source": [
    "df[\"품종명\"].value_counts()"
   ]
  },
  {
   "cell_type": "markdown",
   "id": "fc451483-1bdf-45f6-a960-5486610e06ec",
   "metadata": {},
   "source": [
    "## 범주별 가격 분석"
   ]
  },
  {
   "cell_type": "code",
   "execution_count": null,
   "id": "11a14884-802c-4694-a28e-ab9f3c023338",
   "metadata": {},
   "outputs": [],
   "source": [
    "plt.figure(figsize=(8, 3))\n",
    "sns.barplot(data=df, x='산물등급명', y='품목가격')\n",
    "plt.show()"
   ]
  },
  {
   "cell_type": "code",
   "execution_count": null,
   "id": "a4524f25-81e3-4207-8826-c8650e5a5b48",
   "metadata": {},
   "outputs": [],
   "source": [
    "plt.figure(figsize=(16, 3))\n",
    "sns.barplot(data=df, x='품목명', y='품목가격')\n",
    "plt.show()"
   ]
  },
  {
   "cell_type": "code",
   "execution_count": null,
   "id": "88b3fd06-a1a5-4e77-b88c-cd70f1c59c1a",
   "metadata": {},
   "outputs": [],
   "source": [
    "plt.figure(figsize=(16, 3))\n",
    "sns.barplot(data=df, x='품목명', y='품목가격', hue=\"할인가격여부\")\n",
    "plt.show()"
   ]
  },
  {
   "cell_type": "code",
   "execution_count": null,
   "id": "abcce5ca-9deb-47f5-9311-7fa373094d3c",
   "metadata": {},
   "outputs": [],
   "source": [
    "pd.crosstab(df[\"할인가격여부\"], df[\"품목명\"])"
   ]
  },
  {
   "cell_type": "code",
   "execution_count": null,
   "id": "77bd2747-f89c-4136-8af5-84faf89e0d21",
   "metadata": {},
   "outputs": [],
   "source": [
    "df.groupby([\"품목명\", \"할인가격여부\"])[\"품목가격\"].mean().unstack().style.format(\"{:,.0f}\")"
   ]
  },
  {
   "cell_type": "code",
   "execution_count": null,
   "id": "8d69e00b-6b14-449d-a6a7-6c6d56dd210b",
   "metadata": {},
   "outputs": [],
   "source": [
    "plt.figure(figsize=(8, 3))\n",
    "sns.barplot(data=df, x='산물등급명', y='품목가격')\n",
    "plt.show()"
   ]
  },
  {
   "cell_type": "code",
   "execution_count": null,
   "id": "67a51b40-882b-41cc-8af4-b9724002b3c8",
   "metadata": {},
   "outputs": [],
   "source": [
    "plt.figure(figsize=(8, 3))\n",
    "sns.barplot(data=df, x='산물등급명', y='품목가격', hue=\"할인가격여부\")\n",
    "plt.show()"
   ]
  },
  {
   "cell_type": "markdown",
   "id": "bcd35c9f-7ec5-4af4-9e87-a9e3c1bdbe66",
   "metadata": {},
   "source": [
    "## 상관 분석"
   ]
  },
  {
   "cell_type": "code",
   "execution_count": null,
   "id": "87366d20-a600-4a13-a7ba-c4925ce9ad52",
   "metadata": {},
   "outputs": [],
   "source": [
    "corr = df.corr(numeric_only=True).dropna(axis=0, how=\"all\").dropna(axis=1, how=\"all\")\n",
    "corr"
   ]
  },
  {
   "cell_type": "code",
   "execution_count": null,
   "id": "8b9a97a6-03ae-4541-b97c-299419344108",
   "metadata": {},
   "outputs": [],
   "source": [
    "mask = np.triu(np.ones_like(corr))"
   ]
  },
  {
   "cell_type": "code",
   "execution_count": null,
   "id": "6d5d52df-17de-41c7-a306-ad41c1f7549c",
   "metadata": {},
   "outputs": [],
   "source": [
    "sns.heatmap(corr, annot=True, fmt=\".2f\", mask=mask, cmap=\"seismic\")"
   ]
  },
  {
   "cell_type": "markdown",
   "id": "25f66977-b14a-4b52-a29d-ee9e927e066d",
   "metadata": {},
   "source": [
    "### 상관 관계 분석을 통한 인사이트 도출\n",
    "\n",
    "주어진 상관 행렬을 통해 각 변수 간의 상관 관계를 분석할 수 있습니다. 상관 계수는 -1에서 1 사이의 값을 가지며, 1에 가까울수록 강한 양의 상관 관계를, -1에 가까울수록 강한 음의 상관 관계를 의미합니다. 0에 가까울수록 두 변수 간의 상관 관계가 거의 없음을 나타냅니다.\n",
    "\n",
    "### 주요 상관 관계 분석:\n",
    "\n",
    "1. **도매출하단위크기와 품목코드**:\n",
    "   - **상관 계수**: -0.929279\n",
    "   - **해석**: 매우 강한 음의 상관 관계가 있습니다. 이는 도매출하단위크기가 클수록 품목코드가 낮다는 것을 의미합니다. 품목코드는 일반적으로 특정 품목을 나타내는 코드이므로, 도매출하단위크기가 큰 품목일수록 특정한 코드 범위 내에 있다는 점을 시사할 수 있습니다.\n",
    "\n",
    "2. **소매출하단위크기와 품목코드**:\n",
    "   - **상관 계수**: -0.651338\n",
    "   - **해석**: 강한 음의 상관 관계를 보입니다. 도매출하단위크기와 유사하게, 소매출하단위크기 또한 품목코드와 반비례하는 경향이 있습니다. 이는 소매 단위가 클수록 특정 품목코드와 연관되어 있음을 나타냅니다.\n",
    "\n",
    "3. **품종코드와 품목가격**:\n",
    "   - **상관 계수**: 0.595948\n",
    "   - **해석**: 양의 상관 관계가 있습니다. 이는 특정 품종코드가 품목가격과 상당한 관련이 있음을 나타냅니다. 즉, 특정 품종은 가격이 더 높거나 낮을 가능성이 있습니다.\n",
    "\n",
    "4. **산물등급코드와 품종코드**:\n",
    "   - **상관 계수**: 0.532070\n",
    "   - **해석**: 중간 정도의 양의 상관 관계를 보입니다. 이는 특정 산물 등급이 특정 품종과 자주 연관되어 있음을 시사합니다. 예를 들어, 고급 산물 등급은 특정 품종에서 주로 나타날 수 있습니다.\n",
    "\n",
    "5. **도매출하단위크기와 소매출하단위크기**:\n",
    "   - **상관 계수**: 0.618288\n",
    "   - **해석**: 강한 양의 상관 관계를 나타냅니다. 도매출하단위크기가 클수록 소매출하단위크기도 큰 경향이 있습니다. 이는 도매와 소매의 단위 크기가 함께 증가하는 경향이 있음을 보여줍니다.\n",
    "\n",
    "### 비즈니스적 인사이트:\n",
    "\n",
    "1. **제품 분류와 단위 크기**:\n",
    "   - 도매와 소매의 단위 크기는 품목코드와 강한 음의 상관 관계를 보입니다. 이는 특정 품목코드(예: 대량 유통되는 상품)와 관련된 제품이 도매와 소매 단위 크기가 큰 경향이 있다는 것을 나타냅니다. 자영업자나 유통업체는 특정 품목에 대해 대량 구매가 필요한지, 혹은 소량 구매가 더 적합한지 판단할 수 있습니다.\n",
    "\n",
    "2. **품종에 따른 가격 전략**:\n",
    "   - 품종코드와 품목가격 간의 양의 상관 관계는 특정 품종이 다른 품종보다 더 높은 가격을 받을 수 있음을 시사합니다. 이는 가격 전략 수립 시 특정 품종에 대해 더 높은 가격을 책정하거나, 고급화를 통해 부가가치를 높이는 전략을 고려할 수 있습니다.\n",
    "\n",
    "3. **품종과 산물 등급의 연관성**:\n",
    "   - 특정 품종이 특정 산물 등급과 자주 연관된다는 점에서, 품질 관리 및 마케팅에 있어 특정 품종을 고급 등급으로 브랜딩하는 것이 중요할 수 있습니다. 예를 들어, 특정 품종은 고급 등급으로 분류되어 프리미엄 가격으로 판매될 수 있습니다.\n",
    "\n",
    "4. **도매와 소매의 일관된 단위 크기**:\n",
    "   - 도매와 소매 단위 크기의 강한 상관 관계는 공급망 관리에서 도매 및 소매의 단위 크기 조정이 필요할 때 일관된 접근이 필요함을 의미합니다. 이는 공급망 효율성을 높이고, 재고 관리의 일관성을 유지하는 데 도움이 될 수 있습니다.\n",
    "\n",
    "5. **가격과 단위 크기 조정**:\n",
    "   - 품목가격과 도매/소매 단위 크기 간의 음의 상관 관계를 통해, 단위 크기를 조정하여 가격을 최적화하는 전략을 고려할 수 있습니다. 단위 크기를 줄이면 가격을 더 높게 설정할 수 있으며, 이는 소비자의 구매 심리를 자극할 수 있습니다.\n"
   ]
  },
  {
   "cell_type": "markdown",
   "id": "e19a4adc-c391-4f22-914a-db411ec8d0e2",
   "metadata": {},
   "source": [
    "## 추가로 해볼 수 있는 것\n",
    "* 시계열 분석: 월별, 계절별 가격 변동 추이를 시각화하고 품목별로 비교합니다.\n",
    "* 지리적 분석: 시도별, 시군구별 평균 가격을 비교하고 지도 시각화를 수행합니다.\n",
    "* 할인 효과 모델링: 할인 여부에 따른 판매량 변화를 시계열로 분석하고, 할인 폭과 판매량 증가 사이의 관계를 모델링합니다.\n",
    "* 프리미엄 계산: 품종별, 등급별 평균 가격을 비교하고 프리미엄을 계산합니다.\n",
    "* 유통 마진 분석: 도매가와 소매가의 차이를 품목별, 시기별로 비교하고, 유통 단계별 가격 변동의 시차 효과를 분석합니다."
   ]
  },
  {
   "cell_type": "code",
   "execution_count": null,
   "id": "35fd7747-2096-44d1-884a-b4cde229026a",
   "metadata": {},
   "outputs": [],
   "source": []
  },
  {
   "cell_type": "code",
   "execution_count": null,
   "id": "621cc1e9-db72-4fa5-9083-a371c47b8276",
   "metadata": {},
   "outputs": [],
   "source": []
  }
 ],
 "metadata": {
  "kernelspec": {
   "display_name": "Python 3 (ipykernel)",
   "language": "python",
   "name": "python3"
  },
  "language_info": {
   "codemirror_mode": {
    "name": "ipython",
    "version": 3
   },
   "file_extension": ".py",
   "mimetype": "text/x-python",
   "name": "python",
   "nbconvert_exporter": "python",
   "pygments_lexer": "ipython3",
   "version": "3.11.4"
  }
 },
 "nbformat": 4,
 "nbformat_minor": 5
}
