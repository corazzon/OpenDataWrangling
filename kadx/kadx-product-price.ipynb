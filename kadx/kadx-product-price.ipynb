{
 "cells": [
  {
   "cell_type": "markdown",
   "id": "b1a6ad1a-0f0e-4839-ad31-948822a75958",
   "metadata": {},
   "source": [
    "## 자영업자는 농수축산물 일자별 도소매 가격으로 어떤 인사이트를 얻을 수 있을까요?\n",
    "\n",
    "* 가격 변동 원인: 특정 품목의 가격이 연중 어느 시기에 가장 높고 낮은지, 그 원인은 무엇일까요?\n",
    "* 지역 차이 요인: 어떤 지역에서 특정 품목의 가격이 가장 높고 낮은지, 그 이유는 무엇일까요?\n",
    "* 최적 할인 전략: 어떤 품목에서 할인 정책이 가장 효과적이며, 최적의 할인 전략(할인 폭, 기간 등)은 무엇일까요?\n",
    "* 품종/등급 선호도: 어떤 품종이 가장 높은 가격 프리미엄을 가지며, 소비자들의 품종 및 등급 선호도는 어떻게 변화하고 있을까요?\n",
    "* 유통 효율화 방안: 어떤 품목에서 도소매 가격 차이가 가장 크고 작은지, 유통 마진을 줄이기 위한 효과적인 방안은 무엇일까요?"
   ]
  },
  {
   "cell_type": "markdown",
   "id": "b017cdf0-83c3-45c2-b4b3-d1302663e244",
   "metadata": {},
   "source": [
    "## 농수축산물 일자별 도소매 가격\n",
    "\n",
    "https://kadx.co.kr/opmk/frn/pmumkproductDetail/PMU_6faffdb1-c1c0-4c1e-aacb-9eb34b32f772/5"
   ]
  },
  {
   "cell_type": "code",
   "execution_count": null,
   "id": "73970f15-e450-42f3-a233-052a545cb12e",
   "metadata": {},
   "outputs": [],
   "source": [
    "# !pip install -Uq koreanize-matplotlib"
   ]
  },
  {
   "cell_type": "code",
   "execution_count": null,
   "id": "552d21f6-4471-4395-95fa-8dc913e57bd2",
   "metadata": {},
   "outputs": [],
   "source": [
    "import pandas as pd\n",
    "import koreanize_matplotlib\n",
    "import matplotlib.pyplot as plt\n",
    "import seaborn as sns\n",
    "import numpy as np"
   ]
  },
  {
   "cell_type": "code",
   "execution_count": null,
   "id": "36185772-7af8-4a42-8789-95882b8af9d0",
   "metadata": {},
   "outputs": [],
   "source": [
    "# 데이터 컬럼 정보를 불러옵니다.|\n",
    "df_col = pd.read_csv(\"data/kadx-utf-8-at-product-price-detail.csv\")\n",
    "df_col.shape"
   ]
  },
  {
   "cell_type": "code",
   "execution_count": null,
   "id": "dafbfcb1-2a6f-48b6-96d5-a4839955e627",
   "metadata": {},
   "outputs": [],
   "source": [
    "df_col"
   ]
  },
  {
   "cell_type": "code",
   "execution_count": null,
   "id": "48b984d5-3b36-401c-9a01-63f025c69c7d",
   "metadata": {},
   "outputs": [],
   "source": [
    "# 영문 컬럼명을 한글로 변환하기 위한 매핑 딕셔너리를 생성합니다.\n",
    "col_dict = df_col[[\"nameEn\",\"nameKo\"]].set_index(\"nameEn\")['nameKo'].to_dict()\n",
    "col_dict"
   ]
  },
  {
   "cell_type": "code",
   "execution_count": null,
   "id": "4a63b678-1ea3-46ef-a15f-8873a72e48f2",
   "metadata": {},
   "outputs": [],
   "source": [
    "from glob import glob\n",
    "\n",
    "file_list = glob(\"data/daily-price/*.csv\")\n",
    "file_list"
   ]
  },
  {
   "cell_type": "code",
   "execution_count": null,
   "id": "bc20fd4b-da40-4e3c-933c-1da0501b6883",
   "metadata": {},
   "outputs": [],
   "source": [
    "df_list = []\n",
    "for file_path in file_list:\n",
    "    df_temp = pd.read_csv(file_path, encoding='cp949')\n",
    "    df_list.append(df_temp)"
   ]
  },
  {
   "cell_type": "code",
   "execution_count": null,
   "id": "2d5bd678-123e-4ae8-9212-f6f62935e958",
   "metadata": {},
   "outputs": [],
   "source": [
    "raw = pd.concat(df_list)\n",
    "raw.shape"
   ]
  },
  {
   "cell_type": "code",
   "execution_count": null,
   "id": "1174ed0c-3980-4da9-a2d8-501140b3025b",
   "metadata": {},
   "outputs": [],
   "source": [
    "raw.head()"
   ]
  },
  {
   "cell_type": "code",
   "execution_count": null,
   "id": "b7077db1-d72a-4eb1-a575-b4b47e0c71fc",
   "metadata": {},
   "outputs": [],
   "source": [
    "# 원본 데이터의 컬럼명을 한글로 변환합니다.\n",
    "df = raw.rename(columns=col_dict)"
   ]
  },
  {
   "cell_type": "code",
   "execution_count": null,
   "id": "f4c049ab-6a5f-4437-a390-8152419d6fba",
   "metadata": {},
   "outputs": [],
   "source": [
    "# 변환된 데이터의 첫 몇 줄을 확인합니다.\n",
    "df.head()"
   ]
  },
  {
   "cell_type": "markdown",
   "id": "318b9d38-8307-4dba-9731-bbc8d5eb1689",
   "metadata": {},
   "source": [
    "## 기초 기술통계"
   ]
  },
  {
   "cell_type": "code",
   "execution_count": null,
   "id": "945b5d3d-6434-4676-9be0-6d41391094bf",
   "metadata": {},
   "outputs": [],
   "source": [
    "df.info()"
   ]
  },
  {
   "cell_type": "code",
   "execution_count": null,
   "id": "ef1a3e9c-93a0-404c-9337-39efe23d6797",
   "metadata": {},
   "outputs": [],
   "source": [
    "df.describe()"
   ]
  },
  {
   "cell_type": "code",
   "execution_count": null,
   "id": "2b5e2ba2-8ad9-4fbb-b31f-031efe2aea47",
   "metadata": {},
   "outputs": [],
   "source": [
    "df.hist(figsize=(10, 10), bins=50);"
   ]
  },
  {
   "cell_type": "code",
   "execution_count": null,
   "id": "77eebb3f-e060-4f67-8e19-f3c308870352",
   "metadata": {},
   "outputs": [],
   "source": [
    "df.describe(exclude=\"number\")"
   ]
  },
  {
   "cell_type": "markdown",
   "id": "e41d18fc-1f7c-4188-9569-ce7630231ada",
   "metadata": {},
   "source": [
    "### 유일값 분석"
   ]
  },
  {
   "cell_type": "code",
   "execution_count": null,
   "id": "1c90204c-8c70-4c17-83ca-d1b7707e7f03",
   "metadata": {},
   "outputs": [],
   "source": [
    "df.nunique()"
   ]
  },
  {
   "cell_type": "code",
   "execution_count": null,
   "id": "74bd716a-27ff-4144-8b0f-6faaac1e5b84",
   "metadata": {},
   "outputs": [],
   "source": [
    "nuniq = df.nunique() \n",
    "nuniq[nuniq > 1]"
   ]
  },
  {
   "cell_type": "markdown",
   "id": "6af43760-e6e1-4947-85b9-a324b77d68ce",
   "metadata": {},
   "source": [
    "## 데이터 타입 변경"
   ]
  },
  {
   "cell_type": "code",
   "execution_count": null,
   "id": "8bc26eba-8a58-4cf7-9e12-3a7894b4d65d",
   "metadata": {},
   "outputs": [],
   "source": [
    "df[\"가격등록일자\"] = pd.to_datetime(df[\"가격등록일자\"].astype(str))"
   ]
  },
  {
   "cell_type": "markdown",
   "id": "aab88b69-e418-4394-8e8a-3a24344b2fa4",
   "metadata": {},
   "source": [
    "## 빈도 분석"
   ]
  },
  {
   "cell_type": "code",
   "execution_count": null,
   "id": "c9310cd5-9a79-4362-9a83-30699d323120",
   "metadata": {},
   "outputs": [],
   "source": [
    "df[\"품종명\"].value_counts()"
   ]
  },
  {
   "cell_type": "markdown",
   "id": "fc451483-1bdf-45f6-a960-5486610e06ec",
   "metadata": {},
   "source": [
    "## 범주별 가격 분석"
   ]
  },
  {
   "cell_type": "code",
   "execution_count": null,
   "id": "bb0cbcae-3102-425a-9926-bfbae960fc75",
   "metadata": {},
   "outputs": [],
   "source": [
    "df.columns"
   ]
  },
  {
   "cell_type": "code",
   "execution_count": null,
   "id": "4180ec03-86ee-49dd-81ae-725cc4ca579c",
   "metadata": {},
   "outputs": [],
   "source": [
    "pd.crosstab(df['조사구분명'], df['산물등급명'])"
   ]
  },
  {
   "cell_type": "code",
   "execution_count": null,
   "id": "11a14884-802c-4694-a28e-ab9f3c023338",
   "metadata": {},
   "outputs": [],
   "source": [
    "plt.figure(figsize=(8, 3))\n",
    "sns.barplot(data=df, x='산물등급명', y='품목가격')\n",
    "plt.show()"
   ]
  },
  {
   "cell_type": "code",
   "execution_count": null,
   "id": "a4524f25-81e3-4207-8826-c8650e5a5b48",
   "metadata": {},
   "outputs": [],
   "source": [
    "plt.figure(figsize=(16, 3))\n",
    "sns.barplot(data=df, x='품목명', y='품목가격')\n",
    "plt.show()"
   ]
  },
  {
   "cell_type": "code",
   "execution_count": null,
   "id": "88b3fd06-a1a5-4e77-b88c-cd70f1c59c1a",
   "metadata": {},
   "outputs": [],
   "source": [
    "plt.figure(figsize=(16, 3))\n",
    "sns.barplot(data=df, x='품목명', y='품목가격', hue=\"할인가격여부\")\n",
    "plt.show()"
   ]
  },
  {
   "cell_type": "code",
   "execution_count": null,
   "id": "abcce5ca-9deb-47f5-9311-7fa373094d3c",
   "metadata": {},
   "outputs": [],
   "source": [
    "pd.crosstab(df[\"할인가격여부\"], df[\"품목명\"])"
   ]
  },
  {
   "cell_type": "code",
   "execution_count": null,
   "id": "77bd2747-f89c-4136-8af5-84faf89e0d21",
   "metadata": {},
   "outputs": [],
   "source": [
    "df.groupby([\"품목명\", \"할인가격여부\"])[\"품목가격\"].mean().unstack().style.format(\"{:,.0f}\")"
   ]
  },
  {
   "cell_type": "code",
   "execution_count": null,
   "id": "8d69e00b-6b14-449d-a6a7-6c6d56dd210b",
   "metadata": {},
   "outputs": [],
   "source": [
    "plt.figure(figsize=(8, 3))\n",
    "sns.barplot(data=df, x='산물등급명', y='품목가격')\n",
    "plt.show()"
   ]
  },
  {
   "cell_type": "code",
   "execution_count": null,
   "id": "67a51b40-882b-41cc-8af4-b9724002b3c8",
   "metadata": {},
   "outputs": [],
   "source": [
    "plt.figure(figsize=(8, 3))\n",
    "sns.barplot(data=df, x='산물등급명', y='품목가격', hue=\"할인가격여부\")\n",
    "plt.show()"
   ]
  },
  {
   "cell_type": "markdown",
   "id": "bcd35c9f-7ec5-4af4-9e87-a9e3c1bdbe66",
   "metadata": {},
   "source": [
    "## 상관 분석"
   ]
  },
  {
   "cell_type": "code",
   "execution_count": null,
   "id": "87366d20-a600-4a13-a7ba-c4925ce9ad52",
   "metadata": {},
   "outputs": [],
   "source": [
    "corr = df.corr(numeric_only=True).dropna(axis=0, how=\"all\").dropna(axis=1, how=\"all\")\n",
    "corr"
   ]
  },
  {
   "cell_type": "code",
   "execution_count": null,
   "id": "8b9a97a6-03ae-4541-b97c-299419344108",
   "metadata": {},
   "outputs": [],
   "source": [
    "mask = np.triu(np.ones_like(corr))"
   ]
  },
  {
   "cell_type": "code",
   "execution_count": null,
   "id": "6d5d52df-17de-41c7-a306-ad41c1f7549c",
   "metadata": {},
   "outputs": [],
   "source": [
    "sns.heatmap(corr, annot=True, fmt=\".2f\", mask=mask, cmap=\"seismic\")"
   ]
  },
  {
   "cell_type": "markdown",
   "id": "e19a4adc-c391-4f22-914a-db411ec8d0e2",
   "metadata": {},
   "source": [
    "## 추가로 해볼 수 있는 것\n",
    "* 시계열 분석: 월별, 계절별 가격 변동 추이를 시각화하고 품목별로 비교합니다.\n",
    "* 지리적 분석: 시도별, 시군구별 평균 가격을 비교하고 지도 시각화를 수행합니다.\n",
    "* 할인 효과 모델링: 할인 여부에 따른 판매량 변화를 시계열로 분석하고, 할인 폭과 판매량 증가 사이의 관계를 모델링합니다.\n",
    "* 프리미엄 계산: 품종별, 등급별 평균 가격을 비교하고 프리미엄을 계산합니다.\n",
    "* 유통 마진 분석: 도매가와 소매가의 차이를 품목별, 시기별로 비교하고, 유통 단계별 가격 변동의 시차 효과를 분석합니다."
   ]
  },
  {
   "cell_type": "code",
   "execution_count": null,
   "id": "35fd7747-2096-44d1-884a-b4cde229026a",
   "metadata": {},
   "outputs": [],
   "source": []
  },
  {
   "cell_type": "code",
   "execution_count": null,
   "id": "621cc1e9-db72-4fa5-9083-a371c47b8276",
   "metadata": {},
   "outputs": [],
   "source": []
  }
 ],
 "metadata": {
  "kernelspec": {
   "display_name": "Python 3 (ipykernel)",
   "language": "python",
   "name": "python3"
  },
  "language_info": {
   "codemirror_mode": {
    "name": "ipython",
    "version": 3
   },
   "file_extension": ".py",
   "mimetype": "text/x-python",
   "name": "python",
   "nbconvert_exporter": "python",
   "pygments_lexer": "ipython3",
   "version": "3.11.4"
  }
 },
 "nbformat": 4,
 "nbformat_minor": 5
}
