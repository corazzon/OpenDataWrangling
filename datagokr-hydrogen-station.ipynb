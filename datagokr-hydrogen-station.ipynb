{
 "cells": [
  {
   "cell_type": "markdown",
   "id": "cdbdc9f1-872a-4125-aa08-4222a5e69300",
   "metadata": {},
   "source": [
    "### 한국가스공사 수소충전소 현황\n",
    "* 수소유통센터에서 조사된 수소충전소 위치 및 가격, 영업시간 등 수소충전소 운영현황으로 수소 차 이용자들의 편의 증대 및 수소 충전소 보급 현황 조회 가능\n",
    "* 기타 유의사항 : 이용가능 요일은 운영일은 1 휴무일은 0으로 (월/화/수/목/금/토/일/공휴일) 8자리로 표시됩니다. (예시 : 평일운영, 주말 휴무, 공휴일 휴무인 경우 11111000) 추가적으로, 충전소에서 귀 기관으로 제공하지 않는 정보(예 : 전화번호)는 공란으로 되어있으므로 참고 바랍니다.\n",
    "* 공공데이터포털 출처 자료이나 현 시점에서는 제공되지 않아 대체 데이터 링크를 제공합니다. 대체 데이터보다 다양한 변수를 제공하기 때문에 해당 수소충전소현황 데이터를 사용합니다. https://www.data.go.kr/data/15090186/fileData.do"
   ]
  },
  {
   "cell_type": "code",
   "execution_count": null,
   "id": "901ff262-31e1-436a-9ec1-eee67de18fcf",
   "metadata": {},
   "outputs": [],
   "source": [
    "# 군집분석, folium 지도시각화를 위한 라이브러리 설치가 필요합니다.\n",
    "# !pip install -Uq koreanize-matplotlib scikit-learn folium"
   ]
  },
  {
   "cell_type": "code",
   "execution_count": null,
   "id": "fe4f9b95-5c53-4f8a-905e-f94eb0919899",
   "metadata": {},
   "outputs": [],
   "source": [
    "import re\n",
    "import pandas as pd\n",
    "import numpy as np\n",
    "import seaborn as sns\n",
    "import matplotlib.pyplot as plt\n",
    "import koreanize_matplotlib"
   ]
  },
  {
   "cell_type": "markdown",
   "id": "c707e6e2-ecb9-40d4-99f6-e03639e178c4",
   "metadata": {},
   "source": [
    "### 데이터로드"
   ]
  },
  {
   "cell_type": "code",
   "execution_count": null,
   "id": "3fe131a4-2288-4f43-89dd-79cdca997ca8",
   "metadata": {},
   "outputs": [],
   "source": [
    "df = pd.read_csv(\"hydrogen-station.csv\", encoding=\"cp949\")\n",
    "df.shape"
   ]
  },
  {
   "cell_type": "code",
   "execution_count": null,
   "id": "a5946393-93fa-4354-8233-92402924fb4b",
   "metadata": {},
   "outputs": [],
   "source": [
    "df.columns"
   ]
  },
  {
   "cell_type": "code",
   "execution_count": null,
   "id": "1c215946-956d-46cd-99e4-2366e51bf5e9",
   "metadata": {},
   "outputs": [],
   "source": [
    "df.info()"
   ]
  },
  {
   "cell_type": "markdown",
   "id": "872cebcf-55de-41e8-b916-98fabf09a87c",
   "metadata": {},
   "source": [
    "### 기초 기술 통계"
   ]
  },
  {
   "cell_type": "code",
   "execution_count": null,
   "id": "92009ffb-1856-4ac4-83ce-7af7fea4a214",
   "metadata": {},
   "outputs": [],
   "source": [
    "df.describe().style.format(\"{:.0f}\")"
   ]
  },
  {
   "cell_type": "code",
   "execution_count": null,
   "id": "f279bf4e-fa28-4d4c-9551-69c5a9cd8a45",
   "metadata": {},
   "outputs": [],
   "source": [
    "df.describe(exclude=\"number\")"
   ]
  },
  {
   "cell_type": "code",
   "execution_count": null,
   "id": "76420577-1c63-4c2e-b8c4-4b00848b1e4a",
   "metadata": {},
   "outputs": [],
   "source": [
    "# df = raw.melt(id_vars=['순번', '충전소_관리번호', '충전소_명', '전화번호', '도로명주소', '지번주소', '충전소_유형코드',\n",
    "#        '충전소_유형명', '충전소유형비고', '충전가능차량코드', '충전가능차량', '판매가격', '이용가능요일', '경도', '위도'],\n",
    "#               var_name=\"요일\", value_name=\"시간\")\n",
    "# df.shape"
   ]
  },
  {
   "cell_type": "code",
   "execution_count": null,
   "id": "f4324a15-96e7-473c-9ac7-45e41194fd65",
   "metadata": {},
   "outputs": [],
   "source": [
    "df"
   ]
  },
  {
   "cell_type": "markdown",
   "id": "5e106899-6161-40b1-bca1-084bed54a23f",
   "metadata": {},
   "source": [
    "### 정규표현식을 사용한 전화번호 마스크처리"
   ]
  },
  {
   "cell_type": "code",
   "execution_count": null,
   "id": "40f9ff6b-8679-4ca5-a6b8-7225d80c5792",
   "metadata": {
    "scrolled": true
   },
   "outputs": [],
   "source": [
    "# 정규표현식을 사용하여 가운데 번호를 마스크 처리하는 함수\n",
    "def mask_middle_number(phone_number):\n",
    "    if not pd.isna(phone_number):\n",
    "        return re.sub(r'(\\d{2,4}-)\\d{2,4}(-\\d{4})', r'\\1****\\2', phone_number)\n",
    "\n",
    "# 전화번호 컬럼에 함수 적용\n",
    "df['전화번호마스크'] = df['전화번호'].apply(mask_middle_number)\n",
    "df[['전화번호', '전화번호마스크']]"
   ]
  },
  {
   "cell_type": "markdown",
   "id": "90b0946c-d78b-492d-b96a-25c2514e4506",
   "metadata": {},
   "source": [
    "### 시도명 파생변수 만들기"
   ]
  },
  {
   "cell_type": "code",
   "execution_count": null,
   "id": "7a595f3d-e2a2-4f38-a371-fd2335561099",
   "metadata": {},
   "outputs": [],
   "source": [
    "# 시도명 추출 함수\n",
    "def extract_sido(address):\n",
    "    if pd.isna(address):\n",
    "        return 'N/A'\n",
    "    # 공백을 기준으로 분할하여 첫 번째 요소를 시도명으로 추출\n",
    "    return address.split()[0]\n",
    "\n",
    "# 시도명 추출\n",
    "df['시도명'] = df['도로명주소'].apply(extract_sido)"
   ]
  },
  {
   "cell_type": "code",
   "execution_count": null,
   "id": "25d21dec-a226-48eb-a30a-619665d664a5",
   "metadata": {},
   "outputs": [],
   "source": [
    "pd.crosstab(df[\"시도명\"], df[\"충전소_유형명\"])"
   ]
  },
  {
   "cell_type": "markdown",
   "id": "c033380d-8355-449c-8e8b-90c54f953300",
   "metadata": {},
   "source": [
    "### 충전소유형비고, 충전가능차량에 대한 교차표 생성"
   ]
  },
  {
   "cell_type": "code",
   "execution_count": null,
   "id": "d5467363-3884-4752-908d-0578dcd2c30a",
   "metadata": {},
   "outputs": [],
   "source": [
    "pd.crosstab(df[\"충전소유형비고\"], df['충전가능차량'])"
   ]
  },
  {
   "cell_type": "code",
   "execution_count": null,
   "id": "5ef19dbc-04fc-4b32-90d4-b2dc3fc36264",
   "metadata": {},
   "outputs": [],
   "source": [
    "# 충전소유형비고 열의 값을 쉼표(,)로 분리하여 새로운 행으로 확장\n",
    "df_expanded = df['충전소유형비고'].str.split(',', expand=True).stack().reset_index(level=1, drop=True).str.strip()\n",
    "df_expanded = df_expanded.reset_index().rename(columns={0: '충전소유형비고'})\n",
    "df_expanded"
   ]
  },
  {
   "cell_type": "code",
   "execution_count": null,
   "id": "3b6b9567-711f-4a74-93b6-a37697ab3c4d",
   "metadata": {},
   "outputs": [],
   "source": [
    "# 충전가능차량 열을 원래의 인덱스를 기준으로 병합\n",
    "df_expanded = df_expanded.join(df[['시도명', '충전가능차량']], on='index')\n",
    "df_expanded"
   ]
  },
  {
   "cell_type": "code",
   "execution_count": null,
   "id": "6bf8e3a7-38f8-4d39-8c37-c21cb08ff78f",
   "metadata": {},
   "outputs": [],
   "source": [
    "# 교차표 생성\n",
    "pd.crosstab(df_expanded[\"충전소유형비고\"], df_expanded['충전가능차량'])"
   ]
  },
  {
   "cell_type": "code",
   "execution_count": null,
   "id": "0b4ddaf3-376a-4e30-81ca-833ff4a7cd45",
   "metadata": {},
   "outputs": [],
   "source": [
    "pd.crosstab(df_expanded['시도명'], df_expanded[\"충전소유형비고\"])"
   ]
  },
  {
   "cell_type": "markdown",
   "id": "006afc43-0a4e-45c3-8d59-0d02dda80259",
   "metadata": {},
   "source": [
    "# Prompt : \n",
    "```\n",
    "같은 시도인데도 '경기', '경기도' 처럼 다른 명칭으로 되어 있는 시도가 많습니다. 일관되게 작성하여 교차표를 작성했을 때 다른 시도로 집계되지 않도록 코드를 작성해 주세요.\n",
    "\n",
    "array(['인천', '서울', '경북', '충청북도', '전북', '충남', '경남', '충북', '울산', 'N/A',\n",
    "       '대구', '대전', '경기', '경상남도', '전남', '광주', '부산', '강원특별자치도', '경기도',\n",
    "       '부산광역시', '인천광역시', '전라북도', '서울특별시', '충청남도', '대전광역시', '광주광역시',\n",
    "       '울산광역시', '대구광역시', '세종특별자치시', '전라남도'], dtype=object)\n",
    "```"
   ]
  },
  {
   "cell_type": "code",
   "execution_count": null,
   "id": "31768405-4ee6-480b-88a7-50f1dc74d8a8",
   "metadata": {},
   "outputs": [],
   "source": [
    "df[\"시도명\"].unique()"
   ]
  },
  {
   "cell_type": "code",
   "execution_count": null,
   "id": "24ab368c-8887-4c8d-addf-54a006e415e2",
   "metadata": {},
   "outputs": [],
   "source": [
    "# 시도명 표준화 사전\n",
    "standardize_sido = {\n",
    "    '서울특별시': '서울',\n",
    "    '부산광역시': '부산',\n",
    "    '대구광역시': '대구',\n",
    "    '인천광역시': '인천',\n",
    "    '광주광역시': '광주',\n",
    "    '대전광역시': '대전',\n",
    "    '울산광역시': '울산',\n",
    "    '세종특별자치시': '세종',\n",
    "    '경기': '경기도',\n",
    "    '경기도': '경기도',\n",
    "    '충청북도': '충북',\n",
    "    '충북': '충북',\n",
    "    '충청남도': '충남',\n",
    "    '충남': '충남',\n",
    "    '전라북도': '전북',\n",
    "    '전북': '전북',\n",
    "    '전라남도': '전남',\n",
    "    '전남': '전남',\n",
    "    '경상북도': '경북',\n",
    "    '경북': '경북',\n",
    "    '경상남도': '경남',\n",
    "    '경남': '경남',\n",
    "    '강원특별자치도': '강원'\n",
    "}\n",
    "\n",
    "# 시도명을 표준화\n",
    "df_expanded['시도'] = df_expanded['시도명'].map(standardize_sido)"
   ]
  },
  {
   "cell_type": "code",
   "execution_count": null,
   "id": "e8ab036d-b391-4963-a757-5c0776f6f583",
   "metadata": {},
   "outputs": [],
   "source": [
    "pd.crosstab(df_expanded['시도'], df_expanded[\"충전소유형비고\"])"
   ]
  },
  {
   "cell_type": "markdown",
   "id": "03b1b3c4-8102-43a4-acfc-ff98bfa3a64d",
   "metadata": {},
   "source": [
    "### 충전소 위치, 차량 종류에 따른 판매가격 분석"
   ]
  },
  {
   "cell_type": "code",
   "execution_count": null,
   "id": "c945ac3c-9ccb-483d-9eb0-ad6b41a5fc5c",
   "metadata": {},
   "outputs": [],
   "source": [
    "# 시도명, 차량 종류별 평균 판매가격 계산\n",
    "avg_price_by_location_type_vehicle = df.groupby(['시도', '충전가능차량'])['판매가격'].mean().reset_index()\n",
    "avg_price_by_location_type_vehicle.nlargest(10, \"판매가격\")"
   ]
  },
  {
   "cell_type": "code",
   "execution_count": null,
   "id": "5d04abb2-4b1e-4fef-8c77-ef96a03f94e8",
   "metadata": {},
   "outputs": [],
   "source": [
    "avg_price_by_location_type_vehicle.nsmallest(10, \"판매가격\")"
   ]
  },
  {
   "cell_type": "markdown",
   "id": "76fc88fd-3207-4f0c-93e7-2e35a2fef782",
   "metadata": {},
   "source": [
    "### 군집 분석\n",
    "* https://scikit-learn.org/stable/modules/clustering.html#k-means\n",
    "* https://scikit-learn.org/stable/modules/generated/sklearn.cluster.KMeans.html#sklearn.cluster.KMeans"
   ]
  },
  {
   "cell_type": "code",
   "execution_count": null,
   "id": "fe5bf581-887a-413c-85f6-d391b9e880a2",
   "metadata": {},
   "outputs": [],
   "source": [
    "# 라이브러리 설치가 필요합니다.\n",
    "# !pip install -Uq scikit-learn"
   ]
  },
  {
   "cell_type": "code",
   "execution_count": null,
   "id": "57b9c772-9dc8-4abc-924e-480a2a0a74d0",
   "metadata": {},
   "outputs": [],
   "source": [
    "from sklearn.cluster import KMeans\n",
    "# K-means 클러스터링\n",
    "kmeans = KMeans(n_clusters=7, n_init=\"auto\", random_state=42)\n",
    "df['cluster'] = kmeans.fit_predict(df[['경도', '위도']])\n",
    "df"
   ]
  },
  {
   "cell_type": "code",
   "execution_count": null,
   "id": "2d41c98e-bf5d-4a00-bfb1-9ec8a4c28153",
   "metadata": {},
   "outputs": [],
   "source": [
    "# 군집별 평균 판매가격 계산\n",
    "cluster_mean_price = df.groupby('cluster')['판매가격'].mean()\n",
    "cluster_count = df.groupby('cluster')['판매가격'].count()\n",
    "\n",
    "# 군집별 주요 시도 찾기\n",
    "cluster_major_region = df.groupby('cluster')['시도'].apply(lambda x: \", \".join(x.value_counts().index[:5].tolist()))\n",
    "\n",
    "# 결과를 데이터프레임으로 만들기\n",
    "result_df = pd.DataFrame({\n",
    "    '주요_시도': cluster_major_region,\n",
    "    '평균_판매가격': cluster_mean_price,\n",
    "    '충전소수' : cluster_count\n",
    "})\n",
    "\n",
    "# 결과 출력\n",
    "result_df"
   ]
  },
  {
   "cell_type": "code",
   "execution_count": null,
   "id": "2ef94aa7-8121-497c-a20d-55c6fb7a0548",
   "metadata": {},
   "outputs": [],
   "source": [
    "df[[\"위도\", \"경도\"]].describe()"
   ]
  },
  {
   "cell_type": "code",
   "execution_count": null,
   "id": "6fea46d0-b0a1-4d13-a307-cfb7296a10d4",
   "metadata": {},
   "outputs": [],
   "source": [
    "sns.scatterplot(data=df, x=\"경도\", y=\"위도\", hue=\"cluster\")"
   ]
  },
  {
   "cell_type": "markdown",
   "id": "28981fca-3b32-4d7b-b555-1a62b24e4140",
   "metadata": {},
   "source": [
    "### folium 을 통한 지도 시각화\n",
    "\n",
    "[Getting started — Folium documentation](https://python-visualization.github.io/folium/latest/getting_started.html)"
   ]
  },
  {
   "cell_type": "code",
   "execution_count": null,
   "id": "c149ee76-9f14-4365-9e6c-f9bfc78cd061",
   "metadata": {},
   "outputs": [],
   "source": [
    "# !pip install -Uq scikit-learn"
   ]
  },
  {
   "cell_type": "code",
   "execution_count": null,
   "id": "4bfcf73f-3994-4d5a-add9-941f168054c3",
   "metadata": {},
   "outputs": [],
   "source": [
    "folium_center = df[[\"위도\", \"경도\"]].mean().tolist()\n",
    "folium_center"
   ]
  },
  {
   "cell_type": "code",
   "execution_count": null,
   "id": "dcf23529-61c5-4374-86b4-178cd05b0363",
   "metadata": {},
   "outputs": [],
   "source": [
    "import folium\n",
    "# 지도 생성\n",
    "fm = folium.Map(location=folium_center, zoom_start=7)\n",
    "\n",
    "# 클러스터별 색상 정의\n",
    "cluster_colors = ['red', 'blue', 'green', 'purple', 'orange', 'pink', 'darkblue']\n",
    "\n",
    "# 충전소 위치에 마커 추가\n",
    "for idx, row in df.iterrows():\n",
    "    tooltip_desc = f\"{row['충전소_명']} - {row['도로명주소']}\"\n",
    "    color = cluster_colors[row[\"cluster\"]]\n",
    "    folium.Marker(\n",
    "        location=[row['위도'], row['경도']],\n",
    "        tooltip=tooltip_desc,\n",
    "        icon=folium.Icon(color=color, icon='charging-station', prefix='fa')\n",
    "    ).add_to(fm)\n",
    "\n",
    "# 지도 저장\n",
    "fm.save('charging_stations_map.html')\n",
    "\n",
    "# 지도 표시 (주피터 노트북에서만 사용)\n",
    "fm"
   ]
  },
  {
   "cell_type": "code",
   "execution_count": null,
   "id": "f562e4fb-0de0-4aa2-82e7-2ca4ec62079d",
   "metadata": {},
   "outputs": [],
   "source": []
  },
  {
   "cell_type": "code",
   "execution_count": null,
   "id": "df724233-4ee8-4928-a3d4-72f5d40b3b69",
   "metadata": {},
   "outputs": [],
   "source": []
  },
  {
   "cell_type": "code",
   "execution_count": null,
   "id": "1981498a-f0c9-4c31-ae24-ab28482fe546",
   "metadata": {},
   "outputs": [],
   "source": []
  }
 ],
 "metadata": {
  "kernelspec": {
   "display_name": "Python 3 (ipykernel)",
   "language": "python",
   "name": "python3"
  },
  "language_info": {
   "codemirror_mode": {
    "name": "ipython",
    "version": 3
   },
   "file_extension": ".py",
   "mimetype": "text/x-python",
   "name": "python",
   "nbconvert_exporter": "python",
   "pygments_lexer": "ipython3",
   "version": "3.11.4"
  }
 },
 "nbformat": 4,
 "nbformat_minor": 5
}
