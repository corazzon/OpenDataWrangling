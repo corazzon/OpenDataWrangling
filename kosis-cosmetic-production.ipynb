{
 "cells": [
  {
   "cell_type": "markdown",
   "id": "2273cb3e-2b95-47f9-80cb-82721f4e9dad",
   "metadata": {},
   "source": [
    "* 식품의약품안전처,「화장품산업현황」, 화장품 유형별 책임판매업체 생산실적\n",
    "    * https://kosis.kr/statHtml/statHtml.do?orgId=145&tblId=DT_145011_A013&conn_path=I2"
   ]
  },
  {
   "cell_type": "code",
   "execution_count": null,
   "id": "89531fca-0b1f-4a9d-8e72-304743f95916",
   "metadata": {},
   "outputs": [],
   "source": [
    "# 필요한 라이브러리 설치 및 임포트\n",
    "# !pip install -Uq plotly"
   ]
  },
  {
   "cell_type": "code",
   "execution_count": null,
   "id": "5b1d34e8-0b54-4b6c-b2b7-6eb18faa6f67",
   "metadata": {},
   "outputs": [],
   "source": [
    "import pandas as pd\n",
    "import plotly.express as px\n",
    "import plotly.graph_objects as go"
   ]
  },
  {
   "cell_type": "markdown",
   "id": "6dc68b08-fc18-4414-b4e0-ffe31fdd7edc",
   "metadata": {},
   "source": [
    "## 데이터 준비 및 기초 기술 통계 확인"
   ]
  },
  {
   "cell_type": "code",
   "execution_count": null,
   "id": "c733b68c-2bab-45ab-b2a2-58d281f2187d",
   "metadata": {},
   "outputs": [],
   "source": [
    "df = pd.read_csv(\"data/cosmetic-production.csv\", encoding=\"cp949\")\n",
    "df.shape"
   ]
  },
  {
   "cell_type": "code",
   "execution_count": null,
   "id": "b6617001-ca7b-4915-9315-9455b48b7521",
   "metadata": {},
   "outputs": [],
   "source": [
    "df.head()"
   ]
  },
  {
   "cell_type": "code",
   "execution_count": null,
   "id": "ef962277-7c86-4bba-93e4-ff3d1c10317f",
   "metadata": {},
   "outputs": [],
   "source": [
    "df.columns = ['유형', '연도', '억원']\n",
    "df.head()"
   ]
  },
  {
   "cell_type": "code",
   "execution_count": null,
   "id": "8a4b90b6-9f68-4b60-9eb8-725e36f4fd55",
   "metadata": {},
   "outputs": [],
   "source": [
    "df.info()"
   ]
  },
  {
   "cell_type": "code",
   "execution_count": null,
   "id": "fc4a68f7-1d7b-4369-8ecd-2145f5aeb233",
   "metadata": {},
   "outputs": [],
   "source": [
    "df.describe()"
   ]
  },
  {
   "cell_type": "markdown",
   "id": "7263ead3-671e-4a80-bb6a-b2225d809df1",
   "metadata": {},
   "source": [
    "## plotly express를 활용한 데이터 시각화 "
   ]
  },
  {
   "cell_type": "code",
   "execution_count": null,
   "id": "57d0d6a8-743a-4fdc-a93a-4cf1543e58f5",
   "metadata": {},
   "outputs": [],
   "source": [
    "px.histogram(df, x='억원')"
   ]
  },
  {
   "cell_type": "code",
   "execution_count": null,
   "id": "0bdc92c6-ed2d-4a08-8ff1-0025ef424846",
   "metadata": {},
   "outputs": [],
   "source": [
    "px.histogram(df, x='억원', histnorm=\"density\")"
   ]
  },
  {
   "cell_type": "code",
   "execution_count": null,
   "id": "90a668af-f98f-4520-aff0-89271cd5ad87",
   "metadata": {},
   "outputs": [],
   "source": [
    "# 빈도 시각화\n",
    "px.histogram(df, x='유형')"
   ]
  },
  {
   "cell_type": "markdown",
   "id": "8b8570d9-9f28-4cf1-9efc-1f83b54998ea",
   "metadata": {},
   "source": [
    "## 코로나 전후의 연간 생산량 변화 분석"
   ]
  },
  {
   "cell_type": "code",
   "execution_count": null,
   "id": "35f2a3f8-5022-4bb4-987a-11576f09d209",
   "metadata": {},
   "outputs": [],
   "source": [
    "df.loc[df[\"연도\"] > 2019, \"코로나전후\"] = \"후\"\n",
    "df.loc[df[\"연도\"] <= 2019, \"코로나전후\"] = \"전\""
   ]
  },
  {
   "cell_type": "code",
   "execution_count": null,
   "id": "ab2d33c8-dad9-4952-9754-22528b57f60e",
   "metadata": {},
   "outputs": [],
   "source": [
    "df[\"코로나전후\"].value_counts()"
   ]
  },
  {
   "cell_type": "code",
   "execution_count": null,
   "id": "d4381ede-9fdc-436d-91c1-5bd72b73ed8c",
   "metadata": {},
   "outputs": [],
   "source": [
    "df.groupby([\"연도\", \"유형\"])[\"억원\"].mean().unstack()"
   ]
  },
  {
   "cell_type": "code",
   "execution_count": null,
   "id": "1fb013ab-923c-4df2-99ca-a6144f314517",
   "metadata": {},
   "outputs": [],
   "source": [
    "df.groupby([\"연도\", \"유형\"])[\"억원\"].mean().unstack().style.background_gradient()"
   ]
  },
  {
   "cell_type": "code",
   "execution_count": null,
   "id": "bebb56f1-6109-4146-b3db-6656ba743d73",
   "metadata": {},
   "outputs": [],
   "source": [
    "px.histogram(df, x='유형', y=\"억원\", histfunc=\"avg\", barnorm=\"fraction\", \n",
    "             color=\"코로나전후\", title=\"평균 생산량 억원 단위\")"
   ]
  },
  {
   "cell_type": "code",
   "execution_count": null,
   "id": "ba71bec6-74f4-4e2f-9e78-0ded6013cdd1",
   "metadata": {},
   "outputs": [],
   "source": [
    "# histfunc 으로 연산 기능 \n",
    "px.histogram(df, x='유형', y=\"억원\", histfunc=\"avg\", title=\"평균 생산량 억원 단위\")"
   ]
  },
  {
   "cell_type": "code",
   "execution_count": null,
   "id": "2754f0fb-72b3-43c3-add8-0897d537acc1",
   "metadata": {},
   "outputs": [],
   "source": [
    "px.histogram(df, x='유형', y=\"억원\", histfunc=\"sum\", title=\"합계 생산량 억원 단위\")"
   ]
  },
  {
   "cell_type": "code",
   "execution_count": null,
   "id": "d6212d9f-892b-4471-aa59-1b2374edd9d2",
   "metadata": {},
   "outputs": [],
   "source": [
    "# 연간 생산량 막대 그래프\n",
    "px.bar(df, x='연도', y='억원', title='연간 생산량 (억원)', color='유형')"
   ]
  },
  {
   "cell_type": "code",
   "execution_count": null,
   "id": "a0d4a72b-b1da-4770-9240-07dd9f8f2464",
   "metadata": {},
   "outputs": [],
   "source": [
    "# 연간 생산량 막대 그래프\n",
    "px.bar(df, x='연도', y='억원', title='연간 생산량 (억원)', color='유형')"
   ]
  },
  {
   "cell_type": "code",
   "execution_count": null,
   "id": "ba52cf86-7c68-4422-b340-78c02f34d14e",
   "metadata": {},
   "outputs": [],
   "source": [
    "# 연간 생산량 선 그래프\n",
    "px.line(df, x='연도', y='억원', title='연간 생산량 (억원)', color='유형')"
   ]
  },
  {
   "cell_type": "markdown",
   "id": "e449fe87-f8a5-483a-a106-f79aaa13bd75",
   "metadata": {},
   "source": [
    "## 서브플롯을 통한 시각화"
   ]
  },
  {
   "cell_type": "code",
   "execution_count": null,
   "id": "cc0cad46-616b-43d6-8404-59ce47994428",
   "metadata": {},
   "outputs": [],
   "source": [
    "# 연간 생산량 선 그래프\n",
    "px.line(df, x='연도', y='억원', title='연간 생산량 (억원)', color='유형', \n",
    "        facet_col=\"유형\", facet_col_wrap=4, height=500)"
   ]
  },
  {
   "cell_type": "markdown",
   "id": "3285b270-38e0-40c9-9000-856b926c484a",
   "metadata": {},
   "source": [
    "## 로그 스케일을 통한 변화량 비교"
   ]
  },
  {
   "cell_type": "code",
   "execution_count": null,
   "id": "ffc34f55-2576-4ffd-9346-a396a2f41baa",
   "metadata": {},
   "outputs": [],
   "source": [
    "# 데이터 정렬 및 그룹화\n",
    "df = df.sort_values(by=['유형', '연도'])\n",
    "df['누적금액'] = df.groupby('유형')['억원'].cumsum()  # 누적 금액"
   ]
  },
  {
   "cell_type": "code",
   "execution_count": null,
   "id": "d93d7fcb-49ab-41c4-b473-3604d662b0e2",
   "metadata": {},
   "outputs": [],
   "source": [
    "# 누적 생산량 선 그래프\n",
    "px.line(df, x='연도', y='누적금액', title='누적 생산량 (억원)', color='유형')"
   ]
  },
  {
   "cell_type": "code",
   "execution_count": null,
   "id": "d03ff418-31ce-4754-8430-dfb64c435f7a",
   "metadata": {},
   "outputs": [],
   "source": [
    "# 누적 생산량 선 그래프\n",
    "px.line(df, x='연도', y='누적금액', title='누적 생산량 (억원)', color='유형', log_y=True)"
   ]
  },
  {
   "cell_type": "code",
   "execution_count": null,
   "id": "e374e456-3d14-434c-8667-55818924151e",
   "metadata": {},
   "outputs": [],
   "source": []
  }
 ],
 "metadata": {
  "kernelspec": {
   "display_name": "Python 3 (ipykernel)",
   "language": "python",
   "name": "python3"
  },
  "language_info": {
   "codemirror_mode": {
    "name": "ipython",
    "version": 3
   },
   "file_extension": ".py",
   "mimetype": "text/x-python",
   "name": "python",
   "nbconvert_exporter": "python",
   "pygments_lexer": "ipython3",
   "version": "3.11.4"
  }
 },
 "nbformat": 4,
 "nbformat_minor": 5
}
