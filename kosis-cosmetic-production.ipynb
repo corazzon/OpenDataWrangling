{
 "cells": [
  {
   "cell_type": "markdown",
   "id": "2273cb3e-2b95-47f9-80cb-82721f4e9dad",
   "metadata": {},
   "source": [
    "* 식품의약품안전처,「화장품산업현황」, 화장품 유형별 책임판매업체 생산실적\n",
    "    * https://kosis.kr/statHtml/statHtml.do?orgId=145&tblId=DT_145011_A013&conn_path=I2"
   ]
  },
  {
   "cell_type": "code",
   "execution_count": null,
   "id": "89531fca-0b1f-4a9d-8e72-304743f95916",
   "metadata": {},
   "outputs": [],
   "source": [
    "# !pip install -Uq plotly"
   ]
  },
  {
   "cell_type": "code",
   "execution_count": null,
   "id": "5b1d34e8-0b54-4b6c-b2b7-6eb18faa6f67",
   "metadata": {},
   "outputs": [],
   "source": [
    "import pandas as pd\n",
    "import plotly.express as px\n",
    "import plotly.graph_objects as go"
   ]
  },
  {
   "cell_type": "code",
   "execution_count": null,
   "id": "c733b68c-2bab-45ab-b2a2-58d281f2187d",
   "metadata": {},
   "outputs": [],
   "source": [
    "df = pd.read_csv(\"data/cosmetic-production.csv\", encoding=\"cp949\")\n",
    "df.shape"
   ]
  },
  {
   "cell_type": "code",
   "execution_count": null,
   "id": "b6617001-ca7b-4915-9315-9455b48b7521",
   "metadata": {},
   "outputs": [],
   "source": [
    "df.head()"
   ]
  },
  {
   "cell_type": "code",
   "execution_count": null,
   "id": "ef962277-7c86-4bba-93e4-ff3d1c10317f",
   "metadata": {},
   "outputs": [],
   "source": [
    "df.columns = ['유형', '연도', '억원']\n",
    "df.head()"
   ]
  },
  {
   "cell_type": "code",
   "execution_count": null,
   "id": "8a4b90b6-9f68-4b60-9eb8-725e36f4fd55",
   "metadata": {},
   "outputs": [],
   "source": [
    "df.info()"
   ]
  },
  {
   "cell_type": "code",
   "execution_count": null,
   "id": "fc4a68f7-1d7b-4369-8ecd-2145f5aeb233",
   "metadata": {},
   "outputs": [],
   "source": [
    "df.describe()"
   ]
  },
  {
   "cell_type": "code",
   "execution_count": null,
   "id": "57d0d6a8-743a-4fdc-a93a-4cf1543e58f5",
   "metadata": {},
   "outputs": [],
   "source": [
    "px.histogram(df, x='억원')"
   ]
  },
  {
   "cell_type": "code",
   "execution_count": null,
   "id": "0bdc92c6-ed2d-4a08-8ff1-0025ef424846",
   "metadata": {},
   "outputs": [],
   "source": [
    "px.histogram(df, x='억원', histnorm=\"density\")"
   ]
  },
  {
   "cell_type": "code",
   "execution_count": null,
   "id": "90a668af-f98f-4520-aff0-89271cd5ad87",
   "metadata": {},
   "outputs": [],
   "source": [
    "# 빈도 시각화\n",
    "px.histogram(df, x='유형')"
   ]
  },
  {
   "cell_type": "code",
   "execution_count": null,
   "id": "bebb56f1-6109-4146-b3db-6656ba743d73",
   "metadata": {},
   "outputs": [],
   "source": [
    "# TODO: 범주별 비교를 추가해서 보기\n",
    "px.histogram(df, x='유형', y=\"억원\", histfunc=\"avg\", barnorm=\"fraction\", title=\"평균 생산량 억원 단위\")"
   ]
  },
  {
   "cell_type": "code",
   "execution_count": null,
   "id": "ba71bec6-74f4-4e2f-9e78-0ded6013cdd1",
   "metadata": {},
   "outputs": [],
   "source": [
    "# histfunc 으로 연산 기능 \n",
    "px.histogram(df, x='유형', y=\"억원\", histfunc=\"avg\", title=\"평균 생산량 억원 단위\")"
   ]
  },
  {
   "cell_type": "code",
   "execution_count": null,
   "id": "2754f0fb-72b3-43c3-add8-0897d537acc1",
   "metadata": {},
   "outputs": [],
   "source": [
    "px.histogram(df, x='유형', y=\"억원\", histfunc=\"sum\", title=\"합계 생산량 억원 단위\")"
   ]
  },
  {
   "cell_type": "code",
   "execution_count": null,
   "id": "d6212d9f-892b-4471-aa59-1b2374edd9d2",
   "metadata": {},
   "outputs": [],
   "source": [
    "# 연간 생산량 막대 그래프\n",
    "px.bar(df, x='연도', y='억원', title='연간 생산량 (억원)', color='유형')"
   ]
  },
  {
   "cell_type": "code",
   "execution_count": null,
   "id": "0dd797a4-4836-43e0-aa02-5103b7cfc54e",
   "metadata": {},
   "outputs": [],
   "source": [
    "# 데이터 정렬 및 그룹화\n",
    "df = df.sort_values(by=['유형', '연도'])\n",
    "df['증가율'] = df.groupby('유형')['억원'].pct_change() * 100  # 증가율 (백분율)\n",
    "df['누적금액'] = df.groupby('유형')['억원'].cumsum()  # 누적 금액"
   ]
  },
  {
   "cell_type": "code",
   "execution_count": null,
   "id": "a0d4a72b-b1da-4770-9240-07dd9f8f2464",
   "metadata": {},
   "outputs": [],
   "source": [
    "# 연간 생산량 막대 그래프\n",
    "px.bar(df, x='연도', y='억원', title='연간 생산량 (억원)', color='유형')"
   ]
  },
  {
   "cell_type": "code",
   "execution_count": null,
   "id": "cfac8425-23df-4912-8e58-2b9a1cc543af",
   "metadata": {},
   "outputs": [],
   "source": [
    "# 증가율 선 그래프\n",
    "px.line(df, x='연도', y='증가율', title='증가율 (%)', color='유형')"
   ]
  },
  {
   "cell_type": "code",
   "execution_count": null,
   "id": "d03ff418-31ce-4754-8430-dfb64c435f7a",
   "metadata": {},
   "outputs": [],
   "source": [
    "# 누적 생산량 선 그래프\n",
    "px.line(df, x='연도', y='누적금액', title='누적 생산량 (억원)', color='유형')"
   ]
  },
  {
   "cell_type": "code",
   "execution_count": null,
   "id": "fc50ff35-399b-4b79-8e69-8181486a1e35",
   "metadata": {},
   "outputs": [],
   "source": []
  }
 ],
 "metadata": {
  "kernelspec": {
   "display_name": "Python 3 (ipykernel)",
   "language": "python",
   "name": "python3"
  },
  "language_info": {
   "codemirror_mode": {
    "name": "ipython",
    "version": 3
   },
   "file_extension": ".py",
   "mimetype": "text/x-python",
   "name": "python",
   "nbconvert_exporter": "python",
   "pygments_lexer": "ipython3",
   "version": "3.11.4"
  }
 },
 "nbformat": 4,
 "nbformat_minor": 5
}
